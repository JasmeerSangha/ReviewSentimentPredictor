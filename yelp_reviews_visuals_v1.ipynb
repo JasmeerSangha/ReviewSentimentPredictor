{
  "nbformat": 4,
  "nbformat_minor": 0,
  "metadata": {
    "colab": {
      "name": "yelp_reviews_visuals_v1.ipynb",
      "provenance": [],
      "authorship_tag": "ABX9TyOJV4icBnR0t57kBWLtvXiV",
      "include_colab_link": true
    },
    "kernelspec": {
      "name": "python3",
      "display_name": "Python 3"
    }
  },
  "cells": [
    {
      "cell_type": "markdown",
      "metadata": {
        "id": "view-in-github",
        "colab_type": "text"
      },
      "source": [
        "<a href=\"https://colab.research.google.com/github/karenbennis/Xy/blob/analysis_visuals/yelp_reviews_visuals_v1.ipynb\" target=\"_parent\"><img src=\"https://colab.research.google.com/assets/colab-badge.svg\" alt=\"Open In Colab\"/></a>"
      ]
    },
    {
      "cell_type": "markdown",
      "metadata": {
        "id": "GYhbhNmcK9wY",
        "colab_type": "text"
      },
      "source": [
        "**Connect to Database**"
      ]
    },
    {
      "cell_type": "code",
      "metadata": {
        "id": "JYSvXh0IK4uh",
        "colab_type": "code",
        "colab": {
          "base_uri": "https://localhost:8080/",
          "height": 208
        },
        "outputId": "96c3fdb4-7e6a-49cf-dc26-8612ac9268f5"
      },
      "source": [
        "# Install Java, Spark, and Findspark\n",
        "!apt-get install openjdk-8-jdk-headless -qq > /dev/null\n",
        "!wget -q http://www-us.apache.org/dist/spark/spark-2.4.6/spark-2.4.6-bin-hadoop2.7.tgz\n",
        "!tar xf spark-2.4.6-bin-hadoop2.7.tgz\n",
        "!pip install -q findspark\n",
        "\n",
        "# Set Environment Variables\n",
        "import os\n",
        "os.environ[\"JAVA_HOME\"] = \"/usr/lib/jvm/java-8-openjdk-amd64\"\n",
        "os.environ[\"SPARK_HOME\"] = \"/content/spark-2.4.6-bin-hadoop2.7\"\n",
        "\n",
        "# Start a SparkSession\n",
        "import findspark\n",
        "findspark.init()\n",
        "\n",
        "#Interact with SQL\n",
        "!wget https://jdbc.postgresql.org/download/postgresql-42.2.9.jar\n",
        "\n",
        "# Start Spark Session(Creating spark application with name defined by appName()) ---IMPORTED WITH EVERY COLAB NOTEBOOK\n",
        "from pyspark.sql import SparkSession\n",
        "spark = SparkSession.builder.appName(\"database_transformation\").config(\"spark.driver.extraClassPath\",\"/content/postgresql-42.2.9.jar\").getOrCreate()"
      ],
      "execution_count": 1,
      "outputs": [
        {
          "output_type": "stream",
          "text": [
            "--2020-07-20 20:34:21--  https://jdbc.postgresql.org/download/postgresql-42.2.9.jar\n",
            "Resolving jdbc.postgresql.org (jdbc.postgresql.org)... 72.32.157.228, 2001:4800:3e1:1::228\n",
            "Connecting to jdbc.postgresql.org (jdbc.postgresql.org)|72.32.157.228|:443... connected.\n",
            "HTTP request sent, awaiting response... 200 OK\n",
            "Length: 914037 (893K) [application/java-archive]\n",
            "Saving to: ‘postgresql-42.2.9.jar.1’\n",
            "\n",
            "postgresql-42.2.9.j 100%[===================>] 892.61K  1.03MB/s    in 0.8s    \n",
            "\n",
            "2020-07-20 20:34:23 (1.03 MB/s) - ‘postgresql-42.2.9.jar.1’ saved [914037/914037]\n",
            "\n"
          ],
          "name": "stdout"
        }
      ]
    },
    {
      "cell_type": "code",
      "metadata": {
        "id": "RJv8gemcLKG7",
        "colab_type": "code",
        "colab": {}
      },
      "source": [
        "# Authenticate user\n",
        "from google.colab import auth\n",
        "auth.authenticate_user()"
      ],
      "execution_count": 2,
      "outputs": []
    },
    {
      "cell_type": "code",
      "metadata": {
        "id": "_PysmcQ9LOEd",
        "colab_type": "code",
        "colab": {}
      },
      "source": [
        "# Set project id\n",
        "project_id = 'xy-yelp'"
      ],
      "execution_count": 3,
      "outputs": []
    },
    {
      "cell_type": "code",
      "metadata": {
        "id": "M2gy-cTwLdQp",
        "colab_type": "code",
        "colab": {
          "base_uri": "https://localhost:8080/",
          "height": 35
        },
        "outputId": "bd4f6680-a2cf-40b0-c647-6b78ed2c853f"
      },
      "source": [
        "# Set project\n",
        "!gcloud config set project {project_id}"
      ],
      "execution_count": 4,
      "outputs": [
        {
          "output_type": "stream",
          "text": [
            "Updated property [core/project].\n"
          ],
          "name": "stdout"
        }
      ]
    },
    {
      "cell_type": "code",
      "metadata": {
        "id": "84PRx3g0LiuT",
        "colab_type": "code",
        "colab": {
          "base_uri": "https://localhost:8080/",
          "height": 69
        },
        "outputId": "b92a9f39-4db0-4c4a-eef2-b0c66d77f0ef"
      },
      "source": [
        "# Get file which was saved to bucket **** file saves as multiple files so this should be addressed in the future, for now the 11mb file should be fine\n",
        "!gsutil cp -r gs://xy-bucket/json_files/ml_j.json/part-00000-f8a8f21c-0ebe-434c-a8b3-a5c8988dd298-c000.json /tmp/machine_json.json"
      ],
      "execution_count": 5,
      "outputs": [
        {
          "output_type": "stream",
          "text": [
            "Copying gs://xy-bucket/json_files/ml_j.json/part-00000-f8a8f21c-0ebe-434c-a8b3-a5c8988dd298-c000.json...\n",
            "| [1 files][ 62.5 MiB/ 62.5 MiB]                                                \n",
            "Operation completed over 1 objects/62.5 MiB.                                     \n"
          ],
          "name": "stdout"
        }
      ]
    },
    {
      "cell_type": "code",
      "metadata": {
        "id": "h5kNzWHrLjRG",
        "colab_type": "code",
        "colab": {}
      },
      "source": [
        "# Set filepath to tmp folder where bucket file was saved **** this could actually be done without saving to the bucket, this is just done to make sure we can \n",
        "# save to and read from bucket if we need to\n",
        "filepath = '/tmp/machine_json.json'"
      ],
      "execution_count": 6,
      "outputs": []
    },
    {
      "cell_type": "code",
      "metadata": {
        "id": "meDhmK2tLzdW",
        "colab_type": "code",
        "colab": {}
      },
      "source": [
        "# Import pandas and read json file into DataFrame\n",
        "import pandas as pd\n",
        "raw_json = pd.read_json(filepath, lines=True)"
      ],
      "execution_count": 7,
      "outputs": []
    },
    {
      "cell_type": "code",
      "metadata": {
        "id": "o4p-gnVEL10i",
        "colab_type": "code",
        "colab": {}
      },
      "source": [
        "#Drop useless columns\n",
        "raw_json=raw_json[['review_id','stars','class','review_text','length','cool','useful','funny','business_id','user_id']]"
      ],
      "execution_count": 8,
      "outputs": []
    },
    {
      "cell_type": "code",
      "metadata": {
        "id": "W-6--hyFL5s8",
        "colab_type": "code",
        "colab": {
          "base_uri": "https://localhost:8080/",
          "height": 202
        },
        "outputId": "db0d0fa8-ffa3-4240-bf43-8ea73beec61c"
      },
      "source": [
        "# Show dataframe\n",
        "raw_json.head()"
      ],
      "execution_count": 9,
      "outputs": [
        {
          "output_type": "execute_result",
          "data": {
            "text/html": [
              "<div>\n",
              "<style scoped>\n",
              "    .dataframe tbody tr th:only-of-type {\n",
              "        vertical-align: middle;\n",
              "    }\n",
              "\n",
              "    .dataframe tbody tr th {\n",
              "        vertical-align: top;\n",
              "    }\n",
              "\n",
              "    .dataframe thead th {\n",
              "        text-align: right;\n",
              "    }\n",
              "</style>\n",
              "<table border=\"1\" class=\"dataframe\">\n",
              "  <thead>\n",
              "    <tr style=\"text-align: right;\">\n",
              "      <th></th>\n",
              "      <th>review_id</th>\n",
              "      <th>stars</th>\n",
              "      <th>class</th>\n",
              "      <th>review_text</th>\n",
              "      <th>length</th>\n",
              "      <th>cool</th>\n",
              "      <th>useful</th>\n",
              "      <th>funny</th>\n",
              "      <th>business_id</th>\n",
              "      <th>user_id</th>\n",
              "    </tr>\n",
              "  </thead>\n",
              "  <tbody>\n",
              "    <tr>\n",
              "      <th>0</th>\n",
              "      <td>-7yxrdY13ay15rGB7WibMA</td>\n",
              "      <td>5</td>\n",
              "      <td>1</td>\n",
              "      <td>I have been going to Arizona Auto Care since a...</td>\n",
              "      <td>670</td>\n",
              "      <td>0</td>\n",
              "      <td>0</td>\n",
              "      <td>0</td>\n",
              "      <td>Lh9nz0KYyzE-YRbKuCYeUw</td>\n",
              "      <td>ayKW9eWwGFcrtJaHcwZUCw</td>\n",
              "    </tr>\n",
              "    <tr>\n",
              "      <th>1</th>\n",
              "      <td>-Be0UUGYuiDJVAM_YqeQuA</td>\n",
              "      <td>4</td>\n",
              "      <td>1</td>\n",
              "      <td>Since Im big into breakfast foods, Im always o...</td>\n",
              "      <td>1348</td>\n",
              "      <td>0</td>\n",
              "      <td>2</td>\n",
              "      <td>2</td>\n",
              "      <td>pa6K7DGByxBXxcVJ59nWMw</td>\n",
              "      <td>_4lqpCYCqOQzbB6xQGGhrQ</td>\n",
              "    </tr>\n",
              "    <tr>\n",
              "      <th>2</th>\n",
              "      <td>-nQHHXi-d_yuW301_Y0EZQ</td>\n",
              "      <td>2</td>\n",
              "      <td>0</td>\n",
              "      <td>A pleasant place in Kierland Center, but has g...</td>\n",
              "      <td>813</td>\n",
              "      <td>0</td>\n",
              "      <td>0</td>\n",
              "      <td>0</td>\n",
              "      <td>GIGI8bJfN6HyPzmEW-QqjA</td>\n",
              "      <td>4QORbyhfN01oKR_GgBstfQ</td>\n",
              "    </tr>\n",
              "    <tr>\n",
              "      <th>3</th>\n",
              "      <td>2L30O7G8IQ6HILpR0t5RFA</td>\n",
              "      <td>5</td>\n",
              "      <td>1</td>\n",
              "      <td>part of a social event, we only had app's here...</td>\n",
              "      <td>415</td>\n",
              "      <td>0</td>\n",
              "      <td>0</td>\n",
              "      <td>0</td>\n",
              "      <td>qiwajZigq_2twTmYofPmDQ</td>\n",
              "      <td>ST8Yzlk2MqKlcaLqL2djBg</td>\n",
              "    </tr>\n",
              "    <tr>\n",
              "      <th>4</th>\n",
              "      <td>4x5yLG7_yGLuN-w6fV0eBw</td>\n",
              "      <td>4</td>\n",
              "      <td>1</td>\n",
              "      <td>I love every place on South Mountain. I've bee...</td>\n",
              "      <td>302</td>\n",
              "      <td>0</td>\n",
              "      <td>1</td>\n",
              "      <td>0</td>\n",
              "      <td>9yKzy9PApeiPPOUJEtnvkg</td>\n",
              "      <td>Vk-hJ1i5ZagPM87Kv9FOnA</td>\n",
              "    </tr>\n",
              "  </tbody>\n",
              "</table>\n",
              "</div>"
            ],
            "text/plain": [
              "                review_id  ...                 user_id\n",
              "0  -7yxrdY13ay15rGB7WibMA  ...  ayKW9eWwGFcrtJaHcwZUCw\n",
              "1  -Be0UUGYuiDJVAM_YqeQuA  ...  _4lqpCYCqOQzbB6xQGGhrQ\n",
              "2  -nQHHXi-d_yuW301_Y0EZQ  ...  4QORbyhfN01oKR_GgBstfQ\n",
              "3  2L30O7G8IQ6HILpR0t5RFA  ...  ST8Yzlk2MqKlcaLqL2djBg\n",
              "4  4x5yLG7_yGLuN-w6fV0eBw  ...  Vk-hJ1i5ZagPM87Kv9FOnA\n",
              "\n",
              "[5 rows x 10 columns]"
            ]
          },
          "metadata": {
            "tags": []
          },
          "execution_count": 9
        }
      ]
    },
    {
      "cell_type": "code",
      "metadata": {
        "id": "t7NeisWK8yIl",
        "colab_type": "code",
        "colab": {
          "base_uri": "https://localhost:8080/",
          "height": 208
        },
        "outputId": "b365afbb-c484-4823-d111-23345db4fe60"
      },
      "source": [
        "raw_json.dtypes"
      ],
      "execution_count": 13,
      "outputs": [
        {
          "output_type": "execute_result",
          "data": {
            "text/plain": [
              "review_id      object\n",
              "stars           int64\n",
              "class           int64\n",
              "review_text    object\n",
              "length          int64\n",
              "cool            int64\n",
              "useful          int64\n",
              "funny           int64\n",
              "business_id    object\n",
              "user_id        object\n",
              "dtype: object"
            ]
          },
          "metadata": {
            "tags": []
          },
          "execution_count": 13
        }
      ]
    },
    {
      "cell_type": "code",
      "metadata": {
        "id": "SpyXHe8i9AB7",
        "colab_type": "code",
        "colab": {
          "base_uri": "https://localhost:8080/",
          "height": 208
        },
        "outputId": "34624675-93d3-4a47-b99b-e41f806d1bd1"
      },
      "source": [
        "raw_json['stars']=raw_json['stars'].astype(str)\n",
        "raw_json.dtypes"
      ],
      "execution_count": 14,
      "outputs": [
        {
          "output_type": "execute_result",
          "data": {
            "text/plain": [
              "review_id      object\n",
              "stars          object\n",
              "class           int64\n",
              "review_text    object\n",
              "length          int64\n",
              "cool            int64\n",
              "useful          int64\n",
              "funny           int64\n",
              "business_id    object\n",
              "user_id        object\n",
              "dtype: object"
            ]
          },
          "metadata": {
            "tags": []
          },
          "execution_count": 14
        }
      ]
    },
    {
      "cell_type": "markdown",
      "metadata": {
        "id": "OJYO_LXP7kac",
        "colab_type": "text"
      },
      "source": [
        "**Visualizations**"
      ]
    },
    {
      "cell_type": "code",
      "metadata": {
        "id": "_QycT-YqU5F1",
        "colab_type": "code",
        "colab": {
          "base_uri": "https://localhost:8080/",
          "height": 417
        },
        "outputId": "0c229966-2921-4337-9b1c-2565128a199c"
      },
      "source": [
        "import matplotlib.pyplot as plt\n",
        "%matplotlib inline\n",
        "plt.style.use('seaborn')\n",
        "plt.hist(raw_json['stars'])"
      ],
      "execution_count": 15,
      "outputs": [
        {
          "output_type": "execute_result",
          "data": {
            "text/plain": [
              "(array([3337.,    0., 3526.,    0.,    0.,  927.,    0., 1461.,    0.,\n",
              "         749.]),\n",
              " array([0. , 0.4, 0.8, 1.2, 1.6, 2. , 2.4, 2.8, 3.2, 3.6, 4. ]),\n",
              " <a list of 10 Patch objects>)"
            ]
          },
          "metadata": {
            "tags": []
          },
          "execution_count": 15
        },
        {
          "output_type": "display_data",
          "data": {
            "image/png": "[encoded data removed]",
            "text/plain": [
              "<Figure size 576x396 with 1 Axes>"
            ]
          },
          "metadata": {
            "tags": []
          }
        }
      ]
    },
    {
      "cell_type": "code",
      "metadata": {
        "id": "YxuPOGKfo090",
        "colab_type": "code",
        "colab": {}
      },
      "source": [
        ""
      ],
      "execution_count": 9,
      "outputs": []
    }
  ]
}