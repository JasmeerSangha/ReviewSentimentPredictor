{
  "nbformat": 4,
  "nbformat_minor": 0,
  "metadata": {
    "colab": {
      "name": "Copy of Project.ipynb",
      "provenance": [],
      "collapsed_sections": [],
      "include_colab_link": true
    },
    "kernelspec": {
      "name": "python3",
      "display_name": "Python 3"
    }
  },
  "cells": [
    {
      "cell_type": "markdown",
      "metadata": {
        "id": "view-in-github",
        "colab_type": "text"
      },
      "source": [
        "<a href=\"https://colab.research.google.com/github/karenbennis/Xy/blob/Data_ETL/Copy_of_Project.ipynb\" target=\"_parent\"><img src=\"https://colab.research.google.com/assets/colab-badge.svg\" alt=\"Open In Colab\"/></a>"
      ]
    },
    {
      "cell_type": "markdown",
      "metadata": {
        "id": "7x2IxWo3wiqn",
        "colab_type": "text"
      },
      "source": [
        "<br><br>**Connect to Database**<br><br>"
      ]
    },
    {
      "cell_type": "code",
      "metadata": {
        "id": "_nCS6homIgnW",
        "colab_type": "code",
        "colab": {
          "base_uri": "https://localhost:8080/",
          "height": 204
        },
        "outputId": "76e3464c-13b1-4feb-8f58-02973ac49969"
      },
      "source": [
        "# Install Java, Spark, and Findspark\n",
        "!apt-get install openjdk-8-jdk-headless -qq > /dev/null\n",
        "!wget -q http://www-us.apache.org/dist/spark/spark-2.4.6/spark-2.4.6-bin-hadoop2.7.tgz\n",
        "!tar xf spark-2.4.6-bin-hadoop2.7.tgz\n",
        "!pip install -q findspark\n",
        "\n",
        "# Set Environment Variables\n",
        "import os\n",
        "os.environ[\"JAVA_HOME\"] = \"/usr/lib/jvm/java-8-openjdk-amd64\"\n",
        "os.environ[\"SPARK_HOME\"] = \"/content/spark-2.4.6-bin-hadoop2.7\"\n",
        "\n",
        "# Start a SparkSession\n",
        "import findspark\n",
        "findspark.init()\n",
        "\n",
        "#Interact with SQL\n",
        "!wget https://jdbc.postgresql.org/download/postgresql-42.2.9.jar\n",
        "\n",
        "# Start Spark Session(Creating spark application with name defined by appName()) ---IMPORTED WITH EVERY COLAB NOTEBOOK\n",
        "from pyspark.sql import SparkSession\n",
        "spark = SparkSession.builder.appName(\"database_transformation\").config(\"spark.driver.extraClassPath\",\"/content/postgresql-42.2.9.jar\").getOrCreate()\n"
      ],
      "execution_count": 115,
      "outputs": [
        {
          "output_type": "stream",
          "text": [
            "--2020-07-16 17:15:10--  https://jdbc.postgresql.org/download/postgresql-42.2.9.jar\n",
            "Resolving jdbc.postgresql.org (jdbc.postgresql.org)... 72.32.157.228, 2001:4800:3e1:1::228\n",
            "Connecting to jdbc.postgresql.org (jdbc.postgresql.org)|72.32.157.228|:443... connected.\n",
            "HTTP request sent, awaiting response... 200 OK\n",
            "Length: 914037 (893K) [application/java-archive]\n",
            "Saving to: ‘postgresql-42.2.9.jar.1’\n",
            "\n",
            "postgresql-42.2.9.j 100%[===================>] 892.61K  --.-KB/s    in 0.1s    \n",
            "\n",
            "2020-07-16 17:15:10 (7.92 MB/s) - ‘postgresql-42.2.9.jar.1’ saved [914037/914037]\n",
            "\n"
          ],
          "name": "stdout"
        }
      ]
    },
    {
      "cell_type": "code",
      "metadata": {
        "id": "tVTkr-xleT8C",
        "colab_type": "code",
        "colab": {
          "base_uri": "https://localhost:8080/",
          "height": 1000
        },
        "outputId": "dcf2bf9b-477c-4757-af98-faa6b29f601a"
      },
      "source": [
        "# gcloud login and check the DB\n",
        "!gcloud auth login\n",
        "!gcloud config set project 'xy-yelp'\n",
        "!gcloud sql instances describe 'xy-yelp'"
      ],
      "execution_count": 116,
      "outputs": [
        {
          "output_type": "stream",
          "text": [
            "Go to the following link in your browser:\n",
            "\n",
            "    https://accounts.google.com/o/oauth2/auth?client_id=32555940559.apps.googleusercontent.com&redirect_uri=urn%3Aietf%3Awg%3Aoauth%3A2.0%3Aoob&scope=openid+https%3A%2F%2Fwww.googleapis.com%2Fauth%2Fuserinfo.email+https%3A%2F%2Fwww.googleapis.com%2Fauth%2Fcloud-platform+https%3A%2F%2Fwww.googleapis.com%2Fauth%2Fappengine.admin+https%3A%2F%2Fwww.googleapis.com%2Fauth%2Fcompute+https%3A%2F%2Fwww.googleapis.com%2Fauth%2Faccounts.reauth&code_challenge=jReZORJvMGsigDqQzIL-7YevSp1XALUri5p_2j5Gvl8&code_challenge_method=S256&access_type=offline&response_type=code&prompt=select_account\n",
            "\n",
            "\n",
            "Enter verification code: 4/1wGnztSqe5v1BdDafC5wdbZXK2oijxZh4IBgv9g-yAIDEN1YtXXYuy4\n",
            "\n",
            "You are now logged in as [jasmeersangha@gmail.com].\n",
            "Your current project is [xy-yelp].  You can change this setting by running:\n",
            "  $ gcloud config set project PROJECT_ID\n",
            "Updated property [core/project].\n",
            "backendType: SECOND_GEN\n",
            "connectionName: xy-yelp:northamerica-northeast1:xy-yelp\n",
            "databaseVersion: POSTGRES_12\n",
            "etag: 63742add0cc76c973b136c42a3fc728b12c8d25caf0de37568bc21cc03080ebb\n",
            "gceZone: northamerica-northeast1-a\n",
            "instanceType: CLOUD_SQL_INSTANCE\n",
            "ipAddresses:\n",
            "- ipAddress: 34.95.0.17\n",
            "  type: PRIMARY\n",
            "kind: sql#instance\n",
            "name: xy-yelp\n",
            "project: xy-yelp\n",
            "region: northamerica-northeast1\n",
            "selfLink: https://sqladmin.googleapis.com/sql/v1beta4/projects/xy-yelp/instances/xy-yelp\n",
            "serverCaCert:\n",
            "  cert: |-\n",
            "    -----BEGIN CERTIFICATE-----\n",
            "    MIIDfzCCAmegAwIBAgIBADANBgkqhkiG9w0BAQsFADB3MS0wKwYDVQQuEyQzYTcz\n",
            "    ZmJhNS0xYTNlLTQwNmMtOWZhOC1hZGE1MDI3OGZkY2QxIzAhBgNVBAMTGkdvb2ds\n",
            "    ZSBDbG91ZCBTUUwgU2VydmVyIENBMRQwEgYDVQQKEwtHb29nbGUsIEluYzELMAkG\n",
            "    A1UEBhMCVVMwHhcNMjAwNzExMjAwMDA4WhcNMzAwNzA5MjAwMTA4WjB3MS0wKwYD\n",
            "    VQQuEyQzYTczZmJhNS0xYTNlLTQwNmMtOWZhOC1hZGE1MDI3OGZkY2QxIzAhBgNV\n",
            "    BAMTGkdvb2dsZSBDbG91ZCBTUUwgU2VydmVyIENBMRQwEgYDVQQKEwtHb29nbGUs\n",
            "    IEluYzELMAkGA1UEBhMCVVMwggEiMA0GCSqGSIb3DQEBAQUAA4IBDwAwggEKAoIB\n",
            "    AQDMLAiCVUS0u8JRUQSqXLNcXiDU4euUjKhmvbOnDCr2VNVX+dQoq8P+HmL4ruxr\n",
            "    lmLgtNKuhKjqISSzVKDxEf0mudWfOP+ygsXSP6XxLWplHn/N1A881+u+T33u5N0/\n",
            "    wreqH6suvi7Cu/SSEcmYUCnpIy5pSZzO63ww9M4p2HZnG/g/j7uqGdPUpdG4GbCk\n",
            "    jb8EskJiH0hU08ct+AySyc0mrgvfP9l/S5chz0j69uQX/yvWXWy4SSfJ3+wc45Se\n",
            "    8v7WYo+lcwsOu0lGCz53X9Nej0Av47aKUzXD4HlleeMTbkjgYEv2hRWKVoUhzugT\n",
            "    dJTsminBKtnYK1n2witgxNqVAgMBAAGjFjAUMBIGA1UdEwEB/wQIMAYBAf8CAQAw\n",
            "    DQYJKoZIhvcNAQELBQADggEBAB45K3XfFNL/Vkbj0f9daDji+cJHeUS3Y8Uxehog\n",
            "    2rf+rbmwfeH757NZT29o8rSMMfV05z3fuYvS67JvSIDx/I3UsxRGzRZY4EfXXhC9\n",
            "    Vke7AVtfxNgKk86V+JPEGQp52L+PFYdh33DigL8XrWpektxIxf7RAqFIvV0F+0FS\n",
            "    DhXWXkZ8ONFpMK6BCd4aZcKgD0LHafoAKv67+A8IE6b1fFJLh1nkuqZyv1kwLwTM\n",
            "    bLzSMmkgvxuv8d0dmVxWWr/V1kjc2U7oMqF+tgOE+hcF7fWRyRRZko1RtPwjUHlT\n",
            "    qzw5uqZUsxR8S4yyiaeePiF8YnDI72ypyY6FiRMlteAydJs=\n",
            "    -----END CERTIFICATE-----\n",
            "  certSerialNumber: '0'\n",
            "  commonName: C=US,O=Google\\, Inc,CN=Google Cloud SQL Server CA,dnQualifier=3a73fba5-1a3e-406c-9fa8-ada50278fdcd\n",
            "  createTime: '2020-07-11T20:00:08.018Z'\n",
            "  expirationTime: '2030-07-09T20:01:08.018Z'\n",
            "  instance: xy-yelp\n",
            "  kind: sql#sslCert\n",
            "  sha1Fingerprint: 2e2ffdd64d766e372537c174a3d4b91f59ee3e63\n",
            "serviceAccountEmailAddress: p8056368877-0mi1n8@gcp-sa-cloud-sql.iam.gserviceaccount.com\n",
            "settings:\n",
            "  activationPolicy: ALWAYS\n",
            "  availabilityType: ZONAL\n",
            "  backupConfiguration:\n",
            "    enabled: true\n",
            "    kind: sql#backupConfiguration\n",
            "    location: us\n",
            "    pointInTimeRecoveryEnabled: true\n",
            "    replicationLogArchivingEnabled: true\n",
            "    startTime: 13:00\n",
            "  dataDiskSizeGb: '20'\n",
            "  dataDiskType: PD_SSD\n",
            "  ipConfiguration:\n",
            "    authorizedNetworks:\n",
            "    - kind: sql#aclEntry\n",
            "      name: Helen's Residence\n",
            "      value: 72.142.66.43\n",
            "    - kind: sql#aclEntry\n",
            "      name: Blake Residence\n",
            "      value: 24.114.82.234\n",
            "    ipv4Enabled: true\n",
            "  kind: sql#settings\n",
            "  locationPreference:\n",
            "    kind: sql#locationPreference\n",
            "    zone: northamerica-northeast1-a\n",
            "  maintenanceWindow:\n",
            "    day: 0\n",
            "    hour: 0\n",
            "    kind: sql#maintenanceWindow\n",
            "  pricingPlan: PER_USE\n",
            "  replicationType: SYNCHRONOUS\n",
            "  settingsVersion: '33'\n",
            "  storageAutoResize: true\n",
            "  storageAutoResizeLimit: '0'\n",
            "  tier: db-f1-micro\n",
            "state: RUNNABLE\n"
          ],
          "name": "stdout"
        }
      ]
    },
    {
      "cell_type": "code",
      "metadata": {
        "id": "Zn_F729PexE6",
        "colab_type": "code",
        "colab": {
          "base_uri": "https://localhost:8080/",
          "height": 221
        },
        "outputId": "5f216932-ddf0-4e9e-c09c-26387c769bc1"
      },
      "source": [
        "# download and initialize the psql proxy\n",
        "!wget https://dl.google.com/cloudsql/cloud_sql_proxy.linux.amd64 -O cloud_sql_proxy\n",
        "!chmod +x cloud_sql_proxy\n",
        "# \"connectionName\" is from the previous block\n",
        "!nohup ./cloud_sql_proxy -instances=\"xy-yelp:northamerica-northeast1:xy-yelp\"=tcp:5432 &\n",
        "!sleep 30s"
      ],
      "execution_count": 117,
      "outputs": [
        {
          "output_type": "stream",
          "text": [
            "--2020-07-16 17:15:50--  https://dl.google.com/cloudsql/cloud_sql_proxy.linux.amd64\n",
            "Resolving dl.google.com (dl.google.com)... 74.125.129.190, 74.125.129.93, 74.125.129.136, ...\n",
            "Connecting to dl.google.com (dl.google.com)|74.125.129.190|:443... connected.\n",
            "HTTP request sent, awaiting response... 200 OK\n",
            "Length: 14492253 (14M) [application/octet-stream]\n",
            "Saving to: ‘cloud_sql_proxy’\n",
            "\n",
            "\rcloud_sql_proxy       0%[                    ]       0  --.-KB/s               \rcloud_sql_proxy     100%[===================>]  13.82M  --.-KB/s    in 0.08s   \n",
            "\n",
            "2020-07-16 17:15:50 (169 MB/s) - ‘cloud_sql_proxy’ saved [14492253/14492253]\n",
            "\n",
            "nohup: appending output to 'nohup.out'\n"
          ],
          "name": "stdout"
        }
      ]
    },
    {
      "cell_type": "code",
      "metadata": {
        "id": "V5Ko5J-Ee7Ec",
        "colab_type": "code",
        "colab": {}
      },
      "source": [
        "db_password = 'kjhbyelpdb'"
      ],
      "execution_count": 118,
      "outputs": []
    },
    {
      "cell_type": "code",
      "metadata": {
        "id": "fs2eCTjpfEd6",
        "colab_type": "code",
        "colab": {}
      },
      "source": [
        "# Configure settings for RDS\n",
        "mode = \"append\"\n",
        "jdbc_url=\"jdbc:postgresql://127.0.0.1:5432/xy_yelp_db\"\n",
        "config = {\"user\":\"postgres\", \n",
        "          \"password\": db_password, \n",
        "          \"driver\":\"org.postgresql.Driver\"}"
      ],
      "execution_count": 119,
      "outputs": []
    },
    {
      "cell_type": "markdown",
      "metadata": {
        "id": "cQez-IxYJC_V",
        "colab_type": "text"
      },
      "source": [
        "**Extract tables**"
      ]
    },
    {
      "cell_type": "code",
      "metadata": {
        "id": "uudQwo30fFA-",
        "colab_type": "code",
        "colab": {
          "base_uri": "https://localhost:8080/",
          "height": 204
        },
        "outputId": "163234db-3a54-472f-ecb2-dc72e8c9cf8f"
      },
      "source": [
        "# Pull review table\n",
        "review_df2 = spark.read.jdbc(url=jdbc_url, table='review',properties=config)\n",
        "review_df2.show(5)"
      ],
      "execution_count": 120,
      "outputs": [
        {
          "output_type": "stream",
          "text": [
            "+--------------------+--------------------+-----+----+------+-----+-----------+-----------+\n",
            "|           review_id|         review_text|stars|cool|useful|funny|review_date|review_type|\n",
            "+--------------------+--------------------+-----+----+------+-----+-----------+-----------+\n",
            "|cALYebKb5hygdKHql...|This is a very in...|    4|   0|     0|    0| 2011-01-12|     review|\n",
            "|SawdMXLYD5ytRmMFv...|I LOVE Chic Nails...|    5|   0|     2|    0| 2011-01-20|     review|\n",
            "|j-jMQdELr6AFkCcEH...|After the Padres ...|    5|   0|     0|    0| 2011-01-06|     review|\n",
            "|SmUMyCUNrT9HEo_DX...|I have to admit t...|    4|   0|     1|    0| 2010-01-17|     review|\n",
            "|oTB_mpCKcu-8wayQQ...|Best food, super ...|    5|   0|     1|    0| 2011-01-14|     review|\n",
            "+--------------------+--------------------+-----+----+------+-----+-----------+-----------+\n",
            "only showing top 5 rows\n",
            "\n"
          ],
          "name": "stdout"
        }
      ]
    },
    {
      "cell_type": "code",
      "metadata": {
        "id": "2pmJIJiDfRb1",
        "colab_type": "code",
        "colab": {
          "base_uri": "https://localhost:8080/",
          "height": 204
        },
        "outputId": "23f02b26-472d-42eb-bfda-a0f5ce95d43f"
      },
      "source": [
        "# Pull business table\n",
        "business_df2 = spark.read.jdbc(url=jdbc_url, table='business',properties=config)\n",
        "business_df2.show(5)"
      ],
      "execution_count": 121,
      "outputs": [
        {
          "output_type": "stream",
          "text": [
            "+--------------------+--------------------+\n",
            "|           review_id|         business_id|\n",
            "+--------------------+--------------------+\n",
            "|fWKvX83p0-ka4JS3d...|9yKzy9PApeiPPOUJE...|\n",
            "|IjZ33sJrzXqU-0X6U...|ZRJwVLyzEJq1VAihD...|\n",
            "|IESLBzqUCLdSzSqm0...|6oRAC4uyJCsJl1X0W...|\n",
            "|G-WvGaISbqqaMHlNn...|_1QQZuf4zZOyFCvXc...|\n",
            "|1uJFq2r5QfJG_6ExM...|6ozycU1RpktNG2-1B...|\n",
            "+--------------------+--------------------+\n",
            "only showing top 5 rows\n",
            "\n"
          ],
          "name": "stdout"
        }
      ]
    },
    {
      "cell_type": "code",
      "metadata": {
        "id": "hFb2iKvOfRh6",
        "colab_type": "code",
        "colab": {
          "base_uri": "https://localhost:8080/",
          "height": 204
        },
        "outputId": "23cbc7c5-8f4b-498e-8ca8-f56fb70b9e85"
      },
      "source": [
        "# Pull yelp_user table\n",
        "user_df2 = spark.read.jdbc(url=jdbc_url, table='yelp_user',properties=config)\n",
        "user_df2.show(5)"
      ],
      "execution_count": 122,
      "outputs": [
        {
          "output_type": "stream",
          "text": [
            "+--------------------+--------------------+\n",
            "|           review_id|             user_id|\n",
            "+--------------------+--------------------+\n",
            "|GJGUHAAONtBSBj53c...|Z3c7xGRfeV-uMkSbA...|\n",
            "|nQH2KAvAeOJOYKX99...|ryjqXdp68i2I9JPOp...|\n",
            "|-yKcbjWSlmKC1zTMT...|5W-ruHmpkwLyI6Lla...|\n",
            "|20aES_-g5Vyqfzojn...|vhxFLqRok6r-D_aQz...|\n",
            "|W_d9w7yr3koSUXHco...|aBnKTxZzdhabTXfzt...|\n",
            "+--------------------+--------------------+\n",
            "only showing top 5 rows\n",
            "\n"
          ],
          "name": "stdout"
        }
      ]
    },
    {
      "cell_type": "code",
      "metadata": {
        "id": "cTo3oLx-fRoX",
        "colab_type": "code",
        "colab": {
          "base_uri": "https://localhost:8080/",
          "height": 204
        },
        "outputId": "540fa865-3ff1-4339-8dd8-caf7815cb65c"
      },
      "source": [
        "# Join tables\n",
        "spark_df = review_df2.join(business_df2, on=\"review_id\", how=\"inner\")\n",
        "spark_df = spark_df.join(user_df2, on=\"review_id\", how=\"inner\")\n",
        "spark_df.show(5)"
      ],
      "execution_count": 123,
      "outputs": [
        {
          "output_type": "stream",
          "text": [
            "+--------------------+--------------------+-----+----+------+-----+-----------+-----------+--------------------+--------------------+\n",
            "|           review_id|         review_text|stars|cool|useful|funny|review_date|review_type|         business_id|             user_id|\n",
            "+--------------------+--------------------+-----+----+------+-----+-----------+-----------+--------------------+--------------------+\n",
            "|-7yxrdY13ay15rGB7...|I have been going...|    5|   0|     0|    0| 2010-01-16|     review|Lh9nz0KYyzE-YRbKu...|ayKW9eWwGFcrtJaHc...|\n",
            "|-Be0UUGYuiDJVAM_Y...|Since Im big into...|    4|   0|     2|    2| 2011-01-25|     review|pa6K7DGByxBXxcVJ5...|_4lqpCYCqOQzbB6xQ...|\n",
            "|-nQHHXi-d_yuW301_...|A pleasant place ...|    2|   0|     0|    0| 2011-01-12|     review|GIGI8bJfN6HyPzmEW...|4QORbyhfN01oKR_Gg...|\n",
            "|2L30O7G8IQ6HILpR0...|part of a social ...|    5|   0|     0|    0| 2010-01-24|     review|qiwajZigq_2twTmYo...|ST8Yzlk2MqKlcaLqL...|\n",
            "|4x5yLG7_yGLuN-w6f...|I love every plac...|    4|   0|     1|    0| 2011-01-02|     review|9yKzy9PApeiPPOUJE...|Vk-hJ1i5ZagPM87Kv...|\n",
            "+--------------------+--------------------+-----+----+------+-----+-----------+-----------+--------------------+--------------------+\n",
            "only showing top 5 rows\n",
            "\n"
          ],
          "name": "stdout"
        }
      ]
    },
    {
      "cell_type": "code",
      "metadata": {
        "id": "6peOe5skf9KT",
        "colab_type": "code",
        "colab": {
          "base_uri": "https://localhost:8080/",
          "height": 289
        },
        "outputId": "d5818331-0e9f-4e29-8df6-78975e712d46"
      },
      "source": [
        "import pandas as pd\n",
        "data_df = spark_df.select('*').toPandas()\n",
        "data_df.head()"
      ],
      "execution_count": 124,
      "outputs": [
        {
          "output_type": "execute_result",
          "data": {
            "text/html": [
              "<div>\n",
              "<style scoped>\n",
              "    .dataframe tbody tr th:only-of-type {\n",
              "        vertical-align: middle;\n",
              "    }\n",
              "\n",
              "    .dataframe tbody tr th {\n",
              "        vertical-align: top;\n",
              "    }\n",
              "\n",
              "    .dataframe thead th {\n",
              "        text-align: right;\n",
              "    }\n",
              "</style>\n",
              "<table border=\"1\" class=\"dataframe\">\n",
              "  <thead>\n",
              "    <tr style=\"text-align: right;\">\n",
              "      <th></th>\n",
              "      <th>review_id</th>\n",
              "      <th>review_text</th>\n",
              "      <th>stars</th>\n",
              "      <th>cool</th>\n",
              "      <th>useful</th>\n",
              "      <th>funny</th>\n",
              "      <th>review_date</th>\n",
              "      <th>review_type</th>\n",
              "      <th>business_id</th>\n",
              "      <th>user_id</th>\n",
              "    </tr>\n",
              "  </thead>\n",
              "  <tbody>\n",
              "    <tr>\n",
              "      <th>0</th>\n",
              "      <td>-7yxrdY13ay15rGB7WibMA</td>\n",
              "      <td>I have been going to Arizona Auto Care since a...</td>\n",
              "      <td>5</td>\n",
              "      <td>0</td>\n",
              "      <td>0</td>\n",
              "      <td>0</td>\n",
              "      <td>2010-01-16</td>\n",
              "      <td>review</td>\n",
              "      <td>Lh9nz0KYyzE-YRbKuCYeUw</td>\n",
              "      <td>ayKW9eWwGFcrtJaHcwZUCw</td>\n",
              "    </tr>\n",
              "    <tr>\n",
              "      <th>1</th>\n",
              "      <td>-Be0UUGYuiDJVAM_YqeQuA</td>\n",
              "      <td>Since Im big into breakfast foods, Im always o...</td>\n",
              "      <td>4</td>\n",
              "      <td>0</td>\n",
              "      <td>2</td>\n",
              "      <td>2</td>\n",
              "      <td>2011-01-25</td>\n",
              "      <td>review</td>\n",
              "      <td>pa6K7DGByxBXxcVJ59nWMw</td>\n",
              "      <td>_4lqpCYCqOQzbB6xQGGhrQ</td>\n",
              "    </tr>\n",
              "    <tr>\n",
              "      <th>2</th>\n",
              "      <td>-nQHHXi-d_yuW301_Y0EZQ</td>\n",
              "      <td>A pleasant place in Kierland Center, but has g...</td>\n",
              "      <td>2</td>\n",
              "      <td>0</td>\n",
              "      <td>0</td>\n",
              "      <td>0</td>\n",
              "      <td>2011-01-12</td>\n",
              "      <td>review</td>\n",
              "      <td>GIGI8bJfN6HyPzmEW-QqjA</td>\n",
              "      <td>4QORbyhfN01oKR_GgBstfQ</td>\n",
              "    </tr>\n",
              "    <tr>\n",
              "      <th>3</th>\n",
              "      <td>2L30O7G8IQ6HILpR0t5RFA</td>\n",
              "      <td>part of a social event, we only had app's here...</td>\n",
              "      <td>5</td>\n",
              "      <td>0</td>\n",
              "      <td>0</td>\n",
              "      <td>0</td>\n",
              "      <td>2010-01-24</td>\n",
              "      <td>review</td>\n",
              "      <td>qiwajZigq_2twTmYofPmDQ</td>\n",
              "      <td>ST8Yzlk2MqKlcaLqL2djBg</td>\n",
              "    </tr>\n",
              "    <tr>\n",
              "      <th>4</th>\n",
              "      <td>4x5yLG7_yGLuN-w6fV0eBw</td>\n",
              "      <td>I love every place on South Mountain. I've bee...</td>\n",
              "      <td>4</td>\n",
              "      <td>0</td>\n",
              "      <td>1</td>\n",
              "      <td>0</td>\n",
              "      <td>2011-01-02</td>\n",
              "      <td>review</td>\n",
              "      <td>9yKzy9PApeiPPOUJEtnvkg</td>\n",
              "      <td>Vk-hJ1i5ZagPM87Kv9FOnA</td>\n",
              "    </tr>\n",
              "  </tbody>\n",
              "</table>\n",
              "</div>"
            ],
            "text/plain": [
              "                review_id  ...                 user_id\n",
              "0  -7yxrdY13ay15rGB7WibMA  ...  ayKW9eWwGFcrtJaHcwZUCw\n",
              "1  -Be0UUGYuiDJVAM_YqeQuA  ...  _4lqpCYCqOQzbB6xQGGhrQ\n",
              "2  -nQHHXi-d_yuW301_Y0EZQ  ...  4QORbyhfN01oKR_GgBstfQ\n",
              "3  2L30O7G8IQ6HILpR0t5RFA  ...  ST8Yzlk2MqKlcaLqL2djBg\n",
              "4  4x5yLG7_yGLuN-w6fV0eBw  ...  Vk-hJ1i5ZagPM87Kv9FOnA\n",
              "\n",
              "[5 rows x 10 columns]"
            ]
          },
          "metadata": {
            "tags": []
          },
          "execution_count": 124
        }
      ]
    },
    {
      "cell_type": "markdown",
      "metadata": {
        "id": "S6k3WVfJM6cE",
        "colab_type": "text"
      },
      "source": [
        "**Transformation**"
      ]
    },
    {
      "cell_type": "code",
      "metadata": {
        "id": "O6t7qKVgmtRj",
        "colab_type": "code",
        "colab": {}
      },
      "source": [
        "def good(x):\n",
        "    if x > 3:\n",
        "        return 1\n",
        "    if x < 4:\n",
        "        return 0\n",
        "\n",
        "# Create the class column splitting review into positive and negative\n",
        "data_df['class']=data_df['stars'].apply(good)"
      ],
      "execution_count": 125,
      "outputs": []
    },
    {
      "cell_type": "code",
      "metadata": {
        "id": "xBKym4f-M_Wm",
        "colab_type": "code",
        "colab": {}
      },
      "source": [
        "#Create a length column that counts characters per review\n",
        "data_df['length']=data_df['review_text'].apply(len)"
      ],
      "execution_count": 126,
      "outputs": []
    },
    {
      "cell_type": "code",
      "metadata": {
        "id": "jbaIvW3WNJV-",
        "colab_type": "code",
        "colab": {
          "base_uri": "https://localhost:8080/",
          "height": 235
        },
        "outputId": "7452dcc5-8433-43c7-bd24-2ef629094c95"
      },
      "source": [
        "#Finding mean values of numerical columns grouped by star rating\n",
        "mean_vals=data_df.groupby(['stars']).mean()\n",
        "mean_vals"
      ],
      "execution_count": 127,
      "outputs": [
        {
          "output_type": "execute_result",
          "data": {
            "text/html": [
              "<div>\n",
              "<style scoped>\n",
              "    .dataframe tbody tr th:only-of-type {\n",
              "        vertical-align: middle;\n",
              "    }\n",
              "\n",
              "    .dataframe tbody tr th {\n",
              "        vertical-align: top;\n",
              "    }\n",
              "\n",
              "    .dataframe thead th {\n",
              "        text-align: right;\n",
              "    }\n",
              "</style>\n",
              "<table border=\"1\" class=\"dataframe\">\n",
              "  <thead>\n",
              "    <tr style=\"text-align: right;\">\n",
              "      <th></th>\n",
              "      <th>cool</th>\n",
              "      <th>useful</th>\n",
              "      <th>funny</th>\n",
              "      <th>class</th>\n",
              "      <th>length</th>\n",
              "    </tr>\n",
              "    <tr>\n",
              "      <th>stars</th>\n",
              "      <th></th>\n",
              "      <th></th>\n",
              "      <th></th>\n",
              "      <th></th>\n",
              "      <th></th>\n",
              "    </tr>\n",
              "  </thead>\n",
              "  <tbody>\n",
              "    <tr>\n",
              "      <th>1</th>\n",
              "      <td>0.576769</td>\n",
              "      <td>1.604806</td>\n",
              "      <td>1.056075</td>\n",
              "      <td>0.0</td>\n",
              "      <td>826.515354</td>\n",
              "    </tr>\n",
              "    <tr>\n",
              "      <th>2</th>\n",
              "      <td>0.719525</td>\n",
              "      <td>1.563107</td>\n",
              "      <td>0.875944</td>\n",
              "      <td>0.0</td>\n",
              "      <td>842.256742</td>\n",
              "    </tr>\n",
              "    <tr>\n",
              "      <th>3</th>\n",
              "      <td>0.788501</td>\n",
              "      <td>1.306639</td>\n",
              "      <td>0.694730</td>\n",
              "      <td>0.0</td>\n",
              "      <td>758.498289</td>\n",
              "    </tr>\n",
              "    <tr>\n",
              "      <th>4</th>\n",
              "      <td>0.954623</td>\n",
              "      <td>1.395916</td>\n",
              "      <td>0.670448</td>\n",
              "      <td>1.0</td>\n",
              "      <td>712.923142</td>\n",
              "    </tr>\n",
              "    <tr>\n",
              "      <th>5</th>\n",
              "      <td>0.944261</td>\n",
              "      <td>1.381780</td>\n",
              "      <td>0.608631</td>\n",
              "      <td>1.0</td>\n",
              "      <td>624.999101</td>\n",
              "    </tr>\n",
              "  </tbody>\n",
              "</table>\n",
              "</div>"
            ],
            "text/plain": [
              "           cool    useful     funny  class      length\n",
              "stars                                                 \n",
              "1      0.576769  1.604806  1.056075    0.0  826.515354\n",
              "2      0.719525  1.563107  0.875944    0.0  842.256742\n",
              "3      0.788501  1.306639  0.694730    0.0  758.498289\n",
              "4      0.954623  1.395916  0.670448    1.0  712.923142\n",
              "5      0.944261  1.381780  0.608631    1.0  624.999101"
            ]
          },
          "metadata": {
            "tags": []
          },
          "execution_count": 127
        }
      ]
    },
    {
      "cell_type": "markdown",
      "metadata": {
        "id": "zraQiMV0e0oR",
        "colab_type": "text"
      },
      "source": [
        "**Upload class data**\n",
        "<br>Currently inactive"
      ]
    },
    {
      "cell_type": "code",
      "metadata": {
        "id": "xxIbGsNyeAf8",
        "colab_type": "code",
        "colab": {}
      },
      "source": [
        "# upload_class_df = data_df.filter(items=['review_id', 'class'])\n",
        "# spark_class_df = spark.createDataFrame(upload_class_df)\n",
        "# spark_class_df.show(4)"
      ],
      "execution_count": 110,
      "outputs": []
    },
    {
      "cell_type": "code",
      "metadata": {
        "id": "egT-9NyaeeJh",
        "colab_type": "code",
        "colab": {}
      },
      "source": [
        "# # Write DataFrame to review_class table in Google Cloud\n",
        "# spark_class_df.write.jdbc(url=jdbc_url, table='review_class', mode=mode, properties=config)"
      ],
      "execution_count": 111,
      "outputs": []
    },
    {
      "cell_type": "markdown",
      "metadata": {
        "id": "b07SWiheMAEh",
        "colab_type": "text"
      },
      "source": [
        "<br></br>**Analysis of data**<br></br>"
      ]
    },
    {
      "cell_type": "code",
      "metadata": {
        "id": "pX_3LpszdS6A",
        "colab_type": "code",
        "colab": {
          "base_uri": "https://localhost:8080/",
          "height": 238
        },
        "outputId": "7c56d8a9-0e8f-4926-e44c-36135ac943d9"
      },
      "source": [
        "data_df.nunique()"
      ],
      "execution_count": 128,
      "outputs": [
        {
          "output_type": "execute_result",
          "data": {
            "text/plain": [
              "review_id      10000\n",
              "review_text     9998\n",
              "stars              5\n",
              "cool              29\n",
              "useful            28\n",
              "funny             29\n",
              "review_date      219\n",
              "review_type        1\n",
              "business_id     4174\n",
              "user_id         6403\n",
              "class              2\n",
              "length          2134\n",
              "dtype: int64"
            ]
          },
          "metadata": {
            "tags": []
          },
          "execution_count": 128
        }
      ]
    },
    {
      "cell_type": "markdown",
      "metadata": {
        "id": "nY036V7Sngw4",
        "colab_type": "text"
      },
      "source": [
        "\n",
        "**Review_id is unique (primary key) and the text associated is almost always unique as well.**\n",
        "\n",
        "**\"type\" can be dropped, as all are identified as \"review\"**\n"
      ]
    },
    {
      "cell_type": "code",
      "metadata": {
        "id": "KkPNyVFxbom0",
        "colab_type": "code",
        "colab": {
          "base_uri": "https://localhost:8080/",
          "height": 350
        },
        "outputId": "fc7b7f73-fc59-4041-ad1b-b1adb9ba8020"
      },
      "source": [
        "import matplotlib.pyplot as plt\n",
        "%matplotlib inline\n",
        "plt.style.use('fivethirtyeight')\n",
        "plt.hist(data_df['stars'])"
      ],
      "execution_count": 129,
      "outputs": [
        {
          "output_type": "execute_result",
          "data": {
            "text/plain": [
              "(array([ 749.,    0.,  927.,    0.,    0., 1461.,    0., 3526.,    0.,\n",
              "        3337.]),\n",
              " array([1. , 1.4, 1.8, 2.2, 2.6, 3. , 3.4, 3.8, 4.2, 4.6, 5. ]),\n",
              " <a list of 10 Patch objects>)"
            ]
          },
          "metadata": {
            "tags": []
          },
          "execution_count": 129
        },
        {
          "output_type": "display_data",
          "data": {
            "image/png": "[encoded data removed]",
            "text/plain": [
              "<Figure size 432x288 with 1 Axes>"
            ]
          },
          "metadata": {
            "tags": []
          }
        }
      ]
    },
    {
      "cell_type": "markdown",
      "metadata": {
        "id": "64JJVW4vnqRm",
        "colab_type": "text"
      },
      "source": [
        "**There is a bias for higher ratings in this data set**"
      ]
    },
    {
      "cell_type": "code",
      "metadata": {
        "id": "5jiT0FKchrh6",
        "colab_type": "code",
        "colab": {
          "base_uri": "https://localhost:8080/",
          "height": 333
        },
        "outputId": "c12a3a9b-2e39-479a-c187-69802447ad55"
      },
      "source": [
        "plt.plot(mean_vals[['funny','cool','useful']])"
      ],
      "execution_count": 130,
      "outputs": [
        {
          "output_type": "execute_result",
          "data": {
            "text/plain": [
              "[<matplotlib.lines.Line2D at 0x7f1d33938dd8>,\n",
              " <matplotlib.lines.Line2D at 0x7f1d33938da0>,\n",
              " <matplotlib.lines.Line2D at 0x7f1d33938898>]"
            ]
          },
          "metadata": {
            "tags": []
          },
          "execution_count": 130
        },
        {
          "output_type": "display_data",
          "data": {
            "image/png": "[encoded data removed]",
            "text/plain": [
              "<Figure size 432x288 with 1 Axes>"
            ]
          },
          "metadata": {
            "tags": []
          }
        }
      ]
    },
    {
      "cell_type": "markdown",
      "metadata": {
        "id": "q8dG5mSgnu_E",
        "colab_type": "text"
      },
      "source": [
        "**'Cool' evaluations are the only of the 3 that have a positive correlation with star ratings**"
      ]
    },
    {
      "cell_type": "code",
      "metadata": {
        "id": "-dK7uM7HjdbD",
        "colab_type": "code",
        "colab": {
          "base_uri": "https://localhost:8080/",
          "height": 301
        },
        "outputId": "3df05e09-b6ec-4b55-ace7-9bafa30b84b5"
      },
      "source": [
        "plt.plot(mean_vals[['length']])"
      ],
      "execution_count": 131,
      "outputs": [
        {
          "output_type": "execute_result",
          "data": {
            "text/plain": [
              "[<matplotlib.lines.Line2D at 0x7f1d2c985a20>]"
            ]
          },
          "metadata": {
            "tags": []
          },
          "execution_count": 131
        },
        {
          "output_type": "display_data",
          "data": {
            "image/png": "[encoded data removed]",
            "text/plain": [
              "<Figure size 432x288 with 1 Axes>"
            ]
          },
          "metadata": {
            "tags": []
          }
        }
      ]
    },
    {
      "cell_type": "markdown",
      "metadata": {
        "id": "_dXz3mAjnyLV",
        "colab_type": "text"
      },
      "source": [
        "**The longer reviews tend to be lower ratings.**"
      ]
    },
    {
      "cell_type": "code",
      "metadata": {
        "id": "ZTGdfgARcTjI",
        "colab_type": "code",
        "colab": {
          "base_uri": "https://localhost:8080/",
          "height": 350
        },
        "outputId": "d2e454ea-e411-4956-bd0c-9ed4ac2a63db"
      },
      "source": [
        "plt.hist(data_df['class'])"
      ],
      "execution_count": 132,
      "outputs": [
        {
          "output_type": "execute_result",
          "data": {
            "text/plain": [
              "(array([3137.,    0.,    0.,    0.,    0.,    0.,    0.,    0.,    0.,\n",
              "        6863.]),\n",
              " array([0. , 0.1, 0.2, 0.3, 0.4, 0.5, 0.6, 0.7, 0.8, 0.9, 1. ]),\n",
              " <a list of 10 Patch objects>)"
            ]
          },
          "metadata": {
            "tags": []
          },
          "execution_count": 132
        },
        {
          "output_type": "display_data",
          "data": {
            "image/png": "[encoded data removed]",
            "text/plain": [
              "<Figure size 432x288 with 1 Axes>"
            ]
          },
          "metadata": {
            "tags": []
          }
        }
      ]
    },
    {
      "cell_type": "markdown",
      "metadata": {
        "id": "edBuycdkn10s",
        "colab_type": "text"
      },
      "source": [
        "<br></br>**Pipeline**<br></br>"
      ]
    },
    {
      "cell_type": "code",
      "metadata": {
        "id": "Qc12Wz8fcjZv",
        "colab_type": "code",
        "colab": {}
      },
      "source": [
        "#Drop columns\n",
        "nb_model_df=data_df.copy()"
      ],
      "execution_count": 144,
      "outputs": []
    },
    {
      "cell_type": "code",
      "metadata": {
        "id": "Aca0s-O8moN9",
        "colab_type": "code",
        "colab": {
          "base_uri": "https://localhost:8080/",
          "height": 459
        },
        "outputId": "a270e090-7e8c-4791-ba31-bf2477a1369d"
      },
      "source": [
        "#Change from pandas to spark\n",
        "df = spark.createDataFrame(nb_model_df)\n",
        "df.show()"
      ],
      "execution_count": 156,
      "outputs": [
        {
          "output_type": "stream",
          "text": [
            "+--------------------+--------------------+-----+----+------+-----+-----------+-----------+--------------------+--------------------+-----+------+\n",
            "|           review_id|         review_text|stars|cool|useful|funny|review_date|review_type|         business_id|             user_id|class|length|\n",
            "+--------------------+--------------------+-----+----+------+-----+-----------+-----------+--------------------+--------------------+-----+------+\n",
            "|-7yxrdY13ay15rGB7...|I have been going...|    5|   0|     0|    0| 2010-01-16|     review|Lh9nz0KYyzE-YRbKu...|ayKW9eWwGFcrtJaHc...|    1|   670|\n",
            "|-Be0UUGYuiDJVAM_Y...|Since Im big into...|    4|   0|     2|    2| 2011-01-25|     review|pa6K7DGByxBXxcVJ5...|_4lqpCYCqOQzbB6xQ...|    1|  1348|\n",
            "|-nQHHXi-d_yuW301_...|A pleasant place ...|    2|   0|     0|    0| 2011-01-12|     review|GIGI8bJfN6HyPzmEW...|4QORbyhfN01oKR_Gg...|    0|   813|\n",
            "|2L30O7G8IQ6HILpR0...|part of a social ...|    5|   0|     0|    0| 2010-01-24|     review|qiwajZigq_2twTmYo...|ST8Yzlk2MqKlcaLqL...|    1|   415|\n",
            "|4x5yLG7_yGLuN-w6f...|I love every plac...|    4|   0|     1|    0| 2011-01-02|     review|9yKzy9PApeiPPOUJE...|Vk-hJ1i5ZagPM87Kv...|    1|   302|\n",
            "|5h0EVAee-RDbbKfhd...|A great value for...|    5|   2|     1|    0| 2012-01-21|     review|4VzaYvZntWBRbr8Vm...|feQpvbp8jGBWMuG5u...|    1|   284|\n",
            "|6jV77Bs_Vu_rHkdUx...|This review is fo...|    3|   1|     2|    1| 2011-01-23|     review|kwq3bK7BzPKLwXKqV...|RwVaQNP1Ag-Seu3U9...|    0|  1092|\n",
            "|8tW7Dbqv8RR2NfZJ4...|I would never hav...|    4|   3|     6|    2| 2012-01-19|     review|GbEOmf5k73r_UJWjc...|RAWy3YCE-jwfyuGvw...|    1|  1194|\n",
            "|8uV26l7-ktb4tZ5gR...|The new Harkins C...|    5|   0|     1|    0| 2007-01-23|     review|1pGC-0jvQ6vN5rzmC...|nWouNfZD3Pw08RYiz...|    1|   355|\n",
            "|AfDVtSpM6GvkqS1wJ...|This is one of my...|    5|   0|     0|    0| 2010-01-07|     review|nvaAUTTl7oqiJDhui...|LvAr6xG-A40PGk1qu...|    1|   185|\n",
            "|CdAkiPi_KKLjHo5l2...|OK, I went based ...|    5|   1|     5|    1| 2008-01-11|     review|NB6o73F05lw23zpC7...|AdEy5KAIlMAy8xHyu...|    1|  1712|\n",
            "|EnAdKZ_u_wj9ifTRw...|I highly reccomen...|    5|   0|     1|    0| 2012-01-12|     review|rncjoVoEFUJGCUoC1...|HK35ai8frY75iMYBV...|    1|   308|\n",
            "|FBw_MLyO9eduoDfs-...|I was severely mi...|    1|   3|     5|   20| 2011-01-22|     review|MPsCdY0Bwv2G0JXtw...|lhf22sqBafQv6CXu2...|    0|   203|\n",
            "|HPJHQKDVttoNjsnlC...|Where else can yo...|    5|   1|     1|    0| 2012-01-29|     review|5KG0A3WlC7K3DAXtr...|ZRQdOIIhzrzE6sc3e...|    1|   460|\n",
            "|Hw0IOfTf-SpkByFAG...|My friend who I w...|    4|   0|     1|    0| 2009-01-20|     review|EOCQ5E0lakUyBvUH0...|0Kz7-hBrrtBTdKBpE...|    1|   866|\n",
            "|JSocnq8bLHvbyd3sv...|This place came r...|    2|   0|     0|    0| 2010-01-02|     review|4FS5otEktCyI1aDpg...|j2eM540C7mbF1TZvC...|    0|   669|\n",
            "|MEdGp-pkf6DAxAsgU...|Awesome food and ...|    5|   0|     0|    0| 2012-01-15|     review|I4bSn5gXsHuSPu7L-...|JfezQ-BqHOE7pnW2D...|    1|    25|\n",
            "|PINoAXjJQpl3yobdD...|Today I went in f...|    3|   0|     0|    0| 2011-01-16|     review|v6zRA0WqOODJjmpvs...|Iycf9KNRhxvR187Qu...|    0|   342|\n",
            "|Q5tzwCvyTZBn6_5N1...|The novelty of th...|    3|   4|     4|    4| 2009-01-24|     review|Zg-C1aYcoR2L5OIrA...|DPMUGzrjTwX5uJtrm...|    0|  1157|\n",
            "|S7fxRPce-j6RbEGRv...|Although the boba...|    4|   0|     1|    0| 2009-01-01|     review|f9eFteZuBoZqzYg5U...|7KINmvqlh8H3r5M93...|    1|   222|\n",
            "+--------------------+--------------------+-----+----+------+-----+-----------+-----------+--------------------+--------------------+-----+------+\n",
            "only showing top 20 rows\n",
            "\n"
          ],
          "name": "stdout"
        }
      ]
    },
    {
      "cell_type": "code",
      "metadata": {
        "id": "0x0XmXV9VBTs",
        "colab_type": "code",
        "colab": {}
      },
      "source": [
        "# Import functions\n",
        "from pyspark.ml.feature import Tokenizer, StopWordsRemover, HashingTF, IDF, StringIndexer"
      ],
      "execution_count": 157,
      "outputs": []
    },
    {
      "cell_type": "code",
      "metadata": {
        "id": "6VorHUGE_vta",
        "colab_type": "code",
        "colab": {}
      },
      "source": [
        "# Create all the features to the data set\n",
        "pos_neg_to_num = StringIndexer(inputCol='class',outputCol='label')\n",
        "tokenizer = Tokenizer(inputCol=\"review_text\", outputCol=\"token_text\")\n",
        "stopremove = StopWordsRemover(inputCol='token_text',outputCol='stop_tokens')\n",
        "hashingTF = HashingTF(inputCol=\"stop_tokens\", outputCol='hash_token')\n",
        "idf = IDF(inputCol='hash_token', outputCol='idf_token')"
      ],
      "execution_count": 158,
      "outputs": []
    },
    {
      "cell_type": "code",
      "metadata": {
        "id": "-05EYS6Bold9",
        "colab_type": "code",
        "colab": {}
      },
      "source": [
        "from pyspark.ml.feature import VectorAssembler\n",
        "from pyspark.ml.linalg import Vector\n",
        "# Create feature vector \n",
        "clean_up = VectorAssembler(inputCols=['idf_token', 'length'], outputCol='features')"
      ],
      "execution_count": 159,
      "outputs": []
    },
    {
      "cell_type": "code",
      "metadata": {
        "id": "hrqh24KqlJDd",
        "colab_type": "code",
        "colab": {}
      },
      "source": [
        "# Create and run a data processing Pipeline\n",
        "from pyspark.ml import Pipeline\n",
        "data_prep_pipeline = Pipeline(stages=[pos_neg_to_num, tokenizer, stopremove, hashingTF, idf, clean_up])"
      ],
      "execution_count": 160,
      "outputs": []
    },
    {
      "cell_type": "code",
      "metadata": {
        "id": "EZ_67nv5lKOD",
        "colab_type": "code",
        "colab": {}
      },
      "source": [
        "# Fit and transform the pipeline\n",
        "cleaner = data_prep_pipeline.fit(df)\n",
        "cleaned = cleaner.transform(df)"
      ],
      "execution_count": 161,
      "outputs": []
    },
    {
      "cell_type": "code",
      "metadata": {
        "id": "8f_yjR0QRVuO",
        "colab_type": "code",
        "colab": {}
      },
      "source": [
        "#Drop intermediate columns\n",
        "x=cleaned.select('features','label')"
      ],
      "execution_count": 162,
      "outputs": []
    },
    {
      "cell_type": "code",
      "metadata": {
        "id": "MiiHRYAxlKHk",
        "colab_type": "code",
        "colab": {}
      },
      "source": [
        "# Break data down into a training set and a testing set\n",
        "training, testing = x.randomSplit([0.7, 0.3], 21)"
      ],
      "execution_count": 163,
      "outputs": []
    },
    {
      "cell_type": "code",
      "metadata": {
        "id": "LXene5PXlJ7b",
        "colab_type": "code",
        "colab": {}
      },
      "source": [
        "from pyspark.ml.classification import NaiveBayes\n",
        "# Create a Naive Bayes model and fit training data\n",
        "nb = NaiveBayes()\n",
        "predictor = nb.fit(training)"
      ],
      "execution_count": 164,
      "outputs": []
    },
    {
      "cell_type": "code",
      "metadata": {
        "id": "KdZyvrGElUOd",
        "colab_type": "code",
        "colab": {
          "base_uri": "https://localhost:8080/",
          "height": 34
        },
        "outputId": "9e6227ed-c151-4afe-c471-7f273d40dae5"
      },
      "source": [
        "# Use the Class Evaluator for a cleaner description\n",
        "from pyspark.ml.evaluation import MulticlassClassificationEvaluator\n",
        "\n",
        "acc_eval = MulticlassClassificationEvaluator()\n",
        "acc = acc_eval.evaluate(predictor.transform(testing))\n",
        "print(\"Accuracy of model at predicting reviews was: %f\" % acc)"
      ],
      "execution_count": 165,
      "outputs": [
        {
          "output_type": "stream",
          "text": [
            "Accuracy of model at predicting reviews was: 0.751213\n"
          ],
          "name": "stdout"
        }
      ]
    },
    {
      "cell_type": "code",
      "metadata": {
        "id": "VV0YCv2BpthL",
        "colab_type": "code",
        "colab": {
          "base_uri": "https://localhost:8080/",
          "height": 459
        },
        "outputId": "d4edf0fc-4a80-442f-f7c7-6952e3840bff"
      },
      "source": [
        "nn_df=cleaned.select('stars','features')\n",
        "nn_df.show()"
      ],
      "execution_count": 167,
      "outputs": [
        {
          "output_type": "stream",
          "text": [
            "+-----+--------------------+\n",
            "|stars|            features|\n",
            "+-----+--------------------+\n",
            "|    5|(262145,[9521,133...|\n",
            "|    4|(262145,[78,3188,...|\n",
            "|    2|(262145,[1846,410...|\n",
            "|    5|(262145,[8804,198...|\n",
            "|    4|(262145,[17141,24...|\n",
            "|    5|(262145,[30006,30...|\n",
            "|    3|(262145,[3921,517...|\n",
            "|    4|(262145,[2325,243...|\n",
            "|    5|(262145,[18320,21...|\n",
            "|    5|(262145,[22622,38...|\n",
            "|    5|(262145,[14,329,1...|\n",
            "|    5|(262145,[9988,171...|\n",
            "|    1|(262145,[133,2401...|\n",
            "|    5|(262145,[20719,32...|\n",
            "|    4|(262145,[14,4622,...|\n",
            "|    2|(262145,[9287,156...|\n",
            "|    5|(262145,[82495,11...|\n",
            "|    3|(262145,[13957,27...|\n",
            "|    3|(262145,[2640,530...|\n",
            "|    4|(262145,[14,13677...|\n",
            "+-----+--------------------+\n",
            "only showing top 20 rows\n",
            "\n"
          ],
          "name": "stdout"
        }
      ]
    },
    {
      "cell_type": "code",
      "metadata": {
        "id": "m0yazuLRqPD6",
        "colab_type": "code",
        "colab": {}
      },
      "source": [
        ""
      ],
      "execution_count": null,
      "outputs": []
    }
  ]
}