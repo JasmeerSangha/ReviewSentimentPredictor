{
  "nbformat": 4,
  "nbformat_minor": 0,
  "metadata": {
    "colab": {
      "name": "pyspark_pipeline.ipynb",
      "provenance": [],
      "collapsed_sections": [],
      "include_colab_link": true
    },
    "kernelspec": {
      "name": "python3",
      "display_name": "Python 3"
    }
  },
  "cells": [
    {
      "cell_type": "markdown",
      "metadata": {
        "id": "view-in-github",
        "colab_type": "text"
      },
      "source": [
        "<a href=\"https://colab.research.google.com/github/karenbennis/Xy/blob/ml_model/ml_model_1_3_5_stars_classification.ipynb\" target=\"_parent\"><img src=\"https://colab.research.google.com/assets/colab-badge.svg\" alt=\"Open In Colab\"/></a>"
      ]
    },
    {
      "cell_type": "markdown",
      "metadata": {
        "id": "7x2IxWo3wiqn",
        "colab_type": "text"
      },
      "source": [
        "## <br>**Connect to Database**<br><br>"
      ]
    },
    {
      "cell_type": "code",
      "metadata": {
        "id": "_nCS6homIgnW",
        "colab_type": "code",
        "colab": {
          "base_uri": "https://localhost:8080/",
          "height": 223
        },
        "outputId": "37d0693b-9f57-4909-f16d-4d817fab58c4"
      },
      "source": [
        "# Install Java, Spark, and Findspark\n",
        "!apt-get install openjdk-8-jdk-headless -qq > /dev/null\n",
        "!wget -q http://www-us.apache.org/dist/spark/spark-2.4.6/spark-2.4.6-bin-hadoop2.7.tgz\n",
        "!tar xf spark-2.4.6-bin-hadoop2.7.tgz\n",
        "!pip install -q findspark\n",
        "\n",
        "# Set Environment Variables\n",
        "import os\n",
        "os.environ[\"JAVA_HOME\"] = \"/usr/lib/jvm/java-8-openjdk-amd64\"\n",
        "os.environ[\"SPARK_HOME\"] = \"/content/spark-2.4.6-bin-hadoop2.7\"\n",
        "\n",
        "# Start a SparkSession\n",
        "import findspark\n",
        "findspark.init()\n",
        "\n",
        "#Interact with SQL\n",
        "!wget https://jdbc.postgresql.org/download/postgresql-42.2.9.jar\n",
        "\n",
        "# Start Spark Session(Creating spark application with name defined by appName()) ---IMPORTED WITH EVERY COLAB NOTEBOOK\n",
        "from pyspark.sql import SparkSession\n",
        "spark = SparkSession.builder.appName(\"database_transformation\").config(\"spark.driver.memory\",\"5g\").config(\"spark.driver.extraClassPath\",\"/content/postgresql-42.2.9.jar\").getOrCreate()\n"
      ],
      "execution_count": 1,
      "outputs": [
        {
          "output_type": "stream",
          "text": [
            "--2020-07-26 18:00:36--  https://jdbc.postgresql.org/download/postgresql-42.2.9.jar\n",
            "Resolving jdbc.postgresql.org (jdbc.postgresql.org)... 72.32.157.228, 2001:4800:3e1:1::228\n",
            "Connecting to jdbc.postgresql.org (jdbc.postgresql.org)|72.32.157.228|:443... connected.\n",
            "HTTP request sent, awaiting response... 200 OK\n",
            "Length: 914037 (893K) [application/java-archive]\n",
            "Saving to: ‘postgresql-42.2.9.jar’\n",
            "\n",
            "\rpostgresql-42.2.9.j   0%[                    ]       0  --.-KB/s               \rpostgresql-42.2.9.j 100%[===================>] 892.61K  --.-KB/s    in 0.1s    \n",
            "\n",
            "2020-07-26 18:00:36 (8.35 MB/s) - ‘postgresql-42.2.9.jar’ saved [914037/914037]\n",
            "\n"
          ],
          "name": "stdout"
        }
      ]
    },
    {
      "cell_type": "code",
      "metadata": {
        "id": "tVTkr-xleT8C",
        "colab_type": "code",
        "colab": {
          "base_uri": "https://localhost:8080/",
          "height": 1000
        },
        "outputId": "fd1373cb-10dc-49fc-c72b-c2897ae7cf4a"
      },
      "source": [
        "# gcloud login and check the DB\n",
        "!gcloud auth login\n",
        "!gcloud config set project 'xy-yelp'\n",
        "!gcloud sql instances describe 'xy-yelp'"
      ],
      "execution_count": 2,
      "outputs": [
        {
          "output_type": "stream",
          "text": [
            "Go to the following link in your browser:\n",
            "\n",
            "    https://accounts.google.com/o/oauth2/auth?client_id=32555940559.apps.googleusercontent.com&redirect_uri=urn%3Aietf%3Awg%3Aoauth%3A2.0%3Aoob&scope=openid+https%3A%2F%2Fwww.googleapis.com%2Fauth%2Fuserinfo.email+https%3A%2F%2Fwww.googleapis.com%2Fauth%2Fcloud-platform+https%3A%2F%2Fwww.googleapis.com%2Fauth%2Fappengine.admin+https%3A%2F%2Fwww.googleapis.com%2Fauth%2Fcompute+https%3A%2F%2Fwww.googleapis.com%2Fauth%2Faccounts.reauth&code_challenge=pozFi1Jvjjxj6Wps5KvjGszCSal1-0jaKnZNcjaooxU&code_challenge_method=S256&access_type=offline&response_type=code&prompt=select_account\n",
            "\n",
            "\n",
            "Enter verification code: 4/2QEcr2gGT3USv-zEFfd722-0VQeKwtOJU0mPCAPrEqIwmBQrXosqRvM\n",
            "\n",
            "You are now logged in as [helenly25@gmail.com].\n",
            "Your current project is [None].  You can change this setting by running:\n",
            "  $ gcloud config set project PROJECT_ID\n",
            "\n",
            "\n",
            "To take a quick anonymous survey, run:\n",
            "  $ gcloud survey\n",
            "\n",
            "Updated property [core/project].\n",
            "backendType: SECOND_GEN\n",
            "connectionName: xy-yelp:northamerica-northeast1:xy-yelp\n",
            "databaseVersion: POSTGRES_12\n",
            "etag: 69807e614083e817cfefde96c896961cd31a3f86705c4b3db7e1219fe7ef7cfb\n",
            "gceZone: northamerica-northeast1-a\n",
            "instanceType: CLOUD_SQL_INSTANCE\n",
            "ipAddresses:\n",
            "- ipAddress: 34.95.0.17\n",
            "  type: PRIMARY\n",
            "kind: sql#instance\n",
            "name: xy-yelp\n",
            "project: xy-yelp\n",
            "region: northamerica-northeast1\n",
            "selfLink: https://sqladmin.googleapis.com/sql/v1beta4/projects/xy-yelp/instances/xy-yelp\n",
            "serverCaCert:\n",
            "  cert: |-\n",
            "    -----BEGIN CERTIFICATE-----\n",
            "    MIIDfzCCAmegAwIBAgIBADANBgkqhkiG9w0BAQsFADB3MS0wKwYDVQQuEyQzYTcz\n",
            "    ZmJhNS0xYTNlLTQwNmMtOWZhOC1hZGE1MDI3OGZkY2QxIzAhBgNVBAMTGkdvb2ds\n",
            "    ZSBDbG91ZCBTUUwgU2VydmVyIENBMRQwEgYDVQQKEwtHb29nbGUsIEluYzELMAkG\n",
            "    A1UEBhMCVVMwHhcNMjAwNzExMjAwMDA4WhcNMzAwNzA5MjAwMTA4WjB3MS0wKwYD\n",
            "    VQQuEyQzYTczZmJhNS0xYTNlLTQwNmMtOWZhOC1hZGE1MDI3OGZkY2QxIzAhBgNV\n",
            "    BAMTGkdvb2dsZSBDbG91ZCBTUUwgU2VydmVyIENBMRQwEgYDVQQKEwtHb29nbGUs\n",
            "    IEluYzELMAkGA1UEBhMCVVMwggEiMA0GCSqGSIb3DQEBAQUAA4IBDwAwggEKAoIB\n",
            "    AQDMLAiCVUS0u8JRUQSqXLNcXiDU4euUjKhmvbOnDCr2VNVX+dQoq8P+HmL4ruxr\n",
            "    lmLgtNKuhKjqISSzVKDxEf0mudWfOP+ygsXSP6XxLWplHn/N1A881+u+T33u5N0/\n",
            "    wreqH6suvi7Cu/SSEcmYUCnpIy5pSZzO63ww9M4p2HZnG/g/j7uqGdPUpdG4GbCk\n",
            "    jb8EskJiH0hU08ct+AySyc0mrgvfP9l/S5chz0j69uQX/yvWXWy4SSfJ3+wc45Se\n",
            "    8v7WYo+lcwsOu0lGCz53X9Nej0Av47aKUzXD4HlleeMTbkjgYEv2hRWKVoUhzugT\n",
            "    dJTsminBKtnYK1n2witgxNqVAgMBAAGjFjAUMBIGA1UdEwEB/wQIMAYBAf8CAQAw\n",
            "    DQYJKoZIhvcNAQELBQADggEBAB45K3XfFNL/Vkbj0f9daDji+cJHeUS3Y8Uxehog\n",
            "    2rf+rbmwfeH757NZT29o8rSMMfV05z3fuYvS67JvSIDx/I3UsxRGzRZY4EfXXhC9\n",
            "    Vke7AVtfxNgKk86V+JPEGQp52L+PFYdh33DigL8XrWpektxIxf7RAqFIvV0F+0FS\n",
            "    DhXWXkZ8ONFpMK6BCd4aZcKgD0LHafoAKv67+A8IE6b1fFJLh1nkuqZyv1kwLwTM\n",
            "    bLzSMmkgvxuv8d0dmVxWWr/V1kjc2U7oMqF+tgOE+hcF7fWRyRRZko1RtPwjUHlT\n",
            "    qzw5uqZUsxR8S4yyiaeePiF8YnDI72ypyY6FiRMlteAydJs=\n",
            "    -----END CERTIFICATE-----\n",
            "  certSerialNumber: '0'\n",
            "  commonName: C=US,O=Google\\, Inc,CN=Google Cloud SQL Server CA,dnQualifier=3a73fba5-1a3e-406c-9fa8-ada50278fdcd\n",
            "  createTime: '2020-07-11T20:00:08.018Z'\n",
            "  expirationTime: '2030-07-09T20:01:08.018Z'\n",
            "  instance: xy-yelp\n",
            "  kind: sql#sslCert\n",
            "  sha1Fingerprint: 2e2ffdd64d766e372537c174a3d4b91f59ee3e63\n",
            "serviceAccountEmailAddress: p8056368877-0mi1n8@gcp-sa-cloud-sql.iam.gserviceaccount.com\n",
            "settings:\n",
            "  activationPolicy: ALWAYS\n",
            "  availabilityType: ZONAL\n",
            "  backupConfiguration:\n",
            "    enabled: true\n",
            "    kind: sql#backupConfiguration\n",
            "    location: us\n",
            "    pointInTimeRecoveryEnabled: false\n",
            "    replicationLogArchivingEnabled: false\n",
            "    startTime: 13:00\n",
            "  dataDiskSizeGb: '43'\n",
            "  dataDiskType: PD_SSD\n",
            "  ipConfiguration:\n",
            "    authorizedNetworks:\n",
            "    - kind: sql#aclEntry\n",
            "      name: Blake Residence\n",
            "      value: 24.156.209.223\n",
            "    - kind: sql#aclEntry\n",
            "      name: Karen's Residence\n",
            "      value: 173.32.183.48\n",
            "    - kind: sql#aclEntry\n",
            "      name: Helen's Residence\n",
            "      value: 72.142.66.43\n",
            "    ipv4Enabled: true\n",
            "  kind: sql#settings\n",
            "  locationPreference:\n",
            "    kind: sql#locationPreference\n",
            "    zone: northamerica-northeast1-a\n",
            "  maintenanceWindow:\n",
            "    day: 0\n",
            "    hour: 0\n",
            "    kind: sql#maintenanceWindow\n",
            "  pricingPlan: PER_USE\n",
            "  replicationType: SYNCHRONOUS\n",
            "  settingsVersion: '38'\n",
            "  storageAutoResize: true\n",
            "  storageAutoResizeLimit: '0'\n",
            "  tier: db-f1-micro\n",
            "state: RUNNABLE\n"
          ],
          "name": "stdout"
        }
      ]
    },
    {
      "cell_type": "code",
      "metadata": {
        "id": "Zn_F729PexE6",
        "colab_type": "code",
        "colab": {
          "base_uri": "https://localhost:8080/",
          "height": 241
        },
        "outputId": "6ca74a03-055c-462d-de87-09c946a178db"
      },
      "source": [
        "# download and initialize the psql proxy\n",
        "!wget https://dl.google.com/cloudsql/cloud_sql_proxy.linux.amd64 -O cloud_sql_proxy\n",
        "!chmod +x cloud_sql_proxy\n",
        "# \"connectionName\" is from the previous block\n",
        "!nohup ./cloud_sql_proxy -instances=\"xy-yelp:northamerica-northeast1:xy-yelp\"=tcp:5432 &\n",
        "!sleep 30s"
      ],
      "execution_count": 3,
      "outputs": [
        {
          "output_type": "stream",
          "text": [
            "--2020-07-26 18:01:19--  https://dl.google.com/cloudsql/cloud_sql_proxy.linux.amd64\n",
            "Resolving dl.google.com (dl.google.com)... 172.217.214.93, 172.217.214.136, 172.217.214.190, ...\n",
            "Connecting to dl.google.com (dl.google.com)|172.217.214.93|:443... connected.\n",
            "HTTP request sent, awaiting response... 200 OK\n",
            "Length: 14492253 (14M) [application/octet-stream]\n",
            "Saving to: ‘cloud_sql_proxy’\n",
            "\n",
            "\rcloud_sql_proxy       0%[                    ]       0  --.-KB/s               \rcloud_sql_proxy     100%[===================>]  13.82M  --.-KB/s    in 0.06s   \n",
            "\n",
            "2020-07-26 18:01:19 (242 MB/s) - ‘cloud_sql_proxy’ saved [14492253/14492253]\n",
            "\n",
            "nohup: appending output to 'nohup.out'\n"
          ],
          "name": "stdout"
        }
      ]
    },
    {
      "cell_type": "code",
      "metadata": {
        "id": "V5Ko5J-Ee7Ec",
        "colab_type": "code",
        "colab": {}
      },
      "source": [
        "db_password = 'kjhbyelpdb'"
      ],
      "execution_count": 4,
      "outputs": []
    },
    {
      "cell_type": "code",
      "metadata": {
        "id": "fs2eCTjpfEd6",
        "colab_type": "code",
        "colab": {}
      },
      "source": [
        "# Configure settings for RDS\n",
        "mode = \"append\"\n",
        "jdbc_url=\"jdbc:postgresql://127.0.0.1:5432/xy_yelp_db\"\n",
        "config = {\"user\":\"postgres\", \n",
        "          \"password\": db_password, \n",
        "          \"driver\":\"org.postgresql.Driver\"}"
      ],
      "execution_count": 5,
      "outputs": []
    },
    {
      "cell_type": "markdown",
      "metadata": {
        "id": "cQez-IxYJC_V",
        "colab_type": "text"
      },
      "source": [
        "## **Extract tables**"
      ]
    },
    {
      "cell_type": "code",
      "metadata": {
        "id": "xsuqOjKQRNYD",
        "colab_type": "code",
        "colab": {
          "base_uri": "https://localhost:8080/",
          "height": 223
        },
        "outputId": "a19c926b-3102-45cf-e17d-fb3c4e8a1efc"
      },
      "source": [
        "# Read data from database\n",
        "review_df2 = spark.read \\\n",
        "    .jdbc(url=jdbc_url, table='review_two',\n",
        "          properties=config)\n",
        "review_df2.show(5)"
      ],
      "execution_count": 6,
      "outputs": [
        {
          "output_type": "stream",
          "text": [
            "+--------------------+--------------------+-----+----+------+-----+-----------+\n",
            "|           review_id|         review_text|stars|cool|useful|funny|review_date|\n",
            "+--------------------+--------------------+-----+----+------+-----+-----------+\n",
            "|K8avYPWsh45v7VoZg...|another pie place...|    3|   0|     0|    0| 2008-01-23|\n",
            "|BkiZn5XSzAv9q7J7_...|I came with my si...|    4|   1|     1|    0| 2017-01-30|\n",
            "|L6kc7Nr7hWiqo7ZvW...|I am very disappo...|    1|   0|     0|    0| 2017-01-19|\n",
            "|y35xKzutHXT985mUp...|Stopped for lunch...|    4|   1|     0|    0| 2017-01-04|\n",
            "|UqQGtBDEfkYMLV-Fy...|DON'T DO IT!  You...|    1|   0|     1|    0| 2010-01-20|\n",
            "+--------------------+--------------------+-----+----+------+-----+-----------+\n",
            "only showing top 5 rows\n",
            "\n"
          ],
          "name": "stdout"
        }
      ]
    },
    {
      "cell_type": "code",
      "metadata": {
        "id": "LmHx05W_RNd1",
        "colab_type": "code",
        "colab": {
          "base_uri": "https://localhost:8080/",
          "height": 223
        },
        "outputId": "a524f8c6-44c0-49e5-d303-ee05ba3c9d91"
      },
      "source": [
        "# Pull data from business table\n",
        "business_df2 = spark.read \\\n",
        "    .jdbc(url=jdbc_url, table='business_two',\n",
        "          properties=config)\n",
        "business_df2.show(5)"
      ],
      "execution_count": 7,
      "outputs": [
        {
          "output_type": "stream",
          "text": [
            "+--------------------+--------------------+\n",
            "|           review_id|         business_id|\n",
            "+--------------------+--------------------+\n",
            "|K8avYPWsh45v7VoZg...|UGyEr_PMA-v1cuim0...|\n",
            "|BkiZn5XSzAv9q7J7_...|N_2yEZ41g9zDW_gWA...|\n",
            "|L6kc7Nr7hWiqo7ZvW...|XhLM_OtYslzyd4Gyv...|\n",
            "|y35xKzutHXT985mUp...|ILa-Xv5-h23A9OMrY...|\n",
            "|UqQGtBDEfkYMLV-Fy...|gBfPyzPRmeOaj3Sdc...|\n",
            "+--------------------+--------------------+\n",
            "only showing top 5 rows\n",
            "\n"
          ],
          "name": "stdout"
        }
      ]
    },
    {
      "cell_type": "code",
      "metadata": {
        "id": "ak3eFjdMRNhn",
        "colab_type": "code",
        "colab": {
          "base_uri": "https://localhost:8080/",
          "height": 223
        },
        "outputId": "2cb69469-21dd-432a-e2f9-e4c77b1697dc"
      },
      "source": [
        "# Pull data from yelp_user table\n",
        "\n",
        "user_df2 = spark.read \\\n",
        "    .jdbc(url=jdbc_url, table='yelp_user_two',\n",
        "          properties=config)\n",
        "user_df2.show(5)"
      ],
      "execution_count": 8,
      "outputs": [
        {
          "output_type": "stream",
          "text": [
            "+--------------------+--------------------+\n",
            "|           review_id|             user_id|\n",
            "+--------------------+--------------------+\n",
            "|4gHv8mFFL77vdr6_-...|suiXZ_6jjf9YriAEl...|\n",
            "|CHcdI_ZDxt2L7Ju5v...|Zoec9wehLFa8CV1Jn...|\n",
            "|W5Zkqs8RtShQK8u-m...|Iye9krZCjW79lB324...|\n",
            "|ZVoX65BkaRN0Sr349...|hJ2BkfY_iOhtIizGO...|\n",
            "|e1EEHis4eT6XwagD2...|7msjG0EeNnaef-tWD...|\n",
            "+--------------------+--------------------+\n",
            "only showing top 5 rows\n",
            "\n"
          ],
          "name": "stdout"
        }
      ]
    },
    {
      "cell_type": "code",
      "metadata": {
        "id": "eTM0Pu3eRNnX",
        "colab_type": "code",
        "colab": {}
      },
      "source": [
        "# Join review_df2 and business_df2\n",
        "review_df2 = review_df2.join(business_df2, on=\"review_id\", how=\"inner\")"
      ],
      "execution_count": 9,
      "outputs": []
    },
    {
      "cell_type": "code",
      "metadata": {
        "id": "eBm45HFSRNtE",
        "colab_type": "code",
        "colab": {
          "base_uri": "https://localhost:8080/",
          "height": 223
        },
        "outputId": "3ff3d737-e501-47a4-c8f8-1776dac00bda"
      },
      "source": [
        "# Join review_df2 and user_df2\n",
        "review_df2 = review_df2.join(user_df2, on=\"review_id\", how=\"inner\")\n",
        "review_df2.show(5)"
      ],
      "execution_count": 10,
      "outputs": [
        {
          "output_type": "stream",
          "text": [
            "+--------------------+--------------------+-----+----+------+-----+-----------+--------------------+--------------------+\n",
            "|           review_id|         review_text|stars|cool|useful|funny|review_date|         business_id|             user_id|\n",
            "+--------------------+--------------------+-----+----+------+-----+-----------+--------------------+--------------------+\n",
            "|06FL63x1PSHK1IE3i...|An hour and a hal...|    1|   0|     0|    0| 2016-01-24|Z3ZSar8IVAR2qIupq...|1luyQBuF2iH1Tbqs3...|\n",
            "|1lGcbt9vMSWY5NLbW...|J'ai été séduite ...|    2|   0|     2|    0| 2015-01-27|frVru1HZYyGZ9sfbO...|AK4k713ocyWht0W47...|\n",
            "|1xXPggQNNBjkwxxwH...|I'm always game t...|    1|   0|     2|    0| 2014-01-22|6tY0tn39Mb8FCLYBA...|gaPf1qNX7PAf14wIP...|\n",
            "|37Ci4Q8bRm3PyYHZH...|Hmmm, it was okay...|    3|   1|     1|    0| 2010-01-17|Rj-7ymdw8aNZBRqGR...|uj4iopBWA0RjpqoJ5...|\n",
            "|37FEOT7W5jpApoad7...|My wife and I had...|    1|   0|     0|    0| 2017-01-25|TTDMJetAQKfxVzKZy...|x20piGQtvm8hOKe8E...|\n",
            "+--------------------+--------------------+-----+----+------+-----+-----------+--------------------+--------------------+\n",
            "only showing top 5 rows\n",
            "\n"
          ],
          "name": "stdout"
        }
      ]
    },
    {
      "cell_type": "code",
      "metadata": {
        "id": "mI27-ETIROA0",
        "colab_type": "code",
        "colab": {
          "base_uri": "https://localhost:8080/",
          "height": 223
        },
        "outputId": "16be93fb-d131-4971-e288-dc10bda2584f"
      },
      "source": [
        "# Create DF with selected columns\n",
        "\n",
        "col_list = ['business_id', 'review_date', 'review_id', 'stars', 'review_text', 'user_id', 'cool', 'useful', 'funny']\n",
        "df = review_df2.select(col_list)\n",
        "df.show(5)"
      ],
      "execution_count": 11,
      "outputs": [
        {
          "output_type": "stream",
          "text": [
            "+--------------------+-----------+--------------------+-----+--------------------+--------------------+----+------+-----+\n",
            "|         business_id|review_date|           review_id|stars|         review_text|             user_id|cool|useful|funny|\n",
            "+--------------------+-----------+--------------------+-----+--------------------+--------------------+----+------+-----+\n",
            "|Z3ZSar8IVAR2qIupq...| 2016-01-24|06FL63x1PSHK1IE3i...|    1|An hour and a hal...|1luyQBuF2iH1Tbqs3...|   0|     0|    0|\n",
            "|frVru1HZYyGZ9sfbO...| 2015-01-27|1lGcbt9vMSWY5NLbW...|    2|J'ai été séduite ...|AK4k713ocyWht0W47...|   0|     2|    0|\n",
            "|6tY0tn39Mb8FCLYBA...| 2014-01-22|1xXPggQNNBjkwxxwH...|    1|I'm always game t...|gaPf1qNX7PAf14wIP...|   0|     2|    0|\n",
            "|Rj-7ymdw8aNZBRqGR...| 2010-01-17|37Ci4Q8bRm3PyYHZH...|    3|Hmmm, it was okay...|uj4iopBWA0RjpqoJ5...|   1|     1|    0|\n",
            "|TTDMJetAQKfxVzKZy...| 2017-01-25|37FEOT7W5jpApoad7...|    1|My wife and I had...|x20piGQtvm8hOKe8E...|   0|     0|    0|\n",
            "+--------------------+-----------+--------------------+-----+--------------------+--------------------+----+------+-----+\n",
            "only showing top 5 rows\n",
            "\n"
          ],
          "name": "stdout"
        }
      ]
    },
    {
      "cell_type": "code",
      "metadata": {
        "id": "sxBkpnfURN6J",
        "colab_type": "code",
        "colab": {
          "base_uri": "https://localhost:8080/",
          "height": 206
        },
        "outputId": "81b2502f-bea3-44ce-970b-5e0e19cc1324"
      },
      "source": [
        "import pandas as pd\n",
        "\n",
        "# Convert df to a pandas df\n",
        "pandas_df = df.select('*').toPandas()\n",
        "pandas_df.head()"
      ],
      "execution_count": 12,
      "outputs": [
        {
          "output_type": "execute_result",
          "data": {
            "text/html": [
              "<div>\n",
              "<style scoped>\n",
              "    .dataframe tbody tr th:only-of-type {\n",
              "        vertical-align: middle;\n",
              "    }\n",
              "\n",
              "    .dataframe tbody tr th {\n",
              "        vertical-align: top;\n",
              "    }\n",
              "\n",
              "    .dataframe thead th {\n",
              "        text-align: right;\n",
              "    }\n",
              "</style>\n",
              "<table border=\"1\" class=\"dataframe\">\n",
              "  <thead>\n",
              "    <tr style=\"text-align: right;\">\n",
              "      <th></th>\n",
              "      <th>business_id</th>\n",
              "      <th>review_date</th>\n",
              "      <th>review_id</th>\n",
              "      <th>stars</th>\n",
              "      <th>review_text</th>\n",
              "      <th>user_id</th>\n",
              "      <th>cool</th>\n",
              "      <th>useful</th>\n",
              "      <th>funny</th>\n",
              "    </tr>\n",
              "  </thead>\n",
              "  <tbody>\n",
              "    <tr>\n",
              "      <th>0</th>\n",
              "      <td>Z3ZSar8IVAR2qIupqxMynA</td>\n",
              "      <td>2016-01-24</td>\n",
              "      <td>06FL63x1PSHK1IE3iQ3yqg</td>\n",
              "      <td>1</td>\n",
              "      <td>An hour and a half waiting for a pizza!!!!!! T...</td>\n",
              "      <td>1luyQBuF2iH1Tbqs331uGA</td>\n",
              "      <td>0</td>\n",
              "      <td>0</td>\n",
              "      <td>0</td>\n",
              "    </tr>\n",
              "    <tr>\n",
              "      <th>1</th>\n",
              "      <td>frVru1HZYyGZ9sfbOchaXg</td>\n",
              "      <td>2015-01-27</td>\n",
              "      <td>1lGcbt9vMSWY5NLbW5jx3g</td>\n",
              "      <td>2</td>\n",
              "      <td>J'ai été séduite par l'originalité du lieu qui...</td>\n",
              "      <td>AK4k713ocyWht0W47DvV_g</td>\n",
              "      <td>0</td>\n",
              "      <td>2</td>\n",
              "      <td>0</td>\n",
              "    </tr>\n",
              "    <tr>\n",
              "      <th>2</th>\n",
              "      <td>6tY0tn39Mb8FCLYBAXXOUw</td>\n",
              "      <td>2014-01-22</td>\n",
              "      <td>1xXPggQNNBjkwxxwHnSHfQ</td>\n",
              "      <td>1</td>\n",
              "      <td>I'm always game to trying all Chinese take-out...</td>\n",
              "      <td>gaPf1qNX7PAf14wIPBUmVg</td>\n",
              "      <td>0</td>\n",
              "      <td>2</td>\n",
              "      <td>0</td>\n",
              "    </tr>\n",
              "    <tr>\n",
              "      <th>3</th>\n",
              "      <td>Rj-7ymdw8aNZBRqGRAjR3Q</td>\n",
              "      <td>2010-01-17</td>\n",
              "      <td>37Ci4Q8bRm3PyYHZHwbFFQ</td>\n",
              "      <td>3</td>\n",
              "      <td>Hmmm, it was okay I guess. Nothing wrong, but ...</td>\n",
              "      <td>uj4iopBWA0RjpqoJ5xz_vQ</td>\n",
              "      <td>1</td>\n",
              "      <td>1</td>\n",
              "      <td>0</td>\n",
              "    </tr>\n",
              "    <tr>\n",
              "      <th>4</th>\n",
              "      <td>TTDMJetAQKfxVzKZy4Z_2Q</td>\n",
              "      <td>2017-01-25</td>\n",
              "      <td>37FEOT7W5jpApoad7d-23Q</td>\n",
              "      <td>1</td>\n",
              "      <td>My wife and I had chosen to fly with your airl...</td>\n",
              "      <td>x20piGQtvm8hOKe8EkR0VQ</td>\n",
              "      <td>0</td>\n",
              "      <td>0</td>\n",
              "      <td>0</td>\n",
              "    </tr>\n",
              "  </tbody>\n",
              "</table>\n",
              "</div>"
            ],
            "text/plain": [
              "              business_id review_date  ... useful  funny\n",
              "0  Z3ZSar8IVAR2qIupqxMynA  2016-01-24  ...      0      0\n",
              "1  frVru1HZYyGZ9sfbOchaXg  2015-01-27  ...      2      0\n",
              "2  6tY0tn39Mb8FCLYBAXXOUw  2014-01-22  ...      2      0\n",
              "3  Rj-7ymdw8aNZBRqGRAjR3Q  2010-01-17  ...      1      0\n",
              "4  TTDMJetAQKfxVzKZy4Z_2Q  2017-01-25  ...      0      0\n",
              "\n",
              "[5 rows x 9 columns]"
            ]
          },
          "metadata": {
            "tags": []
          },
          "execution_count": 12
        }
      ]
    },
    {
      "cell_type": "markdown",
      "metadata": {
        "id": "S6k3WVfJM6cE",
        "colab_type": "text"
      },
      "source": [
        "## **Transformation**"
      ]
    },
    {
      "cell_type": "code",
      "metadata": {
        "id": "GWkbgnM72jeh",
        "colab_type": "code",
        "colab": {
          "base_uri": "https://localhost:8080/",
          "height": 206
        },
        "outputId": "49cf9ef1-1ce9-47e3-82ad-8b0a8f997512"
      },
      "source": [
        "pandas_df = pandas_df.loc[(pandas_df['stars'] != 2) & (pandas_df['stars'] != 4)]\n",
        "pandas_df.head()"
      ],
      "execution_count": 13,
      "outputs": [
        {
          "output_type": "execute_result",
          "data": {
            "text/html": [
              "<div>\n",
              "<style scoped>\n",
              "    .dataframe tbody tr th:only-of-type {\n",
              "        vertical-align: middle;\n",
              "    }\n",
              "\n",
              "    .dataframe tbody tr th {\n",
              "        vertical-align: top;\n",
              "    }\n",
              "\n",
              "    .dataframe thead th {\n",
              "        text-align: right;\n",
              "    }\n",
              "</style>\n",
              "<table border=\"1\" class=\"dataframe\">\n",
              "  <thead>\n",
              "    <tr style=\"text-align: right;\">\n",
              "      <th></th>\n",
              "      <th>business_id</th>\n",
              "      <th>review_date</th>\n",
              "      <th>review_id</th>\n",
              "      <th>stars</th>\n",
              "      <th>review_text</th>\n",
              "      <th>user_id</th>\n",
              "      <th>cool</th>\n",
              "      <th>useful</th>\n",
              "      <th>funny</th>\n",
              "    </tr>\n",
              "  </thead>\n",
              "  <tbody>\n",
              "    <tr>\n",
              "      <th>0</th>\n",
              "      <td>Z3ZSar8IVAR2qIupqxMynA</td>\n",
              "      <td>2016-01-24</td>\n",
              "      <td>06FL63x1PSHK1IE3iQ3yqg</td>\n",
              "      <td>1</td>\n",
              "      <td>An hour and a half waiting for a pizza!!!!!! T...</td>\n",
              "      <td>1luyQBuF2iH1Tbqs331uGA</td>\n",
              "      <td>0</td>\n",
              "      <td>0</td>\n",
              "      <td>0</td>\n",
              "    </tr>\n",
              "    <tr>\n",
              "      <th>2</th>\n",
              "      <td>6tY0tn39Mb8FCLYBAXXOUw</td>\n",
              "      <td>2014-01-22</td>\n",
              "      <td>1xXPggQNNBjkwxxwHnSHfQ</td>\n",
              "      <td>1</td>\n",
              "      <td>I'm always game to trying all Chinese take-out...</td>\n",
              "      <td>gaPf1qNX7PAf14wIPBUmVg</td>\n",
              "      <td>0</td>\n",
              "      <td>2</td>\n",
              "      <td>0</td>\n",
              "    </tr>\n",
              "    <tr>\n",
              "      <th>3</th>\n",
              "      <td>Rj-7ymdw8aNZBRqGRAjR3Q</td>\n",
              "      <td>2010-01-17</td>\n",
              "      <td>37Ci4Q8bRm3PyYHZHwbFFQ</td>\n",
              "      <td>3</td>\n",
              "      <td>Hmmm, it was okay I guess. Nothing wrong, but ...</td>\n",
              "      <td>uj4iopBWA0RjpqoJ5xz_vQ</td>\n",
              "      <td>1</td>\n",
              "      <td>1</td>\n",
              "      <td>0</td>\n",
              "    </tr>\n",
              "    <tr>\n",
              "      <th>4</th>\n",
              "      <td>TTDMJetAQKfxVzKZy4Z_2Q</td>\n",
              "      <td>2017-01-25</td>\n",
              "      <td>37FEOT7W5jpApoad7d-23Q</td>\n",
              "      <td>1</td>\n",
              "      <td>My wife and I had chosen to fly with your airl...</td>\n",
              "      <td>x20piGQtvm8hOKe8EkR0VQ</td>\n",
              "      <td>0</td>\n",
              "      <td>0</td>\n",
              "      <td>0</td>\n",
              "    </tr>\n",
              "    <tr>\n",
              "      <th>5</th>\n",
              "      <td>99TrGqU8ngQphSkvoe6zgg</td>\n",
              "      <td>2017-01-03</td>\n",
              "      <td>6lQS-_8VbWtUkZ3ZSr_qjA</td>\n",
              "      <td>5</td>\n",
              "      <td>Love this place!  They are always friendly and...</td>\n",
              "      <td>vWlZqhUfeN8J0_k2NEnDIw</td>\n",
              "      <td>0</td>\n",
              "      <td>0</td>\n",
              "      <td>0</td>\n",
              "    </tr>\n",
              "  </tbody>\n",
              "</table>\n",
              "</div>"
            ],
            "text/plain": [
              "              business_id review_date  ... useful  funny\n",
              "0  Z3ZSar8IVAR2qIupqxMynA  2016-01-24  ...      0      0\n",
              "2  6tY0tn39Mb8FCLYBAXXOUw  2014-01-22  ...      2      0\n",
              "3  Rj-7ymdw8aNZBRqGRAjR3Q  2010-01-17  ...      1      0\n",
              "4  TTDMJetAQKfxVzKZy4Z_2Q  2017-01-25  ...      0      0\n",
              "5  99TrGqU8ngQphSkvoe6zgg  2017-01-03  ...      0      0\n",
              "\n",
              "[5 rows x 9 columns]"
            ]
          },
          "metadata": {
            "tags": []
          },
          "execution_count": 13
        }
      ]
    },
    {
      "cell_type": "code",
      "metadata": {
        "id": "l-oZ7ztJqPAh",
        "colab_type": "code",
        "colab": {}
      },
      "source": [
        "# Import dependencies for nltk\n",
        "# https://towardsdatascience.com/natural-language-processing-nlp-for-machine-learning-d44498845d5b\n",
        "import nltk"
      ],
      "execution_count": 14,
      "outputs": []
    },
    {
      "cell_type": "code",
      "metadata": {
        "id": "YWjqAnpGsxtM",
        "colab_type": "code",
        "colab": {
          "base_uri": "https://localhost:8080/",
          "height": 36
        },
        "outputId": "15baf495-2372-487a-dbea-68d817b722db"
      },
      "source": [
        "# Import string and punctuations\n",
        "import string\n",
        "string.punctuation"
      ],
      "execution_count": 15,
      "outputs": [
        {
          "output_type": "execute_result",
          "data": {
            "application/vnd.google.colaboratory.intrinsic+json": {
              "type": "string"
            },
            "text/plain": [
              "'!\"#$%&\\'()*+,-./:;<=>?@[\\\\]^_`{|}~'"
            ]
          },
          "metadata": {
            "tags": []
          },
          "execution_count": 15
        }
      ]
    },
    {
      "cell_type": "code",
      "metadata": {
        "id": "DUy5O7uUsx3o",
        "colab_type": "code",
        "colab": {
          "base_uri": "https://localhost:8080/",
          "height": 276
        },
        "outputId": "a23cefb7-e60e-4cdd-baac-a9a90a975257"
      },
      "source": [
        "# Function to remove Punctuation\n",
        "def remove_punct(text):\n",
        "\n",
        "  # Discard all punctuations\n",
        "  text_nopunct = ''.join([char for char in text if char not in string.punctuation])\n",
        "  return text_nopunct\n",
        "\n",
        "pandas_df['body_text_clean'] = pandas_df['review_text'].apply(lambda x: remove_punct(x))\n",
        "\n",
        "pandas_df.head()"
      ],
      "execution_count": 17,
      "outputs": [
        {
          "output_type": "execute_result",
          "data": {
            "text/html": [
              "<div>\n",
              "<style scoped>\n",
              "    .dataframe tbody tr th:only-of-type {\n",
              "        vertical-align: middle;\n",
              "    }\n",
              "\n",
              "    .dataframe tbody tr th {\n",
              "        vertical-align: top;\n",
              "    }\n",
              "\n",
              "    .dataframe thead th {\n",
              "        text-align: right;\n",
              "    }\n",
              "</style>\n",
              "<table border=\"1\" class=\"dataframe\">\n",
              "  <thead>\n",
              "    <tr style=\"text-align: right;\">\n",
              "      <th></th>\n",
              "      <th>business_id</th>\n",
              "      <th>review_date</th>\n",
              "      <th>review_id</th>\n",
              "      <th>stars</th>\n",
              "      <th>review_text</th>\n",
              "      <th>user_id</th>\n",
              "      <th>cool</th>\n",
              "      <th>useful</th>\n",
              "      <th>funny</th>\n",
              "      <th>body_text_clean</th>\n",
              "    </tr>\n",
              "  </thead>\n",
              "  <tbody>\n",
              "    <tr>\n",
              "      <th>0</th>\n",
              "      <td>Z3ZSar8IVAR2qIupqxMynA</td>\n",
              "      <td>2016-01-24</td>\n",
              "      <td>06FL63x1PSHK1IE3iQ3yqg</td>\n",
              "      <td>1</td>\n",
              "      <td>An hour and a half waiting for a pizza!!!!!! T...</td>\n",
              "      <td>1luyQBuF2iH1Tbqs331uGA</td>\n",
              "      <td>0</td>\n",
              "      <td>0</td>\n",
              "      <td>0</td>\n",
              "      <td>An hour and a half waiting for a pizza This is...</td>\n",
              "    </tr>\n",
              "    <tr>\n",
              "      <th>2</th>\n",
              "      <td>6tY0tn39Mb8FCLYBAXXOUw</td>\n",
              "      <td>2014-01-22</td>\n",
              "      <td>1xXPggQNNBjkwxxwHnSHfQ</td>\n",
              "      <td>1</td>\n",
              "      <td>I'm always game to trying all Chinese take-out...</td>\n",
              "      <td>gaPf1qNX7PAf14wIPBUmVg</td>\n",
              "      <td>0</td>\n",
              "      <td>2</td>\n",
              "      <td>0</td>\n",
              "      <td>Im always game to trying all Chinese takeout p...</td>\n",
              "    </tr>\n",
              "    <tr>\n",
              "      <th>3</th>\n",
              "      <td>Rj-7ymdw8aNZBRqGRAjR3Q</td>\n",
              "      <td>2010-01-17</td>\n",
              "      <td>37Ci4Q8bRm3PyYHZHwbFFQ</td>\n",
              "      <td>3</td>\n",
              "      <td>Hmmm, it was okay I guess. Nothing wrong, but ...</td>\n",
              "      <td>uj4iopBWA0RjpqoJ5xz_vQ</td>\n",
              "      <td>1</td>\n",
              "      <td>1</td>\n",
              "      <td>0</td>\n",
              "      <td>Hmmm it was okay I guess Nothing wrong but not...</td>\n",
              "    </tr>\n",
              "    <tr>\n",
              "      <th>4</th>\n",
              "      <td>TTDMJetAQKfxVzKZy4Z_2Q</td>\n",
              "      <td>2017-01-25</td>\n",
              "      <td>37FEOT7W5jpApoad7d-23Q</td>\n",
              "      <td>1</td>\n",
              "      <td>My wife and I had chosen to fly with your airl...</td>\n",
              "      <td>x20piGQtvm8hOKe8EkR0VQ</td>\n",
              "      <td>0</td>\n",
              "      <td>0</td>\n",
              "      <td>0</td>\n",
              "      <td>My wife and I had chosen to fly with your airl...</td>\n",
              "    </tr>\n",
              "    <tr>\n",
              "      <th>5</th>\n",
              "      <td>99TrGqU8ngQphSkvoe6zgg</td>\n",
              "      <td>2017-01-03</td>\n",
              "      <td>6lQS-_8VbWtUkZ3ZSr_qjA</td>\n",
              "      <td>5</td>\n",
              "      <td>Love this place!  They are always friendly and...</td>\n",
              "      <td>vWlZqhUfeN8J0_k2NEnDIw</td>\n",
              "      <td>0</td>\n",
              "      <td>0</td>\n",
              "      <td>0</td>\n",
              "      <td>Love this place  They are always friendly and ...</td>\n",
              "    </tr>\n",
              "  </tbody>\n",
              "</table>\n",
              "</div>"
            ],
            "text/plain": [
              "              business_id  ...                                    body_text_clean\n",
              "0  Z3ZSar8IVAR2qIupqxMynA  ...  An hour and a half waiting for a pizza This is...\n",
              "2  6tY0tn39Mb8FCLYBAXXOUw  ...  Im always game to trying all Chinese takeout p...\n",
              "3  Rj-7ymdw8aNZBRqGRAjR3Q  ...  Hmmm it was okay I guess Nothing wrong but not...\n",
              "4  TTDMJetAQKfxVzKZy4Z_2Q  ...  My wife and I had chosen to fly with your airl...\n",
              "5  99TrGqU8ngQphSkvoe6zgg  ...  Love this place  They are always friendly and ...\n",
              "\n",
              "[5 rows x 10 columns]"
            ]
          },
          "metadata": {
            "tags": []
          },
          "execution_count": 17
        }
      ]
    },
    {
      "cell_type": "code",
      "metadata": {
        "id": "9x1pQ29xsx-L",
        "colab_type": "code",
        "colab": {
          "base_uri": "https://localhost:8080/",
          "height": 310
        },
        "outputId": "8ac9782c-79fd-46df-da1c-501510e175ba"
      },
      "source": [
        "# Import re\n",
        "import re\n",
        "\n",
        "# Function to Tokenize words\n",
        "def tokenize(text):\n",
        "\n",
        "  # W+ means that either a word character (A-Za-z0-9) or a dash (-) can go there\n",
        "  tokens = re.split('\\W+', text)\n",
        "  return tokens\n",
        "\n",
        "# Convert to lowercase as Python is case-sensitive\n",
        "pandas_df['body_text_tokenized'] = pandas_df['body_text_clean'].apply(lambda x: tokenize(x.lower()))\n",
        "\n",
        "pandas_df.head()"
      ],
      "execution_count": 18,
      "outputs": [
        {
          "output_type": "execute_result",
          "data": {
            "text/html": [
              "<div>\n",
              "<style scoped>\n",
              "    .dataframe tbody tr th:only-of-type {\n",
              "        vertical-align: middle;\n",
              "    }\n",
              "\n",
              "    .dataframe tbody tr th {\n",
              "        vertical-align: top;\n",
              "    }\n",
              "\n",
              "    .dataframe thead th {\n",
              "        text-align: right;\n",
              "    }\n",
              "</style>\n",
              "<table border=\"1\" class=\"dataframe\">\n",
              "  <thead>\n",
              "    <tr style=\"text-align: right;\">\n",
              "      <th></th>\n",
              "      <th>business_id</th>\n",
              "      <th>review_date</th>\n",
              "      <th>review_id</th>\n",
              "      <th>stars</th>\n",
              "      <th>review_text</th>\n",
              "      <th>user_id</th>\n",
              "      <th>cool</th>\n",
              "      <th>useful</th>\n",
              "      <th>funny</th>\n",
              "      <th>body_text_clean</th>\n",
              "      <th>body_text_tokenized</th>\n",
              "    </tr>\n",
              "  </thead>\n",
              "  <tbody>\n",
              "    <tr>\n",
              "      <th>0</th>\n",
              "      <td>Z3ZSar8IVAR2qIupqxMynA</td>\n",
              "      <td>2016-01-24</td>\n",
              "      <td>06FL63x1PSHK1IE3iQ3yqg</td>\n",
              "      <td>1</td>\n",
              "      <td>An hour and a half waiting for a pizza!!!!!! T...</td>\n",
              "      <td>1luyQBuF2iH1Tbqs331uGA</td>\n",
              "      <td>0</td>\n",
              "      <td>0</td>\n",
              "      <td>0</td>\n",
              "      <td>An hour and a half waiting for a pizza This is...</td>\n",
              "      <td>[an, hour, and, a, half, waiting, for, a, pizz...</td>\n",
              "    </tr>\n",
              "    <tr>\n",
              "      <th>2</th>\n",
              "      <td>6tY0tn39Mb8FCLYBAXXOUw</td>\n",
              "      <td>2014-01-22</td>\n",
              "      <td>1xXPggQNNBjkwxxwHnSHfQ</td>\n",
              "      <td>1</td>\n",
              "      <td>I'm always game to trying all Chinese take-out...</td>\n",
              "      <td>gaPf1qNX7PAf14wIPBUmVg</td>\n",
              "      <td>0</td>\n",
              "      <td>2</td>\n",
              "      <td>0</td>\n",
              "      <td>Im always game to trying all Chinese takeout p...</td>\n",
              "      <td>[im, always, game, to, trying, all, chinese, t...</td>\n",
              "    </tr>\n",
              "    <tr>\n",
              "      <th>3</th>\n",
              "      <td>Rj-7ymdw8aNZBRqGRAjR3Q</td>\n",
              "      <td>2010-01-17</td>\n",
              "      <td>37Ci4Q8bRm3PyYHZHwbFFQ</td>\n",
              "      <td>3</td>\n",
              "      <td>Hmmm, it was okay I guess. Nothing wrong, but ...</td>\n",
              "      <td>uj4iopBWA0RjpqoJ5xz_vQ</td>\n",
              "      <td>1</td>\n",
              "      <td>1</td>\n",
              "      <td>0</td>\n",
              "      <td>Hmmm it was okay I guess Nothing wrong but not...</td>\n",
              "      <td>[hmmm, it, was, okay, i, guess, nothing, wrong...</td>\n",
              "    </tr>\n",
              "    <tr>\n",
              "      <th>4</th>\n",
              "      <td>TTDMJetAQKfxVzKZy4Z_2Q</td>\n",
              "      <td>2017-01-25</td>\n",
              "      <td>37FEOT7W5jpApoad7d-23Q</td>\n",
              "      <td>1</td>\n",
              "      <td>My wife and I had chosen to fly with your airl...</td>\n",
              "      <td>x20piGQtvm8hOKe8EkR0VQ</td>\n",
              "      <td>0</td>\n",
              "      <td>0</td>\n",
              "      <td>0</td>\n",
              "      <td>My wife and I had chosen to fly with your airl...</td>\n",
              "      <td>[my, wife, and, i, had, chosen, to, fly, with,...</td>\n",
              "    </tr>\n",
              "    <tr>\n",
              "      <th>5</th>\n",
              "      <td>99TrGqU8ngQphSkvoe6zgg</td>\n",
              "      <td>2017-01-03</td>\n",
              "      <td>6lQS-_8VbWtUkZ3ZSr_qjA</td>\n",
              "      <td>5</td>\n",
              "      <td>Love this place!  They are always friendly and...</td>\n",
              "      <td>vWlZqhUfeN8J0_k2NEnDIw</td>\n",
              "      <td>0</td>\n",
              "      <td>0</td>\n",
              "      <td>0</td>\n",
              "      <td>Love this place  They are always friendly and ...</td>\n",
              "      <td>[love, this, place, they, are, always, friendl...</td>\n",
              "    </tr>\n",
              "  </tbody>\n",
              "</table>\n",
              "</div>"
            ],
            "text/plain": [
              "              business_id  ...                                body_text_tokenized\n",
              "0  Z3ZSar8IVAR2qIupqxMynA  ...  [an, hour, and, a, half, waiting, for, a, pizz...\n",
              "2  6tY0tn39Mb8FCLYBAXXOUw  ...  [im, always, game, to, trying, all, chinese, t...\n",
              "3  Rj-7ymdw8aNZBRqGRAjR3Q  ...  [hmmm, it, was, okay, i, guess, nothing, wrong...\n",
              "4  TTDMJetAQKfxVzKZy4Z_2Q  ...  [my, wife, and, i, had, chosen, to, fly, with,...\n",
              "5  99TrGqU8ngQphSkvoe6zgg  ...  [love, this, place, they, are, always, friendl...\n",
              "\n",
              "[5 rows x 11 columns]"
            ]
          },
          "metadata": {
            "tags": []
          },
          "execution_count": 18
        }
      ]
    },
    {
      "cell_type": "code",
      "metadata": {
        "id": "ER0d1Pb3ulKl",
        "colab_type": "code",
        "colab": {
          "base_uri": "https://localhost:8080/",
          "height": 54
        },
        "outputId": "ab5f3197-ba4e-4386-dce4-b3ae670b63f6"
      },
      "source": [
        "# Remove all English stopwords\n",
        "import nltk\n",
        "nltk.download('stopwords')\n",
        "stopword = nltk.corpus.stopwords.words('english') "
      ],
      "execution_count": 19,
      "outputs": [
        {
          "output_type": "stream",
          "text": [
            "[nltk_data] Downloading package stopwords to /root/nltk_data...\n",
            "[nltk_data]   Unzipping corpora/stopwords.zip.\n"
          ],
          "name": "stdout"
        }
      ]
    },
    {
      "cell_type": "code",
      "metadata": {
        "id": "dA4exlyhulOs",
        "colab_type": "code",
        "colab": {
          "base_uri": "https://localhost:8080/",
          "height": 432
        },
        "outputId": "1e8c30c6-abfd-4d37-a0ec-a67142c03183"
      },
      "source": [
        "# Function to remove stopwords\n",
        "def remove_stopwords(tokenized_list):\n",
        "\n",
        "  # Remove all stopwords\n",
        "  text = [word for word in tokenized_list if word not in stopword]\n",
        "  return text\n",
        "\n",
        "pandas_df['body_text_nostop'] = pandas_df['body_text_tokenized'].apply(lambda x: remove_stopwords(x))\n",
        "\n",
        "pandas_df.head()"
      ],
      "execution_count": 20,
      "outputs": [
        {
          "output_type": "execute_result",
          "data": {
            "text/html": [
              "<div>\n",
              "<style scoped>\n",
              "    .dataframe tbody tr th:only-of-type {\n",
              "        vertical-align: middle;\n",
              "    }\n",
              "\n",
              "    .dataframe tbody tr th {\n",
              "        vertical-align: top;\n",
              "    }\n",
              "\n",
              "    .dataframe thead th {\n",
              "        text-align: right;\n",
              "    }\n",
              "</style>\n",
              "<table border=\"1\" class=\"dataframe\">\n",
              "  <thead>\n",
              "    <tr style=\"text-align: right;\">\n",
              "      <th></th>\n",
              "      <th>business_id</th>\n",
              "      <th>review_date</th>\n",
              "      <th>review_id</th>\n",
              "      <th>stars</th>\n",
              "      <th>review_text</th>\n",
              "      <th>user_id</th>\n",
              "      <th>cool</th>\n",
              "      <th>useful</th>\n",
              "      <th>funny</th>\n",
              "      <th>body_text_clean</th>\n",
              "      <th>body_text_tokenized</th>\n",
              "      <th>body_text_nostop</th>\n",
              "    </tr>\n",
              "  </thead>\n",
              "  <tbody>\n",
              "    <tr>\n",
              "      <th>0</th>\n",
              "      <td>Z3ZSar8IVAR2qIupqxMynA</td>\n",
              "      <td>2016-01-24</td>\n",
              "      <td>06FL63x1PSHK1IE3iQ3yqg</td>\n",
              "      <td>1</td>\n",
              "      <td>An hour and a half waiting for a pizza!!!!!! T...</td>\n",
              "      <td>1luyQBuF2iH1Tbqs331uGA</td>\n",
              "      <td>0</td>\n",
              "      <td>0</td>\n",
              "      <td>0</td>\n",
              "      <td>An hour and a half waiting for a pizza This is...</td>\n",
              "      <td>[an, hour, and, a, half, waiting, for, a, pizz...</td>\n",
              "      <td>[hour, half, waiting, pizza, ridiculous, idea,...</td>\n",
              "    </tr>\n",
              "    <tr>\n",
              "      <th>2</th>\n",
              "      <td>6tY0tn39Mb8FCLYBAXXOUw</td>\n",
              "      <td>2014-01-22</td>\n",
              "      <td>1xXPggQNNBjkwxxwHnSHfQ</td>\n",
              "      <td>1</td>\n",
              "      <td>I'm always game to trying all Chinese take-out...</td>\n",
              "      <td>gaPf1qNX7PAf14wIPBUmVg</td>\n",
              "      <td>0</td>\n",
              "      <td>2</td>\n",
              "      <td>0</td>\n",
              "      <td>Im always game to trying all Chinese takeout p...</td>\n",
              "      <td>[im, always, game, to, trying, all, chinese, t...</td>\n",
              "      <td>[im, always, game, trying, chinese, takeout, p...</td>\n",
              "    </tr>\n",
              "    <tr>\n",
              "      <th>3</th>\n",
              "      <td>Rj-7ymdw8aNZBRqGRAjR3Q</td>\n",
              "      <td>2010-01-17</td>\n",
              "      <td>37Ci4Q8bRm3PyYHZHwbFFQ</td>\n",
              "      <td>3</td>\n",
              "      <td>Hmmm, it was okay I guess. Nothing wrong, but ...</td>\n",
              "      <td>uj4iopBWA0RjpqoJ5xz_vQ</td>\n",
              "      <td>1</td>\n",
              "      <td>1</td>\n",
              "      <td>0</td>\n",
              "      <td>Hmmm it was okay I guess Nothing wrong but not...</td>\n",
              "      <td>[hmmm, it, was, okay, i, guess, nothing, wrong...</td>\n",
              "      <td>[hmmm, okay, guess, nothing, wrong, nothing, o...</td>\n",
              "    </tr>\n",
              "    <tr>\n",
              "      <th>4</th>\n",
              "      <td>TTDMJetAQKfxVzKZy4Z_2Q</td>\n",
              "      <td>2017-01-25</td>\n",
              "      <td>37FEOT7W5jpApoad7d-23Q</td>\n",
              "      <td>1</td>\n",
              "      <td>My wife and I had chosen to fly with your airl...</td>\n",
              "      <td>x20piGQtvm8hOKe8EkR0VQ</td>\n",
              "      <td>0</td>\n",
              "      <td>0</td>\n",
              "      <td>0</td>\n",
              "      <td>My wife and I had chosen to fly with your airl...</td>\n",
              "      <td>[my, wife, and, i, had, chosen, to, fly, with,...</td>\n",
              "      <td>[wife, chosen, fly, airline, affordable, rates...</td>\n",
              "    </tr>\n",
              "    <tr>\n",
              "      <th>5</th>\n",
              "      <td>99TrGqU8ngQphSkvoe6zgg</td>\n",
              "      <td>2017-01-03</td>\n",
              "      <td>6lQS-_8VbWtUkZ3ZSr_qjA</td>\n",
              "      <td>5</td>\n",
              "      <td>Love this place!  They are always friendly and...</td>\n",
              "      <td>vWlZqhUfeN8J0_k2NEnDIw</td>\n",
              "      <td>0</td>\n",
              "      <td>0</td>\n",
              "      <td>0</td>\n",
              "      <td>Love this place  They are always friendly and ...</td>\n",
              "      <td>[love, this, place, they, are, always, friendl...</td>\n",
              "      <td>[love, place, always, friendly, cera, great, j...</td>\n",
              "    </tr>\n",
              "  </tbody>\n",
              "</table>\n",
              "</div>"
            ],
            "text/plain": [
              "              business_id  ...                                   body_text_nostop\n",
              "0  Z3ZSar8IVAR2qIupqxMynA  ...  [hour, half, waiting, pizza, ridiculous, idea,...\n",
              "2  6tY0tn39Mb8FCLYBAXXOUw  ...  [im, always, game, trying, chinese, takeout, p...\n",
              "3  Rj-7ymdw8aNZBRqGRAjR3Q  ...  [hmmm, okay, guess, nothing, wrong, nothing, o...\n",
              "4  TTDMJetAQKfxVzKZy4Z_2Q  ...  [wife, chosen, fly, airline, affordable, rates...\n",
              "5  99TrGqU8ngQphSkvoe6zgg  ...  [love, place, always, friendly, cera, great, j...\n",
              "\n",
              "[5 rows x 12 columns]"
            ]
          },
          "metadata": {
            "tags": []
          },
          "execution_count": 20
        }
      ]
    },
    {
      "cell_type": "code",
      "metadata": {
        "id": "4XOi9l2zulSP",
        "colab_type": "code",
        "colab": {
          "base_uri": "https://localhost:8080/",
          "height": 469
        },
        "outputId": "920a9876-3cc8-4348-85a1-399f6305aea5"
      },
      "source": [
        "# Import PorterStemmer\n",
        "from nltk.stem import PorterStemmer\n",
        "\n",
        "# Create an instance for stemmer\n",
        "ps = nltk.PorterStemmer()\n",
        "\n",
        "# Function for stemming\n",
        "def stemming(tokenized_text):\n",
        "\n",
        "  text = [ps.stem(word) for word in tokenized_text]\n",
        "  return text\n",
        "\n",
        "pandas_df['body_text_stemmed'] = pandas_df['body_text_nostop'].apply(lambda x: stemming(x))\n",
        "\n",
        "pandas_df.head()"
      ],
      "execution_count": 21,
      "outputs": [
        {
          "output_type": "execute_result",
          "data": {
            "text/html": [
              "<div>\n",
              "<style scoped>\n",
              "    .dataframe tbody tr th:only-of-type {\n",
              "        vertical-align: middle;\n",
              "    }\n",
              "\n",
              "    .dataframe tbody tr th {\n",
              "        vertical-align: top;\n",
              "    }\n",
              "\n",
              "    .dataframe thead th {\n",
              "        text-align: right;\n",
              "    }\n",
              "</style>\n",
              "<table border=\"1\" class=\"dataframe\">\n",
              "  <thead>\n",
              "    <tr style=\"text-align: right;\">\n",
              "      <th></th>\n",
              "      <th>business_id</th>\n",
              "      <th>review_date</th>\n",
              "      <th>review_id</th>\n",
              "      <th>stars</th>\n",
              "      <th>review_text</th>\n",
              "      <th>user_id</th>\n",
              "      <th>cool</th>\n",
              "      <th>useful</th>\n",
              "      <th>funny</th>\n",
              "      <th>body_text_clean</th>\n",
              "      <th>body_text_tokenized</th>\n",
              "      <th>body_text_nostop</th>\n",
              "      <th>body_text_stemmed</th>\n",
              "    </tr>\n",
              "  </thead>\n",
              "  <tbody>\n",
              "    <tr>\n",
              "      <th>0</th>\n",
              "      <td>Z3ZSar8IVAR2qIupqxMynA</td>\n",
              "      <td>2016-01-24</td>\n",
              "      <td>06FL63x1PSHK1IE3iQ3yqg</td>\n",
              "      <td>1</td>\n",
              "      <td>An hour and a half waiting for a pizza!!!!!! T...</td>\n",
              "      <td>1luyQBuF2iH1Tbqs331uGA</td>\n",
              "      <td>0</td>\n",
              "      <td>0</td>\n",
              "      <td>0</td>\n",
              "      <td>An hour and a half waiting for a pizza This is...</td>\n",
              "      <td>[an, hour, and, a, half, waiting, for, a, pizz...</td>\n",
              "      <td>[hour, half, waiting, pizza, ridiculous, idea,...</td>\n",
              "      <td>[hour, half, wait, pizza, ridicul, idea, order...</td>\n",
              "    </tr>\n",
              "    <tr>\n",
              "      <th>2</th>\n",
              "      <td>6tY0tn39Mb8FCLYBAXXOUw</td>\n",
              "      <td>2014-01-22</td>\n",
              "      <td>1xXPggQNNBjkwxxwHnSHfQ</td>\n",
              "      <td>1</td>\n",
              "      <td>I'm always game to trying all Chinese take-out...</td>\n",
              "      <td>gaPf1qNX7PAf14wIPBUmVg</td>\n",
              "      <td>0</td>\n",
              "      <td>2</td>\n",
              "      <td>0</td>\n",
              "      <td>Im always game to trying all Chinese takeout p...</td>\n",
              "      <td>[im, always, game, to, trying, all, chinese, t...</td>\n",
              "      <td>[im, always, game, trying, chinese, takeout, p...</td>\n",
              "      <td>[im, alway, game, tri, chines, takeout, place,...</td>\n",
              "    </tr>\n",
              "    <tr>\n",
              "      <th>3</th>\n",
              "      <td>Rj-7ymdw8aNZBRqGRAjR3Q</td>\n",
              "      <td>2010-01-17</td>\n",
              "      <td>37Ci4Q8bRm3PyYHZHwbFFQ</td>\n",
              "      <td>3</td>\n",
              "      <td>Hmmm, it was okay I guess. Nothing wrong, but ...</td>\n",
              "      <td>uj4iopBWA0RjpqoJ5xz_vQ</td>\n",
              "      <td>1</td>\n",
              "      <td>1</td>\n",
              "      <td>0</td>\n",
              "      <td>Hmmm it was okay I guess Nothing wrong but not...</td>\n",
              "      <td>[hmmm, it, was, okay, i, guess, nothing, wrong...</td>\n",
              "      <td>[hmmm, okay, guess, nothing, wrong, nothing, o...</td>\n",
              "      <td>[hmmm, okay, guess, noth, wrong, noth, outstan...</td>\n",
              "    </tr>\n",
              "    <tr>\n",
              "      <th>4</th>\n",
              "      <td>TTDMJetAQKfxVzKZy4Z_2Q</td>\n",
              "      <td>2017-01-25</td>\n",
              "      <td>37FEOT7W5jpApoad7d-23Q</td>\n",
              "      <td>1</td>\n",
              "      <td>My wife and I had chosen to fly with your airl...</td>\n",
              "      <td>x20piGQtvm8hOKe8EkR0VQ</td>\n",
              "      <td>0</td>\n",
              "      <td>0</td>\n",
              "      <td>0</td>\n",
              "      <td>My wife and I had chosen to fly with your airl...</td>\n",
              "      <td>[my, wife, and, i, had, chosen, to, fly, with,...</td>\n",
              "      <td>[wife, chosen, fly, airline, affordable, rates...</td>\n",
              "      <td>[wife, chosen, fli, airlin, afford, rate, non,...</td>\n",
              "    </tr>\n",
              "    <tr>\n",
              "      <th>5</th>\n",
              "      <td>99TrGqU8ngQphSkvoe6zgg</td>\n",
              "      <td>2017-01-03</td>\n",
              "      <td>6lQS-_8VbWtUkZ3ZSr_qjA</td>\n",
              "      <td>5</td>\n",
              "      <td>Love this place!  They are always friendly and...</td>\n",
              "      <td>vWlZqhUfeN8J0_k2NEnDIw</td>\n",
              "      <td>0</td>\n",
              "      <td>0</td>\n",
              "      <td>0</td>\n",
              "      <td>Love this place  They are always friendly and ...</td>\n",
              "      <td>[love, this, place, they, are, always, friendl...</td>\n",
              "      <td>[love, place, always, friendly, cera, great, j...</td>\n",
              "      <td>[love, place, alway, friendli, cera, great, jo...</td>\n",
              "    </tr>\n",
              "  </tbody>\n",
              "</table>\n",
              "</div>"
            ],
            "text/plain": [
              "              business_id  ...                                  body_text_stemmed\n",
              "0  Z3ZSar8IVAR2qIupqxMynA  ...  [hour, half, wait, pizza, ridicul, idea, order...\n",
              "2  6tY0tn39Mb8FCLYBAXXOUw  ...  [im, alway, game, tri, chines, takeout, place,...\n",
              "3  Rj-7ymdw8aNZBRqGRAjR3Q  ...  [hmmm, okay, guess, noth, wrong, noth, outstan...\n",
              "4  TTDMJetAQKfxVzKZy4Z_2Q  ...  [wife, chosen, fli, airlin, afford, rate, non,...\n",
              "5  99TrGqU8ngQphSkvoe6zgg  ...  [love, place, alway, friendli, cera, great, jo...\n",
              "\n",
              "[5 rows x 13 columns]"
            ]
          },
          "metadata": {
            "tags": []
          },
          "execution_count": 21
        }
      ]
    },
    {
      "cell_type": "code",
      "metadata": {
        "id": "1NhasPSiuldn",
        "colab_type": "code",
        "colab": {
          "base_uri": "https://localhost:8080/",
          "height": 507
        },
        "outputId": "a208251e-6160-4fed-9502-2f34c2d17051"
      },
      "source": [
        "# import WordNetLemmatizer \n",
        "nltk.download('wordnet')\n",
        "from nltk.stem import WordNetLemmatizer \n",
        "\n",
        "# Create an instance\n",
        "wn = nltk.WordNetLemmatizer()\n",
        "\n",
        "# Function for lemmatization\n",
        "def lemmatizing(tokenized_text):\n",
        "\n",
        "  text = [wn.lemmatize(word) for word in tokenized_text]\n",
        "  return text\n",
        "\n",
        "pandas_df['body_text_lemmatized'] = pandas_df['body_text_nostop'].apply(lambda x: lemmatizing(x))\n",
        "\n",
        "pandas_df.head()"
      ],
      "execution_count": 22,
      "outputs": [
        {
          "output_type": "stream",
          "text": [
            "[nltk_data] Downloading package wordnet to /root/nltk_data...\n",
            "[nltk_data]   Unzipping corpora/wordnet.zip.\n"
          ],
          "name": "stdout"
        },
        {
          "output_type": "execute_result",
          "data": {
            "text/html": [
              "<div>\n",
              "<style scoped>\n",
              "    .dataframe tbody tr th:only-of-type {\n",
              "        vertical-align: middle;\n",
              "    }\n",
              "\n",
              "    .dataframe tbody tr th {\n",
              "        vertical-align: top;\n",
              "    }\n",
              "\n",
              "    .dataframe thead th {\n",
              "        text-align: right;\n",
              "    }\n",
              "</style>\n",
              "<table border=\"1\" class=\"dataframe\">\n",
              "  <thead>\n",
              "    <tr style=\"text-align: right;\">\n",
              "      <th></th>\n",
              "      <th>business_id</th>\n",
              "      <th>review_date</th>\n",
              "      <th>review_id</th>\n",
              "      <th>stars</th>\n",
              "      <th>review_text</th>\n",
              "      <th>user_id</th>\n",
              "      <th>cool</th>\n",
              "      <th>useful</th>\n",
              "      <th>funny</th>\n",
              "      <th>body_text_clean</th>\n",
              "      <th>body_text_tokenized</th>\n",
              "      <th>body_text_nostop</th>\n",
              "      <th>body_text_stemmed</th>\n",
              "      <th>body_text_lemmatized</th>\n",
              "    </tr>\n",
              "  </thead>\n",
              "  <tbody>\n",
              "    <tr>\n",
              "      <th>0</th>\n",
              "      <td>Z3ZSar8IVAR2qIupqxMynA</td>\n",
              "      <td>2016-01-24</td>\n",
              "      <td>06FL63x1PSHK1IE3iQ3yqg</td>\n",
              "      <td>1</td>\n",
              "      <td>An hour and a half waiting for a pizza!!!!!! T...</td>\n",
              "      <td>1luyQBuF2iH1Tbqs331uGA</td>\n",
              "      <td>0</td>\n",
              "      <td>0</td>\n",
              "      <td>0</td>\n",
              "      <td>An hour and a half waiting for a pizza This is...</td>\n",
              "      <td>[an, hour, and, a, half, waiting, for, a, pizz...</td>\n",
              "      <td>[hour, half, waiting, pizza, ridiculous, idea,...</td>\n",
              "      <td>[hour, half, wait, pizza, ridicul, idea, order...</td>\n",
              "      <td>[hour, half, waiting, pizza, ridiculous, idea,...</td>\n",
              "    </tr>\n",
              "    <tr>\n",
              "      <th>2</th>\n",
              "      <td>6tY0tn39Mb8FCLYBAXXOUw</td>\n",
              "      <td>2014-01-22</td>\n",
              "      <td>1xXPggQNNBjkwxxwHnSHfQ</td>\n",
              "      <td>1</td>\n",
              "      <td>I'm always game to trying all Chinese take-out...</td>\n",
              "      <td>gaPf1qNX7PAf14wIPBUmVg</td>\n",
              "      <td>0</td>\n",
              "      <td>2</td>\n",
              "      <td>0</td>\n",
              "      <td>Im always game to trying all Chinese takeout p...</td>\n",
              "      <td>[im, always, game, to, trying, all, chinese, t...</td>\n",
              "      <td>[im, always, game, trying, chinese, takeout, p...</td>\n",
              "      <td>[im, alway, game, tri, chines, takeout, place,...</td>\n",
              "      <td>[im, always, game, trying, chinese, takeout, p...</td>\n",
              "    </tr>\n",
              "    <tr>\n",
              "      <th>3</th>\n",
              "      <td>Rj-7ymdw8aNZBRqGRAjR3Q</td>\n",
              "      <td>2010-01-17</td>\n",
              "      <td>37Ci4Q8bRm3PyYHZHwbFFQ</td>\n",
              "      <td>3</td>\n",
              "      <td>Hmmm, it was okay I guess. Nothing wrong, but ...</td>\n",
              "      <td>uj4iopBWA0RjpqoJ5xz_vQ</td>\n",
              "      <td>1</td>\n",
              "      <td>1</td>\n",
              "      <td>0</td>\n",
              "      <td>Hmmm it was okay I guess Nothing wrong but not...</td>\n",
              "      <td>[hmmm, it, was, okay, i, guess, nothing, wrong...</td>\n",
              "      <td>[hmmm, okay, guess, nothing, wrong, nothing, o...</td>\n",
              "      <td>[hmmm, okay, guess, noth, wrong, noth, outstan...</td>\n",
              "      <td>[hmmm, okay, guess, nothing, wrong, nothing, o...</td>\n",
              "    </tr>\n",
              "    <tr>\n",
              "      <th>4</th>\n",
              "      <td>TTDMJetAQKfxVzKZy4Z_2Q</td>\n",
              "      <td>2017-01-25</td>\n",
              "      <td>37FEOT7W5jpApoad7d-23Q</td>\n",
              "      <td>1</td>\n",
              "      <td>My wife and I had chosen to fly with your airl...</td>\n",
              "      <td>x20piGQtvm8hOKe8EkR0VQ</td>\n",
              "      <td>0</td>\n",
              "      <td>0</td>\n",
              "      <td>0</td>\n",
              "      <td>My wife and I had chosen to fly with your airl...</td>\n",
              "      <td>[my, wife, and, i, had, chosen, to, fly, with,...</td>\n",
              "      <td>[wife, chosen, fly, airline, affordable, rates...</td>\n",
              "      <td>[wife, chosen, fli, airlin, afford, rate, non,...</td>\n",
              "      <td>[wife, chosen, fly, airline, affordable, rate,...</td>\n",
              "    </tr>\n",
              "    <tr>\n",
              "      <th>5</th>\n",
              "      <td>99TrGqU8ngQphSkvoe6zgg</td>\n",
              "      <td>2017-01-03</td>\n",
              "      <td>6lQS-_8VbWtUkZ3ZSr_qjA</td>\n",
              "      <td>5</td>\n",
              "      <td>Love this place!  They are always friendly and...</td>\n",
              "      <td>vWlZqhUfeN8J0_k2NEnDIw</td>\n",
              "      <td>0</td>\n",
              "      <td>0</td>\n",
              "      <td>0</td>\n",
              "      <td>Love this place  They are always friendly and ...</td>\n",
              "      <td>[love, this, place, they, are, always, friendl...</td>\n",
              "      <td>[love, place, always, friendly, cera, great, j...</td>\n",
              "      <td>[love, place, alway, friendli, cera, great, jo...</td>\n",
              "      <td>[love, place, always, friendly, cera, great, j...</td>\n",
              "    </tr>\n",
              "  </tbody>\n",
              "</table>\n",
              "</div>"
            ],
            "text/plain": [
              "              business_id  ...                               body_text_lemmatized\n",
              "0  Z3ZSar8IVAR2qIupqxMynA  ...  [hour, half, waiting, pizza, ridiculous, idea,...\n",
              "2  6tY0tn39Mb8FCLYBAXXOUw  ...  [im, always, game, trying, chinese, takeout, p...\n",
              "3  Rj-7ymdw8aNZBRqGRAjR3Q  ...  [hmmm, okay, guess, nothing, wrong, nothing, o...\n",
              "4  TTDMJetAQKfxVzKZy4Z_2Q  ...  [wife, chosen, fly, airline, affordable, rate,...\n",
              "5  99TrGqU8ngQphSkvoe6zgg  ...  [love, place, always, friendly, cera, great, j...\n",
              "\n",
              "[5 rows x 14 columns]"
            ]
          },
          "metadata": {
            "tags": []
          },
          "execution_count": 22
        }
      ]
    },
    {
      "cell_type": "code",
      "metadata": {
        "id": "pMmolEh9Frk8",
        "colab_type": "code",
        "colab": {
          "base_uri": "https://localhost:8080/",
          "height": 469
        },
        "outputId": "6b799683-092b-46f5-84a6-8c6a10e143b2"
      },
      "source": [
        "# Add a length column to DataFrame\n",
        "pandas_df['length'] = pandas_df['review_text'].apply(len)\n",
        "pandas_df.head()"
      ],
      "execution_count": 24,
      "outputs": [
        {
          "output_type": "execute_result",
          "data": {
            "text/html": [
              "<div>\n",
              "<style scoped>\n",
              "    .dataframe tbody tr th:only-of-type {\n",
              "        vertical-align: middle;\n",
              "    }\n",
              "\n",
              "    .dataframe tbody tr th {\n",
              "        vertical-align: top;\n",
              "    }\n",
              "\n",
              "    .dataframe thead th {\n",
              "        text-align: right;\n",
              "    }\n",
              "</style>\n",
              "<table border=\"1\" class=\"dataframe\">\n",
              "  <thead>\n",
              "    <tr style=\"text-align: right;\">\n",
              "      <th></th>\n",
              "      <th>business_id</th>\n",
              "      <th>review_date</th>\n",
              "      <th>review_id</th>\n",
              "      <th>stars</th>\n",
              "      <th>review_text</th>\n",
              "      <th>user_id</th>\n",
              "      <th>cool</th>\n",
              "      <th>useful</th>\n",
              "      <th>funny</th>\n",
              "      <th>body_text_clean</th>\n",
              "      <th>body_text_tokenized</th>\n",
              "      <th>body_text_nostop</th>\n",
              "      <th>body_text_stemmed</th>\n",
              "      <th>body_text_lemmatized</th>\n",
              "      <th>length</th>\n",
              "    </tr>\n",
              "  </thead>\n",
              "  <tbody>\n",
              "    <tr>\n",
              "      <th>0</th>\n",
              "      <td>Z3ZSar8IVAR2qIupqxMynA</td>\n",
              "      <td>2016-01-24</td>\n",
              "      <td>06FL63x1PSHK1IE3iQ3yqg</td>\n",
              "      <td>1</td>\n",
              "      <td>An hour and a half waiting for a pizza!!!!!! T...</td>\n",
              "      <td>1luyQBuF2iH1Tbqs331uGA</td>\n",
              "      <td>0</td>\n",
              "      <td>0</td>\n",
              "      <td>0</td>\n",
              "      <td>An hour and a half waiting for a pizza This is...</td>\n",
              "      <td>[an, hour, and, a, half, waiting, for, a, pizz...</td>\n",
              "      <td>[hour, half, waiting, pizza, ridiculous, idea,...</td>\n",
              "      <td>[hour, half, wait, pizza, ridicul, idea, order...</td>\n",
              "      <td>[hour, half, waiting, pizza, ridiculous, idea,...</td>\n",
              "      <td>113</td>\n",
              "    </tr>\n",
              "    <tr>\n",
              "      <th>2</th>\n",
              "      <td>6tY0tn39Mb8FCLYBAXXOUw</td>\n",
              "      <td>2014-01-22</td>\n",
              "      <td>1xXPggQNNBjkwxxwHnSHfQ</td>\n",
              "      <td>1</td>\n",
              "      <td>I'm always game to trying all Chinese take-out...</td>\n",
              "      <td>gaPf1qNX7PAf14wIPBUmVg</td>\n",
              "      <td>0</td>\n",
              "      <td>2</td>\n",
              "      <td>0</td>\n",
              "      <td>Im always game to trying all Chinese takeout p...</td>\n",
              "      <td>[im, always, game, to, trying, all, chinese, t...</td>\n",
              "      <td>[im, always, game, trying, chinese, takeout, p...</td>\n",
              "      <td>[im, alway, game, tri, chines, takeout, place,...</td>\n",
              "      <td>[im, always, game, trying, chinese, takeout, p...</td>\n",
              "      <td>858</td>\n",
              "    </tr>\n",
              "    <tr>\n",
              "      <th>3</th>\n",
              "      <td>Rj-7ymdw8aNZBRqGRAjR3Q</td>\n",
              "      <td>2010-01-17</td>\n",
              "      <td>37Ci4Q8bRm3PyYHZHwbFFQ</td>\n",
              "      <td>3</td>\n",
              "      <td>Hmmm, it was okay I guess. Nothing wrong, but ...</td>\n",
              "      <td>uj4iopBWA0RjpqoJ5xz_vQ</td>\n",
              "      <td>1</td>\n",
              "      <td>1</td>\n",
              "      <td>0</td>\n",
              "      <td>Hmmm it was okay I guess Nothing wrong but not...</td>\n",
              "      <td>[hmmm, it, was, okay, i, guess, nothing, wrong...</td>\n",
              "      <td>[hmmm, okay, guess, nothing, wrong, nothing, o...</td>\n",
              "      <td>[hmmm, okay, guess, noth, wrong, noth, outstan...</td>\n",
              "      <td>[hmmm, okay, guess, nothing, wrong, nothing, o...</td>\n",
              "      <td>1453</td>\n",
              "    </tr>\n",
              "    <tr>\n",
              "      <th>4</th>\n",
              "      <td>TTDMJetAQKfxVzKZy4Z_2Q</td>\n",
              "      <td>2017-01-25</td>\n",
              "      <td>37FEOT7W5jpApoad7d-23Q</td>\n",
              "      <td>1</td>\n",
              "      <td>My wife and I had chosen to fly with your airl...</td>\n",
              "      <td>x20piGQtvm8hOKe8EkR0VQ</td>\n",
              "      <td>0</td>\n",
              "      <td>0</td>\n",
              "      <td>0</td>\n",
              "      <td>My wife and I had chosen to fly with your airl...</td>\n",
              "      <td>[my, wife, and, i, had, chosen, to, fly, with,...</td>\n",
              "      <td>[wife, chosen, fly, airline, affordable, rates...</td>\n",
              "      <td>[wife, chosen, fli, airlin, afford, rate, non,...</td>\n",
              "      <td>[wife, chosen, fly, airline, affordable, rate,...</td>\n",
              "      <td>2539</td>\n",
              "    </tr>\n",
              "    <tr>\n",
              "      <th>5</th>\n",
              "      <td>99TrGqU8ngQphSkvoe6zgg</td>\n",
              "      <td>2017-01-03</td>\n",
              "      <td>6lQS-_8VbWtUkZ3ZSr_qjA</td>\n",
              "      <td>5</td>\n",
              "      <td>Love this place!  They are always friendly and...</td>\n",
              "      <td>vWlZqhUfeN8J0_k2NEnDIw</td>\n",
              "      <td>0</td>\n",
              "      <td>0</td>\n",
              "      <td>0</td>\n",
              "      <td>Love this place  They are always friendly and ...</td>\n",
              "      <td>[love, this, place, they, are, always, friendl...</td>\n",
              "      <td>[love, place, always, friendly, cera, great, j...</td>\n",
              "      <td>[love, place, alway, friendli, cera, great, jo...</td>\n",
              "      <td>[love, place, always, friendly, cera, great, j...</td>\n",
              "      <td>206</td>\n",
              "    </tr>\n",
              "  </tbody>\n",
              "</table>\n",
              "</div>"
            ],
            "text/plain": [
              "              business_id  ... length\n",
              "0  Z3ZSar8IVAR2qIupqxMynA  ...    113\n",
              "2  6tY0tn39Mb8FCLYBAXXOUw  ...    858\n",
              "3  Rj-7ymdw8aNZBRqGRAjR3Q  ...   1453\n",
              "4  TTDMJetAQKfxVzKZy4Z_2Q  ...   2539\n",
              "5  99TrGqU8ngQphSkvoe6zgg  ...    206\n",
              "\n",
              "[5 rows x 15 columns]"
            ]
          },
          "metadata": {
            "tags": []
          },
          "execution_count": 24
        }
      ]
    },
    {
      "cell_type": "markdown",
      "metadata": {
        "id": "edBuycdkn10s",
        "colab_type": "text"
      },
      "source": [
        "## <br></br>**Pipeline**<br></br>"
      ]
    },
    {
      "cell_type": "code",
      "metadata": {
        "id": "2Vbt3mBbxzMW",
        "colab_type": "code",
        "colab": {
          "base_uri": "https://localhost:8080/",
          "height": 243
        },
        "outputId": "db2809e3-341c-4506-8a38-bd70a4087928"
      },
      "source": [
        "# Make a copy of data\n",
        "pandas_df_copy = pandas_df.copy()\n",
        "\n",
        "# Select columns for new DataFrame\n",
        "pandas_df_copy = pandas_df_copy[['review_id', 'review_text', 'stars', 'cool', 'useful', 'funny', 'review_date', 'business_id', 'user_id', 'length', 'body_text_nostop', 'body_text_stemmed', 'body_text_lemmatized']]\n",
        "\n",
        "# Convert pandas_df to sparks df\n",
        "spark_df = spark.createDataFrame(pandas_df_copy)\n",
        "spark_df.show(5)"
      ],
      "execution_count": 25,
      "outputs": [
        {
          "output_type": "stream",
          "text": [
            "+--------------------+--------------------+-----+----+------+-----+-----------+--------------------+--------------------+------+--------------------+--------------------+--------------------+\n",
            "|           review_id|         review_text|stars|cool|useful|funny|review_date|         business_id|             user_id|length|    body_text_nostop|   body_text_stemmed|body_text_lemmatized|\n",
            "+--------------------+--------------------+-----+----+------+-----+-----------+--------------------+--------------------+------+--------------------+--------------------+--------------------+\n",
            "|06FL63x1PSHK1IE3i...|An hour and a hal...|    1|   0|     0|    0| 2016-01-24|Z3ZSar8IVAR2qIupq...|1luyQBuF2iH1Tbqs3...|   113|[hour, half, wait...|[hour, half, wait...|[hour, half, wait...|\n",
            "|1xXPggQNNBjkwxxwH...|I'm always game t...|    1|   0|     2|    0| 2014-01-22|6tY0tn39Mb8FCLYBA...|gaPf1qNX7PAf14wIP...|   858|[im, always, game...|[im, alway, game,...|[im, always, game...|\n",
            "|37Ci4Q8bRm3PyYHZH...|Hmmm, it was okay...|    3|   1|     1|    0| 2010-01-17|Rj-7ymdw8aNZBRqGR...|uj4iopBWA0RjpqoJ5...|  1453|[hmmm, okay, gues...|[hmmm, okay, gues...|[hmmm, okay, gues...|\n",
            "|37FEOT7W5jpApoad7...|My wife and I had...|    1|   0|     0|    0| 2017-01-25|TTDMJetAQKfxVzKZy...|x20piGQtvm8hOKe8E...|  2539|[wife, chosen, fl...|[wife, chosen, fl...|[wife, chosen, fl...|\n",
            "|6lQS-_8VbWtUkZ3ZS...|Love this place! ...|    5|   0|     0|    0| 2017-01-03|99TrGqU8ngQphSkvo...|vWlZqhUfeN8J0_k2N...|   206|[love, place, alw...|[love, place, alw...|[love, place, alw...|\n",
            "+--------------------+--------------------+-----+----+------+-----+-----------+--------------------+--------------------+------+--------------------+--------------------+--------------------+\n",
            "only showing top 5 rows\n",
            "\n"
          ],
          "name": "stdout"
        }
      ]
    },
    {
      "cell_type": "code",
      "metadata": {
        "id": "Kiylt7xOxzVj",
        "colab_type": "code",
        "colab": {}
      },
      "source": [
        "# Import functions\n",
        "from pyspark.ml.feature import HashingTF, IDF, StringIndexer"
      ],
      "execution_count": 26,
      "outputs": []
    },
    {
      "cell_type": "code",
      "metadata": {
        "id": "jr4QTe4p4Qdm",
        "colab_type": "code",
        "colab": {
          "base_uri": "https://localhost:8080/",
          "height": 523
        },
        "outputId": "d851b885-bb2c-4f98-e67c-421d5a78f395"
      },
      "source": [
        "# Make stars values a list\n",
        "from pyspark.sql.functions import col, split\n",
        "spark_df = spark_df.withColumn(\"star_array\", split(col(\"stars\"), \" \"))\n",
        "spark_df.show()"
      ],
      "execution_count": 27,
      "outputs": [
        {
          "output_type": "stream",
          "text": [
            "+--------------------+--------------------+-----+----+------+-----+-----------+--------------------+--------------------+------+--------------------+--------------------+--------------------+----------+\n",
            "|           review_id|         review_text|stars|cool|useful|funny|review_date|         business_id|             user_id|length|    body_text_nostop|   body_text_stemmed|body_text_lemmatized|star_array|\n",
            "+--------------------+--------------------+-----+----+------+-----+-----------+--------------------+--------------------+------+--------------------+--------------------+--------------------+----------+\n",
            "|06FL63x1PSHK1IE3i...|An hour and a hal...|    1|   0|     0|    0| 2016-01-24|Z3ZSar8IVAR2qIupq...|1luyQBuF2iH1Tbqs3...|   113|[hour, half, wait...|[hour, half, wait...|[hour, half, wait...|       [1]|\n",
            "|1xXPggQNNBjkwxxwH...|I'm always game t...|    1|   0|     2|    0| 2014-01-22|6tY0tn39Mb8FCLYBA...|gaPf1qNX7PAf14wIP...|   858|[im, always, game...|[im, alway, game,...|[im, always, game...|       [1]|\n",
            "|37Ci4Q8bRm3PyYHZH...|Hmmm, it was okay...|    3|   1|     1|    0| 2010-01-17|Rj-7ymdw8aNZBRqGR...|uj4iopBWA0RjpqoJ5...|  1453|[hmmm, okay, gues...|[hmmm, okay, gues...|[hmmm, okay, gues...|       [3]|\n",
            "|37FEOT7W5jpApoad7...|My wife and I had...|    1|   0|     0|    0| 2017-01-25|TTDMJetAQKfxVzKZy...|x20piGQtvm8hOKe8E...|  2539|[wife, chosen, fl...|[wife, chosen, fl...|[wife, chosen, fl...|       [1]|\n",
            "|6lQS-_8VbWtUkZ3ZS...|Love this place! ...|    5|   0|     0|    0| 2017-01-03|99TrGqU8ngQphSkvo...|vWlZqhUfeN8J0_k2N...|   206|[love, place, alw...|[love, place, alw...|[love, place, alw...|       [5]|\n",
            "|7B01plLvo_8KiC_iU...|This is Streetsvi...|    3|   0|     0|    0| 2015-01-31|D6UIhxSGysLlZK8Vc...|pMefTWo6gMdx8WhYS...|   482|[streetsvilles, a...|[streetsvil, answ...|[streetsvilles, a...|       [3]|\n",
            "|9HWOF_w94JkeunN9l...|Where to begin? I...|    1|   0|     0|    0| 2015-01-21|hYl2qT0fSae2EkLVc...|MsxMTu9URW_RSjYj9...|   771|[begin, hope, cri...|[begin, hope, cri...|[begin, hope, cri...|       [1]|\n",
            "|E7kb6PDF6yL-5x5qw...|Generally the pub...|    3|   1|     2|    2| 2012-01-10|WsdmzI2giWHcRN2pl...|MIyk7EehR0HUumHyJ...|   888|[generally, publi...|[gener, public, p...|[generally, publi...|       [3]|\n",
            "|IW3ghV7-y1lZOJTfZ...|This is by far th...|    1|   0|     1|    0| 2016-01-25|SZes7a-4hCkEpZJqJ...|syndqHiaZXD5Jjk4o...|   859|[far, dirtiest, h...|[far, dirtiest, h...|[far, dirtiest, h...|       [1]|\n",
            "|P7o_pIxClQfjJ9iVJ...|My friends had pi...|    3|   0|     0|    0| 2015-01-05|igHYkXZMLAc9UdV5V...|HcT3BZLc25R9eekoH...|  1384|[friends, picked,...|[friend, pick, pl...|[friend, picked, ...|       [3]|\n",
            "|QBj-Qjk0s4jseFt8g...|Had burgers and f...|    3|   0|     0|    1| 2016-01-04|GIfZNMP0oIJCje_Xp...|SaNPcBwdImw-634Q3...|   293|[burgers, fries, ...|[burger, fri, goo...|[burger, fry, goo...|       [3]|\n",
            "|Ro_PpjRddiy7b-r9l...|Only had grooming...|    1|   2|     0|    0| 2015-01-30|R9osrGLOriBmKbYwX...|6CaHgJpybsOyjm31f...|   770|[grooming, done, ...|[groom, done, hol...|[grooming, done, ...|       [1]|\n",
            "|WKgWUmvA0G2CmNJ0V...|Taste of the food...|    3|   0|     0|    2| 2016-01-10|_FXa_6j-6UDsxWo-K...|eaVJ0280qBF5WGirt...|    95|[taste, food, bes...|[tast, food, best...|[taste, food, bes...|       [3]|\n",
            "|Y5NzWVeapdU-yQYQq...|Excellent service...|    5|   1|     1|    1| 2015-01-16|w1fJzm0ladnhvT7Jc...|NF0NkrQQpAPIkmnmK...|   109|[excellent, servi...|[excel, servic, m...|[excellent, servi...|       [5]|\n",
            "|_07UVXb-PfNxex_VL...|I've been seeing ...|    5|   0|     1|    0| 2015-01-18|LJ6F0Vyias0EpuXAq...|xWoV_HB_PjPv6c0fr...|  1223|[ive, seeing, tad...|[ive, see, tad, l...|[ive, seeing, tad...|       [5]|\n",
            "|fxfQ0ZtgwCOycq_6d...|The front desk la...|    1|   0|     3|    0| 2015-01-05|e6S2GxdgALWVHpCrr...|Omq89wFlqTc5ZVB7s...|   312|[front, desk, lad...|[front, desk, lad...|[front, desk, lad...|       [1]|\n",
            "|g84cA6fW7hdczsCIL...|This place is gre...|    5|   0|     1|    0| 2016-01-06|F5nJDGWyn-4MjnE4d...|ZBS0D_OQQUI9AwcoQ...|   512|[place, great, lo...|[place, great, lo...|[place, great, lo...|       [5]|\n",
            "|gvvcP5yoORiTxhk-2...|So happy to see t...|    1|   0|     0|    0| 2015-01-16|hLrrgQwn-K-IPI8g2...|YrjkSaxkPIRFCRKWO...|  2301|[happy, see, plac...|[happi, see, plac...|[happy, see, plac...|       [1]|\n",
            "|hJ7Y-Fea_vdinyqvK...|Excellent custome...|    5|   0|     0|    0| 2017-01-06|uHGM_RXqIzjHfc1Qx...|8TLPMzbVohE5i2Mc3...|   228|[excellent, custo...|[excel, custom, s...|[excellent, custo...|       [5]|\n",
            "|hpnVLDw8Yn4PUohCX...|This is one of th...|    5|   1|     1|    0| 2012-01-07|eQ5mOGgPdzzaONAlV...|Wgr1NEK0KsTG4l9zN...|   838|[one, places, pro...|[one, place, prob...|[one, place, prob...|       [5]|\n",
            "+--------------------+--------------------+-----+----+------+-----+-----------+--------------------+--------------------+------+--------------------+--------------------+--------------------+----------+\n",
            "only showing top 20 rows\n",
            "\n"
          ],
          "name": "stdout"
        }
      ]
    },
    {
      "cell_type": "code",
      "metadata": {
        "id": "58Do7Vby4QkT",
        "colab_type": "code",
        "colab": {}
      },
      "source": [
        "# Initialize a CoutVectorizer\n",
        "from pyspark.ml.feature import CountVectorizer\n",
        "star_vectorizer = CountVectorizer(inputCol=\"star_array\", outputCol=\"stars_one_hot\", vocabSize=5, minDF=1.0)"
      ],
      "execution_count": 28,
      "outputs": []
    },
    {
      "cell_type": "code",
      "metadata": {
        "id": "_WTHAZPK4QrE",
        "colab_type": "code",
        "colab": {}
      },
      "source": [
        "# Create a vector model\n",
        "star_vector_model = star_vectorizer.fit(spark_df)"
      ],
      "execution_count": 29,
      "outputs": []
    },
    {
      "cell_type": "code",
      "metadata": {
        "id": "YWwyaeRU4Q0-",
        "colab_type": "code",
        "colab": {
          "base_uri": "https://localhost:8080/",
          "height": 205
        },
        "outputId": "ff295e23-a346-4023-e15e-69f44d75c7f4"
      },
      "source": [
        "# One hot encoded column\n",
        "df_ohe = star_vector_model.transform(spark_df)\n",
        "df_ohe.show(3)"
      ],
      "execution_count": 30,
      "outputs": [
        {
          "output_type": "stream",
          "text": [
            "+--------------------+--------------------+-----+----+------+-----+-----------+--------------------+--------------------+------+--------------------+--------------------+--------------------+----------+-------------+\n",
            "|           review_id|         review_text|stars|cool|useful|funny|review_date|         business_id|             user_id|length|    body_text_nostop|   body_text_stemmed|body_text_lemmatized|star_array|stars_one_hot|\n",
            "+--------------------+--------------------+-----+----+------+-----+-----------+--------------------+--------------------+------+--------------------+--------------------+--------------------+----------+-------------+\n",
            "|06FL63x1PSHK1IE3i...|An hour and a hal...|    1|   0|     0|    0| 2016-01-24|Z3ZSar8IVAR2qIupq...|1luyQBuF2iH1Tbqs3...|   113|[hour, half, wait...|[hour, half, wait...|[hour, half, wait...|       [1]|(3,[2],[1.0])|\n",
            "|1xXPggQNNBjkwxxwH...|I'm always game t...|    1|   0|     2|    0| 2014-01-22|6tY0tn39Mb8FCLYBA...|gaPf1qNX7PAf14wIP...|   858|[im, always, game...|[im, alway, game,...|[im, always, game...|       [1]|(3,[2],[1.0])|\n",
            "|37Ci4Q8bRm3PyYHZH...|Hmmm, it was okay...|    3|   1|     1|    0| 2010-01-17|Rj-7ymdw8aNZBRqGR...|uj4iopBWA0RjpqoJ5...|  1453|[hmmm, okay, gues...|[hmmm, okay, gues...|[hmmm, okay, gues...|       [3]|(3,[0],[1.0])|\n",
            "+--------------------+--------------------+-----+----+------+-----+-----------+--------------------+--------------------+------+--------------------+--------------------+--------------------+----------+-------------+\n",
            "only showing top 3 rows\n",
            "\n"
          ],
          "name": "stdout"
        }
      ]
    },
    {
      "cell_type": "code",
      "metadata": {
        "id": "hNFHqcTA4Q9R",
        "colab_type": "code",
        "colab": {}
      },
      "source": [
        "# Create all the features to the data set\n",
        "star_rating = StringIndexer(inputCol='stars',outputCol='label')\n",
        "hashingTF = HashingTF(inputCol=\"body_text_stemmed\", outputCol='hash_token')\n",
        "idf = IDF(inputCol='hash_token', outputCol='idf_token')"
      ],
      "execution_count": 31,
      "outputs": []
    },
    {
      "cell_type": "code",
      "metadata": {
        "id": "GO9K26k74sf4",
        "colab_type": "code",
        "colab": {}
      },
      "source": [
        "from pyspark.ml.feature import VectorAssembler\n",
        "from pyspark.ml.linalg import Vector\n",
        "# Create feature vector \n",
        "clean_up = VectorAssembler(inputCols=['idf_token', 'length'], outputCol='features')"
      ],
      "execution_count": 32,
      "outputs": []
    },
    {
      "cell_type": "code",
      "metadata": {
        "id": "-7myETso4sk1",
        "colab_type": "code",
        "colab": {}
      },
      "source": [
        "# Create and run a data processing Pipeline\n",
        "from pyspark.ml import Pipeline\n",
        "data_prep_pipeline = Pipeline(stages=[star_rating, hashingTF, idf, clean_up])"
      ],
      "execution_count": 33,
      "outputs": []
    },
    {
      "cell_type": "code",
      "metadata": {
        "id": "i2iX37s_4spP",
        "colab_type": "code",
        "colab": {}
      },
      "source": [
        "# Fit and transform the pipeline\n",
        "cleaner = data_prep_pipeline.fit(df_ohe)\n",
        "cleaned = cleaner.transform(df_ohe)"
      ],
      "execution_count": 34,
      "outputs": []
    },
    {
      "cell_type": "code",
      "metadata": {
        "id": "PhsYLkZe4RDV",
        "colab_type": "code",
        "colab": {
          "base_uri": "https://localhost:8080/",
          "height": 243
        },
        "outputId": "cd79284d-355c-4483-e840-c95dea23648c"
      },
      "source": [
        "cleaned.show(5)"
      ],
      "execution_count": 35,
      "outputs": [
        {
          "output_type": "stream",
          "text": [
            "+--------------------+--------------------+-----+----+------+-----+-----------+--------------------+--------------------+------+--------------------+--------------------+--------------------+----------+-------------+-----+--------------------+--------------------+--------------------+\n",
            "|           review_id|         review_text|stars|cool|useful|funny|review_date|         business_id|             user_id|length|    body_text_nostop|   body_text_stemmed|body_text_lemmatized|star_array|stars_one_hot|label|          hash_token|           idf_token|            features|\n",
            "+--------------------+--------------------+-----+----+------+-----+-----------+--------------------+--------------------+------+--------------------+--------------------+--------------------+----------+-------------+-----+--------------------+--------------------+--------------------+\n",
            "|06FL63x1PSHK1IE3i...|An hour and a hal...|    1|   0|     0|    0| 2016-01-24|Z3ZSar8IVAR2qIupq...|1luyQBuF2iH1Tbqs3...|   113|[hour, half, wait...|[hour, half, wait...|[hour, half, wait...|       [1]|(3,[2],[1.0])|  2.0|(262144,[17252,27...|(262144,[17252,27...|(262145,[17252,27...|\n",
            "|1xXPggQNNBjkwxxwH...|I'm always game t...|    1|   0|     2|    0| 2014-01-22|6tY0tn39Mb8FCLYBA...|gaPf1qNX7PAf14wIP...|   858|[im, always, game...|[im, alway, game,...|[im, always, game...|       [1]|(3,[2],[1.0])|  2.0|(262144,[353,1353...|(262144,[353,1353...|(262145,[353,1353...|\n",
            "|37Ci4Q8bRm3PyYHZH...|Hmmm, it was okay...|    3|   1|     1|    0| 2010-01-17|Rj-7ymdw8aNZBRqGR...|uj4iopBWA0RjpqoJ5...|  1453|[hmmm, okay, gues...|[hmmm, okay, gues...|[hmmm, okay, gues...|       [3]|(3,[0],[1.0])|  1.0|(262144,[353,1353...|(262144,[353,1353...|(262145,[353,1353...|\n",
            "|37FEOT7W5jpApoad7...|My wife and I had...|    1|   0|     0|    0| 2017-01-25|TTDMJetAQKfxVzKZy...|x20piGQtvm8hOKe8E...|  2539|[wife, chosen, fl...|[wife, chosen, fl...|[wife, chosen, fl...|       [1]|(3,[2],[1.0])|  2.0|(262144,[1707,232...|(262144,[1707,232...|(262145,[1707,232...|\n",
            "|6lQS-_8VbWtUkZ3ZS...|Love this place! ...|    5|   0|     0|    0| 2017-01-03|99TrGqU8ngQphSkvo...|vWlZqhUfeN8J0_k2N...|   206|[love, place, alw...|[love, place, alw...|[love, place, alw...|       [5]|(3,[1],[1.0])|  0.0|(262144,[22567,35...|(262144,[22567,35...|(262145,[22567,35...|\n",
            "+--------------------+--------------------+-----+----+------+-----+-----------+--------------------+--------------------+------+--------------------+--------------------+--------------------+----------+-------------+-----+--------------------+--------------------+--------------------+\n",
            "only showing top 5 rows\n",
            "\n"
          ],
          "name": "stdout"
        }
      ]
    },
    {
      "cell_type": "markdown",
      "metadata": {
        "id": "HuHwRtRZKII6",
        "colab_type": "text"
      },
      "source": [
        "# **Machine Learning Models**"
      ]
    },
    {
      "cell_type": "code",
      "metadata": {
        "id": "zAhQ4n_XJokp",
        "colab_type": "code",
        "colab": {
          "base_uri": "https://localhost:8080/",
          "height": 223
        },
        "outputId": "5c0daf59-7e44-422a-e6f5-33017c959656"
      },
      "source": [
        "#Drop intermediate columns\n",
        "x=cleaned.select('features', 'label')\n",
        "x.show(5)"
      ],
      "execution_count": 36,
      "outputs": [
        {
          "output_type": "stream",
          "text": [
            "+--------------------+-----+\n",
            "|            features|label|\n",
            "+--------------------+-----+\n",
            "|(262145,[17252,27...|  2.0|\n",
            "|(262145,[353,1353...|  2.0|\n",
            "|(262145,[353,1353...|  1.0|\n",
            "|(262145,[1707,232...|  2.0|\n",
            "|(262145,[22567,35...|  0.0|\n",
            "+--------------------+-----+\n",
            "only showing top 5 rows\n",
            "\n"
          ],
          "name": "stdout"
        }
      ]
    },
    {
      "cell_type": "code",
      "metadata": {
        "id": "TOw9lb8SL2ck",
        "colab_type": "code",
        "colab": {
          "base_uri": "https://localhost:8080/",
          "height": 36
        },
        "outputId": "018fccc9-b22f-4bfb-d6df-9d8c173f8edc"
      },
      "source": [
        "# Check dtypes\n",
        "x.dtypes"
      ],
      "execution_count": 37,
      "outputs": [
        {
          "output_type": "execute_result",
          "data": {
            "text/plain": [
              "[('features', 'vector'), ('label', 'double')]"
            ]
          },
          "metadata": {
            "tags": []
          },
          "execution_count": 37
        }
      ]
    },
    {
      "cell_type": "code",
      "metadata": {
        "id": "jpfYVKpKMKwo",
        "colab_type": "code",
        "colab": {
          "base_uri": "https://localhost:8080/",
          "height": 223
        },
        "outputId": "e5e8f2e5-db56-4b87-e415-1dd0d2d24579"
      },
      "source": [
        "# Import col\n",
        "from pyspark.sql.functions import col\n",
        "\n",
        "# Change column DataType for stars\n",
        "x = x.withColumn('label', col('label').cast('int'))\n",
        "\n",
        "x.show(5)"
      ],
      "execution_count": 38,
      "outputs": [
        {
          "output_type": "stream",
          "text": [
            "+--------------------+-----+\n",
            "|            features|label|\n",
            "+--------------------+-----+\n",
            "|(262145,[17252,27...|    2|\n",
            "|(262145,[353,1353...|    2|\n",
            "|(262145,[353,1353...|    1|\n",
            "|(262145,[1707,232...|    2|\n",
            "|(262145,[22567,35...|    0|\n",
            "+--------------------+-----+\n",
            "only showing top 5 rows\n",
            "\n"
          ],
          "name": "stdout"
        }
      ]
    },
    {
      "cell_type": "markdown",
      "metadata": {
        "id": "bgrfQolZ60kp",
        "colab_type": "text"
      },
      "source": [
        "**Naive Bayes**"
      ]
    },
    {
      "cell_type": "code",
      "metadata": {
        "id": "fw4iHzHGJosY",
        "colab_type": "code",
        "colab": {}
      },
      "source": [
        "# Break data down into a training set and a testing set\n",
        "training, testing = x.randomSplit([0.8, 0.2], 21)"
      ],
      "execution_count": 39,
      "outputs": []
    },
    {
      "cell_type": "code",
      "metadata": {
        "id": "TQg1u3srJoyg",
        "colab_type": "code",
        "colab": {}
      },
      "source": [
        "from pyspark.ml.classification import NaiveBayes\n",
        "# Create a Naive Bayes model and fit training data\n",
        "nb = NaiveBayes()\n",
        "predictor = nb.fit(training)"
      ],
      "execution_count": 40,
      "outputs": []
    },
    {
      "cell_type": "code",
      "metadata": {
        "id": "G1sw6FiKJovu",
        "colab_type": "code",
        "colab": {
          "base_uri": "https://localhost:8080/",
          "height": 36
        },
        "outputId": "c406464e-0d8a-4a3a-cd71-782c8c3da645"
      },
      "source": [
        "# Use the Class Evaluator for a cleaned description\n",
        "from pyspark.ml.evaluation import MulticlassClassificationEvaluator\n",
        "\n",
        "acc_eval = MulticlassClassificationEvaluator()\n",
        "acc = acc_eval.evaluate(predictor.transform(testing))\n",
        "print(\"Accuracy of model at predicting reviews was: %f\" % acc)"
      ],
      "execution_count": 41,
      "outputs": [
        {
          "output_type": "stream",
          "text": [
            "Accuracy of model at predicting reviews was: 0.586072\n"
          ],
          "name": "stdout"
        }
      ]
    },
    {
      "cell_type": "markdown",
      "metadata": {
        "id": "xh7jpZOW6vQo",
        "colab_type": "text"
      },
      "source": [
        "**Logistic Regression**"
      ]
    },
    {
      "cell_type": "code",
      "metadata": {
        "id": "mgWbYha_xWHr",
        "colab_type": "code",
        "colab": {}
      },
      "source": [
        "# Break data down into a training set and a testing set\n",
        "training, testing = x.randomSplit([0.8, 0.2], 21)"
      ],
      "execution_count": 42,
      "outputs": []
    },
    {
      "cell_type": "code",
      "metadata": {
        "id": "7Ph4zTLsJoqL",
        "colab_type": "code",
        "colab": {}
      },
      "source": [
        "from pyspark.ml.classification import LogisticRegression\n",
        "# Create a Naive Bayes model and fit training data\n",
        "lg = LogisticRegression()\n",
        "predictor = lg.fit(training)"
      ],
      "execution_count": 43,
      "outputs": []
    },
    {
      "cell_type": "code",
      "metadata": {
        "id": "OC6ucu5KJooj",
        "colab_type": "code",
        "colab": {
          "base_uri": "https://localhost:8080/",
          "height": 36
        },
        "outputId": "23e1043e-fa8f-4837-8d63-ec176c7c2e9a"
      },
      "source": [
        "from pyspark.ml.evaluation import MulticlassClassificationEvaluator\n",
        "\n",
        "acc_eval = MulticlassClassificationEvaluator()\n",
        "acc = acc_eval.evaluate(predictor.transform(testing))\n",
        "print(\"Accuracy of model at predicting reviews was: %f\" % acc)"
      ],
      "execution_count": 44,
      "outputs": [
        {
          "output_type": "stream",
          "text": [
            "Accuracy of model at predicting reviews was: 0.750741\n"
          ],
          "name": "stdout"
        }
      ]
    },
    {
      "cell_type": "markdown",
      "metadata": {
        "id": "f33IsJHRH39v",
        "colab_type": "text"
      },
      "source": [
        "**Multilayer Percepron**"
      ]
    },
    {
      "cell_type": "code",
      "metadata": {
        "id": "CXTWK85rH2xY",
        "colab_type": "code",
        "colab": {}
      },
      "source": [
        "from pyspark.ml.classification import MultilayerPerceptronClassifier\n",
        "from pyspark.ml.evaluation import MulticlassClassificationEvaluator"
      ],
      "execution_count": null,
      "outputs": []
    },
    {
      "cell_type": "code",
      "metadata": {
        "id": "Sib4qnGSH8Zw",
        "colab_type": "code",
        "colab": {}
      },
      "source": [
        "# Split the data into train and test\n",
        "splits = x.randomSplit([0.8, 0.2], 1234)\n",
        "train = splits[0]\n",
        "test = splits[1]"
      ],
      "execution_count": null,
      "outputs": []
    },
    {
      "cell_type": "code",
      "metadata": {
        "id": "495u_f-LIc3G",
        "colab_type": "code",
        "colab": {
          "base_uri": "https://localhost:8080/",
          "height": 503
        },
        "outputId": "ca53cbc6-9d02-45e7-860d-9567d0f3decb"
      },
      "source": [
        "train.show()"
      ],
      "execution_count": null,
      "outputs": [
        {
          "output_type": "stream",
          "text": [
            "+--------------------+-----+\n",
            "|            features|label|\n",
            "+--------------------+-----+\n",
            "|(262145,[97,13957...|    1|\n",
            "|(262145,[98,6646,...|    2|\n",
            "|(262145,[170,427,...|    2|\n",
            "|(262145,[170,976,...|    0|\n",
            "|(262145,[234,1395...|    2|\n",
            "|(262145,[234,1729...|    1|\n",
            "|(262145,[353,783,...|    0|\n",
            "|(262145,[353,976,...|    2|\n",
            "|(262145,[353,1353...|    0|\n",
            "|(262145,[353,1707...|    1|\n",
            "|(262145,[353,3028...|    2|\n",
            "|(262145,[353,1034...|    1|\n",
            "|(262145,[353,2234...|    1|\n",
            "|(262145,[382,2437...|    2|\n",
            "|(262145,[427,1560...|    0|\n",
            "|(262145,[427,2325...|    0|\n",
            "|(262145,[427,3811...|    0|\n",
            "|(262145,[535,2089...|    2|\n",
            "|(262145,[584,1353...|    2|\n",
            "|(262145,[604,6981...|    0|\n",
            "+--------------------+-----+\n",
            "only showing top 20 rows\n",
            "\n"
          ],
          "name": "stdout"
        }
      ]
    },
    {
      "cell_type": "code",
      "metadata": {
        "id": "Nzva90r5INFN",
        "colab_type": "code",
        "colab": {}
      },
      "source": [
        "# specify layers for the neural network:\n",
        "layers = [62000, 256, 3]"
      ],
      "execution_count": null,
      "outputs": []
    },
    {
      "cell_type": "code",
      "metadata": {
        "id": "qvuLEMTaINRM",
        "colab_type": "code",
        "colab": {}
      },
      "source": [
        "# create the trainer and set its parameters\n",
        "trainer = MultilayerPerceptronClassifier(maxIter=10, layers=layers, blockSize=128, seed=1234)"
      ],
      "execution_count": null,
      "outputs": []
    },
    {
      "cell_type": "code",
      "metadata": {
        "id": "E6qc2Z9iJRUD",
        "colab_type": "code",
        "colab": {
          "base_uri": "https://localhost:8080/",
          "height": 1000
        },
        "outputId": "cfd9e287-e4e5-42d4-c791-14ac2f124058"
      },
      "source": [
        "# train the model\n",
        "model = trainer.fit(train)"
      ],
      "execution_count": null,
      "outputs": [
        {
          "output_type": "error",
          "ename": "Py4JJavaError",
          "evalue": "ignored",
          "traceback": [
            "\u001b[0;31m---------------------------------------------------------------------------\u001b[0m",
            "\u001b[0;31mPy4JJavaError\u001b[0m                             Traceback (most recent call last)",
            "\u001b[0;32m<ipython-input-42-4f6cd2c6c383>\u001b[0m in \u001b[0;36m<module>\u001b[0;34m()\u001b[0m\n\u001b[1;32m      1\u001b[0m \u001b[0;31m# train the model\u001b[0m\u001b[0;34m\u001b[0m\u001b[0;34m\u001b[0m\u001b[0;34m\u001b[0m\u001b[0m\n\u001b[0;32m----> 2\u001b[0;31m \u001b[0mmodel\u001b[0m \u001b[0;34m=\u001b[0m \u001b[0mtrainer\u001b[0m\u001b[0;34m.\u001b[0m\u001b[0mfit\u001b[0m\u001b[0;34m(\u001b[0m\u001b[0mtrain\u001b[0m\u001b[0;34m)\u001b[0m\u001b[0;34m\u001b[0m\u001b[0;34m\u001b[0m\u001b[0m\n\u001b[0m",
            "\u001b[0;32m/content/spark-2.4.6-bin-hadoop2.7/python/pyspark/ml/base.py\u001b[0m in \u001b[0;36mfit\u001b[0;34m(self, dataset, params)\u001b[0m\n\u001b[1;32m    130\u001b[0m                 \u001b[0;32mreturn\u001b[0m \u001b[0mself\u001b[0m\u001b[0;34m.\u001b[0m\u001b[0mcopy\u001b[0m\u001b[0;34m(\u001b[0m\u001b[0mparams\u001b[0m\u001b[0;34m)\u001b[0m\u001b[0;34m.\u001b[0m\u001b[0m_fit\u001b[0m\u001b[0;34m(\u001b[0m\u001b[0mdataset\u001b[0m\u001b[0;34m)\u001b[0m\u001b[0;34m\u001b[0m\u001b[0;34m\u001b[0m\u001b[0m\n\u001b[1;32m    131\u001b[0m             \u001b[0;32melse\u001b[0m\u001b[0;34m:\u001b[0m\u001b[0;34m\u001b[0m\u001b[0;34m\u001b[0m\u001b[0m\n\u001b[0;32m--> 132\u001b[0;31m                 \u001b[0;32mreturn\u001b[0m \u001b[0mself\u001b[0m\u001b[0;34m.\u001b[0m\u001b[0m_fit\u001b[0m\u001b[0;34m(\u001b[0m\u001b[0mdataset\u001b[0m\u001b[0;34m)\u001b[0m\u001b[0;34m\u001b[0m\u001b[0;34m\u001b[0m\u001b[0m\n\u001b[0m\u001b[1;32m    133\u001b[0m         \u001b[0;32melse\u001b[0m\u001b[0;34m:\u001b[0m\u001b[0;34m\u001b[0m\u001b[0;34m\u001b[0m\u001b[0m\n\u001b[1;32m    134\u001b[0m             raise ValueError(\"Params must be either a param map or a list/tuple of param maps, \"\n",
            "\u001b[0;32m/content/spark-2.4.6-bin-hadoop2.7/python/pyspark/ml/wrapper.py\u001b[0m in \u001b[0;36m_fit\u001b[0;34m(self, dataset)\u001b[0m\n\u001b[1;32m    293\u001b[0m \u001b[0;34m\u001b[0m\u001b[0m\n\u001b[1;32m    294\u001b[0m     \u001b[0;32mdef\u001b[0m \u001b[0m_fit\u001b[0m\u001b[0;34m(\u001b[0m\u001b[0mself\u001b[0m\u001b[0;34m,\u001b[0m \u001b[0mdataset\u001b[0m\u001b[0;34m)\u001b[0m\u001b[0;34m:\u001b[0m\u001b[0;34m\u001b[0m\u001b[0;34m\u001b[0m\u001b[0m\n\u001b[0;32m--> 295\u001b[0;31m         \u001b[0mjava_model\u001b[0m \u001b[0;34m=\u001b[0m \u001b[0mself\u001b[0m\u001b[0;34m.\u001b[0m\u001b[0m_fit_java\u001b[0m\u001b[0;34m(\u001b[0m\u001b[0mdataset\u001b[0m\u001b[0;34m)\u001b[0m\u001b[0;34m\u001b[0m\u001b[0;34m\u001b[0m\u001b[0m\n\u001b[0m\u001b[1;32m    296\u001b[0m         \u001b[0mmodel\u001b[0m \u001b[0;34m=\u001b[0m \u001b[0mself\u001b[0m\u001b[0;34m.\u001b[0m\u001b[0m_create_model\u001b[0m\u001b[0;34m(\u001b[0m\u001b[0mjava_model\u001b[0m\u001b[0;34m)\u001b[0m\u001b[0;34m\u001b[0m\u001b[0;34m\u001b[0m\u001b[0m\n\u001b[1;32m    297\u001b[0m         \u001b[0;32mreturn\u001b[0m \u001b[0mself\u001b[0m\u001b[0;34m.\u001b[0m\u001b[0m_copyValues\u001b[0m\u001b[0;34m(\u001b[0m\u001b[0mmodel\u001b[0m\u001b[0;34m)\u001b[0m\u001b[0;34m\u001b[0m\u001b[0;34m\u001b[0m\u001b[0m\n",
            "\u001b[0;32m/content/spark-2.4.6-bin-hadoop2.7/python/pyspark/ml/wrapper.py\u001b[0m in \u001b[0;36m_fit_java\u001b[0;34m(self, dataset)\u001b[0m\n\u001b[1;32m    290\u001b[0m         \"\"\"\n\u001b[1;32m    291\u001b[0m         \u001b[0mself\u001b[0m\u001b[0;34m.\u001b[0m\u001b[0m_transfer_params_to_java\u001b[0m\u001b[0;34m(\u001b[0m\u001b[0;34m)\u001b[0m\u001b[0;34m\u001b[0m\u001b[0;34m\u001b[0m\u001b[0m\n\u001b[0;32m--> 292\u001b[0;31m         \u001b[0;32mreturn\u001b[0m \u001b[0mself\u001b[0m\u001b[0;34m.\u001b[0m\u001b[0m_java_obj\u001b[0m\u001b[0;34m.\u001b[0m\u001b[0mfit\u001b[0m\u001b[0;34m(\u001b[0m\u001b[0mdataset\u001b[0m\u001b[0;34m.\u001b[0m\u001b[0m_jdf\u001b[0m\u001b[0;34m)\u001b[0m\u001b[0;34m\u001b[0m\u001b[0;34m\u001b[0m\u001b[0m\n\u001b[0m\u001b[1;32m    293\u001b[0m \u001b[0;34m\u001b[0m\u001b[0m\n\u001b[1;32m    294\u001b[0m     \u001b[0;32mdef\u001b[0m \u001b[0m_fit\u001b[0m\u001b[0;34m(\u001b[0m\u001b[0mself\u001b[0m\u001b[0;34m,\u001b[0m \u001b[0mdataset\u001b[0m\u001b[0;34m)\u001b[0m\u001b[0;34m:\u001b[0m\u001b[0;34m\u001b[0m\u001b[0;34m\u001b[0m\u001b[0m\n",
            "\u001b[0;32m/content/spark-2.4.6-bin-hadoop2.7/python/lib/py4j-0.10.7-src.zip/py4j/java_gateway.py\u001b[0m in \u001b[0;36m__call__\u001b[0;34m(self, *args)\u001b[0m\n\u001b[1;32m   1255\u001b[0m         \u001b[0manswer\u001b[0m \u001b[0;34m=\u001b[0m \u001b[0mself\u001b[0m\u001b[0;34m.\u001b[0m\u001b[0mgateway_client\u001b[0m\u001b[0;34m.\u001b[0m\u001b[0msend_command\u001b[0m\u001b[0;34m(\u001b[0m\u001b[0mcommand\u001b[0m\u001b[0;34m)\u001b[0m\u001b[0;34m\u001b[0m\u001b[0;34m\u001b[0m\u001b[0m\n\u001b[1;32m   1256\u001b[0m         return_value = get_return_value(\n\u001b[0;32m-> 1257\u001b[0;31m             answer, self.gateway_client, self.target_id, self.name)\n\u001b[0m\u001b[1;32m   1258\u001b[0m \u001b[0;34m\u001b[0m\u001b[0m\n\u001b[1;32m   1259\u001b[0m         \u001b[0;32mfor\u001b[0m \u001b[0mtemp_arg\u001b[0m \u001b[0;32min\u001b[0m \u001b[0mtemp_args\u001b[0m\u001b[0;34m:\u001b[0m\u001b[0;34m\u001b[0m\u001b[0;34m\u001b[0m\u001b[0m\n",
            "\u001b[0;32m/content/spark-2.4.6-bin-hadoop2.7/python/pyspark/sql/utils.py\u001b[0m in \u001b[0;36mdeco\u001b[0;34m(*a, **kw)\u001b[0m\n\u001b[1;32m     61\u001b[0m     \u001b[0;32mdef\u001b[0m \u001b[0mdeco\u001b[0m\u001b[0;34m(\u001b[0m\u001b[0;34m*\u001b[0m\u001b[0ma\u001b[0m\u001b[0;34m,\u001b[0m \u001b[0;34m**\u001b[0m\u001b[0mkw\u001b[0m\u001b[0;34m)\u001b[0m\u001b[0;34m:\u001b[0m\u001b[0;34m\u001b[0m\u001b[0;34m\u001b[0m\u001b[0m\n\u001b[1;32m     62\u001b[0m         \u001b[0;32mtry\u001b[0m\u001b[0;34m:\u001b[0m\u001b[0;34m\u001b[0m\u001b[0;34m\u001b[0m\u001b[0m\n\u001b[0;32m---> 63\u001b[0;31m             \u001b[0;32mreturn\u001b[0m \u001b[0mf\u001b[0m\u001b[0;34m(\u001b[0m\u001b[0;34m*\u001b[0m\u001b[0ma\u001b[0m\u001b[0;34m,\u001b[0m \u001b[0;34m**\u001b[0m\u001b[0mkw\u001b[0m\u001b[0;34m)\u001b[0m\u001b[0;34m\u001b[0m\u001b[0;34m\u001b[0m\u001b[0m\n\u001b[0m\u001b[1;32m     64\u001b[0m         \u001b[0;32mexcept\u001b[0m \u001b[0mpy4j\u001b[0m\u001b[0;34m.\u001b[0m\u001b[0mprotocol\u001b[0m\u001b[0;34m.\u001b[0m\u001b[0mPy4JJavaError\u001b[0m \u001b[0;32mas\u001b[0m \u001b[0me\u001b[0m\u001b[0;34m:\u001b[0m\u001b[0;34m\u001b[0m\u001b[0;34m\u001b[0m\u001b[0m\n\u001b[1;32m     65\u001b[0m             \u001b[0ms\u001b[0m \u001b[0;34m=\u001b[0m \u001b[0me\u001b[0m\u001b[0;34m.\u001b[0m\u001b[0mjava_exception\u001b[0m\u001b[0;34m.\u001b[0m\u001b[0mtoString\u001b[0m\u001b[0;34m(\u001b[0m\u001b[0;34m)\u001b[0m\u001b[0;34m\u001b[0m\u001b[0;34m\u001b[0m\u001b[0m\n",
            "\u001b[0;32m/content/spark-2.4.6-bin-hadoop2.7/python/lib/py4j-0.10.7-src.zip/py4j/protocol.py\u001b[0m in \u001b[0;36mget_return_value\u001b[0;34m(answer, gateway_client, target_id, name)\u001b[0m\n\u001b[1;32m    326\u001b[0m                 raise Py4JJavaError(\n\u001b[1;32m    327\u001b[0m                     \u001b[0;34m\"An error occurred while calling {0}{1}{2}.\\n\"\u001b[0m\u001b[0;34m.\u001b[0m\u001b[0;34m\u001b[0m\u001b[0;34m\u001b[0m\u001b[0m\n\u001b[0;32m--> 328\u001b[0;31m                     format(target_id, \".\", name), value)\n\u001b[0m\u001b[1;32m    329\u001b[0m             \u001b[0;32melse\u001b[0m\u001b[0;34m:\u001b[0m\u001b[0;34m\u001b[0m\u001b[0;34m\u001b[0m\u001b[0m\n\u001b[1;32m    330\u001b[0m                 raise Py4JError(\n",
            "\u001b[0;31mPy4JJavaError\u001b[0m: An error occurred while calling o440.fit.\n: org.apache.spark.SparkException: Job aborted due to stage failure: Task 1 in stage 67.0 failed 1 times, most recent failure: Lost task 1.0 in stage 67.0 (TID 124, localhost, executor driver): java.lang.OutOfMemoryError: Java heap space\n\tat java.util.Arrays.copyOf(Arrays.java:3236)\n\tat java.io.ByteArrayOutputStream.grow(ByteArrayOutputStream.java:118)\n\tat java.io.ByteArrayOutputStream.ensureCapacity(ByteArrayOutputStream.java:93)\n\tat java.io.ByteArrayOutputStream.write(ByteArrayOutputStream.java:153)\n\tat org.apache.spark.util.ByteBufferOutputStream.write(ByteBufferOutputStream.scala:41)\n\tat java.io.ObjectOutputStream$BlockDataOutputStream.drain(ObjectOutputStream.java:1877)\n\tat java.io.ObjectOutputStream$BlockDataOutputStream.setBlockDataMode(ObjectOutputStream.java:1786)\n\tat java.io.ObjectOutputStream.writeObject0(ObjectOutputStream.java:1189)\n\tat java.io.ObjectOutputStream.writeObject(ObjectOutputStream.java:348)\n\tat org.apache.spark.serializer.JavaSerializationStream.writeObject(JavaSerializer.scala:43)\n\tat org.apache.spark.serializer.JavaSerializerInstance.serialize(JavaSerializer.scala:100)\n\tat org.apache.spark.executor.Executor$TaskRunner.run(Executor.scala:456)\n\tat java.util.concurrent.ThreadPoolExecutor.runWorker(ThreadPoolExecutor.java:1149)\n\tat java.util.concurrent.ThreadPoolExecutor$Worker.run(ThreadPoolExecutor.java:624)\n\tat java.lang.Thread.run(Thread.java:748)\n\nDriver stacktrace:\n\tat org.apache.spark.scheduler.DAGScheduler.org$apache$spark$scheduler$DAGScheduler$$failJobAndIndependentStages(DAGScheduler.scala:1891)\n\tat org.apache.spark.scheduler.DAGScheduler$$anonfun$abortStage$1.apply(DAGScheduler.scala:1879)\n\tat org.apache.spark.scheduler.DAGScheduler$$anonfun$abortStage$1.apply(DAGScheduler.scala:1878)\n\tat scala.collection.mutable.ResizableArray$class.foreach(ResizableArray.scala:59)\n\tat scala.collection.mutable.ArrayBuffer.foreach(ArrayBuffer.scala:48)\n\tat org.apache.spark.scheduler.DAGScheduler.abortStage(DAGScheduler.scala:1878)\n\tat org.apache.spark.scheduler.DAGScheduler$$anonfun$handleTaskSetFailed$1.apply(DAGScheduler.scala:927)\n\tat org.apache.spark.scheduler.DAGScheduler$$anonfun$handleTaskSetFailed$1.apply(DAGScheduler.scala:927)\n\tat scala.Option.foreach(Option.scala:257)\n\tat org.apache.spark.scheduler.DAGScheduler.handleTaskSetFailed(DAGScheduler.scala:927)\n\tat org.apache.spark.scheduler.DAGSchedulerEventProcessLoop.doOnReceive(DAGScheduler.scala:2112)\n\tat org.apache.spark.scheduler.DAGSchedulerEventProcessLoop.onReceive(DAGScheduler.scala:2061)\n\tat org.apache.spark.scheduler.DAGSchedulerEventProcessLoop.onReceive(DAGScheduler.scala:2050)\n\tat org.apache.spark.util.EventLoop$$anon$1.run(EventLoop.scala:49)\n\tat org.apache.spark.scheduler.DAGScheduler.runJob(DAGScheduler.scala:738)\n\tat org.apache.spark.SparkContext.runJob(SparkContext.scala:2061)\n\tat org.apache.spark.SparkContext.runJob(SparkContext.scala:2158)\n\tat org.apache.spark.rdd.RDD$$anonfun$fold$1.apply(RDD.scala:1143)\n\tat org.apache.spark.rdd.RDDOperationScope$.withScope(RDDOperationScope.scala:151)\n\tat org.apache.spark.rdd.RDDOperationScope$.withScope(RDDOperationScope.scala:112)\n\tat org.apache.spark.rdd.RDD.withScope(RDD.scala:385)\n\tat org.apache.spark.rdd.RDD.fold(RDD.scala:1137)\n\tat org.apache.spark.rdd.RDD$$anonfun$treeAggregate$1.apply(RDD.scala:1206)\n\tat org.apache.spark.rdd.RDDOperationScope$.withScope(RDDOperationScope.scala:151)\n\tat org.apache.spark.rdd.RDDOperationScope$.withScope(RDDOperationScope.scala:112)\n\tat org.apache.spark.rdd.RDD.withScope(RDD.scala:385)\n\tat org.apache.spark.rdd.RDD.treeAggregate(RDD.scala:1182)\n\tat org.apache.spark.mllib.optimization.LBFGS$CostFun.calculate(LBFGS.scala:261)\n\tat org.apache.spark.mllib.optimization.LBFGS$CostFun.calculate(LBFGS.scala:230)\n\tat breeze.optimize.CachedDiffFunction.calculate(CachedDiffFunction.scala:23)\n\tat breeze.optimize.LineSearch$$anon$1.calculate(LineSearch.scala:41)\n\tat breeze.optimize.LineSearch$$anon$1.calculate(LineSearch.scala:30)\n\tat breeze.optimize.StrongWolfeLineSearch.breeze$optimize$StrongWolfeLineSearch$$phi$1(StrongWolfe.scala:76)\n\tat breeze.optimize.StrongWolfeLineSearch$$anonfun$minimizeWithBound$1.apply$mcVI$sp(StrongWolfe.scala:149)\n\tat scala.collection.immutable.Range.foreach$mVc$sp(Range.scala:160)\n\tat breeze.optimize.StrongWolfeLineSearch.minimizeWithBound(StrongWolfe.scala:148)\n\tat breeze.optimize.StrongWolfeLineSearch.minimize(StrongWolfe.scala:62)\n\tat breeze.optimize.LBFGS.determineStepSize(LBFGS.scala:76)\n\tat breeze.optimize.LBFGS.determineStepSize(LBFGS.scala:39)\n\tat breeze.optimize.FirstOrderMinimizer$$anonfun$infiniteIterations$1.apply(FirstOrderMinimizer.scala:64)\n\tat breeze.optimize.FirstOrderMinimizer$$anonfun$infiniteIterations$1.apply(FirstOrderMinimizer.scala:62)\n\tat scala.collection.Iterator$$anon$7.next(Iterator.scala:129)\n\tat breeze.util.IteratorImplicits$RichIterator$$anon$2.next(Implicits.scala:71)\n\tat org.apache.spark.mllib.optimization.LBFGS$.runLBFGS(LBFGS.scala:212)\n\tat org.apache.spark.mllib.optimization.LBFGS.optimize(LBFGS.scala:142)\n\tat org.apache.spark.ml.ann.FeedForwardTrainer.train(Layer.scala:854)\n\tat org.apache.spark.ml.classification.MultilayerPerceptronClassifier$$anonfun$train$1.apply(MultilayerPerceptronClassifier.scala:249)\n\tat org.apache.spark.ml.classification.MultilayerPerceptronClassifier$$anonfun$train$1.apply(MultilayerPerceptronClassifier.scala:205)\n\tat org.apache.spark.ml.util.Instrumentation$$anonfun$11.apply(Instrumentation.scala:185)\n\tat scala.util.Try$.apply(Try.scala:192)\n\tat org.apache.spark.ml.util.Instrumentation$.instrumented(Instrumentation.scala:185)\n\tat org.apache.spark.ml.classification.MultilayerPerceptronClassifier.train(MultilayerPerceptronClassifier.scala:205)\n\tat org.apache.spark.ml.classification.MultilayerPerceptronClassifier.train(MultilayerPerceptronClassifier.scala:114)\n\tat org.apache.spark.ml.Predictor.fit(Predictor.scala:118)\n\tat sun.reflect.NativeMethodAccessorImpl.invoke0(Native Method)\n\tat sun.reflect.NativeMethodAccessorImpl.invoke(NativeMethodAccessorImpl.java:62)\n\tat sun.reflect.DelegatingMethodAccessorImpl.invoke(DelegatingMethodAccessorImpl.java:43)\n\tat java.lang.reflect.Method.invoke(Method.java:498)\n\tat py4j.reflection.MethodInvoker.invoke(MethodInvoker.java:244)\n\tat py4j.reflection.ReflectionEngine.invoke(ReflectionEngine.java:357)\n\tat py4j.Gateway.invoke(Gateway.java:282)\n\tat py4j.commands.AbstractCommand.invokeMethod(AbstractCommand.java:132)\n\tat py4j.commands.CallCommand.execute(CallCommand.java:79)\n\tat py4j.GatewayConnection.run(GatewayConnection.java:238)\n\tat java.lang.Thread.run(Thread.java:748)\nCaused by: java.lang.OutOfMemoryError: Java heap space\n\tat java.util.Arrays.copyOf(Arrays.java:3236)\n\tat java.io.ByteArrayOutputStream.grow(ByteArrayOutputStream.java:118)\n\tat java.io.ByteArrayOutputStream.ensureCapacity(ByteArrayOutputStream.java:93)\n\tat java.io.ByteArrayOutputStream.write(ByteArrayOutputStream.java:153)\n\tat org.apache.spark.util.ByteBufferOutputStream.write(ByteBufferOutputStream.scala:41)\n\tat java.io.ObjectOutputStream$BlockDataOutputStream.drain(ObjectOutputStream.java:1877)\n\tat java.io.ObjectOutputStream$BlockDataOutputStream.setBlockDataMode(ObjectOutputStream.java:1786)\n\tat java.io.ObjectOutputStream.writeObject0(ObjectOutputStream.java:1189)\n\tat java.io.ObjectOutputStream.writeObject(ObjectOutputStream.java:348)\n\tat org.apache.spark.serializer.JavaSerializationStream.writeObject(JavaSerializer.scala:43)\n\tat org.apache.spark.serializer.JavaSerializerInstance.serialize(JavaSerializer.scala:100)\n\tat org.apache.spark.executor.Executor$TaskRunner.run(Executor.scala:456)\n\tat java.util.concurrent.ThreadPoolExecutor.runWorker(ThreadPoolExecutor.java:1149)\n\tat java.util.concurrent.ThreadPoolExecutor$Worker.run(ThreadPoolExecutor.java:624)\n\t... 1 more\n"
          ]
        }
      ]
    }
  ]
}