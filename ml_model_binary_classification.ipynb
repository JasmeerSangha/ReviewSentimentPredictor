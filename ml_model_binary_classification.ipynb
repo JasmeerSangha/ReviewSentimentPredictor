{
  "nbformat": 4,
  "nbformat_minor": 0,
  "metadata": {
    "colab": {
      "name": "pyspark_pipeline.ipynb",
      "provenance": [],
      "collapsed_sections": [],
      "include_colab_link": true
    },
    "kernelspec": {
      "name": "python3",
      "display_name": "Python 3"
    }
  },
  "cells": [
    {
      "cell_type": "markdown",
      "metadata": {
        "id": "view-in-github",
        "colab_type": "text"
      },
      "source": [
        "<a href=\"https://colab.research.google.com/github/karenbennis/Xy/blob/ml_model/ml_model_binary_classification.ipynb\" target=\"_parent\"><img src=\"https://colab.research.google.com/assets/colab-badge.svg\" alt=\"Open In Colab\"/></a>"
      ]
    },
    {
      "cell_type": "markdown",
      "metadata": {
        "id": "7x2IxWo3wiqn",
        "colab_type": "text"
      },
      "source": [
        "## <br>**Connect to Database**<br><br>"
      ]
    },
    {
      "cell_type": "code",
      "metadata": {
        "id": "_nCS6homIgnW",
        "colab_type": "code",
        "colab": {
          "base_uri": "https://localhost:8080/",
          "height": 223
        },
        "outputId": "48b7cddd-a3c4-46c5-ba54-97379736f470"
      },
      "source": [
        "# Install Java, Spark, and Findspark\n",
        "!apt-get install openjdk-8-jdk-headless -qq > /dev/null\n",
        "!wget -q http://www-us.apache.org/dist/spark/spark-2.4.6/spark-2.4.6-bin-hadoop2.7.tgz\n",
        "!tar xf spark-2.4.6-bin-hadoop2.7.tgz\n",
        "!pip install -q findspark\n",
        "\n",
        "# Set Environment Variables\n",
        "import os\n",
        "os.environ[\"JAVA_HOME\"] = \"/usr/lib/jvm/java-8-openjdk-amd64\"\n",
        "os.environ[\"SPARK_HOME\"] = \"/content/spark-2.4.6-bin-hadoop2.7\"\n",
        "\n",
        "# Start a SparkSession\n",
        "import findspark\n",
        "findspark.init()\n",
        "\n",
        "#Interact with SQL\n",
        "!wget https://jdbc.postgresql.org/download/postgresql-42.2.9.jar\n",
        "\n",
        "# Start Spark Session(Creating spark application with name defined by appName()) ---IMPORTED WITH EVERY COLAB NOTEBOOK\n",
        "from pyspark.sql import SparkSession\n",
        "spark = SparkSession.builder.appName(\"database_transformation\").config(\"spark.driver.memory\",\"5g\").config(\"spark.driver.extraClassPath\",\"/content/postgresql-42.2.9.jar\").getOrCreate()\n"
      ],
      "execution_count": 1,
      "outputs": [
        {
          "output_type": "stream",
          "text": [
            "--2020-07-26 16:19:55--  https://jdbc.postgresql.org/download/postgresql-42.2.9.jar\n",
            "Resolving jdbc.postgresql.org (jdbc.postgresql.org)... 72.32.157.228, 2001:4800:3e1:1::228\n",
            "Connecting to jdbc.postgresql.org (jdbc.postgresql.org)|72.32.157.228|:443... connected.\n",
            "HTTP request sent, awaiting response... 200 OK\n",
            "Length: 914037 (893K) [application/java-archive]\n",
            "Saving to: ‘postgresql-42.2.9.jar’\n",
            "\n",
            "postgresql-42.2.9.j 100%[===================>] 892.61K  3.55MB/s    in 0.2s    \n",
            "\n",
            "2020-07-26 16:19:56 (3.55 MB/s) - ‘postgresql-42.2.9.jar’ saved [914037/914037]\n",
            "\n"
          ],
          "name": "stdout"
        }
      ]
    },
    {
      "cell_type": "code",
      "metadata": {
        "id": "tVTkr-xleT8C",
        "colab_type": "code",
        "colab": {
          "base_uri": "https://localhost:8080/",
          "height": 1000
        },
        "outputId": "fb553ddf-339b-424b-c6be-d8119eb7b448"
      },
      "source": [
        "# gcloud login and check the DB\n",
        "!gcloud auth login\n",
        "!gcloud config set project 'xy-yelp'\n",
        "!gcloud sql instances describe 'xy-yelp'"
      ],
      "execution_count": null,
      "outputs": [
        {
          "output_type": "stream",
          "text": [
            "Go to the following link in your browser:\n",
            "\n",
            "    https://accounts.google.com/o/oauth2/auth?client_id=32555940559.apps.googleusercontent.com&redirect_uri=urn%3Aietf%3Awg%3Aoauth%3A2.0%3Aoob&scope=openid+https%3A%2F%2Fwww.googleapis.com%2Fauth%2Fuserinfo.email+https%3A%2F%2Fwww.googleapis.com%2Fauth%2Fcloud-platform+https%3A%2F%2Fwww.googleapis.com%2Fauth%2Fappengine.admin+https%3A%2F%2Fwww.googleapis.com%2Fauth%2Fcompute+https%3A%2F%2Fwww.googleapis.com%2Fauth%2Faccounts.reauth&code_challenge=TGHQzzth5e5AMSwqAw6CpiH3wec9voSu-hui-MK-he0&code_challenge_method=S256&access_type=offline&response_type=code&prompt=select_account\n",
            "\n",
            "\n",
            "Enter verification code: 4/2QHe7YUZLypxZoQQ6PhcY2igPX1F0aY8znLdi8Pv6YIxOPyVrLPM_vU\n",
            "\n",
            "You are now logged in as [helenly25@gmail.com].\n",
            "Your current project is [xy-yelp].  You can change this setting by running:\n",
            "  $ gcloud config set project PROJECT_ID\n",
            "Updated property [core/project].\n",
            "backendType: SECOND_GEN\n",
            "connectionName: xy-yelp:northamerica-northeast1:xy-yelp\n",
            "databaseVersion: POSTGRES_12\n",
            "etag: bc66e3b4861eccb5afd42f9c257f2fb71f9c6273f5cfcb70659b019d99a17896\n",
            "gceZone: northamerica-northeast1-a\n",
            "instanceType: CLOUD_SQL_INSTANCE\n",
            "ipAddresses:\n",
            "- ipAddress: 34.95.0.17\n",
            "  type: PRIMARY\n",
            "kind: sql#instance\n",
            "name: xy-yelp\n",
            "project: xy-yelp\n",
            "region: northamerica-northeast1\n",
            "selfLink: https://sqladmin.googleapis.com/sql/v1beta4/projects/xy-yelp/instances/xy-yelp\n",
            "serverCaCert:\n",
            "  cert: |-\n",
            "    -----BEGIN CERTIFICATE-----\n",
            "    MIIDfzCCAmegAwIBAgIBADANBgkqhkiG9w0BAQsFADB3MS0wKwYDVQQuEyQzYTcz\n",
            "    ZmJhNS0xYTNlLTQwNmMtOWZhOC1hZGE1MDI3OGZkY2QxIzAhBgNVBAMTGkdvb2ds\n",
            "    ZSBDbG91ZCBTUUwgU2VydmVyIENBMRQwEgYDVQQKEwtHb29nbGUsIEluYzELMAkG\n",
            "    A1UEBhMCVVMwHhcNMjAwNzExMjAwMDA4WhcNMzAwNzA5MjAwMTA4WjB3MS0wKwYD\n",
            "    VQQuEyQzYTczZmJhNS0xYTNlLTQwNmMtOWZhOC1hZGE1MDI3OGZkY2QxIzAhBgNV\n",
            "    BAMTGkdvb2dsZSBDbG91ZCBTUUwgU2VydmVyIENBMRQwEgYDVQQKEwtHb29nbGUs\n",
            "    IEluYzELMAkGA1UEBhMCVVMwggEiMA0GCSqGSIb3DQEBAQUAA4IBDwAwggEKAoIB\n",
            "    AQDMLAiCVUS0u8JRUQSqXLNcXiDU4euUjKhmvbOnDCr2VNVX+dQoq8P+HmL4ruxr\n",
            "    lmLgtNKuhKjqISSzVKDxEf0mudWfOP+ygsXSP6XxLWplHn/N1A881+u+T33u5N0/\n",
            "    wreqH6suvi7Cu/SSEcmYUCnpIy5pSZzO63ww9M4p2HZnG/g/j7uqGdPUpdG4GbCk\n",
            "    jb8EskJiH0hU08ct+AySyc0mrgvfP9l/S5chz0j69uQX/yvWXWy4SSfJ3+wc45Se\n",
            "    8v7WYo+lcwsOu0lGCz53X9Nej0Av47aKUzXD4HlleeMTbkjgYEv2hRWKVoUhzugT\n",
            "    dJTsminBKtnYK1n2witgxNqVAgMBAAGjFjAUMBIGA1UdEwEB/wQIMAYBAf8CAQAw\n",
            "    DQYJKoZIhvcNAQELBQADggEBAB45K3XfFNL/Vkbj0f9daDji+cJHeUS3Y8Uxehog\n",
            "    2rf+rbmwfeH757NZT29o8rSMMfV05z3fuYvS67JvSIDx/I3UsxRGzRZY4EfXXhC9\n",
            "    Vke7AVtfxNgKk86V+JPEGQp52L+PFYdh33DigL8XrWpektxIxf7RAqFIvV0F+0FS\n",
            "    DhXWXkZ8ONFpMK6BCd4aZcKgD0LHafoAKv67+A8IE6b1fFJLh1nkuqZyv1kwLwTM\n",
            "    bLzSMmkgvxuv8d0dmVxWWr/V1kjc2U7oMqF+tgOE+hcF7fWRyRRZko1RtPwjUHlT\n",
            "    qzw5uqZUsxR8S4yyiaeePiF8YnDI72ypyY6FiRMlteAydJs=\n",
            "    -----END CERTIFICATE-----\n",
            "  certSerialNumber: '0'\n",
            "  commonName: C=US,O=Google\\, Inc,CN=Google Cloud SQL Server CA,dnQualifier=3a73fba5-1a3e-406c-9fa8-ada50278fdcd\n",
            "  createTime: '2020-07-11T20:00:08.018Z'\n",
            "  expirationTime: '2030-07-09T20:01:08.018Z'\n",
            "  instance: xy-yelp\n",
            "  kind: sql#sslCert\n",
            "  sha1Fingerprint: 2e2ffdd64d766e372537c174a3d4b91f59ee3e63\n",
            "serviceAccountEmailAddress: p8056368877-0mi1n8@gcp-sa-cloud-sql.iam.gserviceaccount.com\n",
            "settings:\n",
            "  activationPolicy: ALWAYS\n",
            "  availabilityType: ZONAL\n",
            "  backupConfiguration:\n",
            "    enabled: true\n",
            "    kind: sql#backupConfiguration\n",
            "    location: us\n",
            "    pointInTimeRecoveryEnabled: true\n",
            "    replicationLogArchivingEnabled: true\n",
            "    startTime: 13:00\n",
            "  dataDiskSizeGb: '43'\n",
            "  dataDiskType: PD_SSD\n",
            "  ipConfiguration:\n",
            "    authorizedNetworks:\n",
            "    - kind: sql#aclEntry\n",
            "      name: Karen's Residence\n",
            "      value: 173.32.183.48\n",
            "    - kind: sql#aclEntry\n",
            "      name: Helen's Residence\n",
            "      value: 72.142.66.43\n",
            "    - kind: sql#aclEntry\n",
            "      name: Blake Residence\n",
            "      value: 24.114.82.234\n",
            "    ipv4Enabled: true\n",
            "  kind: sql#settings\n",
            "  locationPreference:\n",
            "    kind: sql#locationPreference\n",
            "    zone: northamerica-northeast1-a\n",
            "  maintenanceWindow:\n",
            "    day: 0\n",
            "    hour: 0\n",
            "    kind: sql#maintenanceWindow\n",
            "  pricingPlan: PER_USE\n",
            "  replicationType: SYNCHRONOUS\n",
            "  settingsVersion: '35'\n",
            "  storageAutoResize: true\n",
            "  storageAutoResizeLimit: '0'\n",
            "  tier: db-f1-micro\n",
            "state: RUNNABLE\n"
          ],
          "name": "stdout"
        }
      ]
    },
    {
      "cell_type": "code",
      "metadata": {
        "id": "Zn_F729PexE6",
        "colab_type": "code",
        "colab": {
          "base_uri": "https://localhost:8080/",
          "height": 54
        },
        "outputId": "0fab4c63-7393-4262-9b8f-85bb74197391"
      },
      "source": [
        "# download and initialize the psql proxy\n",
        "!wget https://dl.google.com/cloudsql/cloud_sql_proxy.linux.amd64 -O cloud_sql_proxy\n",
        "!chmod +x cloud_sql_proxy\n",
        "# \"connectionName\" is from the previous block\n",
        "!nohup ./cloud_sql_proxy -instances=\"xy-yelp:northamerica-northeast1:xy-yelp\"=tcp:5432 &\n",
        "!sleep 30s"
      ],
      "execution_count": null,
      "outputs": [
        {
          "output_type": "stream",
          "text": [
            "cloud_sql_proxy: Text file busy\n",
            "nohup: appending output to 'nohup.out'\n"
          ],
          "name": "stdout"
        }
      ]
    },
    {
      "cell_type": "code",
      "metadata": {
        "id": "V5Ko5J-Ee7Ec",
        "colab_type": "code",
        "colab": {}
      },
      "source": [
        "db_password = 'kjhbyelpdb'"
      ],
      "execution_count": null,
      "outputs": []
    },
    {
      "cell_type": "code",
      "metadata": {
        "id": "fs2eCTjpfEd6",
        "colab_type": "code",
        "colab": {}
      },
      "source": [
        "# Configure settings for RDS\n",
        "mode = \"append\"\n",
        "jdbc_url=\"jdbc:postgresql://127.0.0.1:5432/xy_yelp_db\"\n",
        "config = {\"user\":\"postgres\", \n",
        "          \"password\": db_password, \n",
        "          \"driver\":\"org.postgresql.Driver\"}"
      ],
      "execution_count": null,
      "outputs": []
    },
    {
      "cell_type": "markdown",
      "metadata": {
        "id": "cQez-IxYJC_V",
        "colab_type": "text"
      },
      "source": [
        "## **Extract tables**"
      ]
    },
    {
      "cell_type": "code",
      "metadata": {
        "id": "gYCeG56KqO75",
        "colab_type": "code",
        "colab": {
          "base_uri": "https://localhost:8080/",
          "height": 206
        },
        "outputId": "072b12a7-5a67-42fd-985a-6b981d062ef5"
      },
      "source": [
        "# Load in data\n",
        "import pandas as pd\n",
        "pandas_df = pd.read_csv(\"https://raw.githubusercontent.com/karenbennis/Xy/storyboard/uniform_yelp.csv\")\n",
        "\n",
        "pandas_df.head()"
      ],
      "execution_count": 2,
      "outputs": [
        {
          "output_type": "execute_result",
          "data": {
            "text/html": [
              "<div>\n",
              "<style scoped>\n",
              "    .dataframe tbody tr th:only-of-type {\n",
              "        vertical-align: middle;\n",
              "    }\n",
              "\n",
              "    .dataframe tbody tr th {\n",
              "        vertical-align: top;\n",
              "    }\n",
              "\n",
              "    .dataframe thead th {\n",
              "        text-align: right;\n",
              "    }\n",
              "</style>\n",
              "<table border=\"1\" class=\"dataframe\">\n",
              "  <thead>\n",
              "    <tr style=\"text-align: right;\">\n",
              "      <th></th>\n",
              "      <th>review_id</th>\n",
              "      <th>user_id</th>\n",
              "      <th>business_id</th>\n",
              "      <th>stars</th>\n",
              "      <th>date</th>\n",
              "      <th>text</th>\n",
              "      <th>useful</th>\n",
              "      <th>funny</th>\n",
              "      <th>cool</th>\n",
              "    </tr>\n",
              "  </thead>\n",
              "  <tbody>\n",
              "    <tr>\n",
              "      <th>0</th>\n",
              "      <td>f5pGCpvkpRpJixZ0zA3hCg</td>\n",
              "      <td>8p2nss7UoZmIVZTr1IjR3w</td>\n",
              "      <td>caWUE0ItqsG51OaBVlr4Eg</td>\n",
              "      <td>2</td>\n",
              "      <td>2016-11-13</td>\n",
              "      <td>We went here three more times for lunch and tw...</td>\n",
              "      <td>0</td>\n",
              "      <td>0</td>\n",
              "      <td>0</td>\n",
              "    </tr>\n",
              "    <tr>\n",
              "      <th>1</th>\n",
              "      <td>8lPKsNFBiLmVL5nbsUXaZw</td>\n",
              "      <td>O3pSxv1SyHpY4qi4Q16KzA</td>\n",
              "      <td>dc3uoAmNo5STqKV6mlD_aA</td>\n",
              "      <td>1</td>\n",
              "      <td>2017-05-30</td>\n",
              "      <td>My husband and I went to the Drake for lunch t...</td>\n",
              "      <td>2</td>\n",
              "      <td>1</td>\n",
              "      <td>1</td>\n",
              "    </tr>\n",
              "    <tr>\n",
              "      <th>2</th>\n",
              "      <td>CANhCLzOoZ0mkL3mpnUSNg</td>\n",
              "      <td>ffC9zmbY4pBOS9ByrWoXxQ</td>\n",
              "      <td>sR9hPrIaG-J-GLcl4yaiLw</td>\n",
              "      <td>1</td>\n",
              "      <td>2017-11-19</td>\n",
              "      <td>Very Problematic\\nI'm gay, I'm not ashamed to ...</td>\n",
              "      <td>0</td>\n",
              "      <td>0</td>\n",
              "      <td>0</td>\n",
              "    </tr>\n",
              "    <tr>\n",
              "      <th>3</th>\n",
              "      <td>bZ02moAXlosgWPM3pXSHWw</td>\n",
              "      <td>zE49S2Em3l7vgIlvFzZFOw</td>\n",
              "      <td>NF6di6YcQxN0rDAleE7SyQ</td>\n",
              "      <td>3</td>\n",
              "      <td>2014-12-30</td>\n",
              "      <td>Today was the first time I sat down a table. I...</td>\n",
              "      <td>0</td>\n",
              "      <td>0</td>\n",
              "      <td>0</td>\n",
              "    </tr>\n",
              "    <tr>\n",
              "      <th>4</th>\n",
              "      <td>TmIla5Eh5SSLJ_bKgH4Syg</td>\n",
              "      <td>xde2rO3XVt0Do8kLRIt2Dw</td>\n",
              "      <td>Wc9UpJhOcdSj7olZkz7SJA</td>\n",
              "      <td>2</td>\n",
              "      <td>2013-02-19</td>\n",
              "      <td>I ordered chicken tacos with no cheese to go. ...</td>\n",
              "      <td>4</td>\n",
              "      <td>1</td>\n",
              "      <td>0</td>\n",
              "    </tr>\n",
              "  </tbody>\n",
              "</table>\n",
              "</div>"
            ],
            "text/plain": [
              "                review_id                 user_id  ... funny  cool\n",
              "0  f5pGCpvkpRpJixZ0zA3hCg  8p2nss7UoZmIVZTr1IjR3w  ...     0     0\n",
              "1  8lPKsNFBiLmVL5nbsUXaZw  O3pSxv1SyHpY4qi4Q16KzA  ...     1     1\n",
              "2  CANhCLzOoZ0mkL3mpnUSNg  ffC9zmbY4pBOS9ByrWoXxQ  ...     0     0\n",
              "3  bZ02moAXlosgWPM3pXSHWw  zE49S2Em3l7vgIlvFzZFOw  ...     0     0\n",
              "4  TmIla5Eh5SSLJ_bKgH4Syg  xde2rO3XVt0Do8kLRIt2Dw  ...     1     0\n",
              "\n",
              "[5 rows x 9 columns]"
            ]
          },
          "metadata": {
            "tags": []
          },
          "execution_count": 2
        }
      ]
    },
    {
      "cell_type": "markdown",
      "metadata": {
        "id": "S6k3WVfJM6cE",
        "colab_type": "text"
      },
      "source": [
        "## **Transformation**"
      ]
    },
    {
      "cell_type": "code",
      "metadata": {
        "id": "Kbjp52Q77Ye5",
        "colab_type": "code",
        "colab": {
          "base_uri": "https://localhost:8080/",
          "height": 469
        },
        "outputId": "ad3853c5-fbfb-4440-8106-690b70c0024f"
      },
      "source": [
        "# Create function for binary classification\n",
        "def good(x):\n",
        "    if x > 3:\n",
        "        return 1\n",
        "    if x < 4:\n",
        "        return 0\n",
        "\n",
        "# Create the class column splitting review into positive and negative\n",
        "pandas_df['label']=pandas_df['stars'].apply(good)\n",
        "pandas_df.head()"
      ],
      "execution_count": 21,
      "outputs": [
        {
          "output_type": "execute_result",
          "data": {
            "text/html": [
              "<div>\n",
              "<style scoped>\n",
              "    .dataframe tbody tr th:only-of-type {\n",
              "        vertical-align: middle;\n",
              "    }\n",
              "\n",
              "    .dataframe tbody tr th {\n",
              "        vertical-align: top;\n",
              "    }\n",
              "\n",
              "    .dataframe thead th {\n",
              "        text-align: right;\n",
              "    }\n",
              "</style>\n",
              "<table border=\"1\" class=\"dataframe\">\n",
              "  <thead>\n",
              "    <tr style=\"text-align: right;\">\n",
              "      <th></th>\n",
              "      <th>review_id</th>\n",
              "      <th>user_id</th>\n",
              "      <th>business_id</th>\n",
              "      <th>stars</th>\n",
              "      <th>date</th>\n",
              "      <th>text</th>\n",
              "      <th>useful</th>\n",
              "      <th>funny</th>\n",
              "      <th>cool</th>\n",
              "      <th>class</th>\n",
              "      <th>body_text_clean</th>\n",
              "      <th>body_text_tokenized</th>\n",
              "      <th>body_text_nostop</th>\n",
              "      <th>body_text_stemmed</th>\n",
              "      <th>body_text_lemmatized</th>\n",
              "      <th>length</th>\n",
              "      <th>label</th>\n",
              "    </tr>\n",
              "  </thead>\n",
              "  <tbody>\n",
              "    <tr>\n",
              "      <th>0</th>\n",
              "      <td>f5pGCpvkpRpJixZ0zA3hCg</td>\n",
              "      <td>8p2nss7UoZmIVZTr1IjR3w</td>\n",
              "      <td>caWUE0ItqsG51OaBVlr4Eg</td>\n",
              "      <td>2</td>\n",
              "      <td>2016-11-13</td>\n",
              "      <td>We went here three more times for lunch and tw...</td>\n",
              "      <td>0</td>\n",
              "      <td>0</td>\n",
              "      <td>0</td>\n",
              "      <td>0</td>\n",
              "      <td>We went here three more times for lunch and tw...</td>\n",
              "      <td>[we, went, here, three, more, times, for, lunc...</td>\n",
              "      <td>[went, three, times, lunch, twice, dinner, thi...</td>\n",
              "      <td>[went, three, time, lunch, twice, dinner, thin...</td>\n",
              "      <td>[went, three, time, lunch, twice, dinner, thin...</td>\n",
              "      <td>572</td>\n",
              "      <td>0</td>\n",
              "    </tr>\n",
              "    <tr>\n",
              "      <th>1</th>\n",
              "      <td>8lPKsNFBiLmVL5nbsUXaZw</td>\n",
              "      <td>O3pSxv1SyHpY4qi4Q16KzA</td>\n",
              "      <td>dc3uoAmNo5STqKV6mlD_aA</td>\n",
              "      <td>1</td>\n",
              "      <td>2017-05-30</td>\n",
              "      <td>My husband and I went to the Drake for lunch t...</td>\n",
              "      <td>2</td>\n",
              "      <td>1</td>\n",
              "      <td>1</td>\n",
              "      <td>0</td>\n",
              "      <td>My husband and I went to the Drake for lunch t...</td>\n",
              "      <td>[my, husband, and, i, went, to, the, drake, fo...</td>\n",
              "      <td>[husband, went, drake, lunch, today, sat, pati...</td>\n",
              "      <td>[husband, went, drake, lunch, today, sat, pati...</td>\n",
              "      <td>[husband, went, drake, lunch, today, sat, pati...</td>\n",
              "      <td>407</td>\n",
              "      <td>0</td>\n",
              "    </tr>\n",
              "    <tr>\n",
              "      <th>2</th>\n",
              "      <td>CANhCLzOoZ0mkL3mpnUSNg</td>\n",
              "      <td>ffC9zmbY4pBOS9ByrWoXxQ</td>\n",
              "      <td>sR9hPrIaG-J-GLcl4yaiLw</td>\n",
              "      <td>1</td>\n",
              "      <td>2017-11-19</td>\n",
              "      <td>Very Problematic\\nI'm gay, I'm not ashamed to ...</td>\n",
              "      <td>0</td>\n",
              "      <td>0</td>\n",
              "      <td>0</td>\n",
              "      <td>0</td>\n",
              "      <td>Very Problematic\\nIm gay Im not ashamed to say...</td>\n",
              "      <td>[very, problematic, im, gay, im, not, ashamed,...</td>\n",
              "      <td>[problematic, im, gay, im, ashamed, say, felt,...</td>\n",
              "      <td>[problemat, im, gay, im, asham, say, felt, ash...</td>\n",
              "      <td>[problematic, im, gay, im, ashamed, say, felt,...</td>\n",
              "      <td>483</td>\n",
              "      <td>0</td>\n",
              "    </tr>\n",
              "    <tr>\n",
              "      <th>3</th>\n",
              "      <td>bZ02moAXlosgWPM3pXSHWw</td>\n",
              "      <td>zE49S2Em3l7vgIlvFzZFOw</td>\n",
              "      <td>NF6di6YcQxN0rDAleE7SyQ</td>\n",
              "      <td>3</td>\n",
              "      <td>2014-12-30</td>\n",
              "      <td>Today was the first time I sat down a table. I...</td>\n",
              "      <td>0</td>\n",
              "      <td>0</td>\n",
              "      <td>0</td>\n",
              "      <td>0</td>\n",
              "      <td>Today was the first time I sat down a table I ...</td>\n",
              "      <td>[today, was, the, first, time, i, sat, down, a...</td>\n",
              "      <td>[today, first, time, sat, table, like, wait, w...</td>\n",
              "      <td>[today, first, time, sat, tabl, like, wait, we...</td>\n",
              "      <td>[today, first, time, sat, table, like, wait, w...</td>\n",
              "      <td>1682</td>\n",
              "      <td>0</td>\n",
              "    </tr>\n",
              "    <tr>\n",
              "      <th>4</th>\n",
              "      <td>TmIla5Eh5SSLJ_bKgH4Syg</td>\n",
              "      <td>xde2rO3XVt0Do8kLRIt2Dw</td>\n",
              "      <td>Wc9UpJhOcdSj7olZkz7SJA</td>\n",
              "      <td>2</td>\n",
              "      <td>2013-02-19</td>\n",
              "      <td>I ordered chicken tacos with no cheese to go. ...</td>\n",
              "      <td>4</td>\n",
              "      <td>1</td>\n",
              "      <td>0</td>\n",
              "      <td>0</td>\n",
              "      <td>I ordered chicken tacos with no cheese to go  ...</td>\n",
              "      <td>[i, ordered, chicken, tacos, with, no, cheese,...</td>\n",
              "      <td>[ordered, chicken, tacos, cheese, go, got, off...</td>\n",
              "      <td>[order, chicken, taco, chees, go, got, offic, ...</td>\n",
              "      <td>[ordered, chicken, taco, cheese, go, got, offi...</td>\n",
              "      <td>324</td>\n",
              "      <td>0</td>\n",
              "    </tr>\n",
              "  </tbody>\n",
              "</table>\n",
              "</div>"
            ],
            "text/plain": [
              "                review_id                 user_id  ... length  label\n",
              "0  f5pGCpvkpRpJixZ0zA3hCg  8p2nss7UoZmIVZTr1IjR3w  ...    572      0\n",
              "1  8lPKsNFBiLmVL5nbsUXaZw  O3pSxv1SyHpY4qi4Q16KzA  ...    407      0\n",
              "2  CANhCLzOoZ0mkL3mpnUSNg  ffC9zmbY4pBOS9ByrWoXxQ  ...    483      0\n",
              "3  bZ02moAXlosgWPM3pXSHWw  zE49S2Em3l7vgIlvFzZFOw  ...   1682      0\n",
              "4  TmIla5Eh5SSLJ_bKgH4Syg  xde2rO3XVt0Do8kLRIt2Dw  ...    324      0\n",
              "\n",
              "[5 rows x 17 columns]"
            ]
          },
          "metadata": {
            "tags": []
          },
          "execution_count": 21
        }
      ]
    },
    {
      "cell_type": "code",
      "metadata": {
        "id": "5spcR_u39aJT",
        "colab_type": "code",
        "colab": {
          "base_uri": "https://localhost:8080/",
          "height": 469
        },
        "outputId": "b0bdc348-16fa-4560-cd48-5e70dde862c6"
      },
      "source": [
        "# Remove 3 stars\n",
        "pandas_df = pandas_df.loc[pandas_df['stars'] != 3]\n",
        "pandas_df.head()"
      ],
      "execution_count": 22,
      "outputs": [
        {
          "output_type": "execute_result",
          "data": {
            "text/html": [
              "<div>\n",
              "<style scoped>\n",
              "    .dataframe tbody tr th:only-of-type {\n",
              "        vertical-align: middle;\n",
              "    }\n",
              "\n",
              "    .dataframe tbody tr th {\n",
              "        vertical-align: top;\n",
              "    }\n",
              "\n",
              "    .dataframe thead th {\n",
              "        text-align: right;\n",
              "    }\n",
              "</style>\n",
              "<table border=\"1\" class=\"dataframe\">\n",
              "  <thead>\n",
              "    <tr style=\"text-align: right;\">\n",
              "      <th></th>\n",
              "      <th>review_id</th>\n",
              "      <th>user_id</th>\n",
              "      <th>business_id</th>\n",
              "      <th>stars</th>\n",
              "      <th>date</th>\n",
              "      <th>text</th>\n",
              "      <th>useful</th>\n",
              "      <th>funny</th>\n",
              "      <th>cool</th>\n",
              "      <th>class</th>\n",
              "      <th>body_text_clean</th>\n",
              "      <th>body_text_tokenized</th>\n",
              "      <th>body_text_nostop</th>\n",
              "      <th>body_text_stemmed</th>\n",
              "      <th>body_text_lemmatized</th>\n",
              "      <th>length</th>\n",
              "      <th>label</th>\n",
              "    </tr>\n",
              "  </thead>\n",
              "  <tbody>\n",
              "    <tr>\n",
              "      <th>0</th>\n",
              "      <td>f5pGCpvkpRpJixZ0zA3hCg</td>\n",
              "      <td>8p2nss7UoZmIVZTr1IjR3w</td>\n",
              "      <td>caWUE0ItqsG51OaBVlr4Eg</td>\n",
              "      <td>2</td>\n",
              "      <td>2016-11-13</td>\n",
              "      <td>We went here three more times for lunch and tw...</td>\n",
              "      <td>0</td>\n",
              "      <td>0</td>\n",
              "      <td>0</td>\n",
              "      <td>0</td>\n",
              "      <td>We went here three more times for lunch and tw...</td>\n",
              "      <td>[we, went, here, three, more, times, for, lunc...</td>\n",
              "      <td>[went, three, times, lunch, twice, dinner, thi...</td>\n",
              "      <td>[went, three, time, lunch, twice, dinner, thin...</td>\n",
              "      <td>[went, three, time, lunch, twice, dinner, thin...</td>\n",
              "      <td>572</td>\n",
              "      <td>0</td>\n",
              "    </tr>\n",
              "    <tr>\n",
              "      <th>1</th>\n",
              "      <td>8lPKsNFBiLmVL5nbsUXaZw</td>\n",
              "      <td>O3pSxv1SyHpY4qi4Q16KzA</td>\n",
              "      <td>dc3uoAmNo5STqKV6mlD_aA</td>\n",
              "      <td>1</td>\n",
              "      <td>2017-05-30</td>\n",
              "      <td>My husband and I went to the Drake for lunch t...</td>\n",
              "      <td>2</td>\n",
              "      <td>1</td>\n",
              "      <td>1</td>\n",
              "      <td>0</td>\n",
              "      <td>My husband and I went to the Drake for lunch t...</td>\n",
              "      <td>[my, husband, and, i, went, to, the, drake, fo...</td>\n",
              "      <td>[husband, went, drake, lunch, today, sat, pati...</td>\n",
              "      <td>[husband, went, drake, lunch, today, sat, pati...</td>\n",
              "      <td>[husband, went, drake, lunch, today, sat, pati...</td>\n",
              "      <td>407</td>\n",
              "      <td>0</td>\n",
              "    </tr>\n",
              "    <tr>\n",
              "      <th>2</th>\n",
              "      <td>CANhCLzOoZ0mkL3mpnUSNg</td>\n",
              "      <td>ffC9zmbY4pBOS9ByrWoXxQ</td>\n",
              "      <td>sR9hPrIaG-J-GLcl4yaiLw</td>\n",
              "      <td>1</td>\n",
              "      <td>2017-11-19</td>\n",
              "      <td>Very Problematic\\nI'm gay, I'm not ashamed to ...</td>\n",
              "      <td>0</td>\n",
              "      <td>0</td>\n",
              "      <td>0</td>\n",
              "      <td>0</td>\n",
              "      <td>Very Problematic\\nIm gay Im not ashamed to say...</td>\n",
              "      <td>[very, problematic, im, gay, im, not, ashamed,...</td>\n",
              "      <td>[problematic, im, gay, im, ashamed, say, felt,...</td>\n",
              "      <td>[problemat, im, gay, im, asham, say, felt, ash...</td>\n",
              "      <td>[problematic, im, gay, im, ashamed, say, felt,...</td>\n",
              "      <td>483</td>\n",
              "      <td>0</td>\n",
              "    </tr>\n",
              "    <tr>\n",
              "      <th>4</th>\n",
              "      <td>TmIla5Eh5SSLJ_bKgH4Syg</td>\n",
              "      <td>xde2rO3XVt0Do8kLRIt2Dw</td>\n",
              "      <td>Wc9UpJhOcdSj7olZkz7SJA</td>\n",
              "      <td>2</td>\n",
              "      <td>2013-02-19</td>\n",
              "      <td>I ordered chicken tacos with no cheese to go. ...</td>\n",
              "      <td>4</td>\n",
              "      <td>1</td>\n",
              "      <td>0</td>\n",
              "      <td>0</td>\n",
              "      <td>I ordered chicken tacos with no cheese to go  ...</td>\n",
              "      <td>[i, ordered, chicken, tacos, with, no, cheese,...</td>\n",
              "      <td>[ordered, chicken, tacos, cheese, go, got, off...</td>\n",
              "      <td>[order, chicken, taco, chees, go, got, offic, ...</td>\n",
              "      <td>[ordered, chicken, taco, cheese, go, got, offi...</td>\n",
              "      <td>324</td>\n",
              "      <td>0</td>\n",
              "    </tr>\n",
              "    <tr>\n",
              "      <th>5</th>\n",
              "      <td>Hbn8Wn1ryc_SloxZ7jRGWA</td>\n",
              "      <td>st8UrI7Qkwi3nvHH0zpqUg</td>\n",
              "      <td>sFg3G8-oMGeiHYsVqKN7PQ</td>\n",
              "      <td>2</td>\n",
              "      <td>2017-06-27</td>\n",
              "      <td>Granted it's a possibility that this restauran...</td>\n",
              "      <td>0</td>\n",
              "      <td>0</td>\n",
              "      <td>0</td>\n",
              "      <td>0</td>\n",
              "      <td>Granted its a possibility that this restaurant...</td>\n",
              "      <td>[granted, its, a, possibility, that, this, res...</td>\n",
              "      <td>[granted, possibility, restaurant, mom, pop, t...</td>\n",
              "      <td>[grant, possibl, restaur, mom, pop, type, plac...</td>\n",
              "      <td>[granted, possibility, restaurant, mom, pop, t...</td>\n",
              "      <td>1844</td>\n",
              "      <td>0</td>\n",
              "    </tr>\n",
              "  </tbody>\n",
              "</table>\n",
              "</div>"
            ],
            "text/plain": [
              "                review_id                 user_id  ... length  label\n",
              "0  f5pGCpvkpRpJixZ0zA3hCg  8p2nss7UoZmIVZTr1IjR3w  ...    572      0\n",
              "1  8lPKsNFBiLmVL5nbsUXaZw  O3pSxv1SyHpY4qi4Q16KzA  ...    407      0\n",
              "2  CANhCLzOoZ0mkL3mpnUSNg  ffC9zmbY4pBOS9ByrWoXxQ  ...    483      0\n",
              "4  TmIla5Eh5SSLJ_bKgH4Syg  xde2rO3XVt0Do8kLRIt2Dw  ...    324      0\n",
              "5  Hbn8Wn1ryc_SloxZ7jRGWA  st8UrI7Qkwi3nvHH0zpqUg  ...   1844      0\n",
              "\n",
              "[5 rows x 17 columns]"
            ]
          },
          "metadata": {
            "tags": []
          },
          "execution_count": 22
        }
      ]
    },
    {
      "cell_type": "code",
      "metadata": {
        "id": "l-oZ7ztJqPAh",
        "colab_type": "code",
        "colab": {}
      },
      "source": [
        "# Import dependencies for nltk\n",
        "# https://towardsdatascience.com/natural-language-processing-nlp-for-machine-learning-d44498845d5b\n",
        "import nltk"
      ],
      "execution_count": 23,
      "outputs": []
    },
    {
      "cell_type": "code",
      "metadata": {
        "id": "YWjqAnpGsxtM",
        "colab_type": "code",
        "colab": {
          "base_uri": "https://localhost:8080/",
          "height": 36
        },
        "outputId": "2dfd0334-5405-4dec-b827-4c3dd37850f4"
      },
      "source": [
        "# Import string and punctuations\n",
        "import string\n",
        "string.punctuation"
      ],
      "execution_count": 24,
      "outputs": [
        {
          "output_type": "execute_result",
          "data": {
            "application/vnd.google.colaboratory.intrinsic+json": {
              "type": "string"
            },
            "text/plain": [
              "'!\"#$%&\\'()*+,-./:;<=>?@[\\\\]^_`{|}~'"
            ]
          },
          "metadata": {
            "tags": []
          },
          "execution_count": 24
        }
      ]
    },
    {
      "cell_type": "code",
      "metadata": {
        "id": "DUy5O7uUsx3o",
        "colab_type": "code",
        "colab": {
          "base_uri": "https://localhost:8080/",
          "height": 469
        },
        "outputId": "ed34f05b-fd72-41dd-a051-f7e1023915a4"
      },
      "source": [
        "# Function to remove Punctuation\n",
        "def remove_punct(text):\n",
        "\n",
        "  # Discard all punctuations\n",
        "  text_nopunct = ''.join([char for char in text if char not in string.punctuation])\n",
        "  return text_nopunct\n",
        "\n",
        "pandas_df['body_text_clean'] = pandas_df['text'].apply(lambda x: remove_punct(x))\n",
        "\n",
        "pandas_df.head()"
      ],
      "execution_count": 25,
      "outputs": [
        {
          "output_type": "execute_result",
          "data": {
            "text/html": [
              "<div>\n",
              "<style scoped>\n",
              "    .dataframe tbody tr th:only-of-type {\n",
              "        vertical-align: middle;\n",
              "    }\n",
              "\n",
              "    .dataframe tbody tr th {\n",
              "        vertical-align: top;\n",
              "    }\n",
              "\n",
              "    .dataframe thead th {\n",
              "        text-align: right;\n",
              "    }\n",
              "</style>\n",
              "<table border=\"1\" class=\"dataframe\">\n",
              "  <thead>\n",
              "    <tr style=\"text-align: right;\">\n",
              "      <th></th>\n",
              "      <th>review_id</th>\n",
              "      <th>user_id</th>\n",
              "      <th>business_id</th>\n",
              "      <th>stars</th>\n",
              "      <th>date</th>\n",
              "      <th>text</th>\n",
              "      <th>useful</th>\n",
              "      <th>funny</th>\n",
              "      <th>cool</th>\n",
              "      <th>class</th>\n",
              "      <th>body_text_clean</th>\n",
              "      <th>body_text_tokenized</th>\n",
              "      <th>body_text_nostop</th>\n",
              "      <th>body_text_stemmed</th>\n",
              "      <th>body_text_lemmatized</th>\n",
              "      <th>length</th>\n",
              "      <th>label</th>\n",
              "    </tr>\n",
              "  </thead>\n",
              "  <tbody>\n",
              "    <tr>\n",
              "      <th>0</th>\n",
              "      <td>f5pGCpvkpRpJixZ0zA3hCg</td>\n",
              "      <td>8p2nss7UoZmIVZTr1IjR3w</td>\n",
              "      <td>caWUE0ItqsG51OaBVlr4Eg</td>\n",
              "      <td>2</td>\n",
              "      <td>2016-11-13</td>\n",
              "      <td>We went here three more times for lunch and tw...</td>\n",
              "      <td>0</td>\n",
              "      <td>0</td>\n",
              "      <td>0</td>\n",
              "      <td>0</td>\n",
              "      <td>We went here three more times for lunch and tw...</td>\n",
              "      <td>[we, went, here, three, more, times, for, lunc...</td>\n",
              "      <td>[went, three, times, lunch, twice, dinner, thi...</td>\n",
              "      <td>[went, three, time, lunch, twice, dinner, thin...</td>\n",
              "      <td>[went, three, time, lunch, twice, dinner, thin...</td>\n",
              "      <td>572</td>\n",
              "      <td>0</td>\n",
              "    </tr>\n",
              "    <tr>\n",
              "      <th>1</th>\n",
              "      <td>8lPKsNFBiLmVL5nbsUXaZw</td>\n",
              "      <td>O3pSxv1SyHpY4qi4Q16KzA</td>\n",
              "      <td>dc3uoAmNo5STqKV6mlD_aA</td>\n",
              "      <td>1</td>\n",
              "      <td>2017-05-30</td>\n",
              "      <td>My husband and I went to the Drake for lunch t...</td>\n",
              "      <td>2</td>\n",
              "      <td>1</td>\n",
              "      <td>1</td>\n",
              "      <td>0</td>\n",
              "      <td>My husband and I went to the Drake for lunch t...</td>\n",
              "      <td>[my, husband, and, i, went, to, the, drake, fo...</td>\n",
              "      <td>[husband, went, drake, lunch, today, sat, pati...</td>\n",
              "      <td>[husband, went, drake, lunch, today, sat, pati...</td>\n",
              "      <td>[husband, went, drake, lunch, today, sat, pati...</td>\n",
              "      <td>407</td>\n",
              "      <td>0</td>\n",
              "    </tr>\n",
              "    <tr>\n",
              "      <th>2</th>\n",
              "      <td>CANhCLzOoZ0mkL3mpnUSNg</td>\n",
              "      <td>ffC9zmbY4pBOS9ByrWoXxQ</td>\n",
              "      <td>sR9hPrIaG-J-GLcl4yaiLw</td>\n",
              "      <td>1</td>\n",
              "      <td>2017-11-19</td>\n",
              "      <td>Very Problematic\\nI'm gay, I'm not ashamed to ...</td>\n",
              "      <td>0</td>\n",
              "      <td>0</td>\n",
              "      <td>0</td>\n",
              "      <td>0</td>\n",
              "      <td>Very Problematic\\nIm gay Im not ashamed to say...</td>\n",
              "      <td>[very, problematic, im, gay, im, not, ashamed,...</td>\n",
              "      <td>[problematic, im, gay, im, ashamed, say, felt,...</td>\n",
              "      <td>[problemat, im, gay, im, asham, say, felt, ash...</td>\n",
              "      <td>[problematic, im, gay, im, ashamed, say, felt,...</td>\n",
              "      <td>483</td>\n",
              "      <td>0</td>\n",
              "    </tr>\n",
              "    <tr>\n",
              "      <th>4</th>\n",
              "      <td>TmIla5Eh5SSLJ_bKgH4Syg</td>\n",
              "      <td>xde2rO3XVt0Do8kLRIt2Dw</td>\n",
              "      <td>Wc9UpJhOcdSj7olZkz7SJA</td>\n",
              "      <td>2</td>\n",
              "      <td>2013-02-19</td>\n",
              "      <td>I ordered chicken tacos with no cheese to go. ...</td>\n",
              "      <td>4</td>\n",
              "      <td>1</td>\n",
              "      <td>0</td>\n",
              "      <td>0</td>\n",
              "      <td>I ordered chicken tacos with no cheese to go  ...</td>\n",
              "      <td>[i, ordered, chicken, tacos, with, no, cheese,...</td>\n",
              "      <td>[ordered, chicken, tacos, cheese, go, got, off...</td>\n",
              "      <td>[order, chicken, taco, chees, go, got, offic, ...</td>\n",
              "      <td>[ordered, chicken, taco, cheese, go, got, offi...</td>\n",
              "      <td>324</td>\n",
              "      <td>0</td>\n",
              "    </tr>\n",
              "    <tr>\n",
              "      <th>5</th>\n",
              "      <td>Hbn8Wn1ryc_SloxZ7jRGWA</td>\n",
              "      <td>st8UrI7Qkwi3nvHH0zpqUg</td>\n",
              "      <td>sFg3G8-oMGeiHYsVqKN7PQ</td>\n",
              "      <td>2</td>\n",
              "      <td>2017-06-27</td>\n",
              "      <td>Granted it's a possibility that this restauran...</td>\n",
              "      <td>0</td>\n",
              "      <td>0</td>\n",
              "      <td>0</td>\n",
              "      <td>0</td>\n",
              "      <td>Granted its a possibility that this restaurant...</td>\n",
              "      <td>[granted, its, a, possibility, that, this, res...</td>\n",
              "      <td>[granted, possibility, restaurant, mom, pop, t...</td>\n",
              "      <td>[grant, possibl, restaur, mom, pop, type, plac...</td>\n",
              "      <td>[granted, possibility, restaurant, mom, pop, t...</td>\n",
              "      <td>1844</td>\n",
              "      <td>0</td>\n",
              "    </tr>\n",
              "  </tbody>\n",
              "</table>\n",
              "</div>"
            ],
            "text/plain": [
              "                review_id                 user_id  ... length  label\n",
              "0  f5pGCpvkpRpJixZ0zA3hCg  8p2nss7UoZmIVZTr1IjR3w  ...    572      0\n",
              "1  8lPKsNFBiLmVL5nbsUXaZw  O3pSxv1SyHpY4qi4Q16KzA  ...    407      0\n",
              "2  CANhCLzOoZ0mkL3mpnUSNg  ffC9zmbY4pBOS9ByrWoXxQ  ...    483      0\n",
              "4  TmIla5Eh5SSLJ_bKgH4Syg  xde2rO3XVt0Do8kLRIt2Dw  ...    324      0\n",
              "5  Hbn8Wn1ryc_SloxZ7jRGWA  st8UrI7Qkwi3nvHH0zpqUg  ...   1844      0\n",
              "\n",
              "[5 rows x 17 columns]"
            ]
          },
          "metadata": {
            "tags": []
          },
          "execution_count": 25
        }
      ]
    },
    {
      "cell_type": "code",
      "metadata": {
        "id": "9x1pQ29xsx-L",
        "colab_type": "code",
        "colab": {
          "base_uri": "https://localhost:8080/",
          "height": 469
        },
        "outputId": "3cb11403-fae5-4be2-f8ac-3d0f3208dd3e"
      },
      "source": [
        "# Import re\n",
        "import re\n",
        "\n",
        "# Function to Tokenize words\n",
        "def tokenize(text):\n",
        "\n",
        "  # W+ means that either a word character (A-Za-z0-9) or a dash (-) can go there\n",
        "  tokens = re.split('\\W+', text)\n",
        "  return tokens\n",
        "\n",
        "# Convert to lowercase as Python is case-sensitive\n",
        "pandas_df['body_text_tokenized'] = pandas_df['body_text_clean'].apply(lambda x: tokenize(x.lower()))\n",
        "\n",
        "pandas_df.head()"
      ],
      "execution_count": 26,
      "outputs": [
        {
          "output_type": "execute_result",
          "data": {
            "text/html": [
              "<div>\n",
              "<style scoped>\n",
              "    .dataframe tbody tr th:only-of-type {\n",
              "        vertical-align: middle;\n",
              "    }\n",
              "\n",
              "    .dataframe tbody tr th {\n",
              "        vertical-align: top;\n",
              "    }\n",
              "\n",
              "    .dataframe thead th {\n",
              "        text-align: right;\n",
              "    }\n",
              "</style>\n",
              "<table border=\"1\" class=\"dataframe\">\n",
              "  <thead>\n",
              "    <tr style=\"text-align: right;\">\n",
              "      <th></th>\n",
              "      <th>review_id</th>\n",
              "      <th>user_id</th>\n",
              "      <th>business_id</th>\n",
              "      <th>stars</th>\n",
              "      <th>date</th>\n",
              "      <th>text</th>\n",
              "      <th>useful</th>\n",
              "      <th>funny</th>\n",
              "      <th>cool</th>\n",
              "      <th>class</th>\n",
              "      <th>body_text_clean</th>\n",
              "      <th>body_text_tokenized</th>\n",
              "      <th>body_text_nostop</th>\n",
              "      <th>body_text_stemmed</th>\n",
              "      <th>body_text_lemmatized</th>\n",
              "      <th>length</th>\n",
              "      <th>label</th>\n",
              "    </tr>\n",
              "  </thead>\n",
              "  <tbody>\n",
              "    <tr>\n",
              "      <th>0</th>\n",
              "      <td>f5pGCpvkpRpJixZ0zA3hCg</td>\n",
              "      <td>8p2nss7UoZmIVZTr1IjR3w</td>\n",
              "      <td>caWUE0ItqsG51OaBVlr4Eg</td>\n",
              "      <td>2</td>\n",
              "      <td>2016-11-13</td>\n",
              "      <td>We went here three more times for lunch and tw...</td>\n",
              "      <td>0</td>\n",
              "      <td>0</td>\n",
              "      <td>0</td>\n",
              "      <td>0</td>\n",
              "      <td>We went here three more times for lunch and tw...</td>\n",
              "      <td>[we, went, here, three, more, times, for, lunc...</td>\n",
              "      <td>[went, three, times, lunch, twice, dinner, thi...</td>\n",
              "      <td>[went, three, time, lunch, twice, dinner, thin...</td>\n",
              "      <td>[went, three, time, lunch, twice, dinner, thin...</td>\n",
              "      <td>572</td>\n",
              "      <td>0</td>\n",
              "    </tr>\n",
              "    <tr>\n",
              "      <th>1</th>\n",
              "      <td>8lPKsNFBiLmVL5nbsUXaZw</td>\n",
              "      <td>O3pSxv1SyHpY4qi4Q16KzA</td>\n",
              "      <td>dc3uoAmNo5STqKV6mlD_aA</td>\n",
              "      <td>1</td>\n",
              "      <td>2017-05-30</td>\n",
              "      <td>My husband and I went to the Drake for lunch t...</td>\n",
              "      <td>2</td>\n",
              "      <td>1</td>\n",
              "      <td>1</td>\n",
              "      <td>0</td>\n",
              "      <td>My husband and I went to the Drake for lunch t...</td>\n",
              "      <td>[my, husband, and, i, went, to, the, drake, fo...</td>\n",
              "      <td>[husband, went, drake, lunch, today, sat, pati...</td>\n",
              "      <td>[husband, went, drake, lunch, today, sat, pati...</td>\n",
              "      <td>[husband, went, drake, lunch, today, sat, pati...</td>\n",
              "      <td>407</td>\n",
              "      <td>0</td>\n",
              "    </tr>\n",
              "    <tr>\n",
              "      <th>2</th>\n",
              "      <td>CANhCLzOoZ0mkL3mpnUSNg</td>\n",
              "      <td>ffC9zmbY4pBOS9ByrWoXxQ</td>\n",
              "      <td>sR9hPrIaG-J-GLcl4yaiLw</td>\n",
              "      <td>1</td>\n",
              "      <td>2017-11-19</td>\n",
              "      <td>Very Problematic\\nI'm gay, I'm not ashamed to ...</td>\n",
              "      <td>0</td>\n",
              "      <td>0</td>\n",
              "      <td>0</td>\n",
              "      <td>0</td>\n",
              "      <td>Very Problematic\\nIm gay Im not ashamed to say...</td>\n",
              "      <td>[very, problematic, im, gay, im, not, ashamed,...</td>\n",
              "      <td>[problematic, im, gay, im, ashamed, say, felt,...</td>\n",
              "      <td>[problemat, im, gay, im, asham, say, felt, ash...</td>\n",
              "      <td>[problematic, im, gay, im, ashamed, say, felt,...</td>\n",
              "      <td>483</td>\n",
              "      <td>0</td>\n",
              "    </tr>\n",
              "    <tr>\n",
              "      <th>4</th>\n",
              "      <td>TmIla5Eh5SSLJ_bKgH4Syg</td>\n",
              "      <td>xde2rO3XVt0Do8kLRIt2Dw</td>\n",
              "      <td>Wc9UpJhOcdSj7olZkz7SJA</td>\n",
              "      <td>2</td>\n",
              "      <td>2013-02-19</td>\n",
              "      <td>I ordered chicken tacos with no cheese to go. ...</td>\n",
              "      <td>4</td>\n",
              "      <td>1</td>\n",
              "      <td>0</td>\n",
              "      <td>0</td>\n",
              "      <td>I ordered chicken tacos with no cheese to go  ...</td>\n",
              "      <td>[i, ordered, chicken, tacos, with, no, cheese,...</td>\n",
              "      <td>[ordered, chicken, tacos, cheese, go, got, off...</td>\n",
              "      <td>[order, chicken, taco, chees, go, got, offic, ...</td>\n",
              "      <td>[ordered, chicken, taco, cheese, go, got, offi...</td>\n",
              "      <td>324</td>\n",
              "      <td>0</td>\n",
              "    </tr>\n",
              "    <tr>\n",
              "      <th>5</th>\n",
              "      <td>Hbn8Wn1ryc_SloxZ7jRGWA</td>\n",
              "      <td>st8UrI7Qkwi3nvHH0zpqUg</td>\n",
              "      <td>sFg3G8-oMGeiHYsVqKN7PQ</td>\n",
              "      <td>2</td>\n",
              "      <td>2017-06-27</td>\n",
              "      <td>Granted it's a possibility that this restauran...</td>\n",
              "      <td>0</td>\n",
              "      <td>0</td>\n",
              "      <td>0</td>\n",
              "      <td>0</td>\n",
              "      <td>Granted its a possibility that this restaurant...</td>\n",
              "      <td>[granted, its, a, possibility, that, this, res...</td>\n",
              "      <td>[granted, possibility, restaurant, mom, pop, t...</td>\n",
              "      <td>[grant, possibl, restaur, mom, pop, type, plac...</td>\n",
              "      <td>[granted, possibility, restaurant, mom, pop, t...</td>\n",
              "      <td>1844</td>\n",
              "      <td>0</td>\n",
              "    </tr>\n",
              "  </tbody>\n",
              "</table>\n",
              "</div>"
            ],
            "text/plain": [
              "                review_id                 user_id  ... length  label\n",
              "0  f5pGCpvkpRpJixZ0zA3hCg  8p2nss7UoZmIVZTr1IjR3w  ...    572      0\n",
              "1  8lPKsNFBiLmVL5nbsUXaZw  O3pSxv1SyHpY4qi4Q16KzA  ...    407      0\n",
              "2  CANhCLzOoZ0mkL3mpnUSNg  ffC9zmbY4pBOS9ByrWoXxQ  ...    483      0\n",
              "4  TmIla5Eh5SSLJ_bKgH4Syg  xde2rO3XVt0Do8kLRIt2Dw  ...    324      0\n",
              "5  Hbn8Wn1ryc_SloxZ7jRGWA  st8UrI7Qkwi3nvHH0zpqUg  ...   1844      0\n",
              "\n",
              "[5 rows x 17 columns]"
            ]
          },
          "metadata": {
            "tags": []
          },
          "execution_count": 26
        }
      ]
    },
    {
      "cell_type": "code",
      "metadata": {
        "id": "ER0d1Pb3ulKl",
        "colab_type": "code",
        "colab": {
          "base_uri": "https://localhost:8080/",
          "height": 54
        },
        "outputId": "3d56797c-ebf3-4bf0-9dcf-58a7a4ab038d"
      },
      "source": [
        "# Remove all English stopwords\n",
        "import nltk\n",
        "nltk.download('stopwords')\n",
        "stopword = nltk.corpus.stopwords.words('english') "
      ],
      "execution_count": 27,
      "outputs": [
        {
          "output_type": "stream",
          "text": [
            "[nltk_data] Downloading package stopwords to /root/nltk_data...\n",
            "[nltk_data]   Package stopwords is already up-to-date!\n"
          ],
          "name": "stdout"
        }
      ]
    },
    {
      "cell_type": "code",
      "metadata": {
        "id": "dA4exlyhulOs",
        "colab_type": "code",
        "colab": {
          "base_uri": "https://localhost:8080/",
          "height": 469
        },
        "outputId": "72c163d0-3194-4266-e7d5-1099cc451955"
      },
      "source": [
        "# Function to remove stopwords\n",
        "def remove_stopwords(tokenized_list):\n",
        "\n",
        "  # Remove all stopwords\n",
        "  text = [word for word in tokenized_list if word not in stopword]\n",
        "  return text\n",
        "\n",
        "pandas_df['body_text_nostop'] = pandas_df['body_text_tokenized'].apply(lambda x: remove_stopwords(x))\n",
        "\n",
        "pandas_df.head()"
      ],
      "execution_count": 28,
      "outputs": [
        {
          "output_type": "execute_result",
          "data": {
            "text/html": [
              "<div>\n",
              "<style scoped>\n",
              "    .dataframe tbody tr th:only-of-type {\n",
              "        vertical-align: middle;\n",
              "    }\n",
              "\n",
              "    .dataframe tbody tr th {\n",
              "        vertical-align: top;\n",
              "    }\n",
              "\n",
              "    .dataframe thead th {\n",
              "        text-align: right;\n",
              "    }\n",
              "</style>\n",
              "<table border=\"1\" class=\"dataframe\">\n",
              "  <thead>\n",
              "    <tr style=\"text-align: right;\">\n",
              "      <th></th>\n",
              "      <th>review_id</th>\n",
              "      <th>user_id</th>\n",
              "      <th>business_id</th>\n",
              "      <th>stars</th>\n",
              "      <th>date</th>\n",
              "      <th>text</th>\n",
              "      <th>useful</th>\n",
              "      <th>funny</th>\n",
              "      <th>cool</th>\n",
              "      <th>class</th>\n",
              "      <th>body_text_clean</th>\n",
              "      <th>body_text_tokenized</th>\n",
              "      <th>body_text_nostop</th>\n",
              "      <th>body_text_stemmed</th>\n",
              "      <th>body_text_lemmatized</th>\n",
              "      <th>length</th>\n",
              "      <th>label</th>\n",
              "    </tr>\n",
              "  </thead>\n",
              "  <tbody>\n",
              "    <tr>\n",
              "      <th>0</th>\n",
              "      <td>f5pGCpvkpRpJixZ0zA3hCg</td>\n",
              "      <td>8p2nss7UoZmIVZTr1IjR3w</td>\n",
              "      <td>caWUE0ItqsG51OaBVlr4Eg</td>\n",
              "      <td>2</td>\n",
              "      <td>2016-11-13</td>\n",
              "      <td>We went here three more times for lunch and tw...</td>\n",
              "      <td>0</td>\n",
              "      <td>0</td>\n",
              "      <td>0</td>\n",
              "      <td>0</td>\n",
              "      <td>We went here three more times for lunch and tw...</td>\n",
              "      <td>[we, went, here, three, more, times, for, lunc...</td>\n",
              "      <td>[went, three, times, lunch, twice, dinner, thi...</td>\n",
              "      <td>[went, three, time, lunch, twice, dinner, thin...</td>\n",
              "      <td>[went, three, time, lunch, twice, dinner, thin...</td>\n",
              "      <td>572</td>\n",
              "      <td>0</td>\n",
              "    </tr>\n",
              "    <tr>\n",
              "      <th>1</th>\n",
              "      <td>8lPKsNFBiLmVL5nbsUXaZw</td>\n",
              "      <td>O3pSxv1SyHpY4qi4Q16KzA</td>\n",
              "      <td>dc3uoAmNo5STqKV6mlD_aA</td>\n",
              "      <td>1</td>\n",
              "      <td>2017-05-30</td>\n",
              "      <td>My husband and I went to the Drake for lunch t...</td>\n",
              "      <td>2</td>\n",
              "      <td>1</td>\n",
              "      <td>1</td>\n",
              "      <td>0</td>\n",
              "      <td>My husband and I went to the Drake for lunch t...</td>\n",
              "      <td>[my, husband, and, i, went, to, the, drake, fo...</td>\n",
              "      <td>[husband, went, drake, lunch, today, sat, pati...</td>\n",
              "      <td>[husband, went, drake, lunch, today, sat, pati...</td>\n",
              "      <td>[husband, went, drake, lunch, today, sat, pati...</td>\n",
              "      <td>407</td>\n",
              "      <td>0</td>\n",
              "    </tr>\n",
              "    <tr>\n",
              "      <th>2</th>\n",
              "      <td>CANhCLzOoZ0mkL3mpnUSNg</td>\n",
              "      <td>ffC9zmbY4pBOS9ByrWoXxQ</td>\n",
              "      <td>sR9hPrIaG-J-GLcl4yaiLw</td>\n",
              "      <td>1</td>\n",
              "      <td>2017-11-19</td>\n",
              "      <td>Very Problematic\\nI'm gay, I'm not ashamed to ...</td>\n",
              "      <td>0</td>\n",
              "      <td>0</td>\n",
              "      <td>0</td>\n",
              "      <td>0</td>\n",
              "      <td>Very Problematic\\nIm gay Im not ashamed to say...</td>\n",
              "      <td>[very, problematic, im, gay, im, not, ashamed,...</td>\n",
              "      <td>[problematic, im, gay, im, ashamed, say, felt,...</td>\n",
              "      <td>[problemat, im, gay, im, asham, say, felt, ash...</td>\n",
              "      <td>[problematic, im, gay, im, ashamed, say, felt,...</td>\n",
              "      <td>483</td>\n",
              "      <td>0</td>\n",
              "    </tr>\n",
              "    <tr>\n",
              "      <th>4</th>\n",
              "      <td>TmIla5Eh5SSLJ_bKgH4Syg</td>\n",
              "      <td>xde2rO3XVt0Do8kLRIt2Dw</td>\n",
              "      <td>Wc9UpJhOcdSj7olZkz7SJA</td>\n",
              "      <td>2</td>\n",
              "      <td>2013-02-19</td>\n",
              "      <td>I ordered chicken tacos with no cheese to go. ...</td>\n",
              "      <td>4</td>\n",
              "      <td>1</td>\n",
              "      <td>0</td>\n",
              "      <td>0</td>\n",
              "      <td>I ordered chicken tacos with no cheese to go  ...</td>\n",
              "      <td>[i, ordered, chicken, tacos, with, no, cheese,...</td>\n",
              "      <td>[ordered, chicken, tacos, cheese, go, got, off...</td>\n",
              "      <td>[order, chicken, taco, chees, go, got, offic, ...</td>\n",
              "      <td>[ordered, chicken, taco, cheese, go, got, offi...</td>\n",
              "      <td>324</td>\n",
              "      <td>0</td>\n",
              "    </tr>\n",
              "    <tr>\n",
              "      <th>5</th>\n",
              "      <td>Hbn8Wn1ryc_SloxZ7jRGWA</td>\n",
              "      <td>st8UrI7Qkwi3nvHH0zpqUg</td>\n",
              "      <td>sFg3G8-oMGeiHYsVqKN7PQ</td>\n",
              "      <td>2</td>\n",
              "      <td>2017-06-27</td>\n",
              "      <td>Granted it's a possibility that this restauran...</td>\n",
              "      <td>0</td>\n",
              "      <td>0</td>\n",
              "      <td>0</td>\n",
              "      <td>0</td>\n",
              "      <td>Granted its a possibility that this restaurant...</td>\n",
              "      <td>[granted, its, a, possibility, that, this, res...</td>\n",
              "      <td>[granted, possibility, restaurant, mom, pop, t...</td>\n",
              "      <td>[grant, possibl, restaur, mom, pop, type, plac...</td>\n",
              "      <td>[granted, possibility, restaurant, mom, pop, t...</td>\n",
              "      <td>1844</td>\n",
              "      <td>0</td>\n",
              "    </tr>\n",
              "  </tbody>\n",
              "</table>\n",
              "</div>"
            ],
            "text/plain": [
              "                review_id                 user_id  ... length  label\n",
              "0  f5pGCpvkpRpJixZ0zA3hCg  8p2nss7UoZmIVZTr1IjR3w  ...    572      0\n",
              "1  8lPKsNFBiLmVL5nbsUXaZw  O3pSxv1SyHpY4qi4Q16KzA  ...    407      0\n",
              "2  CANhCLzOoZ0mkL3mpnUSNg  ffC9zmbY4pBOS9ByrWoXxQ  ...    483      0\n",
              "4  TmIla5Eh5SSLJ_bKgH4Syg  xde2rO3XVt0Do8kLRIt2Dw  ...    324      0\n",
              "5  Hbn8Wn1ryc_SloxZ7jRGWA  st8UrI7Qkwi3nvHH0zpqUg  ...   1844      0\n",
              "\n",
              "[5 rows x 17 columns]"
            ]
          },
          "metadata": {
            "tags": []
          },
          "execution_count": 28
        }
      ]
    },
    {
      "cell_type": "code",
      "metadata": {
        "id": "4XOi9l2zulSP",
        "colab_type": "code",
        "colab": {
          "base_uri": "https://localhost:8080/",
          "height": 469
        },
        "outputId": "5e74a731-c808-4b18-efe9-61f3eec789b4"
      },
      "source": [
        "# Import PorterStemmer\n",
        "from nltk.stem import PorterStemmer\n",
        "\n",
        "# Create an instance for stemmer\n",
        "ps = nltk.PorterStemmer()\n",
        "\n",
        "# Function for stemming\n",
        "def stemming(tokenized_text):\n",
        "\n",
        "  text = [ps.stem(word) for word in tokenized_text]\n",
        "  return text\n",
        "\n",
        "pandas_df['body_text_stemmed'] = pandas_df['body_text_nostop'].apply(lambda x: stemming(x))\n",
        "\n",
        "pandas_df.head()"
      ],
      "execution_count": 29,
      "outputs": [
        {
          "output_type": "execute_result",
          "data": {
            "text/html": [
              "<div>\n",
              "<style scoped>\n",
              "    .dataframe tbody tr th:only-of-type {\n",
              "        vertical-align: middle;\n",
              "    }\n",
              "\n",
              "    .dataframe tbody tr th {\n",
              "        vertical-align: top;\n",
              "    }\n",
              "\n",
              "    .dataframe thead th {\n",
              "        text-align: right;\n",
              "    }\n",
              "</style>\n",
              "<table border=\"1\" class=\"dataframe\">\n",
              "  <thead>\n",
              "    <tr style=\"text-align: right;\">\n",
              "      <th></th>\n",
              "      <th>review_id</th>\n",
              "      <th>user_id</th>\n",
              "      <th>business_id</th>\n",
              "      <th>stars</th>\n",
              "      <th>date</th>\n",
              "      <th>text</th>\n",
              "      <th>useful</th>\n",
              "      <th>funny</th>\n",
              "      <th>cool</th>\n",
              "      <th>class</th>\n",
              "      <th>body_text_clean</th>\n",
              "      <th>body_text_tokenized</th>\n",
              "      <th>body_text_nostop</th>\n",
              "      <th>body_text_stemmed</th>\n",
              "      <th>body_text_lemmatized</th>\n",
              "      <th>length</th>\n",
              "      <th>label</th>\n",
              "    </tr>\n",
              "  </thead>\n",
              "  <tbody>\n",
              "    <tr>\n",
              "      <th>0</th>\n",
              "      <td>f5pGCpvkpRpJixZ0zA3hCg</td>\n",
              "      <td>8p2nss7UoZmIVZTr1IjR3w</td>\n",
              "      <td>caWUE0ItqsG51OaBVlr4Eg</td>\n",
              "      <td>2</td>\n",
              "      <td>2016-11-13</td>\n",
              "      <td>We went here three more times for lunch and tw...</td>\n",
              "      <td>0</td>\n",
              "      <td>0</td>\n",
              "      <td>0</td>\n",
              "      <td>0</td>\n",
              "      <td>We went here three more times for lunch and tw...</td>\n",
              "      <td>[we, went, here, three, more, times, for, lunc...</td>\n",
              "      <td>[went, three, times, lunch, twice, dinner, thi...</td>\n",
              "      <td>[went, three, time, lunch, twice, dinner, thin...</td>\n",
              "      <td>[went, three, time, lunch, twice, dinner, thin...</td>\n",
              "      <td>572</td>\n",
              "      <td>0</td>\n",
              "    </tr>\n",
              "    <tr>\n",
              "      <th>1</th>\n",
              "      <td>8lPKsNFBiLmVL5nbsUXaZw</td>\n",
              "      <td>O3pSxv1SyHpY4qi4Q16KzA</td>\n",
              "      <td>dc3uoAmNo5STqKV6mlD_aA</td>\n",
              "      <td>1</td>\n",
              "      <td>2017-05-30</td>\n",
              "      <td>My husband and I went to the Drake for lunch t...</td>\n",
              "      <td>2</td>\n",
              "      <td>1</td>\n",
              "      <td>1</td>\n",
              "      <td>0</td>\n",
              "      <td>My husband and I went to the Drake for lunch t...</td>\n",
              "      <td>[my, husband, and, i, went, to, the, drake, fo...</td>\n",
              "      <td>[husband, went, drake, lunch, today, sat, pati...</td>\n",
              "      <td>[husband, went, drake, lunch, today, sat, pati...</td>\n",
              "      <td>[husband, went, drake, lunch, today, sat, pati...</td>\n",
              "      <td>407</td>\n",
              "      <td>0</td>\n",
              "    </tr>\n",
              "    <tr>\n",
              "      <th>2</th>\n",
              "      <td>CANhCLzOoZ0mkL3mpnUSNg</td>\n",
              "      <td>ffC9zmbY4pBOS9ByrWoXxQ</td>\n",
              "      <td>sR9hPrIaG-J-GLcl4yaiLw</td>\n",
              "      <td>1</td>\n",
              "      <td>2017-11-19</td>\n",
              "      <td>Very Problematic\\nI'm gay, I'm not ashamed to ...</td>\n",
              "      <td>0</td>\n",
              "      <td>0</td>\n",
              "      <td>0</td>\n",
              "      <td>0</td>\n",
              "      <td>Very Problematic\\nIm gay Im not ashamed to say...</td>\n",
              "      <td>[very, problematic, im, gay, im, not, ashamed,...</td>\n",
              "      <td>[problematic, im, gay, im, ashamed, say, felt,...</td>\n",
              "      <td>[problemat, im, gay, im, asham, say, felt, ash...</td>\n",
              "      <td>[problematic, im, gay, im, ashamed, say, felt,...</td>\n",
              "      <td>483</td>\n",
              "      <td>0</td>\n",
              "    </tr>\n",
              "    <tr>\n",
              "      <th>4</th>\n",
              "      <td>TmIla5Eh5SSLJ_bKgH4Syg</td>\n",
              "      <td>xde2rO3XVt0Do8kLRIt2Dw</td>\n",
              "      <td>Wc9UpJhOcdSj7olZkz7SJA</td>\n",
              "      <td>2</td>\n",
              "      <td>2013-02-19</td>\n",
              "      <td>I ordered chicken tacos with no cheese to go. ...</td>\n",
              "      <td>4</td>\n",
              "      <td>1</td>\n",
              "      <td>0</td>\n",
              "      <td>0</td>\n",
              "      <td>I ordered chicken tacos with no cheese to go  ...</td>\n",
              "      <td>[i, ordered, chicken, tacos, with, no, cheese,...</td>\n",
              "      <td>[ordered, chicken, tacos, cheese, go, got, off...</td>\n",
              "      <td>[order, chicken, taco, chees, go, got, offic, ...</td>\n",
              "      <td>[ordered, chicken, taco, cheese, go, got, offi...</td>\n",
              "      <td>324</td>\n",
              "      <td>0</td>\n",
              "    </tr>\n",
              "    <tr>\n",
              "      <th>5</th>\n",
              "      <td>Hbn8Wn1ryc_SloxZ7jRGWA</td>\n",
              "      <td>st8UrI7Qkwi3nvHH0zpqUg</td>\n",
              "      <td>sFg3G8-oMGeiHYsVqKN7PQ</td>\n",
              "      <td>2</td>\n",
              "      <td>2017-06-27</td>\n",
              "      <td>Granted it's a possibility that this restauran...</td>\n",
              "      <td>0</td>\n",
              "      <td>0</td>\n",
              "      <td>0</td>\n",
              "      <td>0</td>\n",
              "      <td>Granted its a possibility that this restaurant...</td>\n",
              "      <td>[granted, its, a, possibility, that, this, res...</td>\n",
              "      <td>[granted, possibility, restaurant, mom, pop, t...</td>\n",
              "      <td>[grant, possibl, restaur, mom, pop, type, plac...</td>\n",
              "      <td>[granted, possibility, restaurant, mom, pop, t...</td>\n",
              "      <td>1844</td>\n",
              "      <td>0</td>\n",
              "    </tr>\n",
              "  </tbody>\n",
              "</table>\n",
              "</div>"
            ],
            "text/plain": [
              "                review_id                 user_id  ... length  label\n",
              "0  f5pGCpvkpRpJixZ0zA3hCg  8p2nss7UoZmIVZTr1IjR3w  ...    572      0\n",
              "1  8lPKsNFBiLmVL5nbsUXaZw  O3pSxv1SyHpY4qi4Q16KzA  ...    407      0\n",
              "2  CANhCLzOoZ0mkL3mpnUSNg  ffC9zmbY4pBOS9ByrWoXxQ  ...    483      0\n",
              "4  TmIla5Eh5SSLJ_bKgH4Syg  xde2rO3XVt0Do8kLRIt2Dw  ...    324      0\n",
              "5  Hbn8Wn1ryc_SloxZ7jRGWA  st8UrI7Qkwi3nvHH0zpqUg  ...   1844      0\n",
              "\n",
              "[5 rows x 17 columns]"
            ]
          },
          "metadata": {
            "tags": []
          },
          "execution_count": 29
        }
      ]
    },
    {
      "cell_type": "code",
      "metadata": {
        "id": "1NhasPSiuldn",
        "colab_type": "code",
        "colab": {
          "base_uri": "https://localhost:8080/",
          "height": 507
        },
        "outputId": "94511def-de3b-455d-e8b3-4267caf01879"
      },
      "source": [
        "# Download and import WordNetLemmatizer\n",
        "nltk.download('wordnet')\n",
        "from nltk.stem import WordNetLemmatizer \n",
        "\n",
        "# Create an instance\n",
        "wn = nltk.WordNetLemmatizer()\n",
        "\n",
        "# Function for Lemmatization\n",
        "def lemmatizing(tokenized_text):\n",
        "\n",
        "  text = [wn.lemmatize(word) for word in tokenized_text]\n",
        "  return text\n",
        "\n",
        "pandas_df['body_text_lemmatized'] = pandas_df['body_text_nostop'].apply(lambda x: lemmatizing(x))\n",
        "\n",
        "pandas_df.head()"
      ],
      "execution_count": 30,
      "outputs": [
        {
          "output_type": "stream",
          "text": [
            "[nltk_data] Downloading package wordnet to /root/nltk_data...\n",
            "[nltk_data]   Package wordnet is already up-to-date!\n"
          ],
          "name": "stdout"
        },
        {
          "output_type": "execute_result",
          "data": {
            "text/html": [
              "<div>\n",
              "<style scoped>\n",
              "    .dataframe tbody tr th:only-of-type {\n",
              "        vertical-align: middle;\n",
              "    }\n",
              "\n",
              "    .dataframe tbody tr th {\n",
              "        vertical-align: top;\n",
              "    }\n",
              "\n",
              "    .dataframe thead th {\n",
              "        text-align: right;\n",
              "    }\n",
              "</style>\n",
              "<table border=\"1\" class=\"dataframe\">\n",
              "  <thead>\n",
              "    <tr style=\"text-align: right;\">\n",
              "      <th></th>\n",
              "      <th>review_id</th>\n",
              "      <th>user_id</th>\n",
              "      <th>business_id</th>\n",
              "      <th>stars</th>\n",
              "      <th>date</th>\n",
              "      <th>text</th>\n",
              "      <th>useful</th>\n",
              "      <th>funny</th>\n",
              "      <th>cool</th>\n",
              "      <th>class</th>\n",
              "      <th>body_text_clean</th>\n",
              "      <th>body_text_tokenized</th>\n",
              "      <th>body_text_nostop</th>\n",
              "      <th>body_text_stemmed</th>\n",
              "      <th>body_text_lemmatized</th>\n",
              "      <th>length</th>\n",
              "      <th>label</th>\n",
              "    </tr>\n",
              "  </thead>\n",
              "  <tbody>\n",
              "    <tr>\n",
              "      <th>0</th>\n",
              "      <td>f5pGCpvkpRpJixZ0zA3hCg</td>\n",
              "      <td>8p2nss7UoZmIVZTr1IjR3w</td>\n",
              "      <td>caWUE0ItqsG51OaBVlr4Eg</td>\n",
              "      <td>2</td>\n",
              "      <td>2016-11-13</td>\n",
              "      <td>We went here three more times for lunch and tw...</td>\n",
              "      <td>0</td>\n",
              "      <td>0</td>\n",
              "      <td>0</td>\n",
              "      <td>0</td>\n",
              "      <td>We went here three more times for lunch and tw...</td>\n",
              "      <td>[we, went, here, three, more, times, for, lunc...</td>\n",
              "      <td>[went, three, times, lunch, twice, dinner, thi...</td>\n",
              "      <td>[went, three, time, lunch, twice, dinner, thin...</td>\n",
              "      <td>[went, three, time, lunch, twice, dinner, thin...</td>\n",
              "      <td>572</td>\n",
              "      <td>0</td>\n",
              "    </tr>\n",
              "    <tr>\n",
              "      <th>1</th>\n",
              "      <td>8lPKsNFBiLmVL5nbsUXaZw</td>\n",
              "      <td>O3pSxv1SyHpY4qi4Q16KzA</td>\n",
              "      <td>dc3uoAmNo5STqKV6mlD_aA</td>\n",
              "      <td>1</td>\n",
              "      <td>2017-05-30</td>\n",
              "      <td>My husband and I went to the Drake for lunch t...</td>\n",
              "      <td>2</td>\n",
              "      <td>1</td>\n",
              "      <td>1</td>\n",
              "      <td>0</td>\n",
              "      <td>My husband and I went to the Drake for lunch t...</td>\n",
              "      <td>[my, husband, and, i, went, to, the, drake, fo...</td>\n",
              "      <td>[husband, went, drake, lunch, today, sat, pati...</td>\n",
              "      <td>[husband, went, drake, lunch, today, sat, pati...</td>\n",
              "      <td>[husband, went, drake, lunch, today, sat, pati...</td>\n",
              "      <td>407</td>\n",
              "      <td>0</td>\n",
              "    </tr>\n",
              "    <tr>\n",
              "      <th>2</th>\n",
              "      <td>CANhCLzOoZ0mkL3mpnUSNg</td>\n",
              "      <td>ffC9zmbY4pBOS9ByrWoXxQ</td>\n",
              "      <td>sR9hPrIaG-J-GLcl4yaiLw</td>\n",
              "      <td>1</td>\n",
              "      <td>2017-11-19</td>\n",
              "      <td>Very Problematic\\nI'm gay, I'm not ashamed to ...</td>\n",
              "      <td>0</td>\n",
              "      <td>0</td>\n",
              "      <td>0</td>\n",
              "      <td>0</td>\n",
              "      <td>Very Problematic\\nIm gay Im not ashamed to say...</td>\n",
              "      <td>[very, problematic, im, gay, im, not, ashamed,...</td>\n",
              "      <td>[problematic, im, gay, im, ashamed, say, felt,...</td>\n",
              "      <td>[problemat, im, gay, im, asham, say, felt, ash...</td>\n",
              "      <td>[problematic, im, gay, im, ashamed, say, felt,...</td>\n",
              "      <td>483</td>\n",
              "      <td>0</td>\n",
              "    </tr>\n",
              "    <tr>\n",
              "      <th>4</th>\n",
              "      <td>TmIla5Eh5SSLJ_bKgH4Syg</td>\n",
              "      <td>xde2rO3XVt0Do8kLRIt2Dw</td>\n",
              "      <td>Wc9UpJhOcdSj7olZkz7SJA</td>\n",
              "      <td>2</td>\n",
              "      <td>2013-02-19</td>\n",
              "      <td>I ordered chicken tacos with no cheese to go. ...</td>\n",
              "      <td>4</td>\n",
              "      <td>1</td>\n",
              "      <td>0</td>\n",
              "      <td>0</td>\n",
              "      <td>I ordered chicken tacos with no cheese to go  ...</td>\n",
              "      <td>[i, ordered, chicken, tacos, with, no, cheese,...</td>\n",
              "      <td>[ordered, chicken, tacos, cheese, go, got, off...</td>\n",
              "      <td>[order, chicken, taco, chees, go, got, offic, ...</td>\n",
              "      <td>[ordered, chicken, taco, cheese, go, got, offi...</td>\n",
              "      <td>324</td>\n",
              "      <td>0</td>\n",
              "    </tr>\n",
              "    <tr>\n",
              "      <th>5</th>\n",
              "      <td>Hbn8Wn1ryc_SloxZ7jRGWA</td>\n",
              "      <td>st8UrI7Qkwi3nvHH0zpqUg</td>\n",
              "      <td>sFg3G8-oMGeiHYsVqKN7PQ</td>\n",
              "      <td>2</td>\n",
              "      <td>2017-06-27</td>\n",
              "      <td>Granted it's a possibility that this restauran...</td>\n",
              "      <td>0</td>\n",
              "      <td>0</td>\n",
              "      <td>0</td>\n",
              "      <td>0</td>\n",
              "      <td>Granted its a possibility that this restaurant...</td>\n",
              "      <td>[granted, its, a, possibility, that, this, res...</td>\n",
              "      <td>[granted, possibility, restaurant, mom, pop, t...</td>\n",
              "      <td>[grant, possibl, restaur, mom, pop, type, plac...</td>\n",
              "      <td>[granted, possibility, restaurant, mom, pop, t...</td>\n",
              "      <td>1844</td>\n",
              "      <td>0</td>\n",
              "    </tr>\n",
              "  </tbody>\n",
              "</table>\n",
              "</div>"
            ],
            "text/plain": [
              "                review_id                 user_id  ... length  label\n",
              "0  f5pGCpvkpRpJixZ0zA3hCg  8p2nss7UoZmIVZTr1IjR3w  ...    572      0\n",
              "1  8lPKsNFBiLmVL5nbsUXaZw  O3pSxv1SyHpY4qi4Q16KzA  ...    407      0\n",
              "2  CANhCLzOoZ0mkL3mpnUSNg  ffC9zmbY4pBOS9ByrWoXxQ  ...    483      0\n",
              "4  TmIla5Eh5SSLJ_bKgH4Syg  xde2rO3XVt0Do8kLRIt2Dw  ...    324      0\n",
              "5  Hbn8Wn1ryc_SloxZ7jRGWA  st8UrI7Qkwi3nvHH0zpqUg  ...   1844      0\n",
              "\n",
              "[5 rows x 17 columns]"
            ]
          },
          "metadata": {
            "tags": []
          },
          "execution_count": 30
        }
      ]
    },
    {
      "cell_type": "code",
      "metadata": {
        "id": "pMmolEh9Frk8",
        "colab_type": "code",
        "colab": {
          "base_uri": "https://localhost:8080/",
          "height": 469
        },
        "outputId": "e649330a-ca65-4ae6-d51e-3ae1ec3b7809"
      },
      "source": [
        "# Add a length column to dataset\n",
        "pandas_df['length'] = pandas_df['text'].apply(len)\n",
        "pandas_df.head()"
      ],
      "execution_count": 31,
      "outputs": [
        {
          "output_type": "execute_result",
          "data": {
            "text/html": [
              "<div>\n",
              "<style scoped>\n",
              "    .dataframe tbody tr th:only-of-type {\n",
              "        vertical-align: middle;\n",
              "    }\n",
              "\n",
              "    .dataframe tbody tr th {\n",
              "        vertical-align: top;\n",
              "    }\n",
              "\n",
              "    .dataframe thead th {\n",
              "        text-align: right;\n",
              "    }\n",
              "</style>\n",
              "<table border=\"1\" class=\"dataframe\">\n",
              "  <thead>\n",
              "    <tr style=\"text-align: right;\">\n",
              "      <th></th>\n",
              "      <th>review_id</th>\n",
              "      <th>user_id</th>\n",
              "      <th>business_id</th>\n",
              "      <th>stars</th>\n",
              "      <th>date</th>\n",
              "      <th>text</th>\n",
              "      <th>useful</th>\n",
              "      <th>funny</th>\n",
              "      <th>cool</th>\n",
              "      <th>class</th>\n",
              "      <th>body_text_clean</th>\n",
              "      <th>body_text_tokenized</th>\n",
              "      <th>body_text_nostop</th>\n",
              "      <th>body_text_stemmed</th>\n",
              "      <th>body_text_lemmatized</th>\n",
              "      <th>length</th>\n",
              "      <th>label</th>\n",
              "    </tr>\n",
              "  </thead>\n",
              "  <tbody>\n",
              "    <tr>\n",
              "      <th>0</th>\n",
              "      <td>f5pGCpvkpRpJixZ0zA3hCg</td>\n",
              "      <td>8p2nss7UoZmIVZTr1IjR3w</td>\n",
              "      <td>caWUE0ItqsG51OaBVlr4Eg</td>\n",
              "      <td>2</td>\n",
              "      <td>2016-11-13</td>\n",
              "      <td>We went here three more times for lunch and tw...</td>\n",
              "      <td>0</td>\n",
              "      <td>0</td>\n",
              "      <td>0</td>\n",
              "      <td>0</td>\n",
              "      <td>We went here three more times for lunch and tw...</td>\n",
              "      <td>[we, went, here, three, more, times, for, lunc...</td>\n",
              "      <td>[went, three, times, lunch, twice, dinner, thi...</td>\n",
              "      <td>[went, three, time, lunch, twice, dinner, thin...</td>\n",
              "      <td>[went, three, time, lunch, twice, dinner, thin...</td>\n",
              "      <td>572</td>\n",
              "      <td>0</td>\n",
              "    </tr>\n",
              "    <tr>\n",
              "      <th>1</th>\n",
              "      <td>8lPKsNFBiLmVL5nbsUXaZw</td>\n",
              "      <td>O3pSxv1SyHpY4qi4Q16KzA</td>\n",
              "      <td>dc3uoAmNo5STqKV6mlD_aA</td>\n",
              "      <td>1</td>\n",
              "      <td>2017-05-30</td>\n",
              "      <td>My husband and I went to the Drake for lunch t...</td>\n",
              "      <td>2</td>\n",
              "      <td>1</td>\n",
              "      <td>1</td>\n",
              "      <td>0</td>\n",
              "      <td>My husband and I went to the Drake for lunch t...</td>\n",
              "      <td>[my, husband, and, i, went, to, the, drake, fo...</td>\n",
              "      <td>[husband, went, drake, lunch, today, sat, pati...</td>\n",
              "      <td>[husband, went, drake, lunch, today, sat, pati...</td>\n",
              "      <td>[husband, went, drake, lunch, today, sat, pati...</td>\n",
              "      <td>407</td>\n",
              "      <td>0</td>\n",
              "    </tr>\n",
              "    <tr>\n",
              "      <th>2</th>\n",
              "      <td>CANhCLzOoZ0mkL3mpnUSNg</td>\n",
              "      <td>ffC9zmbY4pBOS9ByrWoXxQ</td>\n",
              "      <td>sR9hPrIaG-J-GLcl4yaiLw</td>\n",
              "      <td>1</td>\n",
              "      <td>2017-11-19</td>\n",
              "      <td>Very Problematic\\nI'm gay, I'm not ashamed to ...</td>\n",
              "      <td>0</td>\n",
              "      <td>0</td>\n",
              "      <td>0</td>\n",
              "      <td>0</td>\n",
              "      <td>Very Problematic\\nIm gay Im not ashamed to say...</td>\n",
              "      <td>[very, problematic, im, gay, im, not, ashamed,...</td>\n",
              "      <td>[problematic, im, gay, im, ashamed, say, felt,...</td>\n",
              "      <td>[problemat, im, gay, im, asham, say, felt, ash...</td>\n",
              "      <td>[problematic, im, gay, im, ashamed, say, felt,...</td>\n",
              "      <td>483</td>\n",
              "      <td>0</td>\n",
              "    </tr>\n",
              "    <tr>\n",
              "      <th>4</th>\n",
              "      <td>TmIla5Eh5SSLJ_bKgH4Syg</td>\n",
              "      <td>xde2rO3XVt0Do8kLRIt2Dw</td>\n",
              "      <td>Wc9UpJhOcdSj7olZkz7SJA</td>\n",
              "      <td>2</td>\n",
              "      <td>2013-02-19</td>\n",
              "      <td>I ordered chicken tacos with no cheese to go. ...</td>\n",
              "      <td>4</td>\n",
              "      <td>1</td>\n",
              "      <td>0</td>\n",
              "      <td>0</td>\n",
              "      <td>I ordered chicken tacos with no cheese to go  ...</td>\n",
              "      <td>[i, ordered, chicken, tacos, with, no, cheese,...</td>\n",
              "      <td>[ordered, chicken, tacos, cheese, go, got, off...</td>\n",
              "      <td>[order, chicken, taco, chees, go, got, offic, ...</td>\n",
              "      <td>[ordered, chicken, taco, cheese, go, got, offi...</td>\n",
              "      <td>324</td>\n",
              "      <td>0</td>\n",
              "    </tr>\n",
              "    <tr>\n",
              "      <th>5</th>\n",
              "      <td>Hbn8Wn1ryc_SloxZ7jRGWA</td>\n",
              "      <td>st8UrI7Qkwi3nvHH0zpqUg</td>\n",
              "      <td>sFg3G8-oMGeiHYsVqKN7PQ</td>\n",
              "      <td>2</td>\n",
              "      <td>2017-06-27</td>\n",
              "      <td>Granted it's a possibility that this restauran...</td>\n",
              "      <td>0</td>\n",
              "      <td>0</td>\n",
              "      <td>0</td>\n",
              "      <td>0</td>\n",
              "      <td>Granted its a possibility that this restaurant...</td>\n",
              "      <td>[granted, its, a, possibility, that, this, res...</td>\n",
              "      <td>[granted, possibility, restaurant, mom, pop, t...</td>\n",
              "      <td>[grant, possibl, restaur, mom, pop, type, plac...</td>\n",
              "      <td>[granted, possibility, restaurant, mom, pop, t...</td>\n",
              "      <td>1844</td>\n",
              "      <td>0</td>\n",
              "    </tr>\n",
              "  </tbody>\n",
              "</table>\n",
              "</div>"
            ],
            "text/plain": [
              "                review_id                 user_id  ... length  label\n",
              "0  f5pGCpvkpRpJixZ0zA3hCg  8p2nss7UoZmIVZTr1IjR3w  ...    572      0\n",
              "1  8lPKsNFBiLmVL5nbsUXaZw  O3pSxv1SyHpY4qi4Q16KzA  ...    407      0\n",
              "2  CANhCLzOoZ0mkL3mpnUSNg  ffC9zmbY4pBOS9ByrWoXxQ  ...    483      0\n",
              "4  TmIla5Eh5SSLJ_bKgH4Syg  xde2rO3XVt0Do8kLRIt2Dw  ...    324      0\n",
              "5  Hbn8Wn1ryc_SloxZ7jRGWA  st8UrI7Qkwi3nvHH0zpqUg  ...   1844      0\n",
              "\n",
              "[5 rows x 17 columns]"
            ]
          },
          "metadata": {
            "tags": []
          },
          "execution_count": 31
        }
      ]
    },
    {
      "cell_type": "markdown",
      "metadata": {
        "id": "edBuycdkn10s",
        "colab_type": "text"
      },
      "source": [
        "## <br></br>**Pipeline**<br></br>"
      ]
    },
    {
      "cell_type": "code",
      "metadata": {
        "id": "2Vbt3mBbxzMW",
        "colab_type": "code",
        "colab": {
          "base_uri": "https://localhost:8080/",
          "height": 261
        },
        "outputId": "c54fc323-0a5d-4aa3-e0e2-3bf66acb1c0f"
      },
      "source": [
        "# Make a copy of the data\n",
        "pandas_df_copy = pandas_df.copy()\n",
        "\n",
        "# Select columns for the DataFrame\n",
        "pandas_df_copy = pandas_df_copy[['review_id', 'text', 'stars', 'cool', 'useful', 'funny', 'date', 'business_id', 'user_id', 'length', 'body_text_nostop', 'body_text_stemmed', 'body_text_lemmatized','label']]\n",
        "\n",
        "# Convert pandas_df to sparks df\n",
        "spark_df = spark.createDataFrame(pandas_df_copy)\n",
        "spark_df.show(5)"
      ],
      "execution_count": 40,
      "outputs": [
        {
          "output_type": "stream",
          "text": [
            "+--------------------+--------------------+-----+----+------+-----+----------+--------------------+--------------------+------+--------------------+--------------------+--------------------+-----+\n",
            "|           review_id|                text|stars|cool|useful|funny|      date|         business_id|             user_id|length|    body_text_nostop|   body_text_stemmed|body_text_lemmatized|label|\n",
            "+--------------------+--------------------+-----+----+------+-----+----------+--------------------+--------------------+------+--------------------+--------------------+--------------------+-----+\n",
            "|f5pGCpvkpRpJixZ0z...|We went here thre...|    2|   0|     0|    0|2016-11-13|caWUE0ItqsG51OaBV...|8p2nss7UoZmIVZTr1...|   572|[went, three, tim...|[went, three, tim...|[went, three, tim...|    0|\n",
            "|8lPKsNFBiLmVL5nbs...|My husband and I ...|    1|   1|     2|    1|2017-05-30|dc3uoAmNo5STqKV6m...|O3pSxv1SyHpY4qi4Q...|   407|[husband, went, d...|[husband, went, d...|[husband, went, d...|    0|\n",
            "|CANhCLzOoZ0mkL3mp...|Very Problematic\n",
            "...|    1|   0|     0|    0|2017-11-19|sR9hPrIaG-J-GLcl4...|ffC9zmbY4pBOS9Byr...|   483|[problematic, im,...|[problemat, im, g...|[problematic, im,...|    0|\n",
            "|TmIla5Eh5SSLJ_bKg...|I ordered chicken...|    2|   0|     4|    1|2013-02-19|Wc9UpJhOcdSj7olZk...|xde2rO3XVt0Do8kLR...|   324|[ordered, chicken...|[order, chicken, ...|[ordered, chicken...|    0|\n",
            "|Hbn8Wn1ryc_SloxZ7...|Granted it's a po...|    2|   0|     0|    0|2017-06-27|sFg3G8-oMGeiHYsVq...|st8UrI7Qkwi3nvHH0...|  1844|[granted, possibi...|[grant, possibl, ...|[granted, possibi...|    0|\n",
            "+--------------------+--------------------+-----+----+------+-----+----------+--------------------+--------------------+------+--------------------+--------------------+--------------------+-----+\n",
            "only showing top 5 rows\n",
            "\n"
          ],
          "name": "stdout"
        }
      ]
    },
    {
      "cell_type": "code",
      "metadata": {
        "id": "Kiylt7xOxzVj",
        "colab_type": "code",
        "colab": {}
      },
      "source": [
        "# Import functions\n",
        "from pyspark.ml.feature import HashingTF, IDF"
      ],
      "execution_count": 41,
      "outputs": []
    },
    {
      "cell_type": "code",
      "metadata": {
        "id": "jr4QTe4p4Qdm",
        "colab_type": "code",
        "colab": {
          "base_uri": "https://localhost:8080/",
          "height": 541
        },
        "outputId": "9a55ce71-79d3-4bd2-c9df-c0df57b8b2dc"
      },
      "source": [
        "# Make stars values a list\n",
        "# from pyspark.sql.functions import col, split\n",
        "# spark_df = spark_df.withColumn(\"star_array\", split(col(\"stars\"), \" \"))\n",
        "# spark_df.show()"
      ],
      "execution_count": null,
      "outputs": [
        {
          "output_type": "stream",
          "text": [
            "+--------------------+--------------------+-----+----+------+-----+----------+--------------------+--------------------+------+--------------------+--------------------+--------------------+----------+\n",
            "|           review_id|                text|stars|cool|useful|funny|      date|         business_id|             user_id|length|    body_text_nostop|   body_text_stemmed|body_text_lemmatized|star_array|\n",
            "+--------------------+--------------------+-----+----+------+-----+----------+--------------------+--------------------+------+--------------------+--------------------+--------------------+----------+\n",
            "|f5pGCpvkpRpJixZ0z...|We went here thre...|    2|   0|     0|    0|2016-11-13|caWUE0ItqsG51OaBV...|8p2nss7UoZmIVZTr1...|   572|[went, three, tim...|[went, three, tim...|[went, three, tim...|       [2]|\n",
            "|8lPKsNFBiLmVL5nbs...|My husband and I ...|    1|   1|     2|    1|2017-05-30|dc3uoAmNo5STqKV6m...|O3pSxv1SyHpY4qi4Q...|   407|[husband, went, d...|[husband, went, d...|[husband, went, d...|       [1]|\n",
            "|CANhCLzOoZ0mkL3mp...|Very Problematic\n",
            "...|    1|   0|     0|    0|2017-11-19|sR9hPrIaG-J-GLcl4...|ffC9zmbY4pBOS9Byr...|   483|[problematic, im,...|[problemat, im, g...|[problematic, im,...|       [1]|\n",
            "|bZ02moAXlosgWPM3p...|Today was the fir...|    3|   0|     0|    0|2014-12-30|NF6di6YcQxN0rDAle...|zE49S2Em3l7vgIlvF...|  1682|[today, first, ti...|[today, first, ti...|[today, first, ti...|       [3]|\n",
            "|TmIla5Eh5SSLJ_bKg...|I ordered chicken...|    2|   0|     4|    1|2013-02-19|Wc9UpJhOcdSj7olZk...|xde2rO3XVt0Do8kLR...|   324|[ordered, chicken...|[order, chicken, ...|[ordered, chicken...|       [2]|\n",
            "|Hbn8Wn1ryc_SloxZ7...|Granted it's a po...|    2|   0|     0|    0|2017-06-27|sFg3G8-oMGeiHYsVq...|st8UrI7Qkwi3nvHH0...|  1844|[granted, possibi...|[grant, possibl, ...|[granted, possibi...|       [2]|\n",
            "|zNXXGTnGOo9pKCN5J...|Went to lunch Sun...|    3|   0|     0|    1|2013-05-27|y3bMutme81x4PUhb0...|YT4FKLW7YiHDdlXZp...|   296|[went, lunch, sun...|[went, lunch, sun...|[went, lunch, sun...|       [3]|\n",
            "|Ez-8sHPrQdnyv5YZW...|Beer baby!! Alway...|    5|   0|     0|    0|2017-04-04|77N3luh2YzfJFJGFI...|9Xmw_WcUCShPD0qGO...|   579|[beer, baby, alwa...|[beer, babi, alwa...|[beer, baby, alwa...|       [5]|\n",
            "|-stycTPcOZuomCIvx...|Don't buy any of ...|    2|   0|     0|    0|2017-06-02|o5UD16isMFPnRxajN...|TzuvXu6cDr8Qdryt3...|   510|[dont, buy, oil, ...|[dont, buy, oil, ...|[dont, buy, oil, ...|       [2]|\n",
            "|iLJtdnLX7b8jl-S7m...|The food was grea...|    3|   0|     0|    0|2011-05-20|N0apJkxIem2E8irTB...|fs6yFn_sa7bTaS2aD...|   496|[food, great, cae...|[food, great, cae...|[food, great, cae...|       [3]|\n",
            "|DGVxDULWosyl4XH4a...|#FUTURESHOP #HEAR...|    2|   0|     2|    0|2014-04-29|HnGtPQ_jNQTnaIUmY...|mOVyk3O18VY5nrUMT...|  1421|[futureshop, hear...|[futureshop, hear...|[futureshop, hear...|       [2]|\n",
            "|wybLZgnqmYcY1OWCb...|We ordered fish a...|    3|   0|     0|    0|2015-03-11|_lywz7Hllngj466MZ...|rcfKA8hblCsHPTVhK...|   187|[ordered, fish, c...|[order, fish, chi...|[ordered, fish, c...|       [3]|\n",
            "|Pqp8uryZiWBoE_oRO...|Cancelled service...|    1|   0|     2|    0|2016-09-25|uBNoyDrAr-6L5rxhU...|K5-bh_OVK1_FVclv9...|   280|[cancelled, servi...|[cancel, servic, ...|[cancelled, servi...|       [1]|\n",
            "|QsDBb9z3tPjzFt8Je...|Zipps is close to...|    3|   0|     0|    0|2017-06-26|rOKEgdzmhzT99Ob_O...|D_Wp2rzmeQ8Bj5S4W...|   568|[zipps, close, ho...|[zipp, close, hou...|[zipps, close, ho...|       [3]|\n",
            "|mIVa9xwkaYyEeXqIB...|First off I need ...|    4|   3|     5|    2|2012-10-19|OThAF-lt6d7jY-pB1...|3aBGR6pyzQM_646ZI...|   406|[first, need, tel...|[first, need, tel...|[first, need, tel...|       [4]|\n",
            "|dDDKwDb7x__ogR_9Q...|It's been years s...|    2|   0|     0|    0|2014-05-07|r0rtl4OsZy-F099je...|YctiU1XvjSvB8-S5I...|  1263|[years, since, la...|[year, sinc, last...|[year, since, las...|       [2]|\n",
            "|VWUlJEyMRsXOFzPwO...|I've never had th...|    2|   0|     0|    0|2016-09-22|UNaXX99KnH69CBnUt...|HIbrGcTWXuxMLcqDQ...|   302|[ive, never, grea...|[ive, never, grea...|[ive, never, grea...|       [2]|\n",
            "|pxpnxk2OPiqrm7vCR...|We came to this r...|    2|   0|     0|    0|2017-08-04|TMEtXIh1PXsIryjTO...|DbvIS10e5BRB7AFT5...|   320|[came, restaurant...|[came, restaur, 3...|[came, restaurant...|       [2]|\n",
            "|twJyqEY3MnQek1WBe...|Located inside th...|    3|   0|     4|    0|2006-03-10|51w8nETUAMrTNQtuH...|JlD8asiXfY1CoGy3V...|  1197|[located, inside,...|[locat, insid, la...|[located, inside,...|       [3]|\n",
            "|m47UORbJZNs-0IJ0T...|Love this place. ...|    4|   0|     0|    0|2016-12-17|XKo3y41cF6euqS7I6...|2sr6IVXA9KHmcclxQ...|   219|[love, place, gre...|[love, place, gre...|[love, place, gre...|       [4]|\n",
            "+--------------------+--------------------+-----+----+------+-----+----------+--------------------+--------------------+------+--------------------+--------------------+--------------------+----------+\n",
            "only showing top 20 rows\n",
            "\n"
          ],
          "name": "stdout"
        }
      ]
    },
    {
      "cell_type": "code",
      "metadata": {
        "id": "58Do7Vby4QkT",
        "colab_type": "code",
        "colab": {}
      },
      "source": [
        "# # Initialize a CoutVectorizer\n",
        "# from pyspark.ml.feature import CountVectorizer\n",
        "# star_vectorizer = CountVectorizer(inputCol=\"star_array\", outputCol=\"stars_one_hot\", vocabSize=5, minDF=1.0)"
      ],
      "execution_count": null,
      "outputs": []
    },
    {
      "cell_type": "code",
      "metadata": {
        "id": "_WTHAZPK4QrE",
        "colab_type": "code",
        "colab": {}
      },
      "source": [
        "# Create a vector model\n",
        "# star_vector_model = star_vectorizer.fit(spark_df)"
      ],
      "execution_count": null,
      "outputs": []
    },
    {
      "cell_type": "code",
      "metadata": {
        "id": "YWwyaeRU4Q0-",
        "colab_type": "code",
        "colab": {
          "base_uri": "https://localhost:8080/",
          "height": 224
        },
        "outputId": "5fcb98b9-bd5e-4605-8eb9-4b7cbe6bf6b0"
      },
      "source": [
        "# # One hot encoded column\n",
        "# df_ohe = star_vector_model.transform(spark_df)\n",
        "# df_ohe.show(3)"
      ],
      "execution_count": null,
      "outputs": [
        {
          "output_type": "stream",
          "text": [
            "+--------------------+--------------------+-----+----+------+-----+----------+--------------------+--------------------+------+--------------------+--------------------+--------------------+----------+-------------+\n",
            "|           review_id|                text|stars|cool|useful|funny|      date|         business_id|             user_id|length|    body_text_nostop|   body_text_stemmed|body_text_lemmatized|star_array|stars_one_hot|\n",
            "+--------------------+--------------------+-----+----+------+-----+----------+--------------------+--------------------+------+--------------------+--------------------+--------------------+----------+-------------+\n",
            "|f5pGCpvkpRpJixZ0z...|We went here thre...|    2|   0|     0|    0|2016-11-13|caWUE0ItqsG51OaBV...|8p2nss7UoZmIVZTr1...|   572|[went, three, tim...|[went, three, tim...|[went, three, tim...|       [2]|(5,[4],[1.0])|\n",
            "|8lPKsNFBiLmVL5nbs...|My husband and I ...|    1|   1|     2|    1|2017-05-30|dc3uoAmNo5STqKV6m...|O3pSxv1SyHpY4qi4Q...|   407|[husband, went, d...|[husband, went, d...|[husband, went, d...|       [1]|(5,[2],[1.0])|\n",
            "|CANhCLzOoZ0mkL3mp...|Very Problematic\n",
            "...|    1|   0|     0|    0|2017-11-19|sR9hPrIaG-J-GLcl4...|ffC9zmbY4pBOS9Byr...|   483|[problematic, im,...|[problemat, im, g...|[problematic, im,...|       [1]|(5,[2],[1.0])|\n",
            "+--------------------+--------------------+-----+----+------+-----+----------+--------------------+--------------------+------+--------------------+--------------------+--------------------+----------+-------------+\n",
            "only showing top 3 rows\n",
            "\n"
          ],
          "name": "stdout"
        }
      ]
    },
    {
      "cell_type": "code",
      "metadata": {
        "id": "hNFHqcTA4Q9R",
        "colab_type": "code",
        "colab": {}
      },
      "source": [
        "# Create all the features to the data set\n",
        "hashingTF = HashingTF(inputCol=\"body_text_stemmed\", outputCol='hash_token')\n",
        "idf = IDF(inputCol='hash_token', outputCol='idf_token')"
      ],
      "execution_count": 42,
      "outputs": []
    },
    {
      "cell_type": "code",
      "metadata": {
        "id": "GO9K26k74sf4",
        "colab_type": "code",
        "colab": {}
      },
      "source": [
        "from pyspark.ml.feature import VectorAssembler\n",
        "from pyspark.ml.linalg import Vector\n",
        "# Create feature vector \n",
        "clean_up = VectorAssembler(inputCols=['idf_token', 'length'], outputCol='features')"
      ],
      "execution_count": 43,
      "outputs": []
    },
    {
      "cell_type": "code",
      "metadata": {
        "id": "-7myETso4sk1",
        "colab_type": "code",
        "colab": {}
      },
      "source": [
        "# Create and run a data processing Pipeline\n",
        "from pyspark.ml import Pipeline\n",
        "data_prep_pipeline = Pipeline(stages=[hashingTF, idf, clean_up])"
      ],
      "execution_count": 44,
      "outputs": []
    },
    {
      "cell_type": "code",
      "metadata": {
        "id": "i2iX37s_4spP",
        "colab_type": "code",
        "colab": {}
      },
      "source": [
        "# Fit and transform the pipeline\n",
        "cleaner = data_prep_pipeline.fit(spark_df)\n",
        "cleaned = cleaner.transform(spark_df)"
      ],
      "execution_count": 45,
      "outputs": []
    },
    {
      "cell_type": "code",
      "metadata": {
        "id": "PhsYLkZe4RDV",
        "colab_type": "code",
        "colab": {
          "base_uri": "https://localhost:8080/",
          "height": 261
        },
        "outputId": "2edcf5a7-e9d1-4530-b7b5-48be378d3e76"
      },
      "source": [
        "cleaned.show(5)"
      ],
      "execution_count": 46,
      "outputs": [
        {
          "output_type": "stream",
          "text": [
            "+--------------------+--------------------+-----+----+------+-----+----------+--------------------+--------------------+------+--------------------+--------------------+--------------------+-----+--------------------+--------------------+--------------------+\n",
            "|           review_id|                text|stars|cool|useful|funny|      date|         business_id|             user_id|length|    body_text_nostop|   body_text_stemmed|body_text_lemmatized|label|          hash_token|           idf_token|            features|\n",
            "+--------------------+--------------------+-----+----+------+-----+----------+--------------------+--------------------+------+--------------------+--------------------+--------------------+-----+--------------------+--------------------+--------------------+\n",
            "|f5pGCpvkpRpJixZ0z...|We went here thre...|    2|   0|     0|    0|2016-11-13|caWUE0ItqsG51OaBV...|8p2nss7UoZmIVZTr1...|   572|[went, three, tim...|[went, three, tim...|[went, three, tim...|    0|(262144,[4200,299...|(262144,[4200,299...|(262145,[4200,299...|\n",
            "|8lPKsNFBiLmVL5nbs...|My husband and I ...|    1|   1|     2|    1|2017-05-30|dc3uoAmNo5STqKV6m...|O3pSxv1SyHpY4qi4Q...|   407|[husband, went, d...|[husband, went, d...|[husband, went, d...|    0|(262144,[6872,156...|(262144,[6872,156...|(262145,[6872,156...|\n",
            "|CANhCLzOoZ0mkL3mp...|Very Problematic\n",
            "...|    1|   0|     0|    0|2017-11-19|sR9hPrIaG-J-GLcl4...|ffC9zmbY4pBOS9Byr...|   483|[problematic, im,...|[problemat, im, g...|[problematic, im,...|    0|(262144,[3067,690...|(262144,[3067,690...|(262145,[3067,690...|\n",
            "|TmIla5Eh5SSLJ_bKg...|I ordered chicken...|    2|   0|     4|    1|2013-02-19|Wc9UpJhOcdSj7olZk...|xde2rO3XVt0Do8kLR...|   324|[ordered, chicken...|[order, chicken, ...|[ordered, chicken...|    0|(262144,[27564,31...|(262144,[27564,31...|(262145,[27564,31...|\n",
            "|Hbn8Wn1ryc_SloxZ7...|Granted it's a po...|    2|   0|     0|    0|2017-06-27|sFg3G8-oMGeiHYsVq...|st8UrI7Qkwi3nvHH0...|  1844|[granted, possibi...|[grant, possibl, ...|[granted, possibi...|    0|(262144,[976,2437...|(262144,[976,2437...|(262145,[976,2437...|\n",
            "+--------------------+--------------------+-----+----+------+-----+----------+--------------------+--------------------+------+--------------------+--------------------+--------------------+-----+--------------------+--------------------+--------------------+\n",
            "only showing top 5 rows\n",
            "\n"
          ],
          "name": "stdout"
        }
      ]
    },
    {
      "cell_type": "markdown",
      "metadata": {
        "id": "HuHwRtRZKII6",
        "colab_type": "text"
      },
      "source": [
        "# **Machine Learning Models**"
      ]
    },
    {
      "cell_type": "code",
      "metadata": {
        "id": "zAhQ4n_XJokp",
        "colab_type": "code",
        "colab": {
          "base_uri": "https://localhost:8080/",
          "height": 503
        },
        "outputId": "4a6f2d31-5fc6-40fe-c741-a4ea165d8991"
      },
      "source": [
        "#Drop intermediate columns\n",
        "x=cleaned.select('features', 'label')\n",
        "x.show()"
      ],
      "execution_count": 48,
      "outputs": [
        {
          "output_type": "stream",
          "text": [
            "+--------------------+-----+\n",
            "|            features|label|\n",
            "+--------------------+-----+\n",
            "|(262145,[4200,299...|    0|\n",
            "|(262145,[6872,156...|    0|\n",
            "|(262145,[3067,690...|    0|\n",
            "|(262145,[27564,31...|    0|\n",
            "|(262145,[976,2437...|    0|\n",
            "|(262145,[22567,29...|    1|\n",
            "|(262145,[6317,880...|    0|\n",
            "|(262145,[976,1353...|    0|\n",
            "|(262145,[6908,109...|    0|\n",
            "|(262145,[6908,826...|    1|\n",
            "|(262145,[1353,181...|    0|\n",
            "|(262145,[11137,13...|    0|\n",
            "|(262145,[4200,538...|    0|\n",
            "|(262145,[32699,61...|    1|\n",
            "|(262145,[6317,223...|    0|\n",
            "|(262145,[1353,218...|    1|\n",
            "|(262145,[34343,44...|    0|\n",
            "|(262145,[2325,517...|    0|\n",
            "|(262145,[12336,21...|    1|\n",
            "|(262145,[1353,294...|    0|\n",
            "+--------------------+-----+\n",
            "only showing top 20 rows\n",
            "\n"
          ],
          "name": "stdout"
        }
      ]
    },
    {
      "cell_type": "code",
      "metadata": {
        "id": "TOw9lb8SL2ck",
        "colab_type": "code",
        "colab": {
          "base_uri": "https://localhost:8080/",
          "height": 36
        },
        "outputId": "858c3b49-4874-4142-cee0-c3046e80a10d"
      },
      "source": [
        "# Check dtypes \n",
        "x.dtypes"
      ],
      "execution_count": 49,
      "outputs": [
        {
          "output_type": "execute_result",
          "data": {
            "text/plain": [
              "[('features', 'vector'), ('label', 'bigint')]"
            ]
          },
          "metadata": {
            "tags": []
          },
          "execution_count": 49
        }
      ]
    },
    {
      "cell_type": "code",
      "metadata": {
        "id": "jpfYVKpKMKwo",
        "colab_type": "code",
        "colab": {
          "base_uri": "https://localhost:8080/",
          "height": 223
        },
        "outputId": "0a83385c-79d6-4eb8-c018-8f57ae38ad89"
      },
      "source": [
        "# Import col\n",
        "# from pyspark.sql.functions import col\n",
        "\n",
        "# # Change column DataType for stars\n",
        "# x = x.withColumn('label', col('label').cast('int'))\n",
        "\n",
        "# x.show(5)"
      ],
      "execution_count": null,
      "outputs": [
        {
          "output_type": "stream",
          "text": [
            "+--------------------+-----+\n",
            "|            features|label|\n",
            "+--------------------+-----+\n",
            "|(262145,[4200,299...|    4|\n",
            "|(262145,[6872,156...|    3|\n",
            "|(262145,[3067,690...|    3|\n",
            "|(262145,[1353,232...|    1|\n",
            "|(262145,[27564,31...|    4|\n",
            "+--------------------+-----+\n",
            "only showing top 5 rows\n",
            "\n"
          ],
          "name": "stdout"
        }
      ]
    },
    {
      "cell_type": "markdown",
      "metadata": {
        "id": "bgrfQolZ60kp",
        "colab_type": "text"
      },
      "source": [
        "**Naive Bayes**"
      ]
    },
    {
      "cell_type": "code",
      "metadata": {
        "id": "fw4iHzHGJosY",
        "colab_type": "code",
        "colab": {}
      },
      "source": [
        "# Break data down into a training set and a testing set\n",
        "training, testing = x.randomSplit([0.8, 0.2], 21)"
      ],
      "execution_count": 50,
      "outputs": []
    },
    {
      "cell_type": "code",
      "metadata": {
        "id": "TQg1u3srJoyg",
        "colab_type": "code",
        "colab": {}
      },
      "source": [
        "from pyspark.ml.classification import NaiveBayes\n",
        "# Create a Naive Bayes model and fit training data\n",
        "nb = NaiveBayes()\n",
        "predictor = nb.fit(training)"
      ],
      "execution_count": 51,
      "outputs": []
    },
    {
      "cell_type": "code",
      "metadata": {
        "id": "G1sw6FiKJovu",
        "colab_type": "code",
        "colab": {
          "base_uri": "https://localhost:8080/",
          "height": 36
        },
        "outputId": "eef901a2-1116-447e-b660-03b9d25b2d74"
      },
      "source": [
        "# Use the Class Evaluator for a cleaner description\n",
        "from pyspark.ml.evaluation import MulticlassClassificationEvaluator\n",
        "\n",
        "acc_eval = MulticlassClassificationEvaluator()\n",
        "acc = acc_eval.evaluate(predictor.transform(testing))\n",
        "print(\"Accuracy of model at predicting reviews was: %f\" % acc)"
      ],
      "execution_count": 52,
      "outputs": [
        {
          "output_type": "stream",
          "text": [
            "Accuracy of model at predicting reviews was: 0.738891\n"
          ],
          "name": "stdout"
        }
      ]
    },
    {
      "cell_type": "markdown",
      "metadata": {
        "id": "xh7jpZOW6vQo",
        "colab_type": "text"
      },
      "source": [
        "**Logistic Regression**"
      ]
    },
    {
      "cell_type": "code",
      "metadata": {
        "id": "mgWbYha_xWHr",
        "colab_type": "code",
        "colab": {}
      },
      "source": [
        "# Break data down into a training set and a testing set\n",
        "training, testing = x.randomSplit([0.8, 0.2], 21)"
      ],
      "execution_count": 53,
      "outputs": []
    },
    {
      "cell_type": "code",
      "metadata": {
        "id": "7Ph4zTLsJoqL",
        "colab_type": "code",
        "colab": {}
      },
      "source": [
        "from pyspark.ml.classification import LogisticRegression\n",
        "# Create a Naive Bayes model and fit training data\n",
        "lg = LogisticRegression()\n",
        "predictor = lg.fit(training)"
      ],
      "execution_count": 54,
      "outputs": []
    },
    {
      "cell_type": "code",
      "metadata": {
        "id": "OC6ucu5KJooj",
        "colab_type": "code",
        "colab": {
          "base_uri": "https://localhost:8080/",
          "height": 36
        },
        "outputId": "98089bb3-6dd8-421a-ae66-62db9257b1b4"
      },
      "source": [
        "from pyspark.ml.evaluation import MulticlassClassificationEvaluator\n",
        "acc_eval = MulticlassClassificationEvaluator()\n",
        "acc = acc_eval.evaluate(predictor.transform(testing))\n",
        "print(\"Accuracy of model at predicting reviews was: %f\" % acc)"
      ],
      "execution_count": 55,
      "outputs": [
        {
          "output_type": "stream",
          "text": [
            "Accuracy of model at predicting reviews was: 0.832530\n"
          ],
          "name": "stdout"
        }
      ]
    },
    {
      "cell_type": "markdown",
      "metadata": {
        "id": "f33IsJHRH39v",
        "colab_type": "text"
      },
      "source": [
        "**Multilayer Percepron**"
      ]
    },
    {
      "cell_type": "code",
      "metadata": {
        "id": "CXTWK85rH2xY",
        "colab_type": "code",
        "colab": {}
      },
      "source": [
        "from pyspark.ml.classification import MultilayerPerceptronClassifier\n",
        "from pyspark.ml.evaluation import MulticlassClassificationEvaluator"
      ],
      "execution_count": 56,
      "outputs": []
    },
    {
      "cell_type": "code",
      "metadata": {
        "id": "Sib4qnGSH8Zw",
        "colab_type": "code",
        "colab": {}
      },
      "source": [
        "# Split the data into train and test\n",
        "splits = x.randomSplit([0.8, 0.2], 1234)\n",
        "train = splits[0]\n",
        "test = splits[1]"
      ],
      "execution_count": 57,
      "outputs": []
    },
    {
      "cell_type": "code",
      "metadata": {
        "id": "495u_f-LIc3G",
        "colab_type": "code",
        "colab": {
          "base_uri": "https://localhost:8080/",
          "height": 503
        },
        "outputId": "c58ed5cc-8b79-4177-f2f2-9b614ca3fd93"
      },
      "source": [
        "train.show()"
      ],
      "execution_count": 58,
      "outputs": [
        {
          "output_type": "stream",
          "text": [
            "+--------------------+-----+\n",
            "|            features|label|\n",
            "+--------------------+-----+\n",
            "|(262145,[47,34343...|    1|\n",
            "|(262145,[57,7324,...|    1|\n",
            "|(262145,[97,1353,...|    0|\n",
            "|(262145,[97,3831,...|    1|\n",
            "|(262145,[97,4402,...|    0|\n",
            "|(262145,[97,13957...|    1|\n",
            "|(262145,[98,6646,...|    0|\n",
            "|(262145,[170,427,...|    0|\n",
            "|(262145,[170,1353...|    0|\n",
            "|(262145,[170,6243...|    1|\n",
            "|(262145,[198,991,...|    1|\n",
            "|(262145,[234,1176...|    1|\n",
            "|(262145,[234,1353...|    0|\n",
            "|(262145,[234,1288...|    0|\n",
            "|(262145,[234,1395...|    0|\n",
            "|(262145,[234,1729...|    1|\n",
            "|(262145,[251,976,...|    0|\n",
            "|(262145,[320,1076...|    1|\n",
            "|(262145,[323,2544...|    1|\n",
            "|(262145,[323,2742...|    1|\n",
            "+--------------------+-----+\n",
            "only showing top 20 rows\n",
            "\n"
          ],
          "name": "stdout"
        }
      ]
    },
    {
      "cell_type": "code",
      "metadata": {
        "id": "Nzva90r5INFN",
        "colab_type": "code",
        "colab": {}
      },
      "source": [
        "# specify layers for the neural network:\n",
        "layers = [62000, 256, 5]"
      ],
      "execution_count": 59,
      "outputs": []
    },
    {
      "cell_type": "code",
      "metadata": {
        "id": "qvuLEMTaINRM",
        "colab_type": "code",
        "colab": {}
      },
      "source": [
        "# create the trainer and set its parameters\n",
        "trainer = MultilayerPerceptronClassifier(maxIter=10, layers=layers, blockSize=128, seed=1234)"
      ],
      "execution_count": 60,
      "outputs": []
    },
    {
      "cell_type": "code",
      "metadata": {
        "id": "E6qc2Z9iJRUD",
        "colab_type": "code",
        "colab": {
          "base_uri": "https://localhost:8080/",
          "height": 1000
        },
        "outputId": "8a605fed-58d1-44b4-d175-6f6d6b7de319"
      },
      "source": [
        "# train the model\n",
        "model = trainer.fit(train)"
      ],
      "execution_count": 61,
      "outputs": [
        {
          "output_type": "error",
          "ename": "Py4JJavaError",
          "evalue": "ignored",
          "traceback": [
            "\u001b[0;31m---------------------------------------------------------------------------\u001b[0m",
            "\u001b[0;31mPy4JJavaError\u001b[0m                             Traceback (most recent call last)",
            "\u001b[0;32m<ipython-input-61-4f6cd2c6c383>\u001b[0m in \u001b[0;36m<module>\u001b[0;34m()\u001b[0m\n\u001b[1;32m      1\u001b[0m \u001b[0;31m# train the model\u001b[0m\u001b[0;34m\u001b[0m\u001b[0;34m\u001b[0m\u001b[0;34m\u001b[0m\u001b[0m\n\u001b[0;32m----> 2\u001b[0;31m \u001b[0mmodel\u001b[0m \u001b[0;34m=\u001b[0m \u001b[0mtrainer\u001b[0m\u001b[0;34m.\u001b[0m\u001b[0mfit\u001b[0m\u001b[0;34m(\u001b[0m\u001b[0mtrain\u001b[0m\u001b[0;34m)\u001b[0m\u001b[0;34m\u001b[0m\u001b[0;34m\u001b[0m\u001b[0m\n\u001b[0m",
            "\u001b[0;32m/content/spark-2.4.6-bin-hadoop2.7/python/pyspark/ml/base.py\u001b[0m in \u001b[0;36mfit\u001b[0;34m(self, dataset, params)\u001b[0m\n\u001b[1;32m    130\u001b[0m                 \u001b[0;32mreturn\u001b[0m \u001b[0mself\u001b[0m\u001b[0;34m.\u001b[0m\u001b[0mcopy\u001b[0m\u001b[0;34m(\u001b[0m\u001b[0mparams\u001b[0m\u001b[0;34m)\u001b[0m\u001b[0;34m.\u001b[0m\u001b[0m_fit\u001b[0m\u001b[0;34m(\u001b[0m\u001b[0mdataset\u001b[0m\u001b[0;34m)\u001b[0m\u001b[0;34m\u001b[0m\u001b[0;34m\u001b[0m\u001b[0m\n\u001b[1;32m    131\u001b[0m             \u001b[0;32melse\u001b[0m\u001b[0;34m:\u001b[0m\u001b[0;34m\u001b[0m\u001b[0;34m\u001b[0m\u001b[0m\n\u001b[0;32m--> 132\u001b[0;31m                 \u001b[0;32mreturn\u001b[0m \u001b[0mself\u001b[0m\u001b[0;34m.\u001b[0m\u001b[0m_fit\u001b[0m\u001b[0;34m(\u001b[0m\u001b[0mdataset\u001b[0m\u001b[0;34m)\u001b[0m\u001b[0;34m\u001b[0m\u001b[0;34m\u001b[0m\u001b[0m\n\u001b[0m\u001b[1;32m    133\u001b[0m         \u001b[0;32melse\u001b[0m\u001b[0;34m:\u001b[0m\u001b[0;34m\u001b[0m\u001b[0;34m\u001b[0m\u001b[0m\n\u001b[1;32m    134\u001b[0m             raise ValueError(\"Params must be either a param map or a list/tuple of param maps, \"\n",
            "\u001b[0;32m/content/spark-2.4.6-bin-hadoop2.7/python/pyspark/ml/wrapper.py\u001b[0m in \u001b[0;36m_fit\u001b[0;34m(self, dataset)\u001b[0m\n\u001b[1;32m    293\u001b[0m \u001b[0;34m\u001b[0m\u001b[0m\n\u001b[1;32m    294\u001b[0m     \u001b[0;32mdef\u001b[0m \u001b[0m_fit\u001b[0m\u001b[0;34m(\u001b[0m\u001b[0mself\u001b[0m\u001b[0;34m,\u001b[0m \u001b[0mdataset\u001b[0m\u001b[0;34m)\u001b[0m\u001b[0;34m:\u001b[0m\u001b[0;34m\u001b[0m\u001b[0;34m\u001b[0m\u001b[0m\n\u001b[0;32m--> 295\u001b[0;31m         \u001b[0mjava_model\u001b[0m \u001b[0;34m=\u001b[0m \u001b[0mself\u001b[0m\u001b[0;34m.\u001b[0m\u001b[0m_fit_java\u001b[0m\u001b[0;34m(\u001b[0m\u001b[0mdataset\u001b[0m\u001b[0;34m)\u001b[0m\u001b[0;34m\u001b[0m\u001b[0;34m\u001b[0m\u001b[0m\n\u001b[0m\u001b[1;32m    296\u001b[0m         \u001b[0mmodel\u001b[0m \u001b[0;34m=\u001b[0m \u001b[0mself\u001b[0m\u001b[0;34m.\u001b[0m\u001b[0m_create_model\u001b[0m\u001b[0;34m(\u001b[0m\u001b[0mjava_model\u001b[0m\u001b[0;34m)\u001b[0m\u001b[0;34m\u001b[0m\u001b[0;34m\u001b[0m\u001b[0m\n\u001b[1;32m    297\u001b[0m         \u001b[0;32mreturn\u001b[0m \u001b[0mself\u001b[0m\u001b[0;34m.\u001b[0m\u001b[0m_copyValues\u001b[0m\u001b[0;34m(\u001b[0m\u001b[0mmodel\u001b[0m\u001b[0;34m)\u001b[0m\u001b[0;34m\u001b[0m\u001b[0;34m\u001b[0m\u001b[0m\n",
            "\u001b[0;32m/content/spark-2.4.6-bin-hadoop2.7/python/pyspark/ml/wrapper.py\u001b[0m in \u001b[0;36m_fit_java\u001b[0;34m(self, dataset)\u001b[0m\n\u001b[1;32m    290\u001b[0m         \"\"\"\n\u001b[1;32m    291\u001b[0m         \u001b[0mself\u001b[0m\u001b[0;34m.\u001b[0m\u001b[0m_transfer_params_to_java\u001b[0m\u001b[0;34m(\u001b[0m\u001b[0;34m)\u001b[0m\u001b[0;34m\u001b[0m\u001b[0;34m\u001b[0m\u001b[0m\n\u001b[0;32m--> 292\u001b[0;31m         \u001b[0;32mreturn\u001b[0m \u001b[0mself\u001b[0m\u001b[0;34m.\u001b[0m\u001b[0m_java_obj\u001b[0m\u001b[0;34m.\u001b[0m\u001b[0mfit\u001b[0m\u001b[0;34m(\u001b[0m\u001b[0mdataset\u001b[0m\u001b[0;34m.\u001b[0m\u001b[0m_jdf\u001b[0m\u001b[0;34m)\u001b[0m\u001b[0;34m\u001b[0m\u001b[0;34m\u001b[0m\u001b[0m\n\u001b[0m\u001b[1;32m    293\u001b[0m \u001b[0;34m\u001b[0m\u001b[0m\n\u001b[1;32m    294\u001b[0m     \u001b[0;32mdef\u001b[0m \u001b[0m_fit\u001b[0m\u001b[0;34m(\u001b[0m\u001b[0mself\u001b[0m\u001b[0;34m,\u001b[0m \u001b[0mdataset\u001b[0m\u001b[0;34m)\u001b[0m\u001b[0;34m:\u001b[0m\u001b[0;34m\u001b[0m\u001b[0;34m\u001b[0m\u001b[0m\n",
            "\u001b[0;32m/content/spark-2.4.6-bin-hadoop2.7/python/lib/py4j-0.10.7-src.zip/py4j/java_gateway.py\u001b[0m in \u001b[0;36m__call__\u001b[0;34m(self, *args)\u001b[0m\n\u001b[1;32m   1255\u001b[0m         \u001b[0manswer\u001b[0m \u001b[0;34m=\u001b[0m \u001b[0mself\u001b[0m\u001b[0;34m.\u001b[0m\u001b[0mgateway_client\u001b[0m\u001b[0;34m.\u001b[0m\u001b[0msend_command\u001b[0m\u001b[0;34m(\u001b[0m\u001b[0mcommand\u001b[0m\u001b[0;34m)\u001b[0m\u001b[0;34m\u001b[0m\u001b[0;34m\u001b[0m\u001b[0m\n\u001b[1;32m   1256\u001b[0m         return_value = get_return_value(\n\u001b[0;32m-> 1257\u001b[0;31m             answer, self.gateway_client, self.target_id, self.name)\n\u001b[0m\u001b[1;32m   1258\u001b[0m \u001b[0;34m\u001b[0m\u001b[0m\n\u001b[1;32m   1259\u001b[0m         \u001b[0;32mfor\u001b[0m \u001b[0mtemp_arg\u001b[0m \u001b[0;32min\u001b[0m \u001b[0mtemp_args\u001b[0m\u001b[0;34m:\u001b[0m\u001b[0;34m\u001b[0m\u001b[0;34m\u001b[0m\u001b[0m\n",
            "\u001b[0;32m/content/spark-2.4.6-bin-hadoop2.7/python/pyspark/sql/utils.py\u001b[0m in \u001b[0;36mdeco\u001b[0;34m(*a, **kw)\u001b[0m\n\u001b[1;32m     61\u001b[0m     \u001b[0;32mdef\u001b[0m \u001b[0mdeco\u001b[0m\u001b[0;34m(\u001b[0m\u001b[0;34m*\u001b[0m\u001b[0ma\u001b[0m\u001b[0;34m,\u001b[0m \u001b[0;34m**\u001b[0m\u001b[0mkw\u001b[0m\u001b[0;34m)\u001b[0m\u001b[0;34m:\u001b[0m\u001b[0;34m\u001b[0m\u001b[0;34m\u001b[0m\u001b[0m\n\u001b[1;32m     62\u001b[0m         \u001b[0;32mtry\u001b[0m\u001b[0;34m:\u001b[0m\u001b[0;34m\u001b[0m\u001b[0;34m\u001b[0m\u001b[0m\n\u001b[0;32m---> 63\u001b[0;31m             \u001b[0;32mreturn\u001b[0m \u001b[0mf\u001b[0m\u001b[0;34m(\u001b[0m\u001b[0;34m*\u001b[0m\u001b[0ma\u001b[0m\u001b[0;34m,\u001b[0m \u001b[0;34m**\u001b[0m\u001b[0mkw\u001b[0m\u001b[0;34m)\u001b[0m\u001b[0;34m\u001b[0m\u001b[0;34m\u001b[0m\u001b[0m\n\u001b[0m\u001b[1;32m     64\u001b[0m         \u001b[0;32mexcept\u001b[0m \u001b[0mpy4j\u001b[0m\u001b[0;34m.\u001b[0m\u001b[0mprotocol\u001b[0m\u001b[0;34m.\u001b[0m\u001b[0mPy4JJavaError\u001b[0m \u001b[0;32mas\u001b[0m \u001b[0me\u001b[0m\u001b[0;34m:\u001b[0m\u001b[0;34m\u001b[0m\u001b[0;34m\u001b[0m\u001b[0m\n\u001b[1;32m     65\u001b[0m             \u001b[0ms\u001b[0m \u001b[0;34m=\u001b[0m \u001b[0me\u001b[0m\u001b[0;34m.\u001b[0m\u001b[0mjava_exception\u001b[0m\u001b[0;34m.\u001b[0m\u001b[0mtoString\u001b[0m\u001b[0;34m(\u001b[0m\u001b[0;34m)\u001b[0m\u001b[0;34m\u001b[0m\u001b[0;34m\u001b[0m\u001b[0m\n",
            "\u001b[0;32m/content/spark-2.4.6-bin-hadoop2.7/python/lib/py4j-0.10.7-src.zip/py4j/protocol.py\u001b[0m in \u001b[0;36mget_return_value\u001b[0;34m(answer, gateway_client, target_id, name)\u001b[0m\n\u001b[1;32m    326\u001b[0m                 raise Py4JJavaError(\n\u001b[1;32m    327\u001b[0m                     \u001b[0;34m\"An error occurred while calling {0}{1}{2}.\\n\"\u001b[0m\u001b[0;34m.\u001b[0m\u001b[0;34m\u001b[0m\u001b[0;34m\u001b[0m\u001b[0m\n\u001b[0;32m--> 328\u001b[0;31m                     format(target_id, \".\", name), value)\n\u001b[0m\u001b[1;32m    329\u001b[0m             \u001b[0;32melse\u001b[0m\u001b[0;34m:\u001b[0m\u001b[0;34m\u001b[0m\u001b[0;34m\u001b[0m\u001b[0m\n\u001b[1;32m    330\u001b[0m                 raise Py4JError(\n",
            "\u001b[0;31mPy4JJavaError\u001b[0m: An error occurred while calling o640.fit.\n: org.apache.spark.SparkException: Job aborted due to stage failure: Task 0 in stage 66.0 failed 1 times, most recent failure: Lost task 0.0 in stage 66.0 (TID 119, localhost, executor driver): TaskResultLost (result lost from block manager)\nDriver stacktrace:\n\tat org.apache.spark.scheduler.DAGScheduler.org$apache$spark$scheduler$DAGScheduler$$failJobAndIndependentStages(DAGScheduler.scala:1891)\n\tat org.apache.spark.scheduler.DAGScheduler$$anonfun$abortStage$1.apply(DAGScheduler.scala:1879)\n\tat org.apache.spark.scheduler.DAGScheduler$$anonfun$abortStage$1.apply(DAGScheduler.scala:1878)\n\tat scala.collection.mutable.ResizableArray$class.foreach(ResizableArray.scala:59)\n\tat scala.collection.mutable.ArrayBuffer.foreach(ArrayBuffer.scala:48)\n\tat org.apache.spark.scheduler.DAGScheduler.abortStage(DAGScheduler.scala:1878)\n\tat org.apache.spark.scheduler.DAGScheduler$$anonfun$handleTaskSetFailed$1.apply(DAGScheduler.scala:927)\n\tat org.apache.spark.scheduler.DAGScheduler$$anonfun$handleTaskSetFailed$1.apply(DAGScheduler.scala:927)\n\tat scala.Option.foreach(Option.scala:257)\n\tat org.apache.spark.scheduler.DAGScheduler.handleTaskSetFailed(DAGScheduler.scala:927)\n\tat org.apache.spark.scheduler.DAGSchedulerEventProcessLoop.doOnReceive(DAGScheduler.scala:2112)\n\tat org.apache.spark.scheduler.DAGSchedulerEventProcessLoop.onReceive(DAGScheduler.scala:2061)\n\tat org.apache.spark.scheduler.DAGSchedulerEventProcessLoop.onReceive(DAGScheduler.scala:2050)\n\tat org.apache.spark.util.EventLoop$$anon$1.run(EventLoop.scala:49)\n\tat org.apache.spark.scheduler.DAGScheduler.runJob(DAGScheduler.scala:738)\n\tat org.apache.spark.SparkContext.runJob(SparkContext.scala:2061)\n\tat org.apache.spark.SparkContext.runJob(SparkContext.scala:2158)\n\tat org.apache.spark.rdd.RDD$$anonfun$fold$1.apply(RDD.scala:1143)\n\tat org.apache.spark.rdd.RDDOperationScope$.withScope(RDDOperationScope.scala:151)\n\tat org.apache.spark.rdd.RDDOperationScope$.withScope(RDDOperationScope.scala:112)\n\tat org.apache.spark.rdd.RDD.withScope(RDD.scala:385)\n\tat org.apache.spark.rdd.RDD.fold(RDD.scala:1137)\n\tat org.apache.spark.rdd.RDD$$anonfun$treeAggregate$1.apply(RDD.scala:1206)\n\tat org.apache.spark.rdd.RDDOperationScope$.withScope(RDDOperationScope.scala:151)\n\tat org.apache.spark.rdd.RDDOperationScope$.withScope(RDDOperationScope.scala:112)\n\tat org.apache.spark.rdd.RDD.withScope(RDD.scala:385)\n\tat org.apache.spark.rdd.RDD.treeAggregate(RDD.scala:1182)\n\tat org.apache.spark.mllib.optimization.LBFGS$CostFun.calculate(LBFGS.scala:261)\n\tat org.apache.spark.mllib.optimization.LBFGS$CostFun.calculate(LBFGS.scala:230)\n\tat breeze.optimize.CachedDiffFunction.calculate(CachedDiffFunction.scala:23)\n\tat breeze.optimize.LineSearch$$anon$1.calculate(LineSearch.scala:41)\n\tat breeze.optimize.LineSearch$$anon$1.calculate(LineSearch.scala:30)\n\tat breeze.optimize.StrongWolfeLineSearch.breeze$optimize$StrongWolfeLineSearch$$phi$1(StrongWolfe.scala:76)\n\tat breeze.optimize.StrongWolfeLineSearch$$anonfun$minimizeWithBound$1.apply$mcVI$sp(StrongWolfe.scala:149)\n\tat scala.collection.immutable.Range.foreach$mVc$sp(Range.scala:160)\n\tat breeze.optimize.StrongWolfeLineSearch.minimizeWithBound(StrongWolfe.scala:148)\n\tat breeze.optimize.StrongWolfeLineSearch.minimize(StrongWolfe.scala:62)\n\tat breeze.optimize.LBFGS.determineStepSize(LBFGS.scala:76)\n\tat breeze.optimize.LBFGS.determineStepSize(LBFGS.scala:39)\n\tat breeze.optimize.FirstOrderMinimizer$$anonfun$infiniteIterations$1.apply(FirstOrderMinimizer.scala:64)\n\tat breeze.optimize.FirstOrderMinimizer$$anonfun$infiniteIterations$1.apply(FirstOrderMinimizer.scala:62)\n\tat scala.collection.Iterator$$anon$7.next(Iterator.scala:129)\n\tat breeze.util.IteratorImplicits$RichIterator$$anon$2.next(Implicits.scala:71)\n\tat org.apache.spark.mllib.optimization.LBFGS$.runLBFGS(LBFGS.scala:212)\n\tat org.apache.spark.mllib.optimization.LBFGS.optimize(LBFGS.scala:142)\n\tat org.apache.spark.ml.ann.FeedForwardTrainer.train(Layer.scala:854)\n\tat org.apache.spark.ml.classification.MultilayerPerceptronClassifier$$anonfun$train$1.apply(MultilayerPerceptronClassifier.scala:249)\n\tat org.apache.spark.ml.classification.MultilayerPerceptronClassifier$$anonfun$train$1.apply(MultilayerPerceptronClassifier.scala:205)\n\tat org.apache.spark.ml.util.Instrumentation$$anonfun$11.apply(Instrumentation.scala:185)\n\tat scala.util.Try$.apply(Try.scala:192)\n\tat org.apache.spark.ml.util.Instrumentation$.instrumented(Instrumentation.scala:185)\n\tat org.apache.spark.ml.classification.MultilayerPerceptronClassifier.train(MultilayerPerceptronClassifier.scala:205)\n\tat org.apache.spark.ml.classification.MultilayerPerceptronClassifier.train(MultilayerPerceptronClassifier.scala:114)\n\tat org.apache.spark.ml.Predictor.fit(Predictor.scala:118)\n\tat sun.reflect.NativeMethodAccessorImpl.invoke0(Native Method)\n\tat sun.reflect.NativeMethodAccessorImpl.invoke(NativeMethodAccessorImpl.java:62)\n\tat sun.reflect.DelegatingMethodAccessorImpl.invoke(DelegatingMethodAccessorImpl.java:43)\n\tat java.lang.reflect.Method.invoke(Method.java:498)\n\tat py4j.reflection.MethodInvoker.invoke(MethodInvoker.java:244)\n\tat py4j.reflection.ReflectionEngine.invoke(ReflectionEngine.java:357)\n\tat py4j.Gateway.invoke(Gateway.java:282)\n\tat py4j.commands.AbstractCommand.invokeMethod(AbstractCommand.java:132)\n\tat py4j.commands.CallCommand.execute(CallCommand.java:79)\n\tat py4j.GatewayConnection.run(GatewayConnection.java:238)\n\tat java.lang.Thread.run(Thread.java:748)\n"
          ]
        }
      ]
    }
  ]
}