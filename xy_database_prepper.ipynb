{
  "nbformat": 4,
  "nbformat_minor": 0,
  "metadata": {
    "colab": {
      "name": "xy_database_prepper.ipynb",
      "provenance": [],
      "collapsed_sections": [],
      "authorship_tag": "ABX9TyPKcEIBup+wvDBy9vXNd1QA",
      "include_colab_link": true
    },
    "kernelspec": {
      "name": "python3",
      "display_name": "Python 3"
    }
  },
  "cells": [
    {
      "cell_type": "markdown",
      "metadata": {
        "id": "view-in-github",
        "colab_type": "text"
      },
      "source": [
        "<a href=\"https://colab.research.google.com/github/karenbennis/Xy/blob/Blake/xy_database_prepper.ipynb\" target=\"_parent\"><img src=\"https://colab.research.google.com/assets/colab-badge.svg\" alt=\"Open In Colab\"/></a>"
      ]
    },
    {
      "cell_type": "code",
      "metadata": {
        "id": "yihY5VycO3km",
        "colab_type": "code",
        "colab": {}
      },
      "source": [
        "# Install Java, Spark, and Findspark ---IMPORTED WITH EVERY COLAB NOTEBOOK\n",
        "!apt-get install openjdk-8-jdk-headless -qq > /dev/null\n",
        "!wget -q http://www-us.apache.org/dist/spark/spark-2.4.5/spark-2.4.5-bin-hadoop2.7.tgz\n",
        "!tar xf spark-2.4.5-bin-hadoop2.7.tgz\n",
        "!pip install -q findspark\n",
        "\n",
        "# Set Environment Variables\n",
        "import os\n",
        "os.environ[\"JAVA_HOME\"] = \"/usr/lib/jvm/java-8-openjdk-amd64\"\n",
        "os.environ[\"SPARK_HOME\"] = \"/content/spark-2.4.5-bin-hadoop2.7\"\n",
        "\n",
        "# Start a SparkSession\n",
        "import findspark\n",
        "findspark.init()"
      ],
      "execution_count": 1,
      "outputs": []
    },
    {
      "cell_type": "code",
      "metadata": {
        "id": "Yv06Qt8kbuBF",
        "colab_type": "code",
        "colab": {
          "base_uri": "https://localhost:8080/",
          "height": 202
        },
        "outputId": "835cb28d-7e3b-4835-ea45-9a72f48e84ad"
      },
      "source": [
        "!wget https://jdbc.postgresql.org/download/postgresql-42.2.9.jar"
      ],
      "execution_count": 2,
      "outputs": [
        {
          "output_type": "stream",
          "text": [
            "--2020-07-12 23:23:34--  https://jdbc.postgresql.org/download/postgresql-42.2.9.jar\n",
            "Resolving jdbc.postgresql.org (jdbc.postgresql.org)... 72.32.157.228, 2001:4800:3e1:1::228\n",
            "Connecting to jdbc.postgresql.org (jdbc.postgresql.org)|72.32.157.228|:443... connected.\n",
            "HTTP request sent, awaiting response... 200 OK\n",
            "Length: 914037 (893K) [application/java-archive]\n",
            "Saving to: ‘postgresql-42.2.9.jar.5’\n",
            "\n",
            "\rpostgresql-42.2.9.j   0%[                    ]       0  --.-KB/s               \rpostgresql-42.2.9.j 100%[===================>] 892.61K  4.78MB/s    in 0.2s    \n",
            "\n",
            "2020-07-12 23:23:34 (4.78 MB/s) - ‘postgresql-42.2.9.jar.5’ saved [914037/914037]\n",
            "\n"
          ],
          "name": "stdout"
        }
      ]
    },
    {
      "cell_type": "code",
      "metadata": {
        "id": "aLKgevoTO7t1",
        "colab_type": "code",
        "colab": {}
      },
      "source": [
        "# Start Spark Session(Creating spark application with name defined by appName()) ---IMPORTED WITH EVERY COLAB NOTEBOOK\n",
        "from pyspark.sql import SparkSession\n",
        "spark = SparkSession.builder.appName(\"database_transformation\").config(\"spark.driver.extraClassPath\",\"/content/postgresql-42.2.9.jar\").getOrCreate()"
      ],
      "execution_count": 3,
      "outputs": []
    },
    {
      "cell_type": "code",
      "metadata": {
        "id": "bhWkCU_gO9WU",
        "colab_type": "code",
        "colab": {}
      },
      "source": [
        "# Import pandas\n",
        "import pandas as pd\n",
        "# Import struct files that we need to modify datatypes\n",
        "from pyspark.sql.types import StructField, StringType, IntegerType, StructType, DateType\n",
        "# Import unix timestamp \n",
        "from pyspark.sql.functions import unix_timestamp, to_date, col"
      ],
      "execution_count": 4,
      "outputs": []
    },
    {
      "cell_type": "code",
      "metadata": {
        "id": "5PVRv31CPPLl",
        "colab_type": "code",
        "colab": {
          "base_uri": "https://localhost:8080/",
          "height": 195
        },
        "outputId": "e1669e8e-ac8f-4341-8953-679f3843ffc0"
      },
      "source": [
        "file_path = \"https://raw.githubusercontent.com/karenbennis/Xy/Data_ETL/yelp.csv\"\n",
        "pd_df = pd.read_csv(file_path)\n",
        "pd_df.head()"
      ],
      "execution_count": 5,
      "outputs": [
        {
          "output_type": "execute_result",
          "data": {
            "text/html": [
              "<div>\n",
              "<style scoped>\n",
              "    .dataframe tbody tr th:only-of-type {\n",
              "        vertical-align: middle;\n",
              "    }\n",
              "\n",
              "    .dataframe tbody tr th {\n",
              "        vertical-align: top;\n",
              "    }\n",
              "\n",
              "    .dataframe thead th {\n",
              "        text-align: right;\n",
              "    }\n",
              "</style>\n",
              "<table border=\"1\" class=\"dataframe\">\n",
              "  <thead>\n",
              "    <tr style=\"text-align: right;\">\n",
              "      <th></th>\n",
              "      <th>business_id</th>\n",
              "      <th>date</th>\n",
              "      <th>review_id</th>\n",
              "      <th>stars</th>\n",
              "      <th>text</th>\n",
              "      <th>type</th>\n",
              "      <th>user_id</th>\n",
              "      <th>cool</th>\n",
              "      <th>useful</th>\n",
              "      <th>funny</th>\n",
              "    </tr>\n",
              "  </thead>\n",
              "  <tbody>\n",
              "    <tr>\n",
              "      <th>0</th>\n",
              "      <td>9yKzy9PApeiPPOUJEtnvkg</td>\n",
              "      <td>2011-01-26</td>\n",
              "      <td>fWKvX83p0-ka4JS3dc6E5A</td>\n",
              "      <td>5</td>\n",
              "      <td>My wife took me here on my birthday for breakf...</td>\n",
              "      <td>review</td>\n",
              "      <td>rLtl8ZkDX5vH5nAx9C3q5Q</td>\n",
              "      <td>2</td>\n",
              "      <td>5</td>\n",
              "      <td>0</td>\n",
              "    </tr>\n",
              "    <tr>\n",
              "      <th>1</th>\n",
              "      <td>ZRJwVLyzEJq1VAihDhYiow</td>\n",
              "      <td>2011-07-27</td>\n",
              "      <td>IjZ33sJrzXqU-0X6U8NwyA</td>\n",
              "      <td>5</td>\n",
              "      <td>I have no idea why some people give bad review...</td>\n",
              "      <td>review</td>\n",
              "      <td>0a2KyEL0d3Yb1V6aivbIuQ</td>\n",
              "      <td>0</td>\n",
              "      <td>0</td>\n",
              "      <td>0</td>\n",
              "    </tr>\n",
              "    <tr>\n",
              "      <th>2</th>\n",
              "      <td>6oRAC4uyJCsJl1X0WZpVSA</td>\n",
              "      <td>2012-06-14</td>\n",
              "      <td>IESLBzqUCLdSzSqm0eCSxQ</td>\n",
              "      <td>4</td>\n",
              "      <td>love the gyro plate. Rice is so good and I als...</td>\n",
              "      <td>review</td>\n",
              "      <td>0hT2KtfLiobPvh6cDC8JQg</td>\n",
              "      <td>0</td>\n",
              "      <td>1</td>\n",
              "      <td>0</td>\n",
              "    </tr>\n",
              "    <tr>\n",
              "      <th>3</th>\n",
              "      <td>_1QQZuf4zZOyFCvXc0o6Vg</td>\n",
              "      <td>2010-05-27</td>\n",
              "      <td>G-WvGaISbqqaMHlNnByodA</td>\n",
              "      <td>5</td>\n",
              "      <td>Rosie, Dakota, and I LOVE Chaparral Dog Park!!...</td>\n",
              "      <td>review</td>\n",
              "      <td>uZetl9T0NcROGOyFfughhg</td>\n",
              "      <td>1</td>\n",
              "      <td>2</td>\n",
              "      <td>0</td>\n",
              "    </tr>\n",
              "    <tr>\n",
              "      <th>4</th>\n",
              "      <td>6ozycU1RpktNG2-1BroVtw</td>\n",
              "      <td>2012-01-05</td>\n",
              "      <td>1uJFq2r5QfJG_6ExMRCaGw</td>\n",
              "      <td>5</td>\n",
              "      <td>General Manager Scott Petello is a good egg!!!...</td>\n",
              "      <td>review</td>\n",
              "      <td>vYmM4KTsC8ZfQBg-j5MWkw</td>\n",
              "      <td>0</td>\n",
              "      <td>0</td>\n",
              "      <td>0</td>\n",
              "    </tr>\n",
              "  </tbody>\n",
              "</table>\n",
              "</div>"
            ],
            "text/plain": [
              "              business_id        date  ... useful  funny\n",
              "0  9yKzy9PApeiPPOUJEtnvkg  2011-01-26  ...      5      0\n",
              "1  ZRJwVLyzEJq1VAihDhYiow  2011-07-27  ...      0      0\n",
              "2  6oRAC4uyJCsJl1X0WZpVSA  2012-06-14  ...      1      0\n",
              "3  _1QQZuf4zZOyFCvXc0o6Vg  2010-05-27  ...      2      0\n",
              "4  6ozycU1RpktNG2-1BroVtw  2012-01-05  ...      0      0\n",
              "\n",
              "[5 rows x 10 columns]"
            ]
          },
          "metadata": {
            "tags": []
          },
          "execution_count": 5
        }
      ]
    },
    {
      "cell_type": "code",
      "metadata": {
        "id": "rqX-oko4PV3B",
        "colab_type": "code",
        "colab": {}
      },
      "source": [
        "mySchema = StructType([ StructField(\"business_id\", StringType(), True)\\\n",
        "                       ,StructField(\"date\", StringType(), True)\\\n",
        "                       ,StructField(\"review_id\", StringType(), True)\\\n",
        "                       ,StructField(\"stars\", IntegerType(), True)\\\n",
        "                       ,StructField(\"text\", StringType(), True)\\\n",
        "                       ,StructField(\"type\", StringType(), True)\\\n",
        "                       ,StructField(\"user_id\", StringType(), True)\\\n",
        "                       ,StructField(\"cool\", IntegerType(), True)\\\n",
        "                       ,StructField(\"useful\", IntegerType(), True)\\\n",
        "                       ,StructField(\"funny\", IntegerType(), True)])"
      ],
      "execution_count": 6,
      "outputs": []
    },
    {
      "cell_type": "code",
      "metadata": {
        "id": "Xmc8KUIIQxLi",
        "colab_type": "code",
        "colab": {}
      },
      "source": [
        "df = spark.createDataFrame(pd_df,schema=mySchema)"
      ],
      "execution_count": 7,
      "outputs": []
    },
    {
      "cell_type": "code",
      "metadata": {
        "id": "IyBAfYm-RA7G",
        "colab_type": "code",
        "colab": {
          "base_uri": "https://localhost:8080/",
          "height": 454
        },
        "outputId": "1f73429d-edc0-4495-c7a6-f912a8b6fb1c"
      },
      "source": [
        "df.show()"
      ],
      "execution_count": 8,
      "outputs": [
        {
          "output_type": "stream",
          "text": [
            "+--------------------+----------+--------------------+-----+--------------------+------+--------------------+----+------+-----+\n",
            "|         business_id|      date|           review_id|stars|                text|  type|             user_id|cool|useful|funny|\n",
            "+--------------------+----------+--------------------+-----+--------------------+------+--------------------+----+------+-----+\n",
            "|9yKzy9PApeiPPOUJE...|2011-01-26|fWKvX83p0-ka4JS3d...|    5|My wife took me h...|review|rLtl8ZkDX5vH5nAx9...|   2|     5|    0|\n",
            "|ZRJwVLyzEJq1VAihD...|2011-07-27|IjZ33sJrzXqU-0X6U...|    5|I have no idea wh...|review|0a2KyEL0d3Yb1V6ai...|   0|     0|    0|\n",
            "|6oRAC4uyJCsJl1X0W...|2012-06-14|IESLBzqUCLdSzSqm0...|    4|love the gyro pla...|review|0hT2KtfLiobPvh6cD...|   0|     1|    0|\n",
            "|_1QQZuf4zZOyFCvXc...|2010-05-27|G-WvGaISbqqaMHlNn...|    5|Rosie, Dakota, an...|review|uZetl9T0NcROGOyFf...|   1|     2|    0|\n",
            "|6ozycU1RpktNG2-1B...|2012-01-05|1uJFq2r5QfJG_6ExM...|    5|General Manager S...|review|vYmM4KTsC8ZfQBg-j...|   0|     0|    0|\n",
            "|-yxfBYGB6SEqszmxJ...|2007-12-13|m2CKSsepBCoRYWxiR...|    4|Quiessence is, si...|review|sqYN3lNgvPbPCTRsM...|   4|     3|    1|\n",
            "|zp713qNhx8d9KCJJn...|2010-02-12|riFQ3vxNpP4rWLk_C...|    5|Drop what you're ...|review|wFweIWhv2fREZV_dY...|   7|     7|    4|\n",
            "|hW0Ne_HTHEAgGF1rA...|2012-07-12|JL7GXJ9u4YMx7Rzs0...|    4|Luckily, I didn't...|review|1ieuYcKS7zeAv_U15...|   0|     1|    0|\n",
            "|wNUea3IXZWD63bbOQ...|2012-08-17|XtnfnYmnJYi71yIuG...|    4|Definitely come f...|review|Vh_DlizgGhSqQh4qf...|   0|     0|    0|\n",
            "|nMHhuYan8e3cONo3P...|2010-08-11|jJAIXA46pU1swYyRC...|    5|Nobuo shows his u...|review|sUNkXg8-KFtCMQDV6...|   0|     1|    0|\n",
            "|AsSCv0q_BWqIe3mX2...|2010-06-16|E11jzpKz9Kw5K7fuA...|    5|The oldish man wh...|review|-OMlS6yWkYjVldNhC...|   1|     3|    1|\n",
            "|e9nN4XxjdHj4qtKCO...|2011-10-21|3rPt0LxF7rgmEUrzn...|    5|Wonderful Vietnam...|review|C1rHp3dmepNea7Xio...|   1|     1|    0|\n",
            "|h53YuCiIDfEFSJCQp...|2010-01-11|cGnKNX3I9rthE0-TH...|    5|They have a limit...|review|UPtysDF6cUDUxq2KY...|   1|     2|    0|\n",
            "|WGNIYMeXPyoWav1AP...|2011-12-23|FvEEw1_OsrYdvwLV5...|    4|Good tattoo shop....|review|Xm8HXE1JHqscXe5BK...|   1|     2|    0|\n",
            "|yc5AH9H71xJidA_J2...|2010-05-20|pfUwBKYYmUXeiwrhD...|    4|I'm 2 weeks new t...|review|JOG-4G4e8ae3lx_sz...|   1|     1|    0|\n",
            "|Vb9FPCEL6Ly24PNxL...|2011-03-20|HvqmdqWcerVWO3Gs6...|    2|Was it worth the ...|review|ylWOj2y7TV2e3yYeW...|   0|     2|    0|\n",
            "|supigcPNO9IKo6ola...|2008-10-12|HXP_0Ul-FCmA4f-k9...|    3|We went here on a...|review|SBbftLzfYYKItOMFw...|   3|     4|    2|\n",
            "|O510Re68mOy9dU490...|2010-05-03|j4SIzrIy0WrmW4yr4...|    5|okay this is the ...|review|u1KWcbPMvXFEEYkZZ...|   0|     0|    0|\n",
            "|b5cEoKR8iQliq-yT2...|2009-03-06|v0cTd3PNpYCkTyGKS...|    3|I met a friend fo...|review|UsULgP4bKA8RMzs8d...|   5|     6|    4|\n",
            "|4JzzbSbK9wmlOBJZW...|2011-11-17|a0lCu-j2Sk_kHQsZi...|    4|They've gotten be...|review|nDBly08j5URmrHQ2J...|   1|     1|    1|\n",
            "+--------------------+----------+--------------------+-----+--------------------+------+--------------------+----+------+-----+\n",
            "only showing top 20 rows\n",
            "\n"
          ],
          "name": "stdout"
        }
      ]
    },
    {
      "cell_type": "code",
      "metadata": {
        "id": "OTE7sGMeRJMK",
        "colab_type": "code",
        "colab": {}
      },
      "source": [
        "df = df.withColumn('date', \n",
        "                   to_date(unix_timestamp(col('date'), 'yyyy-mm-dd').cast(\"timestamp\")))"
      ],
      "execution_count": 9,
      "outputs": []
    },
    {
      "cell_type": "code",
      "metadata": {
        "id": "NVHJWxqnSegQ",
        "colab_type": "code",
        "colab": {
          "base_uri": "https://localhost:8080/",
          "height": 168
        },
        "outputId": "f739103d-e7dc-44ce-dcd0-d710b8102e40"
      },
      "source": [
        "df.show(3)"
      ],
      "execution_count": 10,
      "outputs": [
        {
          "output_type": "stream",
          "text": [
            "+--------------------+----------+--------------------+-----+--------------------+------+--------------------+----+------+-----+\n",
            "|         business_id|      date|           review_id|stars|                text|  type|             user_id|cool|useful|funny|\n",
            "+--------------------+----------+--------------------+-----+--------------------+------+--------------------+----+------+-----+\n",
            "|9yKzy9PApeiPPOUJE...|2011-01-26|fWKvX83p0-ka4JS3d...|    5|My wife took me h...|review|rLtl8ZkDX5vH5nAx9...|   2|     5|    0|\n",
            "|ZRJwVLyzEJq1VAihD...|2011-01-27|IjZ33sJrzXqU-0X6U...|    5|I have no idea wh...|review|0a2KyEL0d3Yb1V6ai...|   0|     0|    0|\n",
            "|6oRAC4uyJCsJl1X0W...|2012-01-14|IESLBzqUCLdSzSqm0...|    4|love the gyro pla...|review|0hT2KtfLiobPvh6cD...|   0|     1|    0|\n",
            "+--------------------+----------+--------------------+-----+--------------------+------+--------------------+----+------+-----+\n",
            "only showing top 3 rows\n",
            "\n"
          ],
          "name": "stdout"
        }
      ]
    },
    {
      "cell_type": "code",
      "metadata": {
        "id": "eEldWOQvSgN_",
        "colab_type": "code",
        "colab": {
          "base_uri": "https://localhost:8080/",
          "height": 185
        },
        "outputId": "cf78cca1-757a-49dd-a3fa-5735d082a67d"
      },
      "source": [
        "df.dtypes"
      ],
      "execution_count": 11,
      "outputs": [
        {
          "output_type": "execute_result",
          "data": {
            "text/plain": [
              "[('business_id', 'string'),\n",
              " ('date', 'date'),\n",
              " ('review_id', 'string'),\n",
              " ('stars', 'int'),\n",
              " ('text', 'string'),\n",
              " ('type', 'string'),\n",
              " ('user_id', 'string'),\n",
              " ('cool', 'int'),\n",
              " ('useful', 'int'),\n",
              " ('funny', 'int')]"
            ]
          },
          "metadata": {
            "tags": []
          },
          "execution_count": 11
        }
      ]
    },
    {
      "cell_type": "code",
      "metadata": {
        "id": "Rdjs6C4nVfQv",
        "colab_type": "code",
        "colab": {}
      },
      "source": [
        "df = df.selectExpr(\"business_id as business_id\", \"date as review_date\", \"review_id as review_id\", \"stars as stars\",\n",
        "                    \"text as review_text\", \"type as review_type\", \"user_id as user_id\", \"cool as cool\", \"useful as useful\",\"funny as funny\")"
      ],
      "execution_count": 12,
      "outputs": []
    },
    {
      "cell_type": "code",
      "metadata": {
        "id": "a4XzugttWBsG",
        "colab_type": "code",
        "colab": {
          "base_uri": "https://localhost:8080/",
          "height": 454
        },
        "outputId": "d1a35a15-634c-4cd9-c1b2-fa5243ad8c84"
      },
      "source": [
        "df.show()"
      ],
      "execution_count": 13,
      "outputs": [
        {
          "output_type": "stream",
          "text": [
            "+--------------------+-----------+--------------------+-----+--------------------+-----------+--------------------+----+------+-----+\n",
            "|         business_id|review_date|           review_id|stars|         review_text|review_type|             user_id|cool|useful|funny|\n",
            "+--------------------+-----------+--------------------+-----+--------------------+-----------+--------------------+----+------+-----+\n",
            "|9yKzy9PApeiPPOUJE...| 2011-01-26|fWKvX83p0-ka4JS3d...|    5|My wife took me h...|     review|rLtl8ZkDX5vH5nAx9...|   2|     5|    0|\n",
            "|ZRJwVLyzEJq1VAihD...| 2011-01-27|IjZ33sJrzXqU-0X6U...|    5|I have no idea wh...|     review|0a2KyEL0d3Yb1V6ai...|   0|     0|    0|\n",
            "|6oRAC4uyJCsJl1X0W...| 2012-01-14|IESLBzqUCLdSzSqm0...|    4|love the gyro pla...|     review|0hT2KtfLiobPvh6cD...|   0|     1|    0|\n",
            "|_1QQZuf4zZOyFCvXc...| 2010-01-27|G-WvGaISbqqaMHlNn...|    5|Rosie, Dakota, an...|     review|uZetl9T0NcROGOyFf...|   1|     2|    0|\n",
            "|6ozycU1RpktNG2-1B...| 2012-01-05|1uJFq2r5QfJG_6ExM...|    5|General Manager S...|     review|vYmM4KTsC8ZfQBg-j...|   0|     0|    0|\n",
            "|-yxfBYGB6SEqszmxJ...| 2007-01-13|m2CKSsepBCoRYWxiR...|    4|Quiessence is, si...|     review|sqYN3lNgvPbPCTRsM...|   4|     3|    1|\n",
            "|zp713qNhx8d9KCJJn...| 2010-01-12|riFQ3vxNpP4rWLk_C...|    5|Drop what you're ...|     review|wFweIWhv2fREZV_dY...|   7|     7|    4|\n",
            "|hW0Ne_HTHEAgGF1rA...| 2012-01-12|JL7GXJ9u4YMx7Rzs0...|    4|Luckily, I didn't...|     review|1ieuYcKS7zeAv_U15...|   0|     1|    0|\n",
            "|wNUea3IXZWD63bbOQ...| 2012-01-17|XtnfnYmnJYi71yIuG...|    4|Definitely come f...|     review|Vh_DlizgGhSqQh4qf...|   0|     0|    0|\n",
            "|nMHhuYan8e3cONo3P...| 2010-01-11|jJAIXA46pU1swYyRC...|    5|Nobuo shows his u...|     review|sUNkXg8-KFtCMQDV6...|   0|     1|    0|\n",
            "|AsSCv0q_BWqIe3mX2...| 2010-01-16|E11jzpKz9Kw5K7fuA...|    5|The oldish man wh...|     review|-OMlS6yWkYjVldNhC...|   1|     3|    1|\n",
            "|e9nN4XxjdHj4qtKCO...| 2011-01-21|3rPt0LxF7rgmEUrzn...|    5|Wonderful Vietnam...|     review|C1rHp3dmepNea7Xio...|   1|     1|    0|\n",
            "|h53YuCiIDfEFSJCQp...| 2010-01-11|cGnKNX3I9rthE0-TH...|    5|They have a limit...|     review|UPtysDF6cUDUxq2KY...|   1|     2|    0|\n",
            "|WGNIYMeXPyoWav1AP...| 2011-01-23|FvEEw1_OsrYdvwLV5...|    4|Good tattoo shop....|     review|Xm8HXE1JHqscXe5BK...|   1|     2|    0|\n",
            "|yc5AH9H71xJidA_J2...| 2010-01-20|pfUwBKYYmUXeiwrhD...|    4|I'm 2 weeks new t...|     review|JOG-4G4e8ae3lx_sz...|   1|     1|    0|\n",
            "|Vb9FPCEL6Ly24PNxL...| 2011-01-20|HvqmdqWcerVWO3Gs6...|    2|Was it worth the ...|     review|ylWOj2y7TV2e3yYeW...|   0|     2|    0|\n",
            "|supigcPNO9IKo6ola...| 2008-01-12|HXP_0Ul-FCmA4f-k9...|    3|We went here on a...|     review|SBbftLzfYYKItOMFw...|   3|     4|    2|\n",
            "|O510Re68mOy9dU490...| 2010-01-03|j4SIzrIy0WrmW4yr4...|    5|okay this is the ...|     review|u1KWcbPMvXFEEYkZZ...|   0|     0|    0|\n",
            "|b5cEoKR8iQliq-yT2...| 2009-01-06|v0cTd3PNpYCkTyGKS...|    3|I met a friend fo...|     review|UsULgP4bKA8RMzs8d...|   5|     6|    4|\n",
            "|4JzzbSbK9wmlOBJZW...| 2011-01-17|a0lCu-j2Sk_kHQsZi...|    4|They've gotten be...|     review|nDBly08j5URmrHQ2J...|   1|     1|    1|\n",
            "+--------------------+-----------+--------------------+-----+--------------------+-----------+--------------------+----+------+-----+\n",
            "only showing top 20 rows\n",
            "\n"
          ],
          "name": "stdout"
        }
      ]
    },
    {
      "cell_type": "code",
      "metadata": {
        "id": "pH26XnzkUt4d",
        "colab_type": "code",
        "colab": {}
      },
      "source": [
        "# Create dataframe matching the review table schema\n",
        "review_df = df.select(['review_id', 'review_text', 'stars', 'cool', 'useful', 'funny', 'review_date', 'review_type'])"
      ],
      "execution_count": 14,
      "outputs": []
    },
    {
      "cell_type": "code",
      "metadata": {
        "id": "Yg6lNWuxV_il",
        "colab_type": "code",
        "colab": {}
      },
      "source": [
        "# Create dataframe matching the business table schema\n",
        "business_df = df.select(['review_id', 'business_id'])"
      ],
      "execution_count": 15,
      "outputs": []
    },
    {
      "cell_type": "code",
      "metadata": {
        "id": "rwwd5dcRVHvR",
        "colab_type": "code",
        "colab": {}
      },
      "source": [
        "# Create dataframe matching the user table schema\n",
        "user_df = df.select(['review_id', 'user_id'])"
      ],
      "execution_count": 16,
      "outputs": []
    },
    {
      "cell_type": "code",
      "metadata": {
        "id": "o6Jl0A6YXesL",
        "colab_type": "code",
        "colab": {
          "base_uri": "https://localhost:8080/",
          "height": 168
        },
        "outputId": "3dce63d2-a168-4a8f-e6a5-eb2c7740d39c"
      },
      "source": [
        "review_df.show(3)"
      ],
      "execution_count": 17,
      "outputs": [
        {
          "output_type": "stream",
          "text": [
            "+--------------------+--------------------+-----+----+------+-----+-----------+-----------+\n",
            "|           review_id|         review_text|stars|cool|useful|funny|review_date|review_type|\n",
            "+--------------------+--------------------+-----+----+------+-----+-----------+-----------+\n",
            "|fWKvX83p0-ka4JS3d...|My wife took me h...|    5|   2|     5|    0| 2011-01-26|     review|\n",
            "|IjZ33sJrzXqU-0X6U...|I have no idea wh...|    5|   0|     0|    0| 2011-01-27|     review|\n",
            "|IESLBzqUCLdSzSqm0...|love the gyro pla...|    4|   0|     1|    0| 2012-01-14|     review|\n",
            "+--------------------+--------------------+-----+----+------+-----+-----------+-----------+\n",
            "only showing top 3 rows\n",
            "\n"
          ],
          "name": "stdout"
        }
      ]
    },
    {
      "cell_type": "code",
      "metadata": {
        "id": "Um90Yu7oXiVm",
        "colab_type": "code",
        "colab": {
          "base_uri": "https://localhost:8080/",
          "height": 168
        },
        "outputId": "c2fa0be8-262a-473a-d6ef-abb2a11af4ae"
      },
      "source": [
        "business_df.show(3)"
      ],
      "execution_count": 18,
      "outputs": [
        {
          "output_type": "stream",
          "text": [
            "+--------------------+--------------------+\n",
            "|           review_id|         business_id|\n",
            "+--------------------+--------------------+\n",
            "|fWKvX83p0-ka4JS3d...|9yKzy9PApeiPPOUJE...|\n",
            "|IjZ33sJrzXqU-0X6U...|ZRJwVLyzEJq1VAihD...|\n",
            "|IESLBzqUCLdSzSqm0...|6oRAC4uyJCsJl1X0W...|\n",
            "+--------------------+--------------------+\n",
            "only showing top 3 rows\n",
            "\n"
          ],
          "name": "stdout"
        }
      ]
    },
    {
      "cell_type": "code",
      "metadata": {
        "id": "bHz6UBiyXlEe",
        "colab_type": "code",
        "colab": {
          "base_uri": "https://localhost:8080/",
          "height": 168
        },
        "outputId": "e48420e6-9c20-41e1-b785-e0354ad9c08b"
      },
      "source": [
        "user_df.show(3)"
      ],
      "execution_count": 19,
      "outputs": [
        {
          "output_type": "stream",
          "text": [
            "+--------------------+--------------------+\n",
            "|           review_id|             user_id|\n",
            "+--------------------+--------------------+\n",
            "|fWKvX83p0-ka4JS3d...|rLtl8ZkDX5vH5nAx9...|\n",
            "|IjZ33sJrzXqU-0X6U...|0a2KyEL0d3Yb1V6ai...|\n",
            "|IESLBzqUCLdSzSqm0...|0hT2KtfLiobPvh6cD...|\n",
            "+--------------------+--------------------+\n",
            "only showing top 3 rows\n",
            "\n"
          ],
          "name": "stdout"
        }
      ]
    },
    {
      "cell_type": "code",
      "metadata": {
        "id": "n62QpvEhE5uF",
        "colab_type": "code",
        "colab": {
          "base_uri": "https://localhost:8080/",
          "height": 1000
        },
        "outputId": "7e5de975-76d2-4ea8-cd29-5c3e06efe0e3"
      },
      "source": [
        "# gcloud login and check the DB\n",
        "!gcloud auth login\n",
        "!gcloud config set project 'xy-yelp'\n",
        "!gcloud sql instances describe 'xy-yelp'"
      ],
      "execution_count": 20,
      "outputs": [
        {
          "output_type": "stream",
          "text": [
            "Go to the following link in your browser:\n",
            "\n",
            "    https://accounts.google.com/o/oauth2/auth?client_id=32555940559.apps.googleusercontent.com&redirect_uri=urn%3Aietf%3Awg%3Aoauth%3A2.0%3Aoob&scope=openid+https%3A%2F%2Fwww.googleapis.com%2Fauth%2Fuserinfo.email+https%3A%2F%2Fwww.googleapis.com%2Fauth%2Fcloud-platform+https%3A%2F%2Fwww.googleapis.com%2Fauth%2Fappengine.admin+https%3A%2F%2Fwww.googleapis.com%2Fauth%2Fcompute+https%3A%2F%2Fwww.googleapis.com%2Fauth%2Faccounts.reauth&code_challenge=npfCUFHwcZCaNpqYNfE4WW8-YiYPPQ1mpYc7pMpMLLA&code_challenge_method=S256&access_type=offline&response_type=code&prompt=select_account\n",
            "\n",
            "\n",
            "Enter verification code: 4/1wFysw-sOqnqXSstzQeGrMT0ant37P0YVF-HFe1e1pqKVxqVccDxnZM\n",
            "\n",
            "You are now logged in as [belnap.b.01@gmail.com].\n",
            "Your current project is [xy-yelp].  You can change this setting by running:\n",
            "  $ gcloud config set project PROJECT_ID\n",
            "Updated property [core/project].\n",
            "backendType: SECOND_GEN\n",
            "connectionName: xy-yelp:northamerica-northeast1:xy-yelp\n",
            "databaseVersion: POSTGRES_12\n",
            "etag: fa173e9cdbafab7644e148bba98f8b3e7c8514772bdf0cc0f5db93bb42cae3e6\n",
            "gceZone: northamerica-northeast1-a\n",
            "instanceType: CLOUD_SQL_INSTANCE\n",
            "ipAddresses:\n",
            "- ipAddress: 34.95.0.17\n",
            "  type: PRIMARY\n",
            "kind: sql#instance\n",
            "name: xy-yelp\n",
            "project: xy-yelp\n",
            "region: northamerica-northeast1\n",
            "selfLink: https://sqladmin.googleapis.com/sql/v1beta4/projects/xy-yelp/instances/xy-yelp\n",
            "serverCaCert:\n",
            "  cert: |-\n",
            "    -----BEGIN CERTIFICATE-----\n",
            "    MIIDfzCCAmegAwIBAgIBADANBgkqhkiG9w0BAQsFADB3MS0wKwYDVQQuEyQzYTcz\n",
            "    ZmJhNS0xYTNlLTQwNmMtOWZhOC1hZGE1MDI3OGZkY2QxIzAhBgNVBAMTGkdvb2ds\n",
            "    ZSBDbG91ZCBTUUwgU2VydmVyIENBMRQwEgYDVQQKEwtHb29nbGUsIEluYzELMAkG\n",
            "    A1UEBhMCVVMwHhcNMjAwNzExMjAwMDA4WhcNMzAwNzA5MjAwMTA4WjB3MS0wKwYD\n",
            "    VQQuEyQzYTczZmJhNS0xYTNlLTQwNmMtOWZhOC1hZGE1MDI3OGZkY2QxIzAhBgNV\n",
            "    BAMTGkdvb2dsZSBDbG91ZCBTUUwgU2VydmVyIENBMRQwEgYDVQQKEwtHb29nbGUs\n",
            "    IEluYzELMAkGA1UEBhMCVVMwggEiMA0GCSqGSIb3DQEBAQUAA4IBDwAwggEKAoIB\n",
            "    AQDMLAiCVUS0u8JRUQSqXLNcXiDU4euUjKhmvbOnDCr2VNVX+dQoq8P+HmL4ruxr\n",
            "    lmLgtNKuhKjqISSzVKDxEf0mudWfOP+ygsXSP6XxLWplHn/N1A881+u+T33u5N0/\n",
            "    wreqH6suvi7Cu/SSEcmYUCnpIy5pSZzO63ww9M4p2HZnG/g/j7uqGdPUpdG4GbCk\n",
            "    jb8EskJiH0hU08ct+AySyc0mrgvfP9l/S5chz0j69uQX/yvWXWy4SSfJ3+wc45Se\n",
            "    8v7WYo+lcwsOu0lGCz53X9Nej0Av47aKUzXD4HlleeMTbkjgYEv2hRWKVoUhzugT\n",
            "    dJTsminBKtnYK1n2witgxNqVAgMBAAGjFjAUMBIGA1UdEwEB/wQIMAYBAf8CAQAw\n",
            "    DQYJKoZIhvcNAQELBQADggEBAB45K3XfFNL/Vkbj0f9daDji+cJHeUS3Y8Uxehog\n",
            "    2rf+rbmwfeH757NZT29o8rSMMfV05z3fuYvS67JvSIDx/I3UsxRGzRZY4EfXXhC9\n",
            "    Vke7AVtfxNgKk86V+JPEGQp52L+PFYdh33DigL8XrWpektxIxf7RAqFIvV0F+0FS\n",
            "    DhXWXkZ8ONFpMK6BCd4aZcKgD0LHafoAKv67+A8IE6b1fFJLh1nkuqZyv1kwLwTM\n",
            "    bLzSMmkgvxuv8d0dmVxWWr/V1kjc2U7oMqF+tgOE+hcF7fWRyRRZko1RtPwjUHlT\n",
            "    qzw5uqZUsxR8S4yyiaeePiF8YnDI72ypyY6FiRMlteAydJs=\n",
            "    -----END CERTIFICATE-----\n",
            "  certSerialNumber: '0'\n",
            "  commonName: C=US,O=Google\\, Inc,CN=Google Cloud SQL Server CA,dnQualifier=3a73fba5-1a3e-406c-9fa8-ada50278fdcd\n",
            "  createTime: '2020-07-11T20:00:08.018Z'\n",
            "  expirationTime: '2030-07-09T20:01:08.018Z'\n",
            "  instance: xy-yelp\n",
            "  kind: sql#sslCert\n",
            "  sha1Fingerprint: 2e2ffdd64d766e372537c174a3d4b91f59ee3e63\n",
            "serviceAccountEmailAddress: p8056368877-0mi1n8@gcp-sa-cloud-sql.iam.gserviceaccount.com\n",
            "settings:\n",
            "  activationPolicy: ALWAYS\n",
            "  availabilityType: ZONAL\n",
            "  backupConfiguration:\n",
            "    enabled: true\n",
            "    kind: sql#backupConfiguration\n",
            "    location: us\n",
            "    pointInTimeRecoveryEnabled: true\n",
            "    replicationLogArchivingEnabled: true\n",
            "    startTime: 13:00\n",
            "  dataDiskSizeGb: '10'\n",
            "  dataDiskType: PD_SSD\n",
            "  ipConfiguration:\n",
            "    authorizedNetworks:\n",
            "    - kind: sql#aclEntry\n",
            "      name: Blake Residence\n",
            "      value: 24.114.86.250\n",
            "    ipv4Enabled: true\n",
            "  kind: sql#settings\n",
            "  locationPreference:\n",
            "    kind: sql#locationPreference\n",
            "    zone: northamerica-northeast1-a\n",
            "  maintenanceWindow:\n",
            "    day: 0\n",
            "    hour: 0\n",
            "    kind: sql#maintenanceWindow\n",
            "  pricingPlan: PER_USE\n",
            "  replicationType: SYNCHRONOUS\n",
            "  settingsVersion: '22'\n",
            "  storageAutoResize: true\n",
            "  storageAutoResizeLimit: '0'\n",
            "  tier: db-f1-micro\n",
            "state: RUNNABLE\n"
          ],
          "name": "stdout"
        }
      ]
    },
    {
      "cell_type": "code",
      "metadata": {
        "id": "DjTNxpGyFWrs",
        "colab_type": "code",
        "colab": {
          "base_uri": "https://localhost:8080/",
          "height": 50
        },
        "outputId": "3bc4ad56-6067-4b7e-e88a-a147e6e0d4c6"
      },
      "source": [
        "# download and initialize the psql proxy\n",
        "!wget https://dl.google.com/cloudsql/cloud_sql_proxy.linux.amd64 -O cloud_sql_proxy\n",
        "!chmod +x cloud_sql_proxy\n",
        "# \"connectionName\" is from the previous block\n",
        "!nohup ./cloud_sql_proxy -instances=\"xy-yelp:northamerica-northeast1:xy-yelp\"=tcp:5432 &\n",
        "!sleep 30s"
      ],
      "execution_count": 21,
      "outputs": [
        {
          "output_type": "stream",
          "text": [
            "cloud_sql_proxy: Text file busy\n",
            "nohup: appending output to 'nohup.out'\n"
          ],
          "name": "stdout"
        }
      ]
    },
    {
      "cell_type": "code",
      "metadata": {
        "id": "qqMN_51CoLk5",
        "colab_type": "code",
        "colab": {}
      },
      "source": [
        "db_password = 'kjhbyelpdb'"
      ],
      "execution_count": 22,
      "outputs": []
    },
    {
      "cell_type": "code",
      "metadata": {
        "id": "MceQulH6r2MS",
        "colab_type": "code",
        "colab": {}
      },
      "source": [
        "# Configure settings for RDS\n",
        "mode = \"append\"\n",
        "jdbc_url=\"jdbc:postgresql://127.0.0.1:5432/xy_yelp_db\"\n",
        "config = {\"user\":\"postgres\", \n",
        "          \"password\": db_password, \n",
        "          \"driver\":\"org.postgresql.Driver\"}"
      ],
      "execution_count": 23,
      "outputs": []
    },
    {
      "cell_type": "code",
      "metadata": {
        "id": "0fLLF3vvg7pW",
        "colab_type": "code",
        "colab": {}
      },
      "source": [
        "# Write DataFrame to review table in RDS\n",
        "review_df.write.jdbc(url=jdbc_url, table='review', mode=mode, properties=config)"
      ],
      "execution_count": 24,
      "outputs": []
    },
    {
      "cell_type": "code",
      "metadata": {
        "id": "DCD8iW0vhK5m",
        "colab_type": "code",
        "colab": {}
      },
      "source": [
        "# Write DataFrame to business table in RDS\n",
        "business_df.write.jdbc(url=jdbc_url, table='business', mode=mode, properties=config)"
      ],
      "execution_count": 25,
      "outputs": []
    },
    {
      "cell_type": "code",
      "metadata": {
        "id": "74Su8DAM82z3",
        "colab_type": "code",
        "colab": {}
      },
      "source": [
        "# Write DataFrame to business table in RDS\n",
        "user_df.write.jdbc(url=jdbc_url, table='yelp_user', mode=mode, properties=config)"
      ],
      "execution_count": 26,
      "outputs": []
    },
    {
      "cell_type": "code",
      "metadata": {
        "id": "DHmUUxUb_xLQ",
        "colab_type": "code",
        "colab": {}
      },
      "source": [
        "# Read data from database\n",
        "review_df2 = spark.read \\\n",
        "    .jdbc(url=jdbc_url, table='review',\n",
        "          properties=config)"
      ],
      "execution_count": 27,
      "outputs": []
    },
    {
      "cell_type": "code",
      "metadata": {
        "id": "1w4Z5QR_BXIt",
        "colab_type": "code",
        "colab": {
          "base_uri": "https://localhost:8080/",
          "height": 151
        },
        "outputId": "71782a47-015f-4c53-924d-7474474b8665"
      },
      "source": [
        "review_df2.show(2)"
      ],
      "execution_count": 28,
      "outputs": [
        {
          "output_type": "stream",
          "text": [
            "+--------------------+--------------------+-----+----+------+-----+-----------+-----------+\n",
            "|           review_id|         review_text|stars|cool|useful|funny|review_date|review_type|\n",
            "+--------------------+--------------------+-----+----+------+-----+-----------+-----------+\n",
            "|fWKvX83p0-ka4JS3d...|My wife took me h...|    5|   2|     5|    0| 2011-01-26|     review|\n",
            "|IjZ33sJrzXqU-0X6U...|I have no idea wh...|    5|   0|     0|    0| 2011-01-27|     review|\n",
            "+--------------------+--------------------+-----+----+------+-----+-----------+-----------+\n",
            "only showing top 2 rows\n",
            "\n"
          ],
          "name": "stdout"
        }
      ]
    },
    {
      "cell_type": "code",
      "metadata": {
        "id": "yX8AllUkK56q",
        "colab_type": "code",
        "colab": {
          "base_uri": "https://localhost:8080/",
          "height": 34
        },
        "outputId": "6aba6ae3-3e3a-474b-9725-4324b5152a34"
      },
      "source": [
        "review_df2.count()"
      ],
      "execution_count": 29,
      "outputs": [
        {
          "output_type": "execute_result",
          "data": {
            "text/plain": [
              "10000"
            ]
          },
          "metadata": {
            "tags": []
          },
          "execution_count": 29
        }
      ]
    },
    {
      "cell_type": "code",
      "metadata": {
        "id": "NEbKGESIBdvV",
        "colab_type": "code",
        "colab": {}
      },
      "source": [
        "business_df2 = spark.read \\\n",
        "    .jdbc(url=jdbc_url, table='business',\n",
        "          properties=config)"
      ],
      "execution_count": 30,
      "outputs": []
    },
    {
      "cell_type": "code",
      "metadata": {
        "id": "DU7yoVWfIbE4",
        "colab_type": "code",
        "colab": {
          "base_uri": "https://localhost:8080/",
          "height": 151
        },
        "outputId": "84c55da1-6b78-474c-a44f-49314972f150"
      },
      "source": [
        "business_df2.show(2)"
      ],
      "execution_count": 31,
      "outputs": [
        {
          "output_type": "stream",
          "text": [
            "+--------------------+--------------------+\n",
            "|           review_id|         business_id|\n",
            "+--------------------+--------------------+\n",
            "|fWKvX83p0-ka4JS3d...|9yKzy9PApeiPPOUJE...|\n",
            "|IjZ33sJrzXqU-0X6U...|ZRJwVLyzEJq1VAihD...|\n",
            "+--------------------+--------------------+\n",
            "only showing top 2 rows\n",
            "\n"
          ],
          "name": "stdout"
        }
      ]
    },
    {
      "cell_type": "code",
      "metadata": {
        "id": "diCBWzXNK9N7",
        "colab_type": "code",
        "colab": {
          "base_uri": "https://localhost:8080/",
          "height": 34
        },
        "outputId": "fac50928-fc60-449a-cd0e-4623f23c034c"
      },
      "source": [
        "business_df2.count()"
      ],
      "execution_count": 32,
      "outputs": [
        {
          "output_type": "execute_result",
          "data": {
            "text/plain": [
              "10000"
            ]
          },
          "metadata": {
            "tags": []
          },
          "execution_count": 32
        }
      ]
    },
    {
      "cell_type": "code",
      "metadata": {
        "id": "jP-NXhlPIdvs",
        "colab_type": "code",
        "colab": {}
      },
      "source": [
        "user_df2 = spark.read \\\n",
        "    .jdbc(url=jdbc_url, table='yelp_user',\n",
        "          properties=config)"
      ],
      "execution_count": 33,
      "outputs": []
    },
    {
      "cell_type": "code",
      "metadata": {
        "id": "-hj3YmidIljq",
        "colab_type": "code",
        "colab": {
          "base_uri": "https://localhost:8080/",
          "height": 151
        },
        "outputId": "83a0cfb8-4097-4645-c242-fe98249f9cc3"
      },
      "source": [
        "user_df2.show(2)"
      ],
      "execution_count": 34,
      "outputs": [
        {
          "output_type": "stream",
          "text": [
            "+--------------------+--------------------+\n",
            "|           review_id|             user_id|\n",
            "+--------------------+--------------------+\n",
            "|GJGUHAAONtBSBj53c...|Z3c7xGRfeV-uMkSbA...|\n",
            "|nQH2KAvAeOJOYKX99...|ryjqXdp68i2I9JPOp...|\n",
            "+--------------------+--------------------+\n",
            "only showing top 2 rows\n",
            "\n"
          ],
          "name": "stdout"
        }
      ]
    },
    {
      "cell_type": "code",
      "metadata": {
        "id": "nGWirqpeLAuO",
        "colab_type": "code",
        "colab": {
          "base_uri": "https://localhost:8080/",
          "height": 34
        },
        "outputId": "8c9b9166-078e-404c-c0f7-34075167f150"
      },
      "source": [
        "user_df2.count()"
      ],
      "execution_count": 35,
      "outputs": [
        {
          "output_type": "execute_result",
          "data": {
            "text/plain": [
              "10000"
            ]
          },
          "metadata": {
            "tags": []
          },
          "execution_count": 35
        }
      ]
    },
    {
      "cell_type": "code",
      "metadata": {
        "id": "j29rqfnVIoJH",
        "colab_type": "code",
        "colab": {
          "base_uri": "https://localhost:8080/",
          "height": 286
        },
        "outputId": "61a9a1aa-d096-42ee-9010-e582bc30ac64"
      },
      "source": [
        "#df_df = review_df2.join(business_df2, review_df2.review_id == business_df2.review_id, how=\"inner\").drop(_df2.review_id)\n",
        "review_df2 = review_df2.join(business_df2, on=\"review_id\", how=\"inner\")\n",
        "review_df2.show(10)"
      ],
      "execution_count": 44,
      "outputs": [
        {
          "output_type": "stream",
          "text": [
            "+--------------------+--------------------+-----+----+------+-----+-----------+-----------+--------------------+\n",
            "|           review_id|         review_text|stars|cool|useful|funny|review_date|review_type|         business_id|\n",
            "+--------------------+--------------------+-----+----+------+-----+-----------+-----------+--------------------+\n",
            "|-7yxrdY13ay15rGB7...|I have been going...|    5|   0|     0|    0| 2010-01-16|     review|Lh9nz0KYyzE-YRbKu...|\n",
            "|-Be0UUGYuiDJVAM_Y...|Since Im big into...|    4|   0|     2|    2| 2011-01-25|     review|pa6K7DGByxBXxcVJ5...|\n",
            "|-nQHHXi-d_yuW301_...|A pleasant place ...|    2|   0|     0|    0| 2011-01-12|     review|GIGI8bJfN6HyPzmEW...|\n",
            "|2L30O7G8IQ6HILpR0...|part of a social ...|    5|   0|     0|    0| 2010-01-24|     review|qiwajZigq_2twTmYo...|\n",
            "|4x5yLG7_yGLuN-w6f...|I love every plac...|    4|   0|     1|    0| 2011-01-02|     review|9yKzy9PApeiPPOUJE...|\n",
            "|5h0EVAee-RDbbKfhd...|A great value for...|    5|   2|     1|    0| 2012-01-21|     review|4VzaYvZntWBRbr8Vm...|\n",
            "|6jV77Bs_Vu_rHkdUx...|This review is fo...|    3|   1|     2|    1| 2011-01-23|     review|kwq3bK7BzPKLwXKqV...|\n",
            "|8tW7Dbqv8RR2NfZJ4...|I would never hav...|    4|   3|     6|    2| 2012-01-19|     review|GbEOmf5k73r_UJWjc...|\n",
            "|8uV26l7-ktb4tZ5gR...|The new Harkins C...|    5|   0|     1|    0| 2007-01-23|     review|1pGC-0jvQ6vN5rzmC...|\n",
            "|AfDVtSpM6GvkqS1wJ...|This is one of my...|    5|   0|     0|    0| 2010-01-07|     review|nvaAUTTl7oqiJDhui...|\n",
            "+--------------------+--------------------+-----+----+------+-----+-----------+-----------+--------------------+\n",
            "only showing top 10 rows\n",
            "\n"
          ],
          "name": "stdout"
        }
      ]
    },
    {
      "cell_type": "code",
      "metadata": {
        "id": "L6vXRkRhJ-m5",
        "colab_type": "code",
        "colab": {
          "base_uri": "https://localhost:8080/",
          "height": 286
        },
        "outputId": "47b0c62b-1eff-409e-f080-ecd9707e1349"
      },
      "source": [
        "review_df2 = review_df2.join(user_df2, on=\"review_id\", how=\"inner\")\n",
        "review_df2.show(10)"
      ],
      "execution_count": 45,
      "outputs": [
        {
          "output_type": "stream",
          "text": [
            "+--------------------+--------------------+-----+----+------+-----+-----------+-----------+--------------------+--------------------+\n",
            "|           review_id|         review_text|stars|cool|useful|funny|review_date|review_type|         business_id|             user_id|\n",
            "+--------------------+--------------------+-----+----+------+-----+-----------+-----------+--------------------+--------------------+\n",
            "|-7yxrdY13ay15rGB7...|I have been going...|    5|   0|     0|    0| 2010-01-16|     review|Lh9nz0KYyzE-YRbKu...|ayKW9eWwGFcrtJaHc...|\n",
            "|-Be0UUGYuiDJVAM_Y...|Since Im big into...|    4|   0|     2|    2| 2011-01-25|     review|pa6K7DGByxBXxcVJ5...|_4lqpCYCqOQzbB6xQ...|\n",
            "|-nQHHXi-d_yuW301_...|A pleasant place ...|    2|   0|     0|    0| 2011-01-12|     review|GIGI8bJfN6HyPzmEW...|4QORbyhfN01oKR_Gg...|\n",
            "|2L30O7G8IQ6HILpR0...|part of a social ...|    5|   0|     0|    0| 2010-01-24|     review|qiwajZigq_2twTmYo...|ST8Yzlk2MqKlcaLqL...|\n",
            "|4x5yLG7_yGLuN-w6f...|I love every plac...|    4|   0|     1|    0| 2011-01-02|     review|9yKzy9PApeiPPOUJE...|Vk-hJ1i5ZagPM87Kv...|\n",
            "|5h0EVAee-RDbbKfhd...|A great value for...|    5|   2|     1|    0| 2012-01-21|     review|4VzaYvZntWBRbr8Vm...|feQpvbp8jGBWMuG5u...|\n",
            "|6jV77Bs_Vu_rHkdUx...|This review is fo...|    3|   1|     2|    1| 2011-01-23|     review|kwq3bK7BzPKLwXKqV...|RwVaQNP1Ag-Seu3U9...|\n",
            "|8tW7Dbqv8RR2NfZJ4...|I would never hav...|    4|   3|     6|    2| 2012-01-19|     review|GbEOmf5k73r_UJWjc...|RAWy3YCE-jwfyuGvw...|\n",
            "|8uV26l7-ktb4tZ5gR...|The new Harkins C...|    5|   0|     1|    0| 2007-01-23|     review|1pGC-0jvQ6vN5rzmC...|nWouNfZD3Pw08RYiz...|\n",
            "|AfDVtSpM6GvkqS1wJ...|This is one of my...|    5|   0|     0|    0| 2010-01-07|     review|nvaAUTTl7oqiJDhui...|LvAr6xG-A40PGk1qu...|\n",
            "+--------------------+--------------------+-----+----+------+-----+-----------+-----------+--------------------+--------------------+\n",
            "only showing top 10 rows\n",
            "\n"
          ],
          "name": "stdout"
        }
      ]
    }
  ]
}