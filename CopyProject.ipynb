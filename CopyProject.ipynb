{
 "cells": [
  {
   "cell_type": "markdown",
   "metadata": {
    "colab_type": "text",
    "id": "view-in-github"
   },
   "source": [
    "<a href=\"https://colab.research.google.com/github/karenbennis/Xy/blob/Blake/Copy_of_Project.ipynb\" target=\"_parent\"><img src=\"https://colab.research.google.com/assets/colab-badge.svg\" alt=\"Open In Colab\"/></a>"
   ]
  },
  {
   "cell_type": "markdown",
   "metadata": {
    "colab_type": "text",
    "id": "7x2IxWo3wiqn"
   },
   "source": [
    "<br><br>**ETL**<br><br>"
   ]
  },
  {
   "cell_type": "code",
   "execution_count": 1,
   "metadata": {
    "colab": {
     "base_uri": "https://localhost:8080/",
     "height": 202
    },
    "colab_type": "code",
    "id": "_nCS6homIgnW",
    "outputId": "c4616fef-52f3-41d1-ae41-bd83cc03a592"
   },
   "outputs": [
    {
     "name": "stdout",
     "output_type": "stream",
     "text": [
      "--2020-07-13 00:49:53--  https://jdbc.postgresql.org/download/postgresql-42.2.9.jar\n",
      "Resolving jdbc.postgresql.org (jdbc.postgresql.org)... 72.32.157.228, 2001:4800:3e1:1::228\n",
      "Connecting to jdbc.postgresql.org (jdbc.postgresql.org)|72.32.157.228|:443... connected.\n",
      "HTTP request sent, awaiting response... 200 OK\n",
      "Length: 914037 (893K) [application/java-archive]\n",
      "Saving to: ‘postgresql-42.2.9.jar.1’\n",
      "\n",
      "postgresql-42.2.9.j 100%[===================>] 892.61K  4.78MB/s    in 0.2s    \n",
      "\n",
      "2020-07-13 00:49:54 (4.78 MB/s) - ‘postgresql-42.2.9.jar.1’ saved [914037/914037]\n",
      "\n"
     ]
    }
   ],
   "source": [
    "# Install Java, Spark, and Findspark\n",
    "!apt-get install openjdk-8-jdk-headless -qq > /dev/null\n",
    "!wget -q http://www-us.apache.org/dist/spark/spark-2.4.5/spark-2.4.5-bin-hadoop2.7.tgz\n",
    "!tar xf spark-2.4.5-bin-hadoop2.7.tgz\n",
    "!pip install -q findspark\n",
    "\n",
    "# Set Environment Variables\n",
    "import os\n",
    "os.environ[\"JAVA_HOME\"] = \"/usr/lib/jvm/java-8-openjdk-amd64\"\n",
    "os.environ[\"SPARK_HOME\"] = \"/content/spark-2.4.5-bin-hadoop2.7\"\n",
    "\n",
    "# Start a SparkSession\n",
    "import findspark\n",
    "findspark.init()\n",
    "\n",
    "#Interact with SQL\n",
    "!wget https://jdbc.postgresql.org/download/postgresql-42.2.9.jar\n",
    "\n",
    "# Start Spark Session(Creating spark application with name defined by appName()) ---IMPORTED WITH EVERY COLAB NOTEBOOK\n",
    "from pyspark.sql import SparkSession\n",
    "spark = SparkSession.builder.appName(\"database_transformation\").config(\"spark.driver.extraClassPath\",\"/content/postgresql-42.2.9.jar\").getOrCreate()\n"
   ]
  },
  {
   "cell_type": "code",
   "execution_count": 2,
   "metadata": {
    "colab": {
     "base_uri": "https://localhost:8080/",
     "height": 1000
    },
    "colab_type": "code",
    "id": "tVTkr-xleT8C",
    "outputId": "8117e793-969c-4850-c565-c96ec5ab18e7"
   },
   "outputs": [
    {
     "name": "stdout",
     "output_type": "stream",
     "text": [
      "Go to the following link in your browser:\n",
      "\n",
      "    https://accounts.google.com/o/oauth2/auth?client_id=32555940559.apps.googleusercontent.com&redirect_uri=urn%3Aietf%3Awg%3Aoauth%3A2.0%3Aoob&scope=openid+https%3A%2F%2Fwww.googleapis.com%2Fauth%2Fuserinfo.email+https%3A%2F%2Fwww.googleapis.com%2Fauth%2Fcloud-platform+https%3A%2F%2Fwww.googleapis.com%2Fauth%2Fappengine.admin+https%3A%2F%2Fwww.googleapis.com%2Fauth%2Fcompute+https%3A%2F%2Fwww.googleapis.com%2Fauth%2Faccounts.reauth&code_challenge=rN-BcIVuiLVZVmUgxOpI4MHwitsJxszylwx48bQYaiE&code_challenge_method=S256&access_type=offline&response_type=code&prompt=select_account\n",
      "\n",
      "\n",
      "Enter verification code: 4/1wFSObVo1DTCVfCuqsd60DbEgC70ivP1f9nHst4cFbSuBApZL0YWbHw\n",
      "\n",
      "You are now logged in as [belnap.b.01@gmail.com].\n",
      "Your current project is [xy-yelp].  You can change this setting by running:\n",
      "  $ gcloud config set project PROJECT_ID\n",
      "Updated property [core/project].\n",
      "backendType: SECOND_GEN\n",
      "connectionName: xy-yelp:northamerica-northeast1:xy-yelp\n",
      "databaseVersion: POSTGRES_12\n",
      "etag: fa173e9cdbafab7644e148bba98f8b3e7c8514772bdf0cc0f5db93bb42cae3e6\n",
      "gceZone: northamerica-northeast1-a\n",
      "instanceType: CLOUD_SQL_INSTANCE\n",
      "ipAddresses:\n",
      "- ipAddress: 34.95.0.17\n",
      "  type: PRIMARY\n",
      "kind: sql#instance\n",
      "name: xy-yelp\n",
      "project: xy-yelp\n",
      "region: northamerica-northeast1\n",
      "selfLink: https://sqladmin.googleapis.com/sql/v1beta4/projects/xy-yelp/instances/xy-yelp\n",
      "serverCaCert:\n",
      "  cert: |-\n",
      "    -----BEGIN CERTIFICATE-----\n",
      "    MIIDfzCCAmegAwIBAgIBADANBgkqhkiG9w0BAQsFADB3MS0wKwYDVQQuEyQzYTcz\n",
      "    ZmJhNS0xYTNlLTQwNmMtOWZhOC1hZGE1MDI3OGZkY2QxIzAhBgNVBAMTGkdvb2ds\n",
      "    ZSBDbG91ZCBTUUwgU2VydmVyIENBMRQwEgYDVQQKEwtHb29nbGUsIEluYzELMAkG\n",
      "    A1UEBhMCVVMwHhcNMjAwNzExMjAwMDA4WhcNMzAwNzA5MjAwMTA4WjB3MS0wKwYD\n",
      "    VQQuEyQzYTczZmJhNS0xYTNlLTQwNmMtOWZhOC1hZGE1MDI3OGZkY2QxIzAhBgNV\n",
      "    BAMTGkdvb2dsZSBDbG91ZCBTUUwgU2VydmVyIENBMRQwEgYDVQQKEwtHb29nbGUs\n",
      "    IEluYzELMAkGA1UEBhMCVVMwggEiMA0GCSqGSIb3DQEBAQUAA4IBDwAwggEKAoIB\n",
      "    AQDMLAiCVUS0u8JRUQSqXLNcXiDU4euUjKhmvbOnDCr2VNVX+dQoq8P+HmL4ruxr\n",
      "    lmLgtNKuhKjqISSzVKDxEf0mudWfOP+ygsXSP6XxLWplHn/N1A881+u+T33u5N0/\n",
      "    wreqH6suvi7Cu/SSEcmYUCnpIy5pSZzO63ww9M4p2HZnG/g/j7uqGdPUpdG4GbCk\n",
      "    jb8EskJiH0hU08ct+AySyc0mrgvfP9l/S5chz0j69uQX/yvWXWy4SSfJ3+wc45Se\n",
      "    8v7WYo+lcwsOu0lGCz53X9Nej0Av47aKUzXD4HlleeMTbkjgYEv2hRWKVoUhzugT\n",
      "    dJTsminBKtnYK1n2witgxNqVAgMBAAGjFjAUMBIGA1UdEwEB/wQIMAYBAf8CAQAw\n",
      "    DQYJKoZIhvcNAQELBQADggEBAB45K3XfFNL/Vkbj0f9daDji+cJHeUS3Y8Uxehog\n",
      "    2rf+rbmwfeH757NZT29o8rSMMfV05z3fuYvS67JvSIDx/I3UsxRGzRZY4EfXXhC9\n",
      "    Vke7AVtfxNgKk86V+JPEGQp52L+PFYdh33DigL8XrWpektxIxf7RAqFIvV0F+0FS\n",
      "    DhXWXkZ8ONFpMK6BCd4aZcKgD0LHafoAKv67+A8IE6b1fFJLh1nkuqZyv1kwLwTM\n",
      "    bLzSMmkgvxuv8d0dmVxWWr/V1kjc2U7oMqF+tgOE+hcF7fWRyRRZko1RtPwjUHlT\n",
      "    qzw5uqZUsxR8S4yyiaeePiF8YnDI72ypyY6FiRMlteAydJs=\n",
      "    -----END CERTIFICATE-----\n",
      "  certSerialNumber: '0'\n",
      "  commonName: C=US,O=Google\\, Inc,CN=Google Cloud SQL Server CA,dnQualifier=3a73fba5-1a3e-406c-9fa8-ada50278fdcd\n",
      "  createTime: '2020-07-11T20:00:08.018Z'\n",
      "  expirationTime: '2030-07-09T20:01:08.018Z'\n",
      "  instance: xy-yelp\n",
      "  kind: sql#sslCert\n",
      "  sha1Fingerprint: 2e2ffdd64d766e372537c174a3d4b91f59ee3e63\n",
      "serviceAccountEmailAddress: p8056368877-0mi1n8@gcp-sa-cloud-sql.iam.gserviceaccount.com\n",
      "settings:\n",
      "  activationPolicy: ALWAYS\n",
      "  availabilityType: ZONAL\n",
      "  backupConfiguration:\n",
      "    enabled: true\n",
      "    kind: sql#backupConfiguration\n",
      "    location: us\n",
      "    pointInTimeRecoveryEnabled: true\n",
      "    replicationLogArchivingEnabled: true\n",
      "    startTime: 13:00\n",
      "  dataDiskSizeGb: '10'\n",
      "  dataDiskType: PD_SSD\n",
      "  ipConfiguration:\n",
      "    authorizedNetworks:\n",
      "    - kind: sql#aclEntry\n",
      "      name: Blake Residence\n",
      "      value: 24.114.86.250\n",
      "    ipv4Enabled: true\n",
      "  kind: sql#settings\n",
      "  locationPreference:\n",
      "    kind: sql#locationPreference\n",
      "    zone: northamerica-northeast1-a\n",
      "  maintenanceWindow:\n",
      "    day: 0\n",
      "    hour: 0\n",
      "    kind: sql#maintenanceWindow\n",
      "  pricingPlan: PER_USE\n",
      "  replicationType: SYNCHRONOUS\n",
      "  settingsVersion: '22'\n",
      "  storageAutoResize: true\n",
      "  storageAutoResizeLimit: '0'\n",
      "  tier: db-f1-micro\n",
      "state: RUNNABLE\n"
     ]
    }
   ],
   "source": [
    "# gcloud login and check the DB\n",
    "!gcloud auth login\n",
    "!gcloud config set project 'xy-yelp'\n",
    "!gcloud sql instances describe 'xy-yelp'"
   ]
  },
  {
   "cell_type": "code",
   "execution_count": 3,
   "metadata": {
    "colab": {
     "base_uri": "https://localhost:8080/",
     "height": 50
    },
    "colab_type": "code",
    "id": "Zn_F729PexE6",
    "outputId": "9fa3b714-64a0-4c82-da8d-e7c9bbda00dc"
   },
   "outputs": [
    {
     "name": "stdout",
     "output_type": "stream",
     "text": [
      "cloud_sql_proxy: Text file busy\n",
      "nohup: appending output to 'nohup.out'\n"
     ]
    }
   ],
   "source": [
    "# download and initialize the psql proxy\n",
    "!wget https://dl.google.com/cloudsql/cloud_sql_proxy.linux.amd64 -O cloud_sql_proxy\n",
    "!chmod +x cloud_sql_proxy\n",
    "# \"connectionName\" is from the previous block\n",
    "!nohup ./cloud_sql_proxy -instances=\"xy-yelp:northamerica-northeast1:xy-yelp\"=tcp:5432 &\n",
    "!sleep 30s"
   ]
  },
  {
   "cell_type": "code",
   "execution_count": 4,
   "metadata": {
    "colab": {},
    "colab_type": "code",
    "id": "V5Ko5J-Ee7Ec"
   },
   "outputs": [],
   "source": [
    "db_password = 'kjhbyelpdb'"
   ]
  },
  {
   "cell_type": "code",
   "execution_count": 5,
   "metadata": {
    "colab": {},
    "colab_type": "code",
    "id": "fs2eCTjpfEd6"
   },
   "outputs": [],
   "source": [
    "# Configure settings for RDS\n",
    "mode = \"append\"\n",
    "jdbc_url=\"jdbc:postgresql://127.0.0.1:5432/xy_yelp_db\"\n",
    "config = {\"user\":\"postgres\", \n",
    "          \"password\": db_password, \n",
    "          \"driver\":\"org.postgresql.Driver\"}"
   ]
  },
  {
   "cell_type": "code",
   "execution_count": 6,
   "metadata": {
    "colab": {
     "base_uri": "https://localhost:8080/",
     "height": 202
    },
    "colab_type": "code",
    "id": "uudQwo30fFA-",
    "outputId": "7f27997a-ba9a-45e7-db6a-d2a2c4d0c8ab"
   },
   "outputs": [
    {
     "name": "stdout",
     "output_type": "stream",
     "text": [
      "+--------------------+--------------------+-----+----+------+-----+-----------+-----------+\n",
      "|           review_id|         review_text|stars|cool|useful|funny|review_date|review_type|\n",
      "+--------------------+--------------------+-----+----+------+-----+-----------+-----------+\n",
      "|fWKvX83p0-ka4JS3d...|My wife took me h...|    5|   2|     5|    0| 2011-01-26|     review|\n",
      "|IjZ33sJrzXqU-0X6U...|I have no idea wh...|    5|   0|     0|    0| 2011-01-27|     review|\n",
      "|IESLBzqUCLdSzSqm0...|love the gyro pla...|    4|   0|     1|    0| 2012-01-14|     review|\n",
      "|G-WvGaISbqqaMHlNn...|Rosie, Dakota, an...|    5|   1|     2|    0| 2010-01-27|     review|\n",
      "|1uJFq2r5QfJG_6ExM...|General Manager S...|    5|   0|     0|    0| 2012-01-05|     review|\n",
      "+--------------------+--------------------+-----+----+------+-----+-----------+-----------+\n",
      "only showing top 5 rows\n",
      "\n"
     ]
    }
   ],
   "source": [
    "# Read data from database\n",
    "review_df2 = spark.read \\\n",
    "    .jdbc(url=jdbc_url, table='review',\n",
    "          properties=config)\n",
    "review_df2.show(5)"
   ]
  },
  {
   "cell_type": "code",
   "execution_count": 7,
   "metadata": {
    "colab": {
     "base_uri": "https://localhost:8080/",
     "height": 202
    },
    "colab_type": "code",
    "id": "2pmJIJiDfRb1",
    "outputId": "afac556e-ee1d-4d8f-e8ae-bdffdb6f9fca"
   },
   "outputs": [
    {
     "name": "stdout",
     "output_type": "stream",
     "text": [
      "+--------------------+--------------------+\n",
      "|           review_id|         business_id|\n",
      "+--------------------+--------------------+\n",
      "|fWKvX83p0-ka4JS3d...|9yKzy9PApeiPPOUJE...|\n",
      "|IjZ33sJrzXqU-0X6U...|ZRJwVLyzEJq1VAihD...|\n",
      "|IESLBzqUCLdSzSqm0...|6oRAC4uyJCsJl1X0W...|\n",
      "|G-WvGaISbqqaMHlNn...|_1QQZuf4zZOyFCvXc...|\n",
      "|1uJFq2r5QfJG_6ExM...|6ozycU1RpktNG2-1B...|\n",
      "+--------------------+--------------------+\n",
      "only showing top 5 rows\n",
      "\n"
     ]
    }
   ],
   "source": [
    "# Pull data from business table\n",
    "business_df2 = spark.read \\\n",
    "    .jdbc(url=jdbc_url, table='business',\n",
    "          properties=config)\n",
    "business_df2.show(5)"
   ]
  },
  {
   "cell_type": "code",
   "execution_count": 8,
   "metadata": {
    "colab": {
     "base_uri": "https://localhost:8080/",
     "height": 202
    },
    "colab_type": "code",
    "id": "hFb2iKvOfRh6",
    "outputId": "6c184784-b0c9-4a6a-8884-bfcf90212bce"
   },
   "outputs": [
    {
     "name": "stdout",
     "output_type": "stream",
     "text": [
      "+--------------------+--------------------+\n",
      "|           review_id|             user_id|\n",
      "+--------------------+--------------------+\n",
      "|GJGUHAAONtBSBj53c...|Z3c7xGRfeV-uMkSbA...|\n",
      "|nQH2KAvAeOJOYKX99...|ryjqXdp68i2I9JPOp...|\n",
      "|-yKcbjWSlmKC1zTMT...|5W-ruHmpkwLyI6Lla...|\n",
      "|20aES_-g5Vyqfzojn...|vhxFLqRok6r-D_aQz...|\n",
      "|W_d9w7yr3koSUXHco...|aBnKTxZzdhabTXfzt...|\n",
      "+--------------------+--------------------+\n",
      "only showing top 5 rows\n",
      "\n"
     ]
    }
   ],
   "source": [
    "# Pull data from yelp_user table\n",
    "\n",
    "user_df2 = spark.read \\\n",
    "    .jdbc(url=jdbc_url, table='yelp_user',\n",
    "          properties=config)\n",
    "user_df2.show(5)"
   ]
  },
  {
   "cell_type": "code",
   "execution_count": 9,
   "metadata": {
    "colab": {},
    "colab_type": "code",
    "id": "cTo3oLx-fRoX"
   },
   "outputs": [],
   "source": [
    "review_df2 = review_df2.join(business_df2, on=\"review_id\", how=\"inner\")"
   ]
  },
  {
   "cell_type": "code",
   "execution_count": 10,
   "metadata": {
    "colab": {
     "base_uri": "https://localhost:8080/",
     "height": 202
    },
    "colab_type": "code",
    "id": "OdKitF0Qf9Cq",
    "outputId": "ba40ea81-53ea-4a61-bd91-7bf7596bad77"
   },
   "outputs": [
    {
     "name": "stdout",
     "output_type": "stream",
     "text": [
      "+--------------------+--------------------+-----+----+------+-----+-----------+-----------+--------------------+--------------------+\n",
      "|           review_id|         review_text|stars|cool|useful|funny|review_date|review_type|         business_id|             user_id|\n",
      "+--------------------+--------------------+-----+----+------+-----+-----------+-----------+--------------------+--------------------+\n",
      "|-7yxrdY13ay15rGB7...|I have been going...|    5|   0|     0|    0| 2010-01-16|     review|Lh9nz0KYyzE-YRbKu...|ayKW9eWwGFcrtJaHc...|\n",
      "|-Be0UUGYuiDJVAM_Y...|Since Im big into...|    4|   0|     2|    2| 2011-01-25|     review|pa6K7DGByxBXxcVJ5...|_4lqpCYCqOQzbB6xQ...|\n",
      "|-nQHHXi-d_yuW301_...|A pleasant place ...|    2|   0|     0|    0| 2011-01-12|     review|GIGI8bJfN6HyPzmEW...|4QORbyhfN01oKR_Gg...|\n",
      "|2L30O7G8IQ6HILpR0...|part of a social ...|    5|   0|     0|    0| 2010-01-24|     review|qiwajZigq_2twTmYo...|ST8Yzlk2MqKlcaLqL...|\n",
      "|4x5yLG7_yGLuN-w6f...|I love every plac...|    4|   0|     1|    0| 2011-01-02|     review|9yKzy9PApeiPPOUJE...|Vk-hJ1i5ZagPM87Kv...|\n",
      "+--------------------+--------------------+-----+----+------+-----+-----------+-----------+--------------------+--------------------+\n",
      "only showing top 5 rows\n",
      "\n"
     ]
    }
   ],
   "source": [
    "review_df2 = review_df2.join(user_df2, on=\"review_id\", how=\"inner\")\n",
    "review_df2.show(5)"
   ]
  },
  {
   "cell_type": "code",
   "execution_count": 11,
   "metadata": {
    "colab": {
     "base_uri": "https://localhost:8080/",
     "height": 202
    },
    "colab_type": "code",
    "id": "oYKrvYtnf9Gf",
    "outputId": "165625d3-0a79-4bfb-d3b0-bfdff4eddcfb"
   },
   "outputs": [
    {
     "name": "stdout",
     "output_type": "stream",
     "text": [
      "+--------------------+-----------+--------------------+-----+--------------------+-----------+--------------------+----+------+-----+\n",
      "|         business_id|review_date|           review_id|stars|         review_text|review_type|             user_id|cool|useful|funny|\n",
      "+--------------------+-----------+--------------------+-----+--------------------+-----------+--------------------+----+------+-----+\n",
      "|Lh9nz0KYyzE-YRbKu...| 2010-01-16|-7yxrdY13ay15rGB7...|    5|I have been going...|     review|ayKW9eWwGFcrtJaHc...|   0|     0|    0|\n",
      "|pa6K7DGByxBXxcVJ5...| 2011-01-25|-Be0UUGYuiDJVAM_Y...|    4|Since Im big into...|     review|_4lqpCYCqOQzbB6xQ...|   0|     2|    2|\n",
      "|GIGI8bJfN6HyPzmEW...| 2011-01-12|-nQHHXi-d_yuW301_...|    2|A pleasant place ...|     review|4QORbyhfN01oKR_Gg...|   0|     0|    0|\n",
      "|qiwajZigq_2twTmYo...| 2010-01-24|2L30O7G8IQ6HILpR0...|    5|part of a social ...|     review|ST8Yzlk2MqKlcaLqL...|   0|     0|    0|\n",
      "|9yKzy9PApeiPPOUJE...| 2011-01-02|4x5yLG7_yGLuN-w6f...|    4|I love every plac...|     review|Vk-hJ1i5ZagPM87Kv...|   0|     1|    0|\n",
      "+--------------------+-----------+--------------------+-----+--------------------+-----------+--------------------+----+------+-----+\n",
      "only showing top 5 rows\n",
      "\n"
     ]
    }
   ],
   "source": [
    "col_list = ['business_id', 'review_date', 'review_id', 'stars', 'review_text', 'review_type', 'user_id', 'cool', 'useful', 'funny']\n",
    "spark_df = review_df2.select(col_list)\n",
    "spark_df.show(5)"
   ]
  },
  {
   "cell_type": "code",
   "execution_count": 12,
   "metadata": {
    "colab": {
     "base_uri": "https://localhost:8080/",
     "height": 195
    },
    "colab_type": "code",
    "id": "6peOe5skf9KT",
    "outputId": "405d6cef-bc87-41fc-e681-fab192163743"
   },
   "outputs": [
    {
     "data": {
      "text/html": [
       "<div>\n",
       "<style scoped>\n",
       "    .dataframe tbody tr th:only-of-type {\n",
       "        vertical-align: middle;\n",
       "    }\n",
       "\n",
       "    .dataframe tbody tr th {\n",
       "        vertical-align: top;\n",
       "    }\n",
       "\n",
       "    .dataframe thead th {\n",
       "        text-align: right;\n",
       "    }\n",
       "</style>\n",
       "<table border=\"1\" class=\"dataframe\">\n",
       "  <thead>\n",
       "    <tr style=\"text-align: right;\">\n",
       "      <th></th>\n",
       "      <th>business_id</th>\n",
       "      <th>review_date</th>\n",
       "      <th>review_id</th>\n",
       "      <th>stars</th>\n",
       "      <th>review_text</th>\n",
       "      <th>review_type</th>\n",
       "      <th>user_id</th>\n",
       "      <th>cool</th>\n",
       "      <th>useful</th>\n",
       "      <th>funny</th>\n",
       "    </tr>\n",
       "  </thead>\n",
       "  <tbody>\n",
       "    <tr>\n",
       "      <th>0</th>\n",
       "      <td>Lh9nz0KYyzE-YRbKuCYeUw</td>\n",
       "      <td>2010-01-16</td>\n",
       "      <td>-7yxrdY13ay15rGB7WibMA</td>\n",
       "      <td>5</td>\n",
       "      <td>I have been going to Arizona Auto Care since a...</td>\n",
       "      <td>review</td>\n",
       "      <td>ayKW9eWwGFcrtJaHcwZUCw</td>\n",
       "      <td>0</td>\n",
       "      <td>0</td>\n",
       "      <td>0</td>\n",
       "    </tr>\n",
       "    <tr>\n",
       "      <th>1</th>\n",
       "      <td>pa6K7DGByxBXxcVJ59nWMw</td>\n",
       "      <td>2011-01-25</td>\n",
       "      <td>-Be0UUGYuiDJVAM_YqeQuA</td>\n",
       "      <td>4</td>\n",
       "      <td>Since Im big into breakfast foods, Im always o...</td>\n",
       "      <td>review</td>\n",
       "      <td>_4lqpCYCqOQzbB6xQGGhrQ</td>\n",
       "      <td>0</td>\n",
       "      <td>2</td>\n",
       "      <td>2</td>\n",
       "    </tr>\n",
       "    <tr>\n",
       "      <th>2</th>\n",
       "      <td>GIGI8bJfN6HyPzmEW-QqjA</td>\n",
       "      <td>2011-01-12</td>\n",
       "      <td>-nQHHXi-d_yuW301_Y0EZQ</td>\n",
       "      <td>2</td>\n",
       "      <td>A pleasant place in Kierland Center, but has g...</td>\n",
       "      <td>review</td>\n",
       "      <td>4QORbyhfN01oKR_GgBstfQ</td>\n",
       "      <td>0</td>\n",
       "      <td>0</td>\n",
       "      <td>0</td>\n",
       "    </tr>\n",
       "    <tr>\n",
       "      <th>3</th>\n",
       "      <td>qiwajZigq_2twTmYofPmDQ</td>\n",
       "      <td>2010-01-24</td>\n",
       "      <td>2L30O7G8IQ6HILpR0t5RFA</td>\n",
       "      <td>5</td>\n",
       "      <td>part of a social event, we only had app's here...</td>\n",
       "      <td>review</td>\n",
       "      <td>ST8Yzlk2MqKlcaLqL2djBg</td>\n",
       "      <td>0</td>\n",
       "      <td>0</td>\n",
       "      <td>0</td>\n",
       "    </tr>\n",
       "    <tr>\n",
       "      <th>4</th>\n",
       "      <td>9yKzy9PApeiPPOUJEtnvkg</td>\n",
       "      <td>2011-01-02</td>\n",
       "      <td>4x5yLG7_yGLuN-w6fV0eBw</td>\n",
       "      <td>4</td>\n",
       "      <td>I love every place on South Mountain. I've bee...</td>\n",
       "      <td>review</td>\n",
       "      <td>Vk-hJ1i5ZagPM87Kv9FOnA</td>\n",
       "      <td>0</td>\n",
       "      <td>1</td>\n",
       "      <td>0</td>\n",
       "    </tr>\n",
       "  </tbody>\n",
       "</table>\n",
       "</div>"
      ],
      "text/plain": [
       "              business_id review_date  ... useful  funny\n",
       "0  Lh9nz0KYyzE-YRbKuCYeUw  2010-01-16  ...      0      0\n",
       "1  pa6K7DGByxBXxcVJ59nWMw  2011-01-25  ...      2      2\n",
       "2  GIGI8bJfN6HyPzmEW-QqjA  2011-01-12  ...      0      0\n",
       "3  qiwajZigq_2twTmYofPmDQ  2010-01-24  ...      0      0\n",
       "4  9yKzy9PApeiPPOUJEtnvkg  2011-01-02  ...      1      0\n",
       "\n",
       "[5 rows x 10 columns]"
      ]
     },
     "execution_count": 12,
     "metadata": {
      "tags": []
     },
     "output_type": "execute_result"
    }
   ],
   "source": [
    "import pandas as pd\n",
    "data_df = spark_df.select('*').toPandas()\n",
    "data_df.head()"
   ]
  },
  {
   "cell_type": "code",
   "execution_count": 13,
   "metadata": {
    "colab": {},
    "colab_type": "code",
    "id": "2tzNPPJUf9PP"
   },
   "outputs": [],
   "source": [
    "upload_class_df = data_df.copy()"
   ]
  },
  {
   "cell_type": "code",
   "execution_count": 14,
   "metadata": {
    "colab": {},
    "colab_type": "code",
    "id": "dnjY5twq0s2y"
   },
   "outputs": [],
   "source": [
    "#from pyspark import SparkFiles\n",
    "#import pandas as  pd\n",
    "\n",
    "#url = \"https://raw.githubusercontent.com/karenbennis/Xy/Data_ETL/yelp.csv\"\n",
    "#spark.sparkContext.addFile(url)\n",
    "#data_df = spark.read.csv(SparkFiles.get(\"yelp.csv\"), sep=\",\", header=True)\n",
    "#data_df.show()\n",
    "\n",
    "#data_df=pd.read_csv('https://raw.githubusercontent.com/karenbennis/Xy/Data_ETL/yelp.csv')\n",
    "# data_df.head()"
   ]
  },
  {
   "cell_type": "code",
   "execution_count": 15,
   "metadata": {
    "colab": {
     "base_uri": "https://localhost:8080/",
     "height": 202
    },
    "colab_type": "code",
    "id": "pX_3LpszdS6A",
    "outputId": "f898fa02-088f-476c-cd34-6f088692c08e"
   },
   "outputs": [
    {
     "data": {
      "text/plain": [
       "business_id     4174\n",
       "review_date      219\n",
       "review_id      10000\n",
       "stars              5\n",
       "review_text     9998\n",
       "review_type        1\n",
       "user_id         6403\n",
       "cool              29\n",
       "useful            28\n",
       "funny             29\n",
       "dtype: int64"
      ]
     },
     "execution_count": 15,
     "metadata": {
      "tags": []
     },
     "output_type": "execute_result"
    }
   ],
   "source": [
    "data_df.nunique()"
   ]
  },
  {
   "cell_type": "markdown",
   "metadata": {
    "colab_type": "text",
    "id": "nY036V7Sngw4"
   },
   "source": [
    "## Analysis\n",
    "**Review_id is unique (primary key) and the text associated is almost always unique as well.**\n",
    "\n",
    "**\"type\" can be dropped, as all are identified as \"review\"**\n"
   ]
  },
  {
   "cell_type": "code",
   "execution_count": 16,
   "metadata": {
    "colab": {
     "base_uri": "https://localhost:8080/",
     "height": 350
    },
    "colab_type": "code",
    "id": "KkPNyVFxbom0",
    "outputId": "5a2b9b42-f116-4f8d-b3bc-d0923696e352"
   },
   "outputs": [
    {
     "data": {
      "text/plain": [
       "(array([ 749.,    0.,  927.,    0.,    0., 1461.,    0., 3526.,    0.,\n",
       "        3337.]),\n",
       " array([1. , 1.4, 1.8, 2.2, 2.6, 3. , 3.4, 3.8, 4.2, 4.6, 5. ]),\n",
       " <a list of 10 Patch objects>)"
      ]
     },
     "execution_count": 16,
     "metadata": {
      "tags": []
     },
     "output_type": "execute_result"
    },
    {
     "data": {
      "image/png": "[encoded data removed]",
      "text/plain": [
       "<Figure size 432x288 with 1 Axes>"
      ]
     },
     "metadata": {
      "tags": []
     },
     "output_type": "display_data"
    }
   ],
   "source": [
    "import matplotlib.pyplot as plt\n",
    "%matplotlib inline\n",
    "plt.style.use('fivethirtyeight')\n",
    "plt.hist(data_df['stars'])"
   ]
  },
  {
   "cell_type": "markdown",
   "metadata": {
    "colab_type": "text",
    "id": "64JJVW4vnqRm"
   },
   "source": [
    "## Analysis\n",
    "**There is a bias for higher ratings in this data set**"
   ]
  },
  {
   "cell_type": "code",
   "execution_count": 17,
   "metadata": {
    "colab": {
     "base_uri": "https://localhost:8080/",
     "height": 225
    },
    "colab_type": "code",
    "id": "O6t7qKVgmtRj",
    "outputId": "4849225e-e16b-40a0-b742-57a1ebdc17d1"
   },
   "outputs": [
    {
     "data": {
      "text/html": [
       "<div>\n",
       "<style scoped>\n",
       "    .dataframe tbody tr th:only-of-type {\n",
       "        vertical-align: middle;\n",
       "    }\n",
       "\n",
       "    .dataframe tbody tr th {\n",
       "        vertical-align: top;\n",
       "    }\n",
       "\n",
       "    .dataframe thead th {\n",
       "        text-align: right;\n",
       "    }\n",
       "</style>\n",
       "<table border=\"1\" class=\"dataframe\">\n",
       "  <thead>\n",
       "    <tr style=\"text-align: right;\">\n",
       "      <th></th>\n",
       "      <th>cool</th>\n",
       "      <th>useful</th>\n",
       "      <th>funny</th>\n",
       "      <th>class</th>\n",
       "      <th>length</th>\n",
       "    </tr>\n",
       "    <tr>\n",
       "      <th>stars</th>\n",
       "      <th></th>\n",
       "      <th></th>\n",
       "      <th></th>\n",
       "      <th></th>\n",
       "      <th></th>\n",
       "    </tr>\n",
       "  </thead>\n",
       "  <tbody>\n",
       "    <tr>\n",
       "      <th>1</th>\n",
       "      <td>0.576769</td>\n",
       "      <td>1.604806</td>\n",
       "      <td>1.056075</td>\n",
       "      <td>0.0</td>\n",
       "      <td>826.515354</td>\n",
       "    </tr>\n",
       "    <tr>\n",
       "      <th>2</th>\n",
       "      <td>0.719525</td>\n",
       "      <td>1.563107</td>\n",
       "      <td>0.875944</td>\n",
       "      <td>0.0</td>\n",
       "      <td>842.256742</td>\n",
       "    </tr>\n",
       "    <tr>\n",
       "      <th>3</th>\n",
       "      <td>0.788501</td>\n",
       "      <td>1.306639</td>\n",
       "      <td>0.694730</td>\n",
       "      <td>NaN</td>\n",
       "      <td>758.498289</td>\n",
       "    </tr>\n",
       "    <tr>\n",
       "      <th>4</th>\n",
       "      <td>0.954623</td>\n",
       "      <td>1.395916</td>\n",
       "      <td>0.670448</td>\n",
       "      <td>1.0</td>\n",
       "      <td>712.923142</td>\n",
       "    </tr>\n",
       "    <tr>\n",
       "      <th>5</th>\n",
       "      <td>0.944261</td>\n",
       "      <td>1.381780</td>\n",
       "      <td>0.608631</td>\n",
       "      <td>1.0</td>\n",
       "      <td>624.999101</td>\n",
       "    </tr>\n",
       "  </tbody>\n",
       "</table>\n",
       "</div>"
      ],
      "text/plain": [
       "           cool    useful     funny  class      length\n",
       "stars                                                 \n",
       "1      0.576769  1.604806  1.056075    0.0  826.515354\n",
       "2      0.719525  1.563107  0.875944    0.0  842.256742\n",
       "3      0.788501  1.306639  0.694730    NaN  758.498289\n",
       "4      0.954623  1.395916  0.670448    1.0  712.923142\n",
       "5      0.944261  1.381780  0.608631    1.0  624.999101"
      ]
     },
     "execution_count": 17,
     "metadata": {
      "tags": []
     },
     "output_type": "execute_result"
    }
   ],
   "source": [
    "def good(x):\n",
    "    if x > 3:\n",
    "        return 1\n",
    "    if x < 3:\n",
    "        return 0\n",
    "\n",
    "data_df['class']=data_df['stars'].apply(good)\n",
    "data_df['length']=data_df['review_text'].apply(len)\n",
    "summ=data_df.groupby(['stars']).mean()\n",
    "summ"
   ]
  },
  {
   "cell_type": "code",
   "execution_count": 18,
   "metadata": {
    "colab": {
     "base_uri": "https://localhost:8080/",
     "height": 229
    },
    "colab_type": "code",
    "id": "-xtMWc07o6XY",
    "outputId": "03a164df-f129-42c5-b027-678b19664811"
   },
   "outputs": [
    {
     "data": {
      "text/html": [
       "<div>\n",
       "<style scoped>\n",
       "    .dataframe tbody tr th:only-of-type {\n",
       "        vertical-align: middle;\n",
       "    }\n",
       "\n",
       "    .dataframe tbody tr th {\n",
       "        vertical-align: top;\n",
       "    }\n",
       "\n",
       "    .dataframe thead th {\n",
       "        text-align: right;\n",
       "    }\n",
       "</style>\n",
       "<table border=\"1\" class=\"dataframe\">\n",
       "  <thead>\n",
       "    <tr style=\"text-align: right;\">\n",
       "      <th></th>\n",
       "      <th>business_id</th>\n",
       "      <th>review_date</th>\n",
       "      <th>review_id</th>\n",
       "      <th>stars</th>\n",
       "      <th>review_text</th>\n",
       "      <th>review_type</th>\n",
       "      <th>user_id</th>\n",
       "      <th>cool</th>\n",
       "      <th>useful</th>\n",
       "      <th>funny</th>\n",
       "      <th>class</th>\n",
       "    </tr>\n",
       "  </thead>\n",
       "  <tbody>\n",
       "    <tr>\n",
       "      <th>0</th>\n",
       "      <td>Lh9nz0KYyzE-YRbKuCYeUw</td>\n",
       "      <td>2010-01-16</td>\n",
       "      <td>-7yxrdY13ay15rGB7WibMA</td>\n",
       "      <td>5</td>\n",
       "      <td>I have been going to Arizona Auto Care since a...</td>\n",
       "      <td>review</td>\n",
       "      <td>ayKW9eWwGFcrtJaHcwZUCw</td>\n",
       "      <td>0</td>\n",
       "      <td>0</td>\n",
       "      <td>0</td>\n",
       "      <td>1.0</td>\n",
       "    </tr>\n",
       "    <tr>\n",
       "      <th>1</th>\n",
       "      <td>pa6K7DGByxBXxcVJ59nWMw</td>\n",
       "      <td>2011-01-25</td>\n",
       "      <td>-Be0UUGYuiDJVAM_YqeQuA</td>\n",
       "      <td>4</td>\n",
       "      <td>Since Im big into breakfast foods, Im always o...</td>\n",
       "      <td>review</td>\n",
       "      <td>_4lqpCYCqOQzbB6xQGGhrQ</td>\n",
       "      <td>0</td>\n",
       "      <td>2</td>\n",
       "      <td>2</td>\n",
       "      <td>1.0</td>\n",
       "    </tr>\n",
       "    <tr>\n",
       "      <th>2</th>\n",
       "      <td>GIGI8bJfN6HyPzmEW-QqjA</td>\n",
       "      <td>2011-01-12</td>\n",
       "      <td>-nQHHXi-d_yuW301_Y0EZQ</td>\n",
       "      <td>2</td>\n",
       "      <td>A pleasant place in Kierland Center, but has g...</td>\n",
       "      <td>review</td>\n",
       "      <td>4QORbyhfN01oKR_GgBstfQ</td>\n",
       "      <td>0</td>\n",
       "      <td>0</td>\n",
       "      <td>0</td>\n",
       "      <td>0.0</td>\n",
       "    </tr>\n",
       "    <tr>\n",
       "      <th>3</th>\n",
       "      <td>qiwajZigq_2twTmYofPmDQ</td>\n",
       "      <td>2010-01-24</td>\n",
       "      <td>2L30O7G8IQ6HILpR0t5RFA</td>\n",
       "      <td>5</td>\n",
       "      <td>part of a social event, we only had app's here...</td>\n",
       "      <td>review</td>\n",
       "      <td>ST8Yzlk2MqKlcaLqL2djBg</td>\n",
       "      <td>0</td>\n",
       "      <td>0</td>\n",
       "      <td>0</td>\n",
       "      <td>1.0</td>\n",
       "    </tr>\n",
       "    <tr>\n",
       "      <th>4</th>\n",
       "      <td>9yKzy9PApeiPPOUJEtnvkg</td>\n",
       "      <td>2011-01-02</td>\n",
       "      <td>4x5yLG7_yGLuN-w6fV0eBw</td>\n",
       "      <td>4</td>\n",
       "      <td>I love every place on South Mountain. I've bee...</td>\n",
       "      <td>review</td>\n",
       "      <td>Vk-hJ1i5ZagPM87Kv9FOnA</td>\n",
       "      <td>0</td>\n",
       "      <td>1</td>\n",
       "      <td>0</td>\n",
       "      <td>1.0</td>\n",
       "    </tr>\n",
       "  </tbody>\n",
       "</table>\n",
       "</div>"
      ],
      "text/plain": [
       "              business_id review_date  ... funny  class\n",
       "0  Lh9nz0KYyzE-YRbKuCYeUw  2010-01-16  ...     0    1.0\n",
       "1  pa6K7DGByxBXxcVJ59nWMw  2011-01-25  ...     2    1.0\n",
       "2  GIGI8bJfN6HyPzmEW-QqjA  2011-01-12  ...     0    0.0\n",
       "3  qiwajZigq_2twTmYofPmDQ  2010-01-24  ...     0    1.0\n",
       "4  9yKzy9PApeiPPOUJEtnvkg  2011-01-02  ...     0    1.0\n",
       "\n",
       "[5 rows x 11 columns]"
      ]
     },
     "execution_count": 18,
     "metadata": {
      "tags": []
     },
     "output_type": "execute_result"
    }
   ],
   "source": [
    "# Add stars to dataframe \n",
    "upload_class_df['class'] = data_df['stars'].apply(good)\n",
    "upload_class_df.head()"
   ]
  },
  {
   "cell_type": "code",
   "execution_count": 20,
   "metadata": {
    "colab": {
     "base_uri": "https://localhost:8080/",
     "height": 185
    },
    "colab_type": "code",
    "id": "dPjaUz0TqbUx",
    "outputId": "199914ca-34f4-4b92-a0b3-d5f810a39e1b"
   },
   "outputs": [
    {
     "name": "stdout",
     "output_type": "stream",
     "text": [
      "+--------------------+-----+\n",
      "|           review_id|class|\n",
      "+--------------------+-----+\n",
      "|-7yxrdY13ay15rGB7...|  1.0|\n",
      "|-Be0UUGYuiDJVAM_Y...|  1.0|\n",
      "|-nQHHXi-d_yuW301_...|  0.0|\n",
      "|2L30O7G8IQ6HILpR0...|  1.0|\n",
      "+--------------------+-----+\n",
      "only showing top 4 rows\n",
      "\n"
     ]
    }
   ],
   "source": [
    "upload_class_df = upload_class_df.filter(items=['review_id', 'class'])\n",
    "spark_class_df = spark.createDataFrame(upload_class_df)\n",
    "spark_class_df.show(4)"
   ]
  },
  {
   "cell_type": "code",
   "execution_count": 24,
   "metadata": {
    "colab": {},
    "colab_type": "code",
    "id": "ou_s37QmrXe4"
   },
   "outputs": [],
   "source": [
    "# Write DataFrame to review_class table in Google Cloud\n",
    "spark_class_df.write.jdbc(url=jdbc_url, table='review_class', mode=mode, properties=config)"
   ]
  },
  {
   "cell_type": "code",
   "execution_count": 27,
   "metadata": {
    "colab": {
     "base_uri": "https://localhost:8080/",
     "height": 195
    },
    "colab_type": "code",
    "id": "G0BrbYgxoKOk",
    "outputId": "ec7904af-2aad-4bc8-a4cc-09eee90c8223"
   },
   "outputs": [
    {
     "data": {
      "text/html": [
       "<div>\n",
       "<style scoped>\n",
       "    .dataframe tbody tr th:only-of-type {\n",
       "        vertical-align: middle;\n",
       "    }\n",
       "\n",
       "    .dataframe tbody tr th {\n",
       "        vertical-align: top;\n",
       "    }\n",
       "\n",
       "    .dataframe thead th {\n",
       "        text-align: right;\n",
       "    }\n",
       "</style>\n",
       "<table border=\"1\" class=\"dataframe\">\n",
       "  <thead>\n",
       "    <tr style=\"text-align: right;\">\n",
       "      <th></th>\n",
       "      <th>review_text</th>\n",
       "      <th>class</th>\n",
       "    </tr>\n",
       "  </thead>\n",
       "  <tbody>\n",
       "    <tr>\n",
       "      <th>0</th>\n",
       "      <td>I have been going to Arizona Auto Care since a...</td>\n",
       "      <td>1.0</td>\n",
       "    </tr>\n",
       "    <tr>\n",
       "      <th>1</th>\n",
       "      <td>Since Im big into breakfast foods, Im always o...</td>\n",
       "      <td>1.0</td>\n",
       "    </tr>\n",
       "    <tr>\n",
       "      <th>2</th>\n",
       "      <td>A pleasant place in Kierland Center, but has g...</td>\n",
       "      <td>0.0</td>\n",
       "    </tr>\n",
       "    <tr>\n",
       "      <th>3</th>\n",
       "      <td>part of a social event, we only had app's here...</td>\n",
       "      <td>1.0</td>\n",
       "    </tr>\n",
       "    <tr>\n",
       "      <th>4</th>\n",
       "      <td>I love every place on South Mountain. I've bee...</td>\n",
       "      <td>1.0</td>\n",
       "    </tr>\n",
       "  </tbody>\n",
       "</table>\n",
       "</div>"
      ],
      "text/plain": [
       "                                         review_text  class\n",
       "0  I have been going to Arizona Auto Care since a...    1.0\n",
       "1  Since Im big into breakfast foods, Im always o...    1.0\n",
       "2  A pleasant place in Kierland Center, but has g...    0.0\n",
       "3  part of a social event, we only had app's here...    1.0\n",
       "4  I love every place on South Mountain. I've bee...    1.0"
      ]
     },
     "execution_count": 27,
     "metadata": {
      "tags": []
     },
     "output_type": "execute_result"
    }
   ],
   "source": [
    "data_df.head()"
   ]
  },
  {
   "cell_type": "code",
   "execution_count": 19,
   "metadata": {
    "colab": {
     "base_uri": "https://localhost:8080/",
     "height": 333
    },
    "colab_type": "code",
    "id": "5jiT0FKchrh6",
    "outputId": "68e33b82-49a0-4810-8e48-b085710c3984"
   },
   "outputs": [
    {
     "data": {
      "text/plain": [
       "[<matplotlib.lines.Line2D at 0x7f56878f3128>,\n",
       " <matplotlib.lines.Line2D at 0x7f5687014390>,\n",
       " <matplotlib.lines.Line2D at 0x7f5687014518>]"
      ]
     },
     "execution_count": 19,
     "metadata": {
      "tags": []
     },
     "output_type": "execute_result"
    },
    {
     "data": {
      "image/png": "[encoded data removed]",
      "text/plain": [
       "<Figure size 432x288 with 1 Axes>"
      ]
     },
     "metadata": {
      "tags": []
     },
     "output_type": "display_data"
    }
   ],
   "source": [
    "plt.plot(summ[['funny','cool','useful']])"
   ]
  },
  {
   "cell_type": "markdown",
   "metadata": {
    "colab_type": "text",
    "id": "q8dG5mSgnu_E"
   },
   "source": [
    "## Analysis\n",
    "**'Cool' evaluations are the only of the 3 that have a positive correlation with star ratings**"
   ]
  },
  {
   "cell_type": "code",
   "execution_count": 20,
   "metadata": {
    "colab": {
     "base_uri": "https://localhost:8080/",
     "height": 301
    },
    "colab_type": "code",
    "id": "-dK7uM7HjdbD",
    "outputId": "1038d40b-0c0d-465a-f838-a1bbcc0782ff"
   },
   "outputs": [
    {
     "data": {
      "text/plain": [
       "[<matplotlib.lines.Line2D at 0x7f5686f86f60>]"
      ]
     },
     "execution_count": 20,
     "metadata": {
      "tags": []
     },
     "output_type": "execute_result"
    },
    {
     "data": {
      "image/png": "[encoded data removed]",
      "text/plain": [
       "<Figure size 432x288 with 1 Axes>"
      ]
     },
     "metadata": {
      "tags": []
     },
     "output_type": "display_data"
    }
   ],
   "source": [
    "plt.plot(summ[['length']])"
   ]
  },
  {
   "cell_type": "markdown",
   "metadata": {
    "colab_type": "text",
    "id": "_dXz3mAjnyLV"
   },
   "source": [
    "## Analysis\n",
    "**The longer reviews tend to be lower ratings.**"
   ]
  },
  {
   "cell_type": "code",
   "execution_count": 21,
   "metadata": {
    "colab": {
     "base_uri": "https://localhost:8080/",
     "height": 417
    },
    "colab_type": "code",
    "id": "ZTGdfgARcTjI",
    "outputId": "3ce7dc29-b1c1-48c8-dfbb-656436b3bd39"
   },
   "outputs": [
    {
     "name": "stderr",
     "output_type": "stream",
     "text": [
      "/usr/local/lib/python3.6/dist-packages/numpy/lib/histograms.py:839: RuntimeWarning: invalid value encountered in greater_equal\n",
      "  keep = (tmp_a >= first_edge)\n",
      "/usr/local/lib/python3.6/dist-packages/numpy/lib/histograms.py:840: RuntimeWarning: invalid value encountered in less_equal\n",
      "  keep &= (tmp_a <= last_edge)\n"
     ]
    },
    {
     "data": {
      "text/plain": [
       "(array([1676.,    0.,    0.,    0.,    0.,    0.,    0.,    0.,    0.,\n",
       "        6863.]),\n",
       " array([0. , 0.1, 0.2, 0.3, 0.4, 0.5, 0.6, 0.7, 0.8, 0.9, 1. ]),\n",
       " <a list of 10 Patch objects>)"
      ]
     },
     "execution_count": 21,
     "metadata": {
      "tags": []
     },
     "output_type": "execute_result"
    },
    {
     "data": {
      "image/png": "[encoded data removed]",
      "text/plain": [
       "<Figure size 432x288 with 1 Axes>"
      ]
     },
     "metadata": {
      "tags": []
     },
     "output_type": "display_data"
    }
   ],
   "source": [
    "plt.hist(data_df['class'])"
   ]
  },
  {
   "cell_type": "markdown",
   "metadata": {
    "colab_type": "text",
    "id": "edBuycdkn10s"
   },
   "source": [
    "## Analysis\n",
    "**Reaffirming the weighting bias in the data**"
   ]
  },
  {
   "cell_type": "code",
   "execution_count": 22,
   "metadata": {
    "colab": {},
    "colab_type": "code",
    "id": "Qc12Wz8fcjZv"
   },
   "outputs": [],
   "source": [
    "data_df=data_df.drop(['business_id','review_date','review_id','stars','review_type','user_id','cool','useful','funny','length'],axis=1)\n",
    "data_df=data_df.dropna()"
   ]
  },
  {
   "cell_type": "code",
   "execution_count": 23,
   "metadata": {
    "colab": {
     "base_uri": "https://localhost:8080/",
     "height": 454
    },
    "colab_type": "code",
    "id": "Aca0s-O8moN9",
    "outputId": "7e60ef9e-2696-4047-a025-e73dfb14005b"
   },
   "outputs": [
    {
     "name": "stdout",
     "output_type": "stream",
     "text": [
      "+--------------------+-----+\n",
      "|         review_text|class|\n",
      "+--------------------+-----+\n",
      "|I have been going...|  1.0|\n",
      "|Since Im big into...|  1.0|\n",
      "|A pleasant place ...|  0.0|\n",
      "|part of a social ...|  1.0|\n",
      "|I love every plac...|  1.0|\n",
      "|A great value for...|  1.0|\n",
      "|I would never hav...|  1.0|\n",
      "|The new Harkins C...|  1.0|\n",
      "|This is one of my...|  1.0|\n",
      "|OK, I went based ...|  1.0|\n",
      "|I highly reccomen...|  1.0|\n",
      "|I was severely mi...|  0.0|\n",
      "|Where else can yo...|  1.0|\n",
      "|My friend who I w...|  1.0|\n",
      "|This place came r...|  0.0|\n",
      "|Awesome food and ...|  1.0|\n",
      "|Although the boba...|  1.0|\n",
      "|It does not get m...|  1.0|\n",
      "|May I add \"family...|  1.0|\n",
      "|Fantastic.  Absol...|  1.0|\n",
      "+--------------------+-----+\n",
      "only showing top 20 rows\n",
      "\n"
     ]
    }
   ],
   "source": [
    "df = spark.createDataFrame(data_df)\n",
    "df.show()"
   ]
  },
  {
   "cell_type": "code",
   "execution_count": 24,
   "metadata": {
    "colab": {},
    "colab_type": "code",
    "id": "0x0XmXV9VBTs"
   },
   "outputs": [],
   "source": [
    "# Import functions\n",
    "from pyspark.ml.feature import Tokenizer, StopWordsRemover, HashingTF, IDF, StringIndexer"
   ]
  },
  {
   "cell_type": "code",
   "execution_count": null,
   "metadata": {
    "colab": {},
    "colab_type": "code",
    "id": "6VorHUGE_vta"
   },
   "outputs": [],
   "source": [
    "# Create all the features to the data set\n",
    "pos_neg_to_num = StringIndexer(inputCol='class',outputCol='label')\n",
    "tokenizer = Tokenizer(inputCol=\"text\", outputCol=\"token_text\")\n",
    "stopremove = StopWordsRemover(inputCol='token_text',outputCol='stop_tokens')\n",
    "hashingTF = HashingTF(inputCol=\"token_text\", outputCol='hash_token')\n",
    "idf = IDF(inputCol='hash_token', outputCol='idf_token')"
   ]
  },
  {
   "cell_type": "code",
   "execution_count": null,
   "metadata": {
    "colab": {},
    "colab_type": "code",
    "id": "-05EYS6Bold9"
   },
   "outputs": [],
   "source": [
    "from pyspark.ml.feature import VectorAssembler\n",
    "from pyspark.ml.linalg import Vector\n",
    "# Create feature vectors\n",
    "clean_up = VectorAssembler(inputCols=['idf_token', 'length'], outputCol='features')"
   ]
  },
  {
   "cell_type": "code",
   "execution_count": null,
   "metadata": {
    "colab": {},
    "colab_type": "code",
    "id": "hrqh24KqlJDd"
   },
   "outputs": [],
   "source": [
    "# Create and run a data processing Pipeline\n",
    "from pyspark.ml import Pipeline\n",
    "data_prep_pipeline = Pipeline(stages=[pos_neg_to_num, tokenizer, stopremove, hashingTF, idf, clean_up])"
   ]
  },
  {
   "cell_type": "code",
   "execution_count": null,
   "metadata": {
    "colab": {},
    "colab_type": "code",
    "id": "EZ_67nv5lKOD"
   },
   "outputs": [],
   "source": [
    "# Fit and transform the pipeline\n",
    "cleaner = data_prep_pipeline.fit(data_df)\n",
    "cleaned = cleaner.transform(data_df)"
   ]
  },
  {
   "cell_type": "code",
   "execution_count": null,
   "metadata": {
    "colab": {},
    "colab_type": "code",
    "id": "MiiHRYAxlKHk"
   },
   "outputs": [],
   "source": [
    "# Break data down into a training set and a testing set\n",
    "training, testing = cleaned.randomSplit([0.7, 0.3], 21)"
   ]
  },
  {
   "cell_type": "code",
   "execution_count": null,
   "metadata": {
    "colab": {},
    "colab_type": "code",
    "id": "LXene5PXlJ7b"
   },
   "outputs": [],
   "source": [
    "from pyspark.ml.classification import NaiveBayes\n",
    "# Create a Naive Bayes model and fit training data\n",
    "nb = NaiveBayes()\n",
    "predictor = nb.fit(training)"
   ]
  },
  {
   "cell_type": "code",
   "execution_count": null,
   "metadata": {
    "colab": {
     "base_uri": "https://localhost:8080/",
     "height": 34
    },
    "colab_type": "code",
    "id": "KdZyvrGElUOd",
    "outputId": "6cdea823-236e-46c9-89b6-0a16325325cd"
   },
   "outputs": [
    {
     "name": "stdout",
     "output_type": "stream",
     "text": [
      "Accuracy of model at predicting reviews was: 0.815244\n"
     ]
    }
   ],
   "source": [
    "# Use the Class Evaluator for a cleaner description\n",
    "from pyspark.ml.evaluation import MulticlassClassificationEvaluator\n",
    "\n",
    "acc_eval = MulticlassClassificationEvaluator()\n",
    "acc = acc_eval.evaluate(predictor.transform(testing))\n",
    "print(\"Accuracy of model at predicting reviews was: %f\" % acc)"
   ]
  }
 ],
 "metadata": {
  "colab": {
   "collapsed_sections": [],
   "include_colab_link": true,
   "name": "Copy of Project.ipynb",
   "provenance": []
  },
  "kernelspec": {
   "display_name": "Python 3",
   "language": "python",
   "name": "python3"
  },
  "language_info": {
   "codemirror_mode": {
    "name": "ipython",
    "version": 3
   },
   "file_extension": ".py",
   "mimetype": "text/x-python",
   "name": "python",
   "nbconvert_exporter": "python",
   "pygments_lexer": "ipython3",
   "version": "3.7.6"
  }
 },
 "nbformat": 4,
 "nbformat_minor": 4
}
