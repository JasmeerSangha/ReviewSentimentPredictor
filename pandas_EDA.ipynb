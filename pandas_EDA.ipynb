{
 "cells": [
  {
   "cell_type": "markdown",
   "metadata": {
    "colab_type": "text",
    "id": "view-in-github"
   },
   "source": [
    "<a href=\"https://colab.research.google.com/github/karenbennis/Xy/blob/Reformation/pandas_EDA.ipynb\" target=\"_parent\"><img src=\"https://colab.research.google.com/assets/colab-badge.svg\" alt=\"Open In Colab\"/></a>"
   ]
  },
  {
   "cell_type": "markdown",
   "metadata": {
    "colab_type": "text",
    "id": "7x2IxWo3wiqn"
   },
   "source": [
    "<br>**Connect to Database**<br><br>"
   ]
  },
  {
   "cell_type": "code",
   "execution_count": 2,
   "metadata": {
    "colab": {
     "base_uri": "https://localhost:8080/",
     "height": 204
    },
    "colab_type": "code",
    "id": "_nCS6homIgnW",
    "outputId": "828fef24-a457-41c4-b750-ec2ea2172b76"
   },
   "outputs": [
    {
     "name": "stdout",
     "output_type": "stream",
     "text": [
      "--2020-07-20 19:56:14--  https://jdbc.postgresql.org/download/postgresql-42.2.9.jar\n",
      "Resolving jdbc.postgresql.org (jdbc.postgresql.org)... 72.32.157.228, 2001:4800:3e1:1::228\n",
      "Connecting to jdbc.postgresql.org (jdbc.postgresql.org)|72.32.157.228|:443... connected.\n",
      "HTTP request sent, awaiting response... 200 OK\n",
      "Length: 914037 (893K) [application/java-archive]\n",
      "Saving to: ‘postgresql-42.2.9.jar.4’\n",
      "\n",
      "postgresql-42.2.9.j 100%[===================>] 892.61K  3.63MB/s    in 0.2s    \n",
      "\n",
      "2020-07-20 19:56:15 (3.63 MB/s) - ‘postgresql-42.2.9.jar.4’ saved [914037/914037]\n",
      "\n"
     ]
    }
   ],
   "source": [
    "# Install Java, Spark, and Findspark\n",
    "!apt-get install openjdk-8-jdk-headless -qq > /dev/null\n",
    "!wget -q http://www-us.apache.org/dist/spark/spark-2.4.6/spark-2.4.6-bin-hadoop2.7.tgz\n",
    "!tar xf spark-2.4.6-bin-hadoop2.7.tgz\n",
    "!pip install -q findspark\n",
    "\n",
    "# Set Environment Variables\n",
    "import os\n",
    "os.environ[\"JAVA_HOME\"] = \"/usr/lib/jvm/java-8-openjdk-amd64\"\n",
    "os.environ[\"SPARK_HOME\"] = \"/content/spark-2.4.6-bin-hadoop2.7\"\n",
    "\n",
    "# Start a SparkSession\n",
    "import findspark\n",
    "findspark.init()\n",
    "\n",
    "#Interact with SQL\n",
    "!wget https://jdbc.postgresql.org/download/postgresql-42.2.9.jar\n",
    "\n",
    "# Start Spark Session(Creating spark application with name defined by appName()) ---IMPORTED WITH EVERY COLAB NOTEBOOK\n",
    "from pyspark.sql import SparkSession\n",
    "spark = SparkSession.builder.appName(\"database_transformation\").config(\"spark.driver.extraClassPath\",\"/content/postgresql-42.2.9.jar\").getOrCreate()\n"
   ]
  },
  {
   "cell_type": "code",
   "execution_count": 3,
   "metadata": {
    "colab": {},
    "colab_type": "code",
    "id": "S8QrfnccAW8c"
   },
   "outputs": [],
   "source": [
    "# Authenticate user\n",
    "from google.colab import auth\n",
    "auth.authenticate_user()"
   ]
  },
  {
   "cell_type": "code",
   "execution_count": 4,
   "metadata": {
    "colab": {},
    "colab_type": "code",
    "id": "kbXgRphaAnNQ"
   },
   "outputs": [],
   "source": [
    "# Set project id\n",
    "project_id = 'xy-yelp'"
   ]
  },
  {
   "cell_type": "code",
   "execution_count": 5,
   "metadata": {
    "colab": {
     "base_uri": "https://localhost:8080/",
     "height": 34
    },
    "colab_type": "code",
    "id": "3gZLSWomAd5m",
    "outputId": "a3ac6333-d004-4cc0-bd2e-1f44e0853501"
   },
   "outputs": [
    {
     "name": "stdout",
     "output_type": "stream",
     "text": [
      "Updated property [core/project].\n"
     ]
    }
   ],
   "source": [
    "# Set project\n",
    "!gcloud config set project {project_id}"
   ]
  },
  {
   "cell_type": "code",
   "execution_count": 6,
   "metadata": {
    "colab": {
     "base_uri": "https://localhost:8080/",
     "height": 68
    },
    "colab_type": "code",
    "id": "kaiyscxjFjpD",
    "outputId": "1041e12a-5285-4bab-c1e3-423dbc05315d"
   },
   "outputs": [
    {
     "name": "stdout",
     "output_type": "stream",
     "text": [
      "Copying gs://xy-bucket/json_files/ml_j.json/part-00000-f8a8f21c-0ebe-434c-a8b3-a5c8988dd298-c000.json...\n",
      "-\n",
      "Operation completed over 1 objects/62.5 MiB.                                     \n"
     ]
    }
   ],
   "source": [
    "# Get file which was saved to bucket **** file saves as multiple files so this should be addressed in the future, for now the 11mb file should be fine\n",
    "!gsutil cp -r gs://xy-bucket/json_files/ml_j.json/part-00000-f8a8f21c-0ebe-434c-a8b3-a5c8988dd298-c000.json /tmp/machine_json.json"
   ]
  },
  {
   "cell_type": "code",
   "execution_count": 7,
   "metadata": {
    "colab": {},
    "colab_type": "code",
    "id": "KFoKcs__Hgfb"
   },
   "outputs": [],
   "source": [
    "# Set filepath to tmp folder where bucket file was saved **** this could actually be done without saving to the bucket, this is just done to make sure we can \n",
    "# save to and read from bucket if we need to\n",
    "filepath = '/tmp/machine_json.json'"
   ]
  },
  {
   "cell_type": "code",
   "execution_count": 33,
   "metadata": {
    "colab": {},
    "colab_type": "code",
    "id": "JrvGhm-NAjaC"
   },
   "outputs": [],
   "source": [
    "# Import pandas and read json file into DataFrame\n",
    "import pandas as pd\n",
    "raw_json = pd.read_json(filepath, lines=True)"
   ]
  },
  {
   "cell_type": "code",
   "execution_count": 35,
   "metadata": {
    "colab": {},
    "colab_type": "code",
    "id": "jpaB8VIkyYCk"
   },
   "outputs": [],
   "source": [
    "#Drop useless columns\n",
    "raw_json=raw_json[['review_id','stars','class','review_text','length','cool','useful','funny','business_id','user_id']]"
   ]
  },
  {
   "cell_type": "code",
   "execution_count": 36,
   "metadata": {
    "colab": {
     "base_uri": "https://localhost:8080/",
     "height": 289
    },
    "colab_type": "code",
    "id": "KaZNjAKW-toJ",
    "outputId": "ce6722d8-4e9e-4b10-8e00-7973bb8c3649"
   },
   "outputs": [
    {
     "data": {
      "text/html": [
       "<div>\n",
       "<style scoped>\n",
       "    .dataframe tbody tr th:only-of-type {\n",
       "        vertical-align: middle;\n",
       "    }\n",
       "\n",
       "    .dataframe tbody tr th {\n",
       "        vertical-align: top;\n",
       "    }\n",
       "\n",
       "    .dataframe thead th {\n",
       "        text-align: right;\n",
       "    }\n",
       "</style>\n",
       "<table border=\"1\" class=\"dataframe\">\n",
       "  <thead>\n",
       "    <tr style=\"text-align: right;\">\n",
       "      <th></th>\n",
       "      <th>review_id</th>\n",
       "      <th>stars</th>\n",
       "      <th>class</th>\n",
       "      <th>review_text</th>\n",
       "      <th>length</th>\n",
       "      <th>cool</th>\n",
       "      <th>useful</th>\n",
       "      <th>funny</th>\n",
       "      <th>business_id</th>\n",
       "      <th>user_id</th>\n",
       "    </tr>\n",
       "  </thead>\n",
       "  <tbody>\n",
       "    <tr>\n",
       "      <th>0</th>\n",
       "      <td>-7yxrdY13ay15rGB7WibMA</td>\n",
       "      <td>5</td>\n",
       "      <td>1</td>\n",
       "      <td>I have been going to Arizona Auto Care since a...</td>\n",
       "      <td>670</td>\n",
       "      <td>0</td>\n",
       "      <td>0</td>\n",
       "      <td>0</td>\n",
       "      <td>Lh9nz0KYyzE-YRbKuCYeUw</td>\n",
       "      <td>ayKW9eWwGFcrtJaHcwZUCw</td>\n",
       "    </tr>\n",
       "    <tr>\n",
       "      <th>1</th>\n",
       "      <td>-Be0UUGYuiDJVAM_YqeQuA</td>\n",
       "      <td>4</td>\n",
       "      <td>1</td>\n",
       "      <td>Since Im big into breakfast foods, Im always o...</td>\n",
       "      <td>1348</td>\n",
       "      <td>0</td>\n",
       "      <td>2</td>\n",
       "      <td>2</td>\n",
       "      <td>pa6K7DGByxBXxcVJ59nWMw</td>\n",
       "      <td>_4lqpCYCqOQzbB6xQGGhrQ</td>\n",
       "    </tr>\n",
       "    <tr>\n",
       "      <th>2</th>\n",
       "      <td>-nQHHXi-d_yuW301_Y0EZQ</td>\n",
       "      <td>2</td>\n",
       "      <td>0</td>\n",
       "      <td>A pleasant place in Kierland Center, but has g...</td>\n",
       "      <td>813</td>\n",
       "      <td>0</td>\n",
       "      <td>0</td>\n",
       "      <td>0</td>\n",
       "      <td>GIGI8bJfN6HyPzmEW-QqjA</td>\n",
       "      <td>4QORbyhfN01oKR_GgBstfQ</td>\n",
       "    </tr>\n",
       "    <tr>\n",
       "      <th>3</th>\n",
       "      <td>2L30O7G8IQ6HILpR0t5RFA</td>\n",
       "      <td>5</td>\n",
       "      <td>1</td>\n",
       "      <td>part of a social event, we only had app's here...</td>\n",
       "      <td>415</td>\n",
       "      <td>0</td>\n",
       "      <td>0</td>\n",
       "      <td>0</td>\n",
       "      <td>qiwajZigq_2twTmYofPmDQ</td>\n",
       "      <td>ST8Yzlk2MqKlcaLqL2djBg</td>\n",
       "    </tr>\n",
       "    <tr>\n",
       "      <th>4</th>\n",
       "      <td>4x5yLG7_yGLuN-w6fV0eBw</td>\n",
       "      <td>4</td>\n",
       "      <td>1</td>\n",
       "      <td>I love every place on South Mountain. I've bee...</td>\n",
       "      <td>302</td>\n",
       "      <td>0</td>\n",
       "      <td>1</td>\n",
       "      <td>0</td>\n",
       "      <td>9yKzy9PApeiPPOUJEtnvkg</td>\n",
       "      <td>Vk-hJ1i5ZagPM87Kv9FOnA</td>\n",
       "    </tr>\n",
       "  </tbody>\n",
       "</table>\n",
       "</div>"
      ],
      "text/plain": [
       "                review_id  ...                 user_id\n",
       "0  -7yxrdY13ay15rGB7WibMA  ...  ayKW9eWwGFcrtJaHcwZUCw\n",
       "1  -Be0UUGYuiDJVAM_YqeQuA  ...  _4lqpCYCqOQzbB6xQGGhrQ\n",
       "2  -nQHHXi-d_yuW301_Y0EZQ  ...  4QORbyhfN01oKR_GgBstfQ\n",
       "3  2L30O7G8IQ6HILpR0t5RFA  ...  ST8Yzlk2MqKlcaLqL2djBg\n",
       "4  4x5yLG7_yGLuN-w6fV0eBw  ...  Vk-hJ1i5ZagPM87Kv9FOnA\n",
       "\n",
       "[5 rows x 10 columns]"
      ]
     },
     "execution_count": 36,
     "metadata": {
      "tags": []
     },
     "output_type": "execute_result"
    }
   ],
   "source": [
    "# Show dataframe\n",
    "raw_json.head()"
   ]
  }
 ],
 "metadata": {
  "colab": {
   "collapsed_sections": [],
   "include_colab_link": true,
   "name": "pandas_EDA.ipynb",
   "provenance": []
  },
  "kernelspec": {
   "display_name": "Python 3",
   "language": "python",
   "name": "python3"
  },
  "language_info": {
   "codemirror_mode": {
    "name": "ipython",
    "version": 3
   },
   "file_extension": ".py",
   "mimetype": "text/x-python",
   "name": "python",
   "nbconvert_exporter": "python",
   "pygments_lexer": "ipython3",
   "version": "3.7.6"
  }
 },
 "nbformat": 4,
 "nbformat_minor": 4
}
