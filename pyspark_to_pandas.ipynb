{
  "nbformat": 4,
  "nbformat_minor": 0,
  "metadata": {
    "colab": {
      "name": "pyspark_to_pandas.ipynb",
      "provenance": [],
      "collapsed_sections": [],
      "include_colab_link": true
    },
    "kernelspec": {
      "name": "python3",
      "display_name": "Python 3"
    }
  },
  "cells": [
    {
      "cell_type": "markdown",
      "metadata": {
        "id": "view-in-github",
        "colab_type": "text"
      },
      "source": [
        "<a href=\"https://colab.research.google.com/github/karenbennis/Xy/blob/storyboard/pyspark_to_pandas.ipynb\" target=\"_parent\"><img src=\"https://colab.research.google.com/assets/colab-badge.svg\" alt=\"Open In Colab\"/></a>"
      ]
    },
    {
      "cell_type": "markdown",
      "metadata": {
        "id": "7x2IxWo3wiqn",
        "colab_type": "text"
      },
      "source": [
        "<br>**A notebook**<br><br>"
      ]
    },
    {
      "cell_type": "code",
      "metadata": {
        "id": "_nCS6homIgnW",
        "colab_type": "code",
        "colab": {
          "base_uri": "https://localhost:8080/",
          "height": 204
        },
        "outputId": "9aa44209-7e0f-40ea-c0a1-7bd065e43d9f"
      },
      "source": [
        "# Install Java, Spark, and Findspark\n",
        "!apt-get install openjdk-8-jdk-headless -qq > /dev/null\n",
        "!wget -q http://www-us.apache.org/dist/spark/spark-2.4.6/spark-2.4.6-bin-hadoop2.7.tgz\n",
        "!tar xf spark-2.4.6-bin-hadoop2.7.tgz\n",
        "!pip install -q findspark\n",
        "\n",
        "# Set Environment Variables\n",
        "import os\n",
        "os.environ[\"JAVA_HOME\"] = \"/usr/lib/jvm/java-8-openjdk-amd64\"\n",
        "os.environ[\"SPARK_HOME\"] = \"/content/spark-2.4.6-bin-hadoop2.7\"\n",
        "\n",
        "# Start a SparkSession\n",
        "import findspark\n",
        "findspark.init()\n",
        "\n",
        "#Interact with SQL\n",
        "!wget https://jdbc.postgresql.org/download/postgresql-42.2.9.jar\n",
        "\n",
        "# Start Spark Session(Creating spark application with name defined by appName()) ---IMPORTED WITH EVERY COLAB NOTEBOOK\n",
        "from pyspark.sql import SparkSession\n",
        "spark = SparkSession.builder.appName(\"database_transformation\").config(\"spark.driver.extraClassPath\",\"/content/postgresql-42.2.9.jar\").getOrCreate()\n"
      ],
      "execution_count": null,
      "outputs": [
        {
          "output_type": "stream",
          "text": [
            "--2020-07-20 17:48:27--  https://jdbc.postgresql.org/download/postgresql-42.2.9.jar\n",
            "Resolving jdbc.postgresql.org (jdbc.postgresql.org)... 72.32.157.228, 2001:4800:3e1:1::228\n",
            "Connecting to jdbc.postgresql.org (jdbc.postgresql.org)|72.32.157.228|:443... connected.\n",
            "HTTP request sent, awaiting response... 200 OK\n",
            "Length: 914037 (893K) [application/java-archive]\n",
            "Saving to: ‘postgresql-42.2.9.jar’\n",
            "\n",
            "postgresql-42.2.9.j 100%[===================>] 892.61K  1.42MB/s    in 0.6s    \n",
            "\n",
            "2020-07-20 17:48:28 (1.42 MB/s) - ‘postgresql-42.2.9.jar’ saved [914037/914037]\n",
            "\n"
          ],
          "name": "stdout"
        }
      ]
    },
    {
      "cell_type": "code",
      "metadata": {
        "id": "tVTkr-xleT8C",
        "colab_type": "code",
        "colab": {}
      },
      "source": [
        "# gcloud login and check the DB\n",
        "!gcloud auth login\n",
        "!gcloud config set project 'xy-yelp'\n",
        "!gcloud sql instances describe 'xy-yelp'"
      ],
      "execution_count": null,
      "outputs": []
    },
    {
      "cell_type": "code",
      "metadata": {
        "id": "Zn_F729PexE6",
        "colab_type": "code",
        "colab": {
          "base_uri": "https://localhost:8080/",
          "height": 221
        },
        "outputId": "b13fdda6-3915-48a1-cf69-cf4651207afc"
      },
      "source": [
        "# download and initialize the psql proxy\n",
        "!wget https://dl.google.com/cloudsql/cloud_sql_proxy.linux.amd64 -O cloud_sql_proxy\n",
        "!chmod +x cloud_sql_proxy\n",
        "# \"connectionName\" is from the previous block\n",
        "!nohup ./cloud_sql_proxy -instances=\"xy-yelp:northamerica-northeast1:xy-yelp\"=tcp:5432 &\n",
        "!sleep 30s"
      ],
      "execution_count": null,
      "outputs": [
        {
          "output_type": "stream",
          "text": [
            "--2020-07-19 18:17:05--  https://dl.google.com/cloudsql/cloud_sql_proxy.linux.amd64\n",
            "Resolving dl.google.com (dl.google.com)... 108.177.13.93, 108.177.13.136, 108.177.13.190, ...\n",
            "Connecting to dl.google.com (dl.google.com)|108.177.13.93|:443... connected.\n",
            "HTTP request sent, awaiting response... 200 OK\n",
            "Length: 14492253 (14M) [application/octet-stream]\n",
            "Saving to: ‘cloud_sql_proxy’\n",
            "\n",
            "\rcloud_sql_proxy       0%[                    ]       0  --.-KB/s               \rcloud_sql_proxy     100%[===================>]  13.82M  --.-KB/s    in 0.05s   \n",
            "\n",
            "2020-07-19 18:17:05 (301 MB/s) - ‘cloud_sql_proxy’ saved [14492253/14492253]\n",
            "\n",
            "nohup: appending output to 'nohup.out'\n"
          ],
          "name": "stdout"
        }
      ]
    },
    {
      "cell_type": "code",
      "metadata": {
        "id": "V5Ko5J-Ee7Ec",
        "colab_type": "code",
        "colab": {}
      },
      "source": [
        "db_password = 'kjhbyelpdb'"
      ],
      "execution_count": null,
      "outputs": []
    },
    {
      "cell_type": "code",
      "metadata": {
        "id": "fs2eCTjpfEd6",
        "colab_type": "code",
        "colab": {}
      },
      "source": [
        "# Configure settings for RDS\n",
        "mode = \"append\"\n",
        "jdbc_url=\"jdbc:postgresql://127.0.0.1:5432/xy_yelp_db\"\n",
        "config = {\"user\":\"postgres\", \n",
        "          \"password\": db_password, \n",
        "          \"driver\":\"org.postgresql.Driver\"}"
      ],
      "execution_count": null,
      "outputs": []
    },
    {
      "cell_type": "markdown",
      "metadata": {
        "id": "cQez-IxYJC_V",
        "colab_type": "text"
      },
      "source": [
        "**Extract tables**"
      ]
    },
    {
      "cell_type": "code",
      "metadata": {
        "id": "uudQwo30fFA-",
        "colab_type": "code",
        "colab": {
          "base_uri": "https://localhost:8080/",
          "height": 204
        },
        "outputId": "58d63100-fba3-47af-a107-0a65466a2ea3"
      },
      "source": [
        "# Pull review table\n",
        "review_df2 = spark.read.jdbc(url=jdbc_url, table='review',properties=config)\n",
        "review_df2.show(5)"
      ],
      "execution_count": null,
      "outputs": [
        {
          "output_type": "stream",
          "text": [
            "+--------------------+--------------------+-----+----+------+-----+-----------+-----------+\n",
            "|           review_id|         review_text|stars|cool|useful|funny|review_date|review_type|\n",
            "+--------------------+--------------------+-----+----+------+-----+-----------+-----------+\n",
            "|cALYebKb5hygdKHql...|This is a very in...|    4|   0|     0|    0| 2011-01-12|     review|\n",
            "|SawdMXLYD5ytRmMFv...|I LOVE Chic Nails...|    5|   0|     2|    0| 2011-01-20|     review|\n",
            "|j-jMQdELr6AFkCcEH...|After the Padres ...|    5|   0|     0|    0| 2011-01-06|     review|\n",
            "|SmUMyCUNrT9HEo_DX...|I have to admit t...|    4|   0|     1|    0| 2010-01-17|     review|\n",
            "|oTB_mpCKcu-8wayQQ...|Best food, super ...|    5|   0|     1|    0| 2011-01-14|     review|\n",
            "+--------------------+--------------------+-----+----+------+-----+-----------+-----------+\n",
            "only showing top 5 rows\n",
            "\n"
          ],
          "name": "stdout"
        }
      ]
    },
    {
      "cell_type": "code",
      "metadata": {
        "id": "2pmJIJiDfRb1",
        "colab_type": "code",
        "colab": {
          "base_uri": "https://localhost:8080/",
          "height": 204
        },
        "outputId": "c9ba52c4-352b-49f6-9f81-ea9927534f6b"
      },
      "source": [
        "# Pull business table\n",
        "business_df2 = spark.read.jdbc(url=jdbc_url, table='business',properties=config)\n",
        "business_df2.show(5)"
      ],
      "execution_count": null,
      "outputs": [
        {
          "output_type": "stream",
          "text": [
            "+--------------------+--------------------+\n",
            "|           review_id|         business_id|\n",
            "+--------------------+--------------------+\n",
            "|fWKvX83p0-ka4JS3d...|9yKzy9PApeiPPOUJE...|\n",
            "|IjZ33sJrzXqU-0X6U...|ZRJwVLyzEJq1VAihD...|\n",
            "|IESLBzqUCLdSzSqm0...|6oRAC4uyJCsJl1X0W...|\n",
            "|G-WvGaISbqqaMHlNn...|_1QQZuf4zZOyFCvXc...|\n",
            "|1uJFq2r5QfJG_6ExM...|6ozycU1RpktNG2-1B...|\n",
            "+--------------------+--------------------+\n",
            "only showing top 5 rows\n",
            "\n"
          ],
          "name": "stdout"
        }
      ]
    },
    {
      "cell_type": "code",
      "metadata": {
        "id": "hFb2iKvOfRh6",
        "colab_type": "code",
        "colab": {
          "base_uri": "https://localhost:8080/",
          "height": 204
        },
        "outputId": "649cfc38-7375-4601-dc41-7792e3e10efb"
      },
      "source": [
        "# Pull yelp_user table\n",
        "user_df2 = spark.read.jdbc(url=jdbc_url, table='yelp_user',properties=config)\n",
        "user_df2.show(5)"
      ],
      "execution_count": null,
      "outputs": [
        {
          "output_type": "stream",
          "text": [
            "+--------------------+--------------------+\n",
            "|           review_id|             user_id|\n",
            "+--------------------+--------------------+\n",
            "|GJGUHAAONtBSBj53c...|Z3c7xGRfeV-uMkSbA...|\n",
            "|nQH2KAvAeOJOYKX99...|ryjqXdp68i2I9JPOp...|\n",
            "|-yKcbjWSlmKC1zTMT...|5W-ruHmpkwLyI6Lla...|\n",
            "|20aES_-g5Vyqfzojn...|vhxFLqRok6r-D_aQz...|\n",
            "|W_d9w7yr3koSUXHco...|aBnKTxZzdhabTXfzt...|\n",
            "+--------------------+--------------------+\n",
            "only showing top 5 rows\n",
            "\n"
          ],
          "name": "stdout"
        }
      ]
    },
    {
      "cell_type": "code",
      "metadata": {
        "id": "cTo3oLx-fRoX",
        "colab_type": "code",
        "colab": {
          "base_uri": "https://localhost:8080/",
          "height": 204
        },
        "outputId": "3d1c4361-1a95-408f-8c1e-26486cdd19f4"
      },
      "source": [
        "# Join tables\n",
        "spark_df = review_df2.join(business_df2, on=\"review_id\", how=\"inner\")\n",
        "spark_df = spark_df.join(user_df2, on=\"review_id\", how=\"inner\")\n",
        "spark_df.show(5)"
      ],
      "execution_count": null,
      "outputs": [
        {
          "output_type": "stream",
          "text": [
            "+--------------------+--------------------+-----+----+------+-----+-----------+-----------+--------------------+--------------------+\n",
            "|           review_id|         review_text|stars|cool|useful|funny|review_date|review_type|         business_id|             user_id|\n",
            "+--------------------+--------------------+-----+----+------+-----+-----------+-----------+--------------------+--------------------+\n",
            "|-7yxrdY13ay15rGB7...|I have been going...|    5|   0|     0|    0| 2010-01-16|     review|Lh9nz0KYyzE-YRbKu...|ayKW9eWwGFcrtJaHc...|\n",
            "|-Be0UUGYuiDJVAM_Y...|Since Im big into...|    4|   0|     2|    2| 2011-01-25|     review|pa6K7DGByxBXxcVJ5...|_4lqpCYCqOQzbB6xQ...|\n",
            "|-nQHHXi-d_yuW301_...|A pleasant place ...|    2|   0|     0|    0| 2011-01-12|     review|GIGI8bJfN6HyPzmEW...|4QORbyhfN01oKR_Gg...|\n",
            "|2L30O7G8IQ6HILpR0...|part of a social ...|    5|   0|     0|    0| 2010-01-24|     review|qiwajZigq_2twTmYo...|ST8Yzlk2MqKlcaLqL...|\n",
            "|4x5yLG7_yGLuN-w6f...|I love every plac...|    4|   0|     1|    0| 2011-01-02|     review|9yKzy9PApeiPPOUJE...|Vk-hJ1i5ZagPM87Kv...|\n",
            "+--------------------+--------------------+-----+----+------+-----+-----------+-----------+--------------------+--------------------+\n",
            "only showing top 5 rows\n",
            "\n"
          ],
          "name": "stdout"
        }
      ]
    },
    {
      "cell_type": "markdown",
      "metadata": {
        "id": "S6k3WVfJM6cE",
        "colab_type": "text"
      },
      "source": [
        "**Transformation**"
      ]
    },
    {
      "cell_type": "code",
      "metadata": {
        "id": "K6_h62s7vUEC",
        "colab_type": "code",
        "colab": {}
      },
      "source": [
        "import pyspark.sql.functions as F\n",
        "\n",
        "spark_df=spark_df.withColumn('length',F.length('review_text'))"
      ],
      "execution_count": null,
      "outputs": []
    },
    {
      "cell_type": "code",
      "metadata": {
        "id": "sIcXTo1KKDDY",
        "colab_type": "code",
        "colab": {
          "base_uri": "https://localhost:8080/",
          "height": 459
        },
        "outputId": "133c60a5-20d6-4a15-a895-8d00791a9367"
      },
      "source": [
        "spark_df=spark_df.withColumn('class',F.when( (spark_df[\"stars\"]>3), 1).otherwise(0))\n",
        "spark_df.show()"
      ],
      "execution_count": null,
      "outputs": [
        {
          "output_type": "stream",
          "text": [
            "+--------------------+--------------------+-----+----+------+-----+-----------+-----------+--------------------+--------------------+------+-----+\n",
            "|           review_id|         review_text|stars|cool|useful|funny|review_date|review_type|         business_id|             user_id|length|class|\n",
            "+--------------------+--------------------+-----+----+------+-----+-----------+-----------+--------------------+--------------------+------+-----+\n",
            "|-7yxrdY13ay15rGB7...|I have been going...|    5|   0|     0|    0| 2010-01-16|     review|Lh9nz0KYyzE-YRbKu...|ayKW9eWwGFcrtJaHc...|   670|    1|\n",
            "|-Be0UUGYuiDJVAM_Y...|Since Im big into...|    4|   0|     2|    2| 2011-01-25|     review|pa6K7DGByxBXxcVJ5...|_4lqpCYCqOQzbB6xQ...|  1348|    1|\n",
            "|-nQHHXi-d_yuW301_...|A pleasant place ...|    2|   0|     0|    0| 2011-01-12|     review|GIGI8bJfN6HyPzmEW...|4QORbyhfN01oKR_Gg...|   813|    0|\n",
            "|2L30O7G8IQ6HILpR0...|part of a social ...|    5|   0|     0|    0| 2010-01-24|     review|qiwajZigq_2twTmYo...|ST8Yzlk2MqKlcaLqL...|   415|    1|\n",
            "|4x5yLG7_yGLuN-w6f...|I love every plac...|    4|   0|     1|    0| 2011-01-02|     review|9yKzy9PApeiPPOUJE...|Vk-hJ1i5ZagPM87Kv...|   302|    1|\n",
            "|5h0EVAee-RDbbKfhd...|A great value for...|    5|   2|     1|    0| 2012-01-21|     review|4VzaYvZntWBRbr8Vm...|feQpvbp8jGBWMuG5u...|   284|    1|\n",
            "|6jV77Bs_Vu_rHkdUx...|This review is fo...|    3|   1|     2|    1| 2011-01-23|     review|kwq3bK7BzPKLwXKqV...|RwVaQNP1Ag-Seu3U9...|  1092|    0|\n",
            "|8tW7Dbqv8RR2NfZJ4...|I would never hav...|    4|   3|     6|    2| 2012-01-19|     review|GbEOmf5k73r_UJWjc...|RAWy3YCE-jwfyuGvw...|  1194|    1|\n",
            "|8uV26l7-ktb4tZ5gR...|The new Harkins C...|    5|   0|     1|    0| 2007-01-23|     review|1pGC-0jvQ6vN5rzmC...|nWouNfZD3Pw08RYiz...|   355|    1|\n",
            "|AfDVtSpM6GvkqS1wJ...|This is one of my...|    5|   0|     0|    0| 2010-01-07|     review|nvaAUTTl7oqiJDhui...|LvAr6xG-A40PGk1qu...|   185|    1|\n",
            "|CdAkiPi_KKLjHo5l2...|OK, I went based ...|    5|   1|     5|    1| 2008-01-11|     review|NB6o73F05lw23zpC7...|AdEy5KAIlMAy8xHyu...|  1712|    1|\n",
            "|EnAdKZ_u_wj9ifTRw...|I highly reccomen...|    5|   0|     1|    0| 2012-01-12|     review|rncjoVoEFUJGCUoC1...|HK35ai8frY75iMYBV...|   308|    1|\n",
            "|FBw_MLyO9eduoDfs-...|I was severely mi...|    1|   3|     5|   20| 2011-01-22|     review|MPsCdY0Bwv2G0JXtw...|lhf22sqBafQv6CXu2...|   203|    0|\n",
            "|HPJHQKDVttoNjsnlC...|Where else can yo...|    5|   1|     1|    0| 2012-01-29|     review|5KG0A3WlC7K3DAXtr...|ZRQdOIIhzrzE6sc3e...|   460|    1|\n",
            "|Hw0IOfTf-SpkByFAG...|My friend who I w...|    4|   0|     1|    0| 2009-01-20|     review|EOCQ5E0lakUyBvUH0...|0Kz7-hBrrtBTdKBpE...|   866|    1|\n",
            "|JSocnq8bLHvbyd3sv...|This place came r...|    2|   0|     0|    0| 2010-01-02|     review|4FS5otEktCyI1aDpg...|j2eM540C7mbF1TZvC...|   669|    0|\n",
            "|MEdGp-pkf6DAxAsgU...|Awesome food and ...|    5|   0|     0|    0| 2012-01-15|     review|I4bSn5gXsHuSPu7L-...|JfezQ-BqHOE7pnW2D...|    25|    1|\n",
            "|PINoAXjJQpl3yobdD...|Today I went in f...|    3|   0|     0|    0| 2011-01-16|     review|v6zRA0WqOODJjmpvs...|Iycf9KNRhxvR187Qu...|   342|    0|\n",
            "|Q5tzwCvyTZBn6_5N1...|The novelty of th...|    3|   4|     4|    4| 2009-01-24|     review|Zg-C1aYcoR2L5OIrA...|DPMUGzrjTwX5uJtrm...|  1157|    0|\n",
            "|S7fxRPce-j6RbEGRv...|Although the boba...|    4|   0|     1|    0| 2009-01-01|     review|f9eFteZuBoZqzYg5U...|7KINmvqlh8H3r5M93...|   222|    1|\n",
            "+--------------------+--------------------+-----+----+------+-----+-----------+-----------+--------------------+--------------------+------+-----+\n",
            "only showing top 20 rows\n",
            "\n"
          ],
          "name": "stdout"
        }
      ]
    },
    {
      "cell_type": "markdown",
      "metadata": {
        "id": "edBuycdkn10s",
        "colab_type": "text"
      },
      "source": [
        "<br></br>**Pipeline**<br></br>"
      ]
    },
    {
      "cell_type": "code",
      "metadata": {
        "id": "0x0XmXV9VBTs",
        "colab_type": "code",
        "colab": {}
      },
      "source": [
        "# Import functions\n",
        "from pyspark.ml.feature import Tokenizer, StopWordsRemover, HashingTF, IDF, StringIndexer"
      ],
      "execution_count": null,
      "outputs": []
    },
    {
      "cell_type": "code",
      "metadata": {
        "id": "dsIhoHGLh5OK",
        "colab_type": "code",
        "colab": {}
      },
      "source": [
        "# Make stars values a list\n",
        "from pyspark.sql.functions import col, split\n",
        "spark_df = spark_df.withColumn(\"star_array\", split(col(\"stars\"), \" \"))\n",
        "spark_df.show()"
      ],
      "execution_count": null,
      "outputs": []
    },
    {
      "cell_type": "code",
      "metadata": {
        "id": "DdpCEiGLf1Nu",
        "colab_type": "code",
        "colab": {}
      },
      "source": [
        "# Initialize a CoutVectorizer\n",
        "from pyspark.ml.feature import CountVectorizer\n",
        "star_vectorizer = CountVectorizer(inputCol=\"star_array\", outputCol=\"stars_one_hot\", vocabSize=5, minDF=1.0)"
      ],
      "execution_count": null,
      "outputs": []
    },
    {
      "cell_type": "code",
      "metadata": {
        "id": "QHSxkv0LhLSf",
        "colab_type": "code",
        "colab": {}
      },
      "source": [
        "# Create a vector model\n",
        "star_vector_model = star_vectorizer.fit(spark_df)"
      ],
      "execution_count": null,
      "outputs": []
    },
    {
      "cell_type": "code",
      "metadata": {
        "id": "6PIyUjlWiwg8",
        "colab_type": "code",
        "colab": {
          "base_uri": "https://localhost:8080/",
          "height": 190
        },
        "outputId": "bd91e9fc-52fc-4b7e-ea33-ac433a817399"
      },
      "source": [
        "# One hot encoded column\n",
        "df_ohe = star_vector_model.transform(spark_df)\n",
        "df_ohe.show(3)"
      ],
      "execution_count": null,
      "outputs": [
        {
          "output_type": "stream",
          "text": [
            "+--------------------+--------------------+-----+----+------+-----+-----------+-----------+--------------------+--------------------+------+-----+----------+-------------+\n",
            "|           review_id|         review_text|stars|cool|useful|funny|review_date|review_type|         business_id|             user_id|length|class|star_array|stars_one_hot|\n",
            "+--------------------+--------------------+-----+----+------+-----+-----------+-----------+--------------------+--------------------+------+-----+----------+-------------+\n",
            "|-7yxrdY13ay15rGB7...|I have been going...|    5|   0|     0|    0| 2010-01-16|     review|Lh9nz0KYyzE-YRbKu...|ayKW9eWwGFcrtJaHc...|   670|    1|       [5]|(5,[1],[1.0])|\n",
            "|-Be0UUGYuiDJVAM_Y...|Since Im big into...|    4|   0|     2|    2| 2011-01-25|     review|pa6K7DGByxBXxcVJ5...|_4lqpCYCqOQzbB6xQ...|  1348|    1|       [4]|(5,[0],[1.0])|\n",
            "|-nQHHXi-d_yuW301_...|A pleasant place ...|    2|   0|     0|    0| 2011-01-12|     review|GIGI8bJfN6HyPzmEW...|4QORbyhfN01oKR_Gg...|   813|    0|       [2]|(5,[3],[1.0])|\n",
            "+--------------------+--------------------+-----+----+------+-----+-----------+-----------+--------------------+--------------------+------+-----+----------+-------------+\n",
            "only showing top 3 rows\n",
            "\n"
          ],
          "name": "stdout"
        }
      ]
    },
    {
      "cell_type": "code",
      "metadata": {
        "id": "6VorHUGE_vta",
        "colab_type": "code",
        "colab": {}
      },
      "source": [
        "# Create all the features to the data set\n",
        "#star_rating = StringIndexer(inputCol='stars_one_hot',outputCol='label')\n",
        "tokenizer = Tokenizer(inputCol=\"review_text\", outputCol=\"token_text\")\n",
        "stopremove = StopWordsRemover(inputCol='token_text',outputCol='stop_tokens')\n",
        "hashingTF = HashingTF(inputCol=\"stop_tokens\", outputCol='hash_token')\n",
        "idf = IDF(inputCol='hash_token', outputCol='idf_token')"
      ],
      "execution_count": null,
      "outputs": []
    },
    {
      "cell_type": "code",
      "metadata": {
        "id": "-05EYS6Bold9",
        "colab_type": "code",
        "colab": {}
      },
      "source": [
        "from pyspark.ml.feature import VectorAssembler\n",
        "from pyspark.ml.linalg import Vector\n",
        "# Create feature vector \n",
        "clean_up = VectorAssembler(inputCols=['idf_token', 'length'], outputCol='features')"
      ],
      "execution_count": null,
      "outputs": []
    },
    {
      "cell_type": "code",
      "metadata": {
        "id": "hrqh24KqlJDd",
        "colab_type": "code",
        "colab": {}
      },
      "source": [
        "# Create and run a data processing Pipeline\n",
        "from pyspark.ml import Pipeline\n",
        "data_prep_pipeline = Pipeline(stages=[tokenizer, stopremove, hashingTF, idf, clean_up])"
      ],
      "execution_count": null,
      "outputs": []
    },
    {
      "cell_type": "code",
      "metadata": {
        "id": "EZ_67nv5lKOD",
        "colab_type": "code",
        "colab": {}
      },
      "source": [
        "# Fit and transform the pipeline\n",
        "cleaner = data_prep_pipeline.fit(df_ohe)\n",
        "cleaned = cleaner.transform(df_ohe)"
      ],
      "execution_count": null,
      "outputs": []
    },
    {
      "cell_type": "code",
      "metadata": {
        "id": "bAA1wOtxYnr8",
        "colab_type": "code",
        "colab": {},
        "cellView": "form"
      },
      "source": [
        "#@title\n",
        "cleaned.show()"
      ],
      "execution_count": null,
      "outputs": []
    },
    {
      "cell_type": "code",
      "metadata": {
        "id": "lg-HKC5rqA4O",
        "colab_type": "code",
        "colab": {
          "base_uri": "https://localhost:8080/",
          "height": 479
        },
        "outputId": "342c46ca-a7ec-4ae8-c887-95b2239cae0a"
      },
      "source": [
        "cleaned.show()"
      ],
      "execution_count": null,
      "outputs": [
        {
          "output_type": "stream",
          "text": [
            "+--------------------+--------------------+-----+----+------+-----+-----------+-----------+--------------------+--------------------+------+-----+----------+-------------+--------------------+--------------------+--------------------+--------------------+--------------------+\n",
            "|           review_id|         review_text|stars|cool|useful|funny|review_date|review_type|         business_id|             user_id|length|class|star_array|stars_one_hot|          token_text|         stop_tokens|          hash_token|           idf_token|            features|\n",
            "+--------------------+--------------------+-----+----+------+-----+-----------+-----------+--------------------+--------------------+------+-----+----------+-------------+--------------------+--------------------+--------------------+--------------------+--------------------+\n",
            "|-7yxrdY13ay15rGB7...|I have been going...|    5|   0|     0|    0| 2010-01-16|     review|Lh9nz0KYyzE-YRbKu...|ayKW9eWwGFcrtJaHc...|   670|    1|       [5]|(5,[1],[1.0])|[i, have, been, g...|[going, arizona, ...|(262144,[9521,133...|(262144,[9521,133...|(262145,[9521,133...|\n",
            "|-Be0UUGYuiDJVAM_Y...|Since Im big into...|    4|   0|     2|    2| 2011-01-25|     review|pa6K7DGByxBXxcVJ5...|_4lqpCYCqOQzbB6xQ...|  1348|    1|       [4]|(5,[0],[1.0])|[since, im, big, ...|[since, im, big, ...|(262144,[78,3188,...|(262144,[78,3188,...|(262145,[78,3188,...|\n",
            "|-nQHHXi-d_yuW301_...|A pleasant place ...|    2|   0|     0|    0| 2011-01-12|     review|GIGI8bJfN6HyPzmEW...|4QORbyhfN01oKR_Gg...|   813|    0|       [2]|(5,[3],[1.0])|[a, pleasant, pla...|[pleasant, place,...|(262144,[1846,410...|(262144,[1846,410...|(262145,[1846,410...|\n",
            "|2L30O7G8IQ6HILpR0...|part of a social ...|    5|   0|     0|    0| 2010-01-24|     review|qiwajZigq_2twTmYo...|ST8Yzlk2MqKlcaLqL...|   415|    1|       [5]|(5,[1],[1.0])|[part, of, a, soc...|[part, social, ev...|(262144,[8804,198...|(262144,[8804,198...|(262145,[8804,198...|\n",
            "|4x5yLG7_yGLuN-w6f...|I love every plac...|    4|   0|     1|    0| 2011-01-02|     review|9yKzy9PApeiPPOUJE...|Vk-hJ1i5ZagPM87Kv...|   302|    1|       [4]|(5,[0],[1.0])|[i, love, every, ...|[love, every, pla...|(262144,[17141,24...|(262144,[17141,24...|(262145,[17141,24...|\n",
            "|5h0EVAee-RDbbKfhd...|A great value for...|    5|   2|     1|    0| 2012-01-21|     review|4VzaYvZntWBRbr8Vm...|feQpvbp8jGBWMuG5u...|   284|    1|       [5]|(5,[1],[1.0])|[a, great, value,...|[great, value, fa...|(262144,[30006,30...|(262144,[30006,30...|(262145,[30006,30...|\n",
            "|6jV77Bs_Vu_rHkdUx...|This review is fo...|    3|   1|     2|    1| 2011-01-23|     review|kwq3bK7BzPKLwXKqV...|RwVaQNP1Ag-Seu3U9...|  1092|    0|       [3]|(5,[2],[1.0])|[this, review, is...|[review, jcpenny,...|(262144,[3921,517...|(262144,[3921,517...|(262145,[3921,517...|\n",
            "|8tW7Dbqv8RR2NfZJ4...|I would never hav...|    4|   3|     6|    2| 2012-01-19|     review|GbEOmf5k73r_UJWjc...|RAWy3YCE-jwfyuGvw...|  1194|    1|       [4]|(5,[0],[1.0])|[i, would, never,...|[never, stopped, ...|(262144,[2325,243...|(262144,[2325,243...|(262145,[2325,243...|\n",
            "|8uV26l7-ktb4tZ5gR...|The new Harkins C...|    5|   0|     1|    0| 2007-01-23|     review|1pGC-0jvQ6vN5rzmC...|nWouNfZD3Pw08RYiz...|   355|    1|       [5]|(5,[1],[1.0])|[the, new, harkin...|[new, harkins, ci...|(262144,[18320,21...|(262144,[18320,21...|(262145,[18320,21...|\n",
            "|AfDVtSpM6GvkqS1wJ...|This is one of my...|    5|   0|     0|    0| 2010-01-07|     review|nvaAUTTl7oqiJDhui...|LvAr6xG-A40PGk1qu...|   185|    1|       [5]|(5,[1],[1.0])|[this, is, one, o...|[one, favorite, b...|(262144,[22622,38...|(262144,[22622,38...|(262145,[22622,38...|\n",
            "|CdAkiPi_KKLjHo5l2...|OK, I went based ...|    5|   1|     5|    1| 2008-01-11|     review|NB6o73F05lw23zpC7...|AdEy5KAIlMAy8xHyu...|  1712|    1|       [5]|(5,[1],[1.0])|[ok,, i, went, ba...|[ok,, went, based...|(262144,[14,329,1...|(262144,[14,329,1...|(262145,[14,329,1...|\n",
            "|EnAdKZ_u_wj9ifTRw...|I highly reccomen...|    5|   0|     1|    0| 2012-01-12|     review|rncjoVoEFUJGCUoC1...|HK35ai8frY75iMYBV...|   308|    1|       [5]|(5,[1],[1.0])|[i, highly, recco...|[highly, reccomen...|(262144,[9988,171...|(262144,[9988,171...|(262145,[9988,171...|\n",
            "|FBw_MLyO9eduoDfs-...|I was severely mi...|    1|   3|     5|   20| 2011-01-22|     review|MPsCdY0Bwv2G0JXtw...|lhf22sqBafQv6CXu2...|   203|    0|       [1]|(5,[4],[1.0])|[i, was, severely...|[severely, mislea...|(262144,[133,2401...|(262144,[133,2401...|(262145,[133,2401...|\n",
            "|HPJHQKDVttoNjsnlC...|Where else can yo...|    5|   1|     1|    0| 2012-01-29|     review|5KG0A3WlC7K3DAXtr...|ZRQdOIIhzrzE6sc3e...|   460|    1|       [5]|(5,[1],[1.0])|[where, else, can...|[else, go, chandl...|(262144,[20719,32...|(262144,[20719,32...|(262145,[20719,32...|\n",
            "|Hw0IOfTf-SpkByFAG...|My friend who I w...|    4|   0|     1|    0| 2009-01-20|     review|EOCQ5E0lakUyBvUH0...|0Kz7-hBrrtBTdKBpE...|   866|    1|       [4]|(5,[0],[1.0])|[my, friend, who,...|[friend, visiting...|(262144,[14,4622,...|(262144,[14,4622,...|(262145,[14,4622,...|\n",
            "|JSocnq8bLHvbyd3sv...|This place came r...|    2|   0|     0|    0| 2010-01-02|     review|4FS5otEktCyI1aDpg...|j2eM540C7mbF1TZvC...|   669|    0|       [2]|(5,[3],[1.0])|[this, place, cam...|[place, came, rec...|(262144,[9287,156...|(262144,[9287,156...|(262145,[9287,156...|\n",
            "|MEdGp-pkf6DAxAsgU...|Awesome food and ...|    5|   0|     0|    0| 2012-01-15|     review|I4bSn5gXsHuSPu7L-...|JfezQ-BqHOE7pnW2D...|    25|    1|       [5]|(5,[1],[1.0])|[awesome, food, a...|[awesome, food, s...|(262144,[82495,11...|(262144,[82495,11...|(262145,[82495,11...|\n",
            "|PINoAXjJQpl3yobdD...|Today I went in f...|    3|   0|     0|    0| 2011-01-16|     review|v6zRA0WqOODJjmpvs...|Iycf9KNRhxvR187Qu...|   342|    0|       [3]|(5,[2],[1.0])|[today, i, went, ...|[today, went, lun...|(262144,[13957,27...|(262144,[13957,27...|(262145,[13957,27...|\n",
            "|Q5tzwCvyTZBn6_5N1...|The novelty of th...|    3|   4|     4|    4| 2009-01-24|     review|Zg-C1aYcoR2L5OIrA...|DPMUGzrjTwX5uJtrm...|  1157|    0|       [3]|(5,[2],[1.0])|[the, novelty, of...|[novelty, place, ...|(262144,[2640,530...|(262144,[2640,530...|(262145,[2640,530...|\n",
            "|S7fxRPce-j6RbEGRv...|Although the boba...|    4|   0|     1|    0| 2009-01-01|     review|f9eFteZuBoZqzYg5U...|7KINmvqlh8H3r5M93...|   222|    1|       [4]|(5,[0],[1.0])|[although, the, b...|[although, boba, ...|(262144,[14,13677...|(262144,[14,13677...|(262145,[14,13677...|\n",
            "+--------------------+--------------------+-----+----+------+-----+-----------+-----------+--------------------+--------------------+------+-----+----------+-------------+--------------------+--------------------+--------------------+--------------------+--------------------+\n",
            "only showing top 20 rows\n",
            "\n"
          ],
          "name": "stdout"
        }
      ]
    },
    {
      "cell_type": "code",
      "metadata": {
        "id": "8f_yjR0QRVuO",
        "colab_type": "code",
        "colab": {}
      },
      "source": [
        "#Drop intermediate columns\n",
        "x=cleaned.select('features','stars_one_hot','stars')"
      ],
      "execution_count": null,
      "outputs": []
    },
    {
      "cell_type": "code",
      "metadata": {
        "id": "MiiHRYAxlKHk",
        "colab_type": "code",
        "colab": {}
      },
      "source": [
        "# Break data down into a training set and a testing set\n",
        "#training, testing = x.randomSplit([0.7, 0.3], 21)"
      ],
      "execution_count": null,
      "outputs": []
    },
    {
      "cell_type": "code",
      "metadata": {
        "id": "cz3PPKQDegMg",
        "colab_type": "code",
        "colab": {}
      },
      "source": [
        "#training.show()"
      ],
      "execution_count": null,
      "outputs": []
    },
    {
      "cell_type": "code",
      "metadata": {
        "id": "S8QrfnccAW8c",
        "colab_type": "code",
        "colab": {}
      },
      "source": [
        "# Authenticate user\n",
        "from google.colab import auth\n",
        "auth.authenticate_user()"
      ],
      "execution_count": null,
      "outputs": []
    },
    {
      "cell_type": "code",
      "metadata": {
        "id": "kbXgRphaAnNQ",
        "colab_type": "code",
        "colab": {}
      },
      "source": [
        "# Set project id\n",
        "project_id = 'xy-yelp'"
      ],
      "execution_count": null,
      "outputs": []
    },
    {
      "cell_type": "code",
      "metadata": {
        "id": "3gZLSWomAd5m",
        "colab_type": "code",
        "colab": {
          "base_uri": "https://localhost:8080/",
          "height": 34
        },
        "outputId": "117ad239-4e5f-4752-eded-97e491cf3469"
      },
      "source": [
        "# Set project\n",
        "!gcloud config set project {project_id}"
      ],
      "execution_count": null,
      "outputs": [
        {
          "output_type": "stream",
          "text": [
            "Updated property [core/project].\n"
          ],
          "name": "stdout"
        }
      ]
    },
    {
      "cell_type": "code",
      "metadata": {
        "id": "n7k0dj-vBVN7",
        "colab_type": "code",
        "colab": {}
      },
      "source": [
        "# File path to save json file to\n",
        "filepath = '/tmp/ml_j.json'"
      ],
      "execution_count": null,
      "outputs": []
    },
    {
      "cell_type": "code",
      "metadata": {
        "id": "CSlyIBEoAjcQ",
        "colab_type": "code",
        "colab": {}
      },
      "source": [
        "# Save json file **** this will break if the file already exists, which it does at this point, therefore its commented out for now\n",
        "#x.coalesce(1).write.format('json').save(filepath)"
      ],
      "execution_count": null,
      "outputs": []
    },
    {
      "cell_type": "code",
      "metadata": {
        "id": "Ytv4w7eEEs_s",
        "colab_type": "code",
        "colab": {}
      },
      "source": [
        "# Bucket name\n",
        "bucket_name = 'xy-bucket'"
      ],
      "execution_count": null,
      "outputs": []
    },
    {
      "cell_type": "code",
      "metadata": {
        "id": "qb1-ZDoaDrGa",
        "colab_type": "code",
        "colab": {
          "base_uri": "https://localhost:8080/",
          "height": 119
        },
        "outputId": "0bb2643d-939e-46e1-a01e-ca9144893405"
      },
      "source": [
        "# Copy saved file from /tmp to bucket\n",
        "#!gsutil cp -r /tmp/ml_j.json/ gs://{bucket_name}/json_files/"
      ],
      "execution_count": null,
      "outputs": [
        {
          "output_type": "stream",
          "text": [
            "Copying file:///tmp/ml_j.json/_SUCCESS [Content-Type=application/octet-stream]...\n",
            "Copying file:///tmp/ml_j.json/.part-00000-92b085ac-0a90-49de-85dd-2f1b433007ee-c000.json.crc [Content-Type=application/octet-stream]...\n",
            "Copying file:///tmp/ml_j.json/._SUCCESS.crc [Content-Type=application/octet-stream]...\n",
            "Copying file:///tmp/ml_j.json/part-00000-92b085ac-0a90-49de-85dd-2f1b433007ee-c000.json [Content-Type=application/json]...\n",
            "- [4 files][ 16.1 MiB/ 16.1 MiB]                                                \n",
            "Operation completed over 4 objects/16.1 MiB.                                     \n"
          ],
          "name": "stdout"
        }
      ]
    },
    {
      "cell_type": "code",
      "metadata": {
        "id": "kaiyscxjFjpD",
        "colab_type": "code",
        "colab": {
          "base_uri": "https://localhost:8080/",
          "height": 68
        },
        "outputId": "727197aa-66ee-43bb-a8cc-5d62bbf6112c"
      },
      "source": [
        "# Get file which was saved to bucket **** file saves as multiple files so this should be addressed in the future, for now the 11mb file should be fine\n",
        "!gsutil cp -r gs://xy-bucket/json_files/ml_j.json/part-00000-92b085ac-0a90-49de-85dd-2f1b433007ee-c000.json /tmp/machine_json.json"
      ],
      "execution_count": null,
      "outputs": [
        {
          "output_type": "stream",
          "text": [
            "Copying gs://xy-bucket/json_files/ml_j.json/part-00000-92b085ac-0a90-49de-85dd-2f1b433007ee-c000.json...\n",
            "/ [1 files][ 16.0 MiB/ 16.0 MiB]                                                \n",
            "Operation completed over 1 objects/16.0 MiB.                                     \n"
          ],
          "name": "stdout"
        }
      ]
    },
    {
      "cell_type": "code",
      "metadata": {
        "id": "KFoKcs__Hgfb",
        "colab_type": "code",
        "colab": {}
      },
      "source": [
        "# Set filepath to tmp folder where bucket file was saved **** this could actually be done without saving to the bucket, this is just done to make sure we can \n",
        "# save to and read from bucket if we need to\n",
        "filepath = '/tmp/machine_json.json'"
      ],
      "execution_count": null,
      "outputs": []
    },
    {
      "cell_type": "code",
      "metadata": {
        "id": "JrvGhm-NAjaC",
        "colab_type": "code",
        "colab": {}
      },
      "source": [
        "# Import pandas and read json file into DataFrame\n",
        "import pandas as pd\n",
        "hope_this_works = pd.read_json(filepath, lines=True)"
      ],
      "execution_count": null,
      "outputs": []
    },
    {
      "cell_type": "code",
      "metadata": {
        "id": "KaZNjAKW-toJ",
        "colab_type": "code",
        "colab": {
          "base_uri": "https://localhost:8080/",
          "height": 204
        },
        "outputId": "948fbba4-9ab4-4ebe-bc61-e73b1b0a8a04"
      },
      "source": [
        "# Show dataframe\n",
        "hope_this_works.head()"
      ],
      "execution_count": null,
      "outputs": [
        {
          "output_type": "execute_result",
          "data": {
            "text/html": [
              "<div>\n",
              "<style scoped>\n",
              "    .dataframe tbody tr th:only-of-type {\n",
              "        vertical-align: middle;\n",
              "    }\n",
              "\n",
              "    .dataframe tbody tr th {\n",
              "        vertical-align: top;\n",
              "    }\n",
              "\n",
              "    .dataframe thead th {\n",
              "        text-align: right;\n",
              "    }\n",
              "</style>\n",
              "<table border=\"1\" class=\"dataframe\">\n",
              "  <thead>\n",
              "    <tr style=\"text-align: right;\">\n",
              "      <th></th>\n",
              "      <th>features</th>\n",
              "      <th>stars_one_hot</th>\n",
              "      <th>stars</th>\n",
              "    </tr>\n",
              "  </thead>\n",
              "  <tbody>\n",
              "    <tr>\n",
              "      <th>0</th>\n",
              "      <td>{'type': 0, 'size': 262145, 'indices': [9521, ...</td>\n",
              "      <td>{'type': 0, 'size': 5, 'indices': [1], 'values...</td>\n",
              "      <td>5</td>\n",
              "    </tr>\n",
              "    <tr>\n",
              "      <th>1</th>\n",
              "      <td>{'type': 0, 'size': 262145, 'indices': [78, 31...</td>\n",
              "      <td>{'type': 0, 'size': 5, 'indices': [0], 'values...</td>\n",
              "      <td>4</td>\n",
              "    </tr>\n",
              "    <tr>\n",
              "      <th>2</th>\n",
              "      <td>{'type': 0, 'size': 262145, 'indices': [1846, ...</td>\n",
              "      <td>{'type': 0, 'size': 5, 'indices': [3], 'values...</td>\n",
              "      <td>2</td>\n",
              "    </tr>\n",
              "    <tr>\n",
              "      <th>3</th>\n",
              "      <td>{'type': 0, 'size': 262145, 'indices': [8804, ...</td>\n",
              "      <td>{'type': 0, 'size': 5, 'indices': [1], 'values...</td>\n",
              "      <td>5</td>\n",
              "    </tr>\n",
              "    <tr>\n",
              "      <th>4</th>\n",
              "      <td>{'type': 0, 'size': 262145, 'indices': [17141,...</td>\n",
              "      <td>{'type': 0, 'size': 5, 'indices': [0], 'values...</td>\n",
              "      <td>4</td>\n",
              "    </tr>\n",
              "  </tbody>\n",
              "</table>\n",
              "</div>"
            ],
            "text/plain": [
              "                                            features  ... stars\n",
              "0  {'type': 0, 'size': 262145, 'indices': [9521, ...  ...     5\n",
              "1  {'type': 0, 'size': 262145, 'indices': [78, 31...  ...     4\n",
              "2  {'type': 0, 'size': 262145, 'indices': [1846, ...  ...     2\n",
              "3  {'type': 0, 'size': 262145, 'indices': [8804, ...  ...     5\n",
              "4  {'type': 0, 'size': 262145, 'indices': [17141,...  ...     4\n",
              "\n",
              "[5 rows x 3 columns]"
            ]
          },
          "metadata": {
            "tags": []
          },
          "execution_count": 11
        }
      ]
    },
    {
      "cell_type": "code",
      "metadata": {
        "id": "-4HgFwYYIivj",
        "colab_type": "code",
        "colab": {
          "base_uri": "https://localhost:8080/",
          "height": 54
        },
        "outputId": "29e51b9c-2781-439d-fd3e-4557b1f0ab03"
      },
      "source": [
        "# View full contents of cell to understand how json data was read into DataFrame\n",
        "thing = hope_this_works.iat[0,0]\n",
        "print(thing)"
      ],
      "execution_count": null,
      "outputs": [
        {
          "output_type": "stream",
          "text": [
            "{'type': 0, 'size': 262145, 'indices': [9521, 13381, 24113, 34146, 47205, 48870, 52657, 55639, 69793, 72944, 74473, 78329, 79660, 80245, 82321, 82582, 87910, 89717, 95454, 95502, 101376, 107367, 109230, 113458, 113462, 115157, 117481, 118144, 120391, 125372, 128924, 130707, 132270, 132538, 134691, 137431, 138356, 141407, 154186, 157120, 168385, 181758, 184251, 188828, 192137, 195155, 208258, 216432, 218117, 221790, 222394, 229772, 232685, 235700, 236821, 240976, 245044, 262144], 'values': [13.146379889022644, 4.547001272864449, 1.6436118877681851, 12.331835858506187, 10.720585530532915, 4.213228093212401, 6.90785527398247, 2.310717259691643, 8.111828078308406, 7.824146005856625, 3.139702638974026, 2.464028238403142, 7.418680897748461, 4.625472888305944, 4.213228093212401, 13.004780331748613, 6.725533717188516, 2.067612965814895, 8.517293186416572, 8.517293186416572, 3.973998404146567, 2.415853786100017, 10.014967732503301, 2.852598100468416, 5.083305981931424, 3.5302677579594492, 3.249435027353243, 8.517293186416572, 6.502390165874306, 1.326994012838776, 6.3772270229203, 3.958166938929886, 1.666108258922828, 3.912123000428479, 8.517293186416572, 5.878235856801312, 1.23556346641764, 2.048818364037328, 5.496868300272208, 8.517293186416572, 7.013215789640297, 4.0456543930530025, 4.933774247960461, 6.214708093422525, 4.712171729442988, 6.165917929253093, 1.163250804806014, 5.843144536990042, 5.221456320412241, 4.193160530161592, 3.051344978484583, 4.051385067761987, 2.129572470285734, 5.259196648395089, 3.790443954447083, 4.290459441148391, 2.4500256758930883, 670.0]}\n"
          ],
          "name": "stdout"
        }
      ]
    },
    {
      "cell_type": "code",
      "metadata": {
        "id": "YWnbpdzrOCMW",
        "colab_type": "code",
        "colab": {}
      },
      "source": [
        "# Separate dictionary values keys into columns keeping the values and column values\n",
        "features_series = hope_this_works.features.apply(pd.Series)"
      ],
      "execution_count": null,
      "outputs": []
    },
    {
      "cell_type": "code",
      "metadata": {
        "id": "5wT_C6QbOa3P",
        "colab_type": "code",
        "colab": {}
      },
      "source": [
        "# Drop type as it was an extra json value added during conversion\n",
        "features_series = features_series.drop('type', axis=1)"
      ],
      "execution_count": null,
      "outputs": []
    },
    {
      "cell_type": "code",
      "metadata": {
        "id": "qsgOXGLbP6nX",
        "colab_type": "code",
        "colab": {
          "base_uri": "https://localhost:8080/",
          "height": 142
        },
        "outputId": "69bacbc2-2ec3-46ea-8263-bd6d44def3a5"
      },
      "source": [
        "# Check DataFrame structure\n",
        "features_series.head(3)"
      ],
      "execution_count": null,
      "outputs": [
        {
          "output_type": "execute_result",
          "data": {
            "text/html": [
              "<div>\n",
              "<style scoped>\n",
              "    .dataframe tbody tr th:only-of-type {\n",
              "        vertical-align: middle;\n",
              "    }\n",
              "\n",
              "    .dataframe tbody tr th {\n",
              "        vertical-align: top;\n",
              "    }\n",
              "\n",
              "    .dataframe thead th {\n",
              "        text-align: right;\n",
              "    }\n",
              "</style>\n",
              "<table border=\"1\" class=\"dataframe\">\n",
              "  <thead>\n",
              "    <tr style=\"text-align: right;\">\n",
              "      <th></th>\n",
              "      <th>size</th>\n",
              "      <th>indices</th>\n",
              "      <th>values</th>\n",
              "    </tr>\n",
              "  </thead>\n",
              "  <tbody>\n",
              "    <tr>\n",
              "      <th>0</th>\n",
              "      <td>262145</td>\n",
              "      <td>[9521, 13381, 24113, 34146, 47205, 48870, 5265...</td>\n",
              "      <td>[13.146379889022644, 4.547001272864449, 1.6436...</td>\n",
              "    </tr>\n",
              "    <tr>\n",
              "      <th>1</th>\n",
              "      <td>262145</td>\n",
              "      <td>[78, 3188, 4200, 4821, 5381, 5947, 8391, 8527,...</td>\n",
              "      <td>[3.9846936932633152, 8.111828078308406, 2.9151...</td>\n",
              "    </tr>\n",
              "    <tr>\n",
              "      <th>2</th>\n",
              "      <td>262145</td>\n",
              "      <td>[1846, 4106, 7917, 8287, 8630, 8769, 13677, 15...</td>\n",
              "      <td>[11.89024888444809, 6.812545094178145, 4.77962...</td>\n",
              "    </tr>\n",
              "  </tbody>\n",
              "</table>\n",
              "</div>"
            ],
            "text/plain": [
              "     size  ...                                             values\n",
              "0  262145  ...  [13.146379889022644, 4.547001272864449, 1.6436...\n",
              "1  262145  ...  [3.9846936932633152, 8.111828078308406, 2.9151...\n",
              "2  262145  ...  [11.89024888444809, 6.812545094178145, 4.77962...\n",
              "\n",
              "[3 rows x 3 columns]"
            ]
          },
          "metadata": {
            "tags": []
          },
          "execution_count": 15
        }
      ]
    },
    {
      "cell_type": "code",
      "metadata": {
        "id": "JQG3jNh5SEbC",
        "colab_type": "code",
        "colab": {}
      },
      "source": [
        "# Initialize target dataframe\n",
        "new_df = features_series.copy()"
      ],
      "execution_count": null,
      "outputs": []
    },
    {
      "cell_type": "code",
      "metadata": {
        "id": "X3gQLIfFQpL-",
        "colab_type": "code",
        "colab": {}
      },
      "source": [
        "# Combine size, indices, and values into tuple containing mutil-dimensional array to match original format\n",
        "new_df['features'] = list(zip(features_series['indices'], features_series['values']))"
      ],
      "execution_count": null,
      "outputs": []
    },
    {
      "cell_type": "code",
      "metadata": {
        "id": "TFJSp27FlJUl",
        "colab_type": "code",
        "colab": {
          "base_uri": "https://localhost:8080/",
          "height": 204
        },
        "outputId": "a3a3ce4d-10d7-49aa-ee7f-b546c50505ad"
      },
      "source": [
        "# Check it out yo\n",
        "new_df.head()"
      ],
      "execution_count": null,
      "outputs": [
        {
          "output_type": "execute_result",
          "data": {
            "text/html": [
              "<div>\n",
              "<style scoped>\n",
              "    .dataframe tbody tr th:only-of-type {\n",
              "        vertical-align: middle;\n",
              "    }\n",
              "\n",
              "    .dataframe tbody tr th {\n",
              "        vertical-align: top;\n",
              "    }\n",
              "\n",
              "    .dataframe thead th {\n",
              "        text-align: right;\n",
              "    }\n",
              "</style>\n",
              "<table border=\"1\" class=\"dataframe\">\n",
              "  <thead>\n",
              "    <tr style=\"text-align: right;\">\n",
              "      <th></th>\n",
              "      <th>size</th>\n",
              "      <th>indices</th>\n",
              "      <th>values</th>\n",
              "      <th>features</th>\n",
              "    </tr>\n",
              "  </thead>\n",
              "  <tbody>\n",
              "    <tr>\n",
              "      <th>0</th>\n",
              "      <td>262145</td>\n",
              "      <td>[9521, 13381, 24113, 34146, 47205, 48870, 5265...</td>\n",
              "      <td>[13.146379889022644, 4.547001272864449, 1.6436...</td>\n",
              "      <td>([9521, 13381, 24113, 34146, 47205, 48870, 526...</td>\n",
              "    </tr>\n",
              "    <tr>\n",
              "      <th>1</th>\n",
              "      <td>262145</td>\n",
              "      <td>[78, 3188, 4200, 4821, 5381, 5947, 8391, 8527,...</td>\n",
              "      <td>[3.9846936932633152, 8.111828078308406, 2.9151...</td>\n",
              "      <td>([78, 3188, 4200, 4821, 5381, 5947, 8391, 8527...</td>\n",
              "    </tr>\n",
              "    <tr>\n",
              "      <th>2</th>\n",
              "      <td>262145</td>\n",
              "      <td>[1846, 4106, 7917, 8287, 8630, 8769, 13677, 15...</td>\n",
              "      <td>[11.89024888444809, 6.812545094178145, 4.77962...</td>\n",
              "      <td>([1846, 4106, 7917, 8287, 8630, 8769, 13677, 1...</td>\n",
              "    </tr>\n",
              "    <tr>\n",
              "      <th>3</th>\n",
              "      <td>262145</td>\n",
              "      <td>[8804, 19862, 30006, 40337, 46639, 47032, 5099...</td>\n",
              "      <td>[6.593874722676491, 5.036053097080879, 2.57975...</td>\n",
              "      <td>([8804, 19862, 30006, 40337, 46639, 47032, 509...</td>\n",
              "    </tr>\n",
              "    <tr>\n",
              "      <th>4</th>\n",
              "      <td>262145</td>\n",
              "      <td>[17141, 24145, 35715, 48549, 54961, 61231, 755...</td>\n",
              "      <td>[5.259196648395089, 3.550958151216895, 4.47424...</td>\n",
              "      <td>([17141, 24145, 35715, 48549, 54961, 61231, 75...</td>\n",
              "    </tr>\n",
              "  </tbody>\n",
              "</table>\n",
              "</div>"
            ],
            "text/plain": [
              "     size  ...                                           features\n",
              "0  262145  ...  ([9521, 13381, 24113, 34146, 47205, 48870, 526...\n",
              "1  262145  ...  ([78, 3188, 4200, 4821, 5381, 5947, 8391, 8527...\n",
              "2  262145  ...  ([1846, 4106, 7917, 8287, 8630, 8769, 13677, 1...\n",
              "3  262145  ...  ([8804, 19862, 30006, 40337, 46639, 47032, 509...\n",
              "4  262145  ...  ([17141, 24145, 35715, 48549, 54961, 61231, 75...\n",
              "\n",
              "[5 rows x 4 columns]"
            ]
          },
          "metadata": {
            "tags": []
          },
          "execution_count": 18
        }
      ]
    },
    {
      "cell_type": "code",
      "metadata": {
        "id": "HHSy318DSfus",
        "colab_type": "code",
        "colab": {}
      },
      "source": [
        "# Drop redundant columns\n",
        "new_df = new_df.drop(['indices', 'values'], axis=1)"
      ],
      "execution_count": null,
      "outputs": []
    },
    {
      "cell_type": "code",
      "metadata": {
        "id": "7NNrOm0AS2TI",
        "colab_type": "code",
        "colab": {
          "base_uri": "https://localhost:8080/",
          "height": 204
        },
        "outputId": "f4da13e9-8f0d-426e-8654-136f8d18059d"
      },
      "source": [
        "# Inspect DataFrame\n",
        "new_df.head()"
      ],
      "execution_count": null,
      "outputs": [
        {
          "output_type": "execute_result",
          "data": {
            "text/html": [
              "<div>\n",
              "<style scoped>\n",
              "    .dataframe tbody tr th:only-of-type {\n",
              "        vertical-align: middle;\n",
              "    }\n",
              "\n",
              "    .dataframe tbody tr th {\n",
              "        vertical-align: top;\n",
              "    }\n",
              "\n",
              "    .dataframe thead th {\n",
              "        text-align: right;\n",
              "    }\n",
              "</style>\n",
              "<table border=\"1\" class=\"dataframe\">\n",
              "  <thead>\n",
              "    <tr style=\"text-align: right;\">\n",
              "      <th></th>\n",
              "      <th>size</th>\n",
              "      <th>indices</th>\n",
              "      <th>values</th>\n",
              "      <th>features</th>\n",
              "    </tr>\n",
              "  </thead>\n",
              "  <tbody>\n",
              "    <tr>\n",
              "      <th>0</th>\n",
              "      <td>262145</td>\n",
              "      <td>[9521, 13381, 24113, 34146, 47205, 48870, 5265...</td>\n",
              "      <td>[13.146379889022644, 4.547001272864449, 1.6436...</td>\n",
              "      <td>([9521, 13381, 24113, 34146, 47205, 48870, 526...</td>\n",
              "    </tr>\n",
              "    <tr>\n",
              "      <th>1</th>\n",
              "      <td>262145</td>\n",
              "      <td>[78, 3188, 4200, 4821, 5381, 5947, 8391, 8527,...</td>\n",
              "      <td>[3.9846936932633152, 8.111828078308406, 2.9151...</td>\n",
              "      <td>([78, 3188, 4200, 4821, 5381, 5947, 8391, 8527...</td>\n",
              "    </tr>\n",
              "    <tr>\n",
              "      <th>2</th>\n",
              "      <td>262145</td>\n",
              "      <td>[1846, 4106, 7917, 8287, 8630, 8769, 13677, 15...</td>\n",
              "      <td>[11.89024888444809, 6.812545094178145, 4.77962...</td>\n",
              "      <td>([1846, 4106, 7917, 8287, 8630, 8769, 13677, 1...</td>\n",
              "    </tr>\n",
              "    <tr>\n",
              "      <th>3</th>\n",
              "      <td>262145</td>\n",
              "      <td>[8804, 19862, 30006, 40337, 46639, 47032, 5099...</td>\n",
              "      <td>[6.593874722676491, 5.036053097080879, 2.57975...</td>\n",
              "      <td>([8804, 19862, 30006, 40337, 46639, 47032, 509...</td>\n",
              "    </tr>\n",
              "    <tr>\n",
              "      <th>4</th>\n",
              "      <td>262145</td>\n",
              "      <td>[17141, 24145, 35715, 48549, 54961, 61231, 755...</td>\n",
              "      <td>[5.259196648395089, 3.550958151216895, 4.47424...</td>\n",
              "      <td>([17141, 24145, 35715, 48549, 54961, 61231, 75...</td>\n",
              "    </tr>\n",
              "  </tbody>\n",
              "</table>\n",
              "</div>"
            ],
            "text/plain": [
              "     size  ...                                           features\n",
              "0  262145  ...  ([9521, 13381, 24113, 34146, 47205, 48870, 526...\n",
              "1  262145  ...  ([78, 3188, 4200, 4821, 5381, 5947, 8391, 8527...\n",
              "2  262145  ...  ([1846, 4106, 7917, 8287, 8630, 8769, 13677, 1...\n",
              "3  262145  ...  ([8804, 19862, 30006, 40337, 46639, 47032, 509...\n",
              "4  262145  ...  ([17141, 24145, 35715, 48549, 54961, 61231, 75...\n",
              "\n",
              "[5 rows x 4 columns]"
            ]
          },
          "metadata": {
            "tags": []
          },
          "execution_count": 19
        }
      ]
    },
    {
      "cell_type": "code",
      "metadata": {
        "id": "mmHeUMQnTGdu",
        "colab_type": "code",
        "colab": {
          "base_uri": "https://localhost:8080/",
          "height": 204
        },
        "outputId": "7ac83646-1997-4a87-d95d-5cadb30195f6"
      },
      "source": [
        "# Start converting label data, again unzipping dictionary keys to columns and values as rows\n",
        "labels_series = hope_this_works.stars_one_hot.apply(pd.Series)\n",
        "labels_series.head()"
      ],
      "execution_count": null,
      "outputs": [
        {
          "output_type": "execute_result",
          "data": {
            "text/html": [
              "<div>\n",
              "<style scoped>\n",
              "    .dataframe tbody tr th:only-of-type {\n",
              "        vertical-align: middle;\n",
              "    }\n",
              "\n",
              "    .dataframe tbody tr th {\n",
              "        vertical-align: top;\n",
              "    }\n",
              "\n",
              "    .dataframe thead th {\n",
              "        text-align: right;\n",
              "    }\n",
              "</style>\n",
              "<table border=\"1\" class=\"dataframe\">\n",
              "  <thead>\n",
              "    <tr style=\"text-align: right;\">\n",
              "      <th></th>\n",
              "      <th>type</th>\n",
              "      <th>size</th>\n",
              "      <th>indices</th>\n",
              "      <th>values</th>\n",
              "    </tr>\n",
              "  </thead>\n",
              "  <tbody>\n",
              "    <tr>\n",
              "      <th>0</th>\n",
              "      <td>0</td>\n",
              "      <td>5</td>\n",
              "      <td>[1]</td>\n",
              "      <td>[1.0]</td>\n",
              "    </tr>\n",
              "    <tr>\n",
              "      <th>1</th>\n",
              "      <td>0</td>\n",
              "      <td>5</td>\n",
              "      <td>[0]</td>\n",
              "      <td>[1.0]</td>\n",
              "    </tr>\n",
              "    <tr>\n",
              "      <th>2</th>\n",
              "      <td>0</td>\n",
              "      <td>5</td>\n",
              "      <td>[3]</td>\n",
              "      <td>[1.0]</td>\n",
              "    </tr>\n",
              "    <tr>\n",
              "      <th>3</th>\n",
              "      <td>0</td>\n",
              "      <td>5</td>\n",
              "      <td>[1]</td>\n",
              "      <td>[1.0]</td>\n",
              "    </tr>\n",
              "    <tr>\n",
              "      <th>4</th>\n",
              "      <td>0</td>\n",
              "      <td>5</td>\n",
              "      <td>[0]</td>\n",
              "      <td>[1.0]</td>\n",
              "    </tr>\n",
              "  </tbody>\n",
              "</table>\n",
              "</div>"
            ],
            "text/plain": [
              "   type  size indices values\n",
              "0     0     5     [1]  [1.0]\n",
              "1     0     5     [0]  [1.0]\n",
              "2     0     5     [3]  [1.0]\n",
              "3     0     5     [1]  [1.0]\n",
              "4     0     5     [0]  [1.0]"
            ]
          },
          "metadata": {
            "tags": []
          },
          "execution_count": 20
        }
      ]
    },
    {
      "cell_type": "code",
      "metadata": {
        "id": "zxSQtyqHUDxg",
        "colab_type": "code",
        "colab": {
          "base_uri": "https://localhost:8080/",
          "height": 142
        },
        "outputId": "1516bfda-147c-4f09-b41b-ff584dc4f1fb"
      },
      "source": [
        "# Drope type since its not needed\n",
        "labels_series = labels_series.drop('type', axis=1)\n",
        "labels_series.head(3)"
      ],
      "execution_count": null,
      "outputs": [
        {
          "output_type": "execute_result",
          "data": {
            "text/html": [
              "<div>\n",
              "<style scoped>\n",
              "    .dataframe tbody tr th:only-of-type {\n",
              "        vertical-align: middle;\n",
              "    }\n",
              "\n",
              "    .dataframe tbody tr th {\n",
              "        vertical-align: top;\n",
              "    }\n",
              "\n",
              "    .dataframe thead th {\n",
              "        text-align: right;\n",
              "    }\n",
              "</style>\n",
              "<table border=\"1\" class=\"dataframe\">\n",
              "  <thead>\n",
              "    <tr style=\"text-align: right;\">\n",
              "      <th></th>\n",
              "      <th>size</th>\n",
              "      <th>indices</th>\n",
              "      <th>values</th>\n",
              "    </tr>\n",
              "  </thead>\n",
              "  <tbody>\n",
              "    <tr>\n",
              "      <th>0</th>\n",
              "      <td>5</td>\n",
              "      <td>[1]</td>\n",
              "      <td>[1.0]</td>\n",
              "    </tr>\n",
              "    <tr>\n",
              "      <th>1</th>\n",
              "      <td>5</td>\n",
              "      <td>[0]</td>\n",
              "      <td>[1.0]</td>\n",
              "    </tr>\n",
              "    <tr>\n",
              "      <th>2</th>\n",
              "      <td>5</td>\n",
              "      <td>[3]</td>\n",
              "      <td>[1.0]</td>\n",
              "    </tr>\n",
              "  </tbody>\n",
              "</table>\n",
              "</div>"
            ],
            "text/plain": [
              "   size indices values\n",
              "0     5     [1]  [1.0]\n",
              "1     5     [0]  [1.0]\n",
              "2     5     [3]  [1.0]"
            ]
          },
          "metadata": {
            "tags": []
          },
          "execution_count": 21
        }
      ]
    },
    {
      "cell_type": "code",
      "metadata": {
        "id": "0ps85N2oUv_f",
        "colab_type": "code",
        "colab": {}
      },
      "source": [
        "# Initialize DataFrame\n",
        "newer_df = labels_series.copy()"
      ],
      "execution_count": null,
      "outputs": []
    },
    {
      "cell_type": "code",
      "metadata": {
        "id": "o73gD5BSU2tU",
        "colab_type": "code",
        "colab": {
          "base_uri": "https://localhost:8080/",
          "height": 142
        },
        "outputId": "5d63f13e-337a-4120-ae7c-495f46e3f4ed"
      },
      "source": [
        "# Combine size, indices, and values into tuple containing mutil-dimensional array to match original format\n",
        "newer_df['label_list'] = list(zip(labels_series['size'], labels_series['indices'], labels_series['values']))\n",
        "newer_df.head(3)"
      ],
      "execution_count": null,
      "outputs": [
        {
          "output_type": "execute_result",
          "data": {
            "text/html": [
              "<div>\n",
              "<style scoped>\n",
              "    .dataframe tbody tr th:only-of-type {\n",
              "        vertical-align: middle;\n",
              "    }\n",
              "\n",
              "    .dataframe tbody tr th {\n",
              "        vertical-align: top;\n",
              "    }\n",
              "\n",
              "    .dataframe thead th {\n",
              "        text-align: right;\n",
              "    }\n",
              "</style>\n",
              "<table border=\"1\" class=\"dataframe\">\n",
              "  <thead>\n",
              "    <tr style=\"text-align: right;\">\n",
              "      <th></th>\n",
              "      <th>size</th>\n",
              "      <th>indices</th>\n",
              "      <th>values</th>\n",
              "      <th>label_list</th>\n",
              "    </tr>\n",
              "  </thead>\n",
              "  <tbody>\n",
              "    <tr>\n",
              "      <th>0</th>\n",
              "      <td>5</td>\n",
              "      <td>[1]</td>\n",
              "      <td>[1.0]</td>\n",
              "      <td>(5, [1], [1.0])</td>\n",
              "    </tr>\n",
              "    <tr>\n",
              "      <th>1</th>\n",
              "      <td>5</td>\n",
              "      <td>[0]</td>\n",
              "      <td>[1.0]</td>\n",
              "      <td>(5, [0], [1.0])</td>\n",
              "    </tr>\n",
              "    <tr>\n",
              "      <th>2</th>\n",
              "      <td>5</td>\n",
              "      <td>[3]</td>\n",
              "      <td>[1.0]</td>\n",
              "      <td>(5, [3], [1.0])</td>\n",
              "    </tr>\n",
              "  </tbody>\n",
              "</table>\n",
              "</div>"
            ],
            "text/plain": [
              "   size indices values       label_list\n",
              "0     5     [1]  [1.0]  (5, [1], [1.0])\n",
              "1     5     [0]  [1.0]  (5, [0], [1.0])\n",
              "2     5     [3]  [1.0]  (5, [3], [1.0])"
            ]
          },
          "metadata": {
            "tags": []
          },
          "execution_count": 24
        }
      ]
    },
    {
      "cell_type": "code",
      "metadata": {
        "id": "77RbBNXKVf8E",
        "colab_type": "code",
        "colab": {
          "base_uri": "https://localhost:8080/",
          "height": 142
        },
        "outputId": "a08d250d-f14c-4234-f3f5-60c8c2c7b857"
      },
      "source": [
        "# Drop redundant columns\n",
        "newer_df = newer_df.drop(['size', 'indices', 'values'], axis=1)\n",
        "newer_df.head(3)"
      ],
      "execution_count": null,
      "outputs": [
        {
          "output_type": "execute_result",
          "data": {
            "text/html": [
              "<div>\n",
              "<style scoped>\n",
              "    .dataframe tbody tr th:only-of-type {\n",
              "        vertical-align: middle;\n",
              "    }\n",
              "\n",
              "    .dataframe tbody tr th {\n",
              "        vertical-align: top;\n",
              "    }\n",
              "\n",
              "    .dataframe thead th {\n",
              "        text-align: right;\n",
              "    }\n",
              "</style>\n",
              "<table border=\"1\" class=\"dataframe\">\n",
              "  <thead>\n",
              "    <tr style=\"text-align: right;\">\n",
              "      <th></th>\n",
              "      <th>label_list</th>\n",
              "    </tr>\n",
              "  </thead>\n",
              "  <tbody>\n",
              "    <tr>\n",
              "      <th>0</th>\n",
              "      <td>(5, [1], [1.0])</td>\n",
              "    </tr>\n",
              "    <tr>\n",
              "      <th>1</th>\n",
              "      <td>(5, [0], [1.0])</td>\n",
              "    </tr>\n",
              "    <tr>\n",
              "      <th>2</th>\n",
              "      <td>(5, [3], [1.0])</td>\n",
              "    </tr>\n",
              "  </tbody>\n",
              "</table>\n",
              "</div>"
            ],
            "text/plain": [
              "        label_list\n",
              "0  (5, [1], [1.0])\n",
              "1  (5, [0], [1.0])\n",
              "2  (5, [3], [1.0])"
            ]
          },
          "metadata": {
            "tags": []
          },
          "execution_count": 52
        }
      ]
    },
    {
      "cell_type": "code",
      "metadata": {
        "id": "TB18awK1VzN-",
        "colab_type": "code",
        "colab": {
          "base_uri": "https://localhost:8080/",
          "height": 289
        },
        "outputId": "fb3460ba-fc5a-4bf1-9521-f0c75715b40c"
      },
      "source": [
        "# Combine features and labels to DataFrame to be used in machine learning model\n",
        "machine_df = pd.concat([new_df, newer_df, hope_this_works['stars']], axis=1)\n",
        "machine_df.head()"
      ],
      "execution_count": null,
      "outputs": [
        {
          "output_type": "execute_result",
          "data": {
            "text/html": [
              "<div>\n",
              "<style scoped>\n",
              "    .dataframe tbody tr th:only-of-type {\n",
              "        vertical-align: middle;\n",
              "    }\n",
              "\n",
              "    .dataframe tbody tr th {\n",
              "        vertical-align: top;\n",
              "    }\n",
              "\n",
              "    .dataframe thead th {\n",
              "        text-align: right;\n",
              "    }\n",
              "</style>\n",
              "<table border=\"1\" class=\"dataframe\">\n",
              "  <thead>\n",
              "    <tr style=\"text-align: right;\">\n",
              "      <th></th>\n",
              "      <th>size</th>\n",
              "      <th>indices</th>\n",
              "      <th>values</th>\n",
              "      <th>features</th>\n",
              "      <th>size</th>\n",
              "      <th>indices</th>\n",
              "      <th>values</th>\n",
              "      <th>label_list</th>\n",
              "      <th>stars</th>\n",
              "    </tr>\n",
              "  </thead>\n",
              "  <tbody>\n",
              "    <tr>\n",
              "      <th>0</th>\n",
              "      <td>262145</td>\n",
              "      <td>[9521, 13381, 24113, 34146, 47205, 48870, 5265...</td>\n",
              "      <td>[13.146379889022644, 4.547001272864449, 1.6436...</td>\n",
              "      <td>([9521, 13381, 24113, 34146, 47205, 48870, 526...</td>\n",
              "      <td>5</td>\n",
              "      <td>[1]</td>\n",
              "      <td>[1.0]</td>\n",
              "      <td>(5, [1], [1.0])</td>\n",
              "      <td>5</td>\n",
              "    </tr>\n",
              "    <tr>\n",
              "      <th>1</th>\n",
              "      <td>262145</td>\n",
              "      <td>[78, 3188, 4200, 4821, 5381, 5947, 8391, 8527,...</td>\n",
              "      <td>[3.9846936932633152, 8.111828078308406, 2.9151...</td>\n",
              "      <td>([78, 3188, 4200, 4821, 5381, 5947, 8391, 8527...</td>\n",
              "      <td>5</td>\n",
              "      <td>[0]</td>\n",
              "      <td>[1.0]</td>\n",
              "      <td>(5, [0], [1.0])</td>\n",
              "      <td>4</td>\n",
              "    </tr>\n",
              "    <tr>\n",
              "      <th>2</th>\n",
              "      <td>262145</td>\n",
              "      <td>[1846, 4106, 7917, 8287, 8630, 8769, 13677, 15...</td>\n",
              "      <td>[11.89024888444809, 6.812545094178145, 4.77962...</td>\n",
              "      <td>([1846, 4106, 7917, 8287, 8630, 8769, 13677, 1...</td>\n",
              "      <td>5</td>\n",
              "      <td>[3]</td>\n",
              "      <td>[1.0]</td>\n",
              "      <td>(5, [3], [1.0])</td>\n",
              "      <td>2</td>\n",
              "    </tr>\n",
              "    <tr>\n",
              "      <th>3</th>\n",
              "      <td>262145</td>\n",
              "      <td>[8804, 19862, 30006, 40337, 46639, 47032, 5099...</td>\n",
              "      <td>[6.593874722676491, 5.036053097080879, 2.57975...</td>\n",
              "      <td>([8804, 19862, 30006, 40337, 46639, 47032, 509...</td>\n",
              "      <td>5</td>\n",
              "      <td>[1]</td>\n",
              "      <td>[1.0]</td>\n",
              "      <td>(5, [1], [1.0])</td>\n",
              "      <td>5</td>\n",
              "    </tr>\n",
              "    <tr>\n",
              "      <th>4</th>\n",
              "      <td>262145</td>\n",
              "      <td>[17141, 24145, 35715, 48549, 54961, 61231, 755...</td>\n",
              "      <td>[5.259196648395089, 3.550958151216895, 4.47424...</td>\n",
              "      <td>([17141, 24145, 35715, 48549, 54961, 61231, 75...</td>\n",
              "      <td>5</td>\n",
              "      <td>[0]</td>\n",
              "      <td>[1.0]</td>\n",
              "      <td>(5, [0], [1.0])</td>\n",
              "      <td>4</td>\n",
              "    </tr>\n",
              "  </tbody>\n",
              "</table>\n",
              "</div>"
            ],
            "text/plain": [
              "     size  ... stars\n",
              "0  262145  ...     5\n",
              "1  262145  ...     4\n",
              "2  262145  ...     2\n",
              "3  262145  ...     5\n",
              "4  262145  ...     4\n",
              "\n",
              "[5 rows x 9 columns]"
            ]
          },
          "metadata": {
            "tags": []
          },
          "execution_count": 25
        }
      ]
    },
    {
      "cell_type": "code",
      "metadata": {
        "id": "PYQdH7uivUmj",
        "colab_type": "code",
        "colab": {}
      },
      "source": [
        "import pandas as pd\n",
        "from sklearn.model_selection import train_test_split, cross_val_score\n",
        "from sklearn.metrics import classification_report\n",
        "from sklearn.metrics import confusion_matrix, accuracy_score, roc_auc_score, roc_curve"
      ],
      "execution_count": null,
      "outputs": []
    },
    {
      "cell_type": "code",
      "metadata": {
        "id": "TtaJYaPhbv6D",
        "colab_type": "code",
        "colab": {}
      },
      "source": [
        "x=machine_df['indices']\n",
        "y=machine_df['stars']\n",
        "x_train,x_test,y_train,y_test = train_test_split(x,y,test_size=0.2,random_state=101)"
      ],
      "execution_count": null,
      "outputs": []
    }
  ]
}