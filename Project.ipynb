{
  "nbformat": 4,
  "nbformat_minor": 0,
  "metadata": {
    "colab": {
      "name": "Project.ipynb",
      "provenance": [],
      "collapsed_sections": [],
      "authorship_tag": "ABX9TyM7qjuySQhlVxlLdJCVegHO",
      "include_colab_link": true
    },
    "kernelspec": {
      "name": "python3",
      "display_name": "Python 3"
    }
  },
  "cells": [
    {
      "cell_type": "markdown",
      "metadata": {
        "id": "view-in-github",
        "colab_type": "text"
      },
      "source": [
        "<a href=\"https://colab.research.google.com/github/karenbennis/Xy/blob/Data_ETL/Project.ipynb\" target=\"_parent\"><img src=\"https://colab.research.google.com/assets/colab-badge.svg\" alt=\"Open In Colab\"/></a>"
      ]
    },
    {
      "cell_type": "markdown",
      "metadata": {
        "id": "7x2IxWo3wiqn",
        "colab_type": "text"
      },
      "source": [
        "<br><br>**ETL**<br><br>"
      ]
    },
    {
      "cell_type": "code",
      "metadata": {
        "id": "_nCS6homIgnW",
        "colab_type": "code",
        "colab": {}
      },
      "source": [
        "# Install Java, Spark, and Findspark\n",
        "!apt-get install openjdk-8-jdk-headless -qq > /dev/null\n",
        "!wget -q http://www-us.apache.org/dist/spark/spark-2.4.5/spark-2.4.5-bin-hadoop2.7.tgz\n",
        "!tar xf spark-2.4.5-bin-hadoop2.7.tgz\n",
        "!pip install -q findspark\n",
        "\n",
        "# Set Environment Variables\n",
        "import os\n",
        "os.environ[\"JAVA_HOME\"] = \"/usr/lib/jvm/java-8-openjdk-amd64\"\n",
        "os.environ[\"SPARK_HOME\"] = \"/content/spark-2.4.5-bin-hadoop2.7\"\n",
        "\n",
        "# Start a SparkSession\n",
        "import findspark\n",
        "findspark.init()\n",
        "\n",
        "#Interact with SQL\n",
        "#!wget https://jdbc.postgresql.org/download/postgresql-42.2.9.jar\n",
        "\n",
        "# Start Spark session\n",
        "from pyspark.sql import SparkSession\n",
        "spark = SparkSession.builder.appName(\"lkdflkdasfj\").getOrCreate()\n"
      ],
      "execution_count": 1,
      "outputs": []
    },
    {
      "cell_type": "code",
      "metadata": {
        "id": "dnjY5twq0s2y",
        "colab_type": "code",
        "colab": {}
      },
      "source": [
        "from pyspark import SparkFiles\n",
        "from pyspark.sql.types import  IntegerType, DateType\n",
        "from pyspark.sql.functions import col,avg"
      ],
      "execution_count": 2,
      "outputs": []
    },
    {
      "cell_type": "code",
      "metadata": {
        "id": "1AWbraLzrilP",
        "colab_type": "code",
        "colab": {}
      },
      "source": [
        "url = \"https://raw.githubusercontent.com/karenbennis/Xy/Data_ETL/yelp.csv\"\n",
        "spark.sparkContext.addFile(url)\n",
        "df = spark.read.csv(SparkFiles.get(\"yelp.csv\"), sep=\",\", header=True)\n",
        "df.show()"
      ],
      "execution_count": 3,
      "outputs": []
    },
    {
      "cell_type": "code",
      "metadata": {
        "id": "0x0XmXV9VBTs",
        "colab_type": "code",
        "colab": {}
      },
      "source": [
        ""
      ],
      "execution_count": null,
      "outputs": []
    },
    {
      "cell_type": "code",
      "metadata": {
        "id": "ZSnyCPH-PUlD",
        "colab_type": "code",
        "colab": {
          "base_uri": "https://localhost:8080/",
          "height": 479
        },
        "outputId": "72241143-1ab2-49cc-caef-56e677fa1964"
      },
      "source": [
        ""
      ],
      "execution_count": 5,
      "outputs": [
        {
          "output_type": "stream",
          "text": [
            "+--------------------+--------------------+--------------------+--------------------+--------------------+--------------------+--------------------+--------------------+--------------------+--------------------+\n",
            "|         business_id|                date|           review_id|               stars|                text|                type|             user_id|                cool|              useful|               funny|\n",
            "+--------------------+--------------------+--------------------+--------------------+--------------------+--------------------+--------------------+--------------------+--------------------+--------------------+\n",
            "|9yKzy9PApeiPPOUJE...|          2011-01-26|fWKvX83p0-ka4JS3d...|                   5|My wife took me h...|                null|                null|                null|                null|                null|\n",
            "|Do yourself a fav...|                null|                null|                null|                null|                null|                null|                null|                null|                null|\n",
            "|While EVERYTHING ...| I had the white ...|                null|                null|                null|                null|                null|                null|                null|                null|\n",
            "|              Anyway| I can't wait to ...|              review|rLtl8ZkDX5vH5nAx9...|                   2|                   5|                   0|                null|                null|                null|\n",
            "|ZRJwVLyzEJq1VAihD...|          2011-07-27|IjZ33sJrzXqU-0X6U...|                   5|I have no idea wh...|                null|                null|                null|                null|                null|\n",
            "|         In any case| my friend and I ...| more than I thou...|                null|                null|                null|                null|                null|                null|                null|\n",
            "|We had to box par...| everything was g...|              review|0a2KyEL0d3Yb1V6ai...|                   0|                   0|                   0|                null|                null|                null|\n",
            "|6oRAC4uyJCsJl1X0W...|          2012-06-14|IESLBzqUCLdSzSqm0...|                   4|love the gyro pla...|              review|0hT2KtfLiobPvh6cD...|                   0|                   1|                   0|\n",
            "|_1QQZuf4zZOyFCvXc...|          2010-05-27|G-WvGaISbqqaMHlNn...|                   5|Rosie, Dakota, an...|                null|                null|                null|                null|                null|\n",
            "|The Scottsdale Pa...|                null|                null|                null|                null|                null|                null|                null|                null|                null|\n",
            "|The fenced in are...|                play|         and sniff!\"|              review|uZetl9T0NcROGOyFf...|                   1|                   2|                   0|                null|                null|\n",
            "|6ozycU1RpktNG2-1B...|          2012-01-05|1uJFq2r5QfJG_6ExM...|                   5|\"General Manager ...| it's how we reco...|                null|                null|                null|                null|\n",
            "|Thanks to Scott a...|              review|vYmM4KTsC8ZfQBg-j...|                   0|                   0|                   0|                null|                null|                null|                null|\n",
            "|-yxfBYGB6SEqszmxJ...|          2007-12-13|m2CKSsepBCoRYWxiR...|                   4|Quiessence is, si...|                null|                null|                null|                null|                null|\n",
            "|My friend and I h...| and were impress...| fresh veggies di...|                null|                null|                null|                null|                null|                null|                null|\n",
            "|         For entrees| I ordered the la...| but trailed off ...| and no one bothe...| so he started an...| but they should ...| they comped me t...| but they forgot ...| they didn't offe...| but I will echo ...|\n",
            "|The entrees were ...| but didn't quite...| but the meat was...| the gingerbread ...| was yet another ...|                null|                null|                null|                null|                null|\n",
            "|If the entrees we...| or the service w...| this place defin...| I'd like to try ...|       including tip|         no drinks.\"|              review|sqYN3lNgvPbPCTRsM...|                   4|                   3|\n",
            "|zp713qNhx8d9KCJJn...|          2010-02-12|riFQ3vxNpP4rWLk_C...|                   5|Drop what you're ...|                null|                null|                null|                null|                null|\n",
            "|This cute little ...|                null|                null|                null|                null|                null|                null|                null|                null|                null|\n",
            "+--------------------+--------------------+--------------------+--------------------+--------------------+--------------------+--------------------+--------------------+--------------------+--------------------+\n",
            "only showing top 20 rows\n",
            "\n"
          ],
          "name": "stdout"
        }
      ]
    },
    {
      "cell_type": "code",
      "metadata": {
        "id": "6VorHUGE_vta",
        "colab_type": "code",
        "colab": {}
      },
      "source": [
        "#Fixing data types\n",
        "video_games_df= video_games_df.withColumn(\"customer_id\", video_games_df[\"customer_id\"].cast(IntegerType()))\n",
        "video_games_df= video_games_df.withColumn(\"product_parent\", video_games_df[\"product_parent\"].cast(IntegerType()))\n",
        "video_games_df= video_games_df.withColumn(\"star_rating\", video_games_df[\"star_rating\"].cast(IntegerType()))\n",
        "video_games_df= video_games_df.withColumn(\"helpful_votes\", video_games_df[\"helpful_votes\"].cast(IntegerType()))\n",
        "video_games_df= video_games_df.withColumn(\"total_votes\", video_games_df[\"total_votes\"].cast(IntegerType()))\n",
        "video_games_df= video_games_df.withColumn(\"review_date\", video_games_df[\"review_date\"].cast(DateType()))"
      ],
      "execution_count": null,
      "outputs": []
    },
    {
      "cell_type": "code",
      "metadata": {
        "id": "-05EYS6Bold9",
        "colab_type": "code",
        "colab": {}
      },
      "source": [
        "# Creating tables\n",
        "review_id_table = video_games_df.select(['review_id','customer_id', 'product_id', 'product_parent', 'review_date'])\n",
        "products=video_games_df.select(['product_id','product_title'])\n",
        "customers = video_games_df.groupBy('customer_id').count()\n",
        "vine_table = video_games_df.select(['review_id','star_rating','helpful_votes','total_votes','vine'])"
      ],
      "execution_count": null,
      "outputs": []
    },
    {
      "cell_type": "code",
      "metadata": {
        "id": "KeAqfC5Kol8g",
        "colab_type": "code",
        "colab": {}
      },
      "source": [
        "# Configure settings for RDS\n",
        "mode = \"append\"\n",
        "jdbc_url=\"jdbc:postgresql://challenge.cde4fgpazxbm.ca-central-1.rds.amazonaws.com:5432/\"\n",
        "config = {\"user\":'postgres', \n",
        "          \"password\": 'anmol0926', \n",
        "          \"driver\":\"org.postgresql.Driver\"}\n",
        "\n"
      ],
      "execution_count": null,
      "outputs": []
    },
    {
      "cell_type": "code",
      "metadata": {
        "id": "wKuhIchWomAH",
        "colab_type": "code",
        "colab": {}
      },
      "source": [
        "# Write dataframe to tables in RDS\n",
        "review_id_table.write.jdbc(url=jdbc_url, table='review_id_table', mode=mode, properties=config)\n",
        "vine_table.write.jdbc(url=jdbc_url, table='vine_table', mode=mode, properties=config)\n",
        "products.write.jdbc(url=jdbc_url, table='products', mode=mode, properties=config)\n",
        "customers.write.jdbc(url=jdbc_url, table='customers', mode=mode, properties=config)\n"
      ],
      "execution_count": null,
      "outputs": []
    },
    {
      "cell_type": "markdown",
      "metadata": {
        "id": "Ioq1jQuNwaA6",
        "colab_type": "text"
      },
      "source": [
        "\n",
        "\n",
        "<br><br><br><br><br><br>\n",
        "\n",
        "**Analysis**\n",
        "\n",
        "From the tables below, one can see non-Vine reviews vastly outweigh Vine reviews, over 400 times more entries. Due to this it only makes sense to compare average values between the data sets. When comparing product ratings we see similar averages, just over 4.0 stars. When comparing the distribution of reviews 4 and 5 star reviews are the most common for both sets. Furthermore, in both cases 75% of reviews have 1 or fewer \"helpful\" votes. After this preliminary analysis, the data sets match well enough to hypothesize  Amazon's vine reviews are good representations of the population. Further analysis can be done by comparing vine to non-vine reviews on an item to item basis, rather than an entire category.\n",
        "<br><br>"
      ]
    },
    {
      "cell_type": "code",
      "metadata": {
        "id": "MKHLgmwyWTQX",
        "colab_type": "code",
        "colab": {}
      },
      "source": [
        "#Filter Reviews\n",
        "vine_table.groupBy('vine').count().show()\n",
        "vine_reviews=vine_table.filter(col('vine')== 'Y')\n",
        "nonvine_reviews=vine_table.filter(col('vine')== 'N')"
      ],
      "execution_count": null,
      "outputs": []
    },
    {
      "cell_type": "markdown",
      "metadata": {
        "id": "qT-Up94F5lLZ",
        "colab_type": "text"
      },
      "source": [
        "<br><br><br>**Non-Vine Reviews**"
      ]
    },
    {
      "cell_type": "code",
      "metadata": {
        "id": "muKBAaCym9XI",
        "colab_type": "code",
        "colab": {}
      },
      "source": [
        "nonvine_reviews['star_rating','helpful_votes', 'total_votes'].summary().show()\n",
        "nonvine_reviews.groupBy('star_rating').count().show()"
      ],
      "execution_count": null,
      "outputs": []
    },
    {
      "cell_type": "markdown",
      "metadata": {
        "id": "oppMoqq2ze19",
        "colab_type": "text"
      },
      "source": [
        "<br><br><br>**Vine reviews** "
      ]
    },
    {
      "cell_type": "code",
      "metadata": {
        "id": "pNVn1I37ojfr",
        "colab_type": "code",
        "colab": {}
      },
      "source": [
        "vine_reviews['star_rating','helpful_votes', 'total_votes'].summary().show()\n",
        "vine_reviews.groupBy('star_rating').count().show()"
      ],
      "execution_count": null,
      "outputs": []
    }
  ]
}